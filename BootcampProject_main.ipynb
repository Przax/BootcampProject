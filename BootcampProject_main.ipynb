{
 "cells": [
  {
   "cell_type": "markdown",
   "metadata": {},
   "source": [
    "# Multilabel classification problem solution for Reuters-21578"
   ]
  },
  {
   "cell_type": "markdown",
   "metadata": {},
   "source": [
    "### AIM OF THE PROJECT\n",
    "The objetive of this project is to test different appraches to NLP problem of multilabel classification and find optimal model that would properly predict document \"subject\" labels based on a raw document text. <br>\n",
    "<br><br>\n",
    "The multilabel classification is a classification for which:\n",
    "* Number of targets >1\n",
    "* Number of targets for each sample is a-priori unknown and can differ for different samples\n",
    "* Target cardinality is equal to 2 (0 or 1) == the sample belongs to a certain target (category) or not"
   ]
  },
  {
   "cell_type": "markdown",
   "metadata": {},
   "source": [
    "### DATASET USED\n",
    "Reuters-21578\n",
    "\n",
    "The full set is available here:\n",
    "https://archive.ics.uci.edu/ml/datasets/reuters-21578+text+categorization+collection\n",
    "\n",
    "For the project needs, the author used dataset available in NLTK library which is already split to train and test. It can be loaded to the memory by a command:\n",
    "*from nltk.corpus import reuters*\n",
    "\n",
    "The dataset contains:\n",
    "* almost 8000 train articles\n",
    "* over 3000 test articles\n",
    "* there is 90 unique labels\n",
    "* In average only 1.23 labels are assigned to each train set article"
   ]
  },
  {
   "cell_type": "markdown",
   "metadata": {},
   "source": [
    "### SUMMARY OF THE PROJECT\n",
    "\n",
    "#### DATA CLEANING\n",
    "\n",
    "Before applying a model - the data was cleaned, tokenized and normlized.\n",
    "\n",
    "#### DATA PRE-PROCESSING\n",
    "\n",
    "In order to find a best approach to this problem, three different approaches were taken for the words embedding:\n",
    "* tf-idf\n",
    "* Doc2Vec (in 2 ways: training the model on the train corpus, using the pre-trained model)\n",
    "* FastText (in 2 ways as above)\n",
    "\n",
    "#### MODELLING\n",
    "\n",
    "1. The target labels were binarized with MultiLabelBinarizer\n",
    "2. A few different models were fitted using pipeline and GridSearchCV (for different pre-processing methods):\n",
    "    * Inherently supporting multilabels:\n",
    "        * k-nearest neighbors\n",
    "        * Random Forest\n",
    "    * OneVsRest with Linear SVM\n",
    "    * Label Powerset with Linear SVM\n",
    "    * Convolutional Neural Network\n",
    "\n",
    "#### METRICS\n",
    "As in multilabel  - the sample belongs to few labels out of all set of labels, the absolute accuracy is not a good measure (as it will tag as correct only these samples which have all set of labels correclty predicted, without taking into account partial correctness (e.g. we predict correctly 3 out of 4 labels)).\n",
    "It is proposed to use hamming loss function which would take into account partial correctness.\n",
    "\n",
    "Each individual category predictions can be evaluated based on traditional metrics like F1 score, Precision and Recall, however, to evaluate full multilabel model, these metrics for each category shall be averaged. There are 2 approaches to do that: micro and macro.\n",
    "\n",
    "Finally for this project, it was decided to evaluate the model based on a hamming loss and micro & macro f1-score.\n",
    "\n",
    "Find explanation of micro and macro averaging here:\n",
    "https://datascience.stackexchange.com/questions/15989/micro-average-vs-macro-average-performance-in-a-multiclass-classification-settin"
   ]
  },
  {
   "cell_type": "code",
   "execution_count": 8,
   "metadata": {},
   "outputs": [],
   "source": [
    "import numpy as np\n",
    "import pandas as pd\n",
    "import re\n",
    "import itertools\n",
    "\n",
    "import seaborn as sns\n",
    "import matplotlib.pyplot as plt\n",
    "\n",
    "import nltk # text cleaning and datasets \n",
    "import re # patterns searching in strings\n",
    "\n",
    "from sklearn.pipeline import Pipeline\n",
    "from sklearn.model_selection import GridSearchCV\n",
    "from sklearn.metrics import accuracy_score, precision_score, recall_score, f1_score, roc_auc_score, multilabel_confusion_matrix, hamming_loss"
   ]
  },
  {
   "cell_type": "markdown",
   "metadata": {},
   "source": [
    "#### Import data from nltk.corpus and establish train/test inputs and targets"
   ]
  },
  {
   "cell_type": "code",
   "execution_count": 9,
   "metadata": {},
   "outputs": [],
   "source": [
    "from nltk.corpus import reuters"
   ]
  },
  {
   "cell_type": "code",
   "execution_count": 10,
   "metadata": {},
   "outputs": [],
   "source": [
    "all_docs = reuters.fileids()\n",
    "train_doc_names = [doc for doc in all_docs if doc.startswith(\"train\")]\n",
    "test_doc_names = [doc for doc in all_docs if doc.startswith(\"test\")]"
   ]
  },
  {
   "cell_type": "code",
   "execution_count": 11,
   "metadata": {},
   "outputs": [],
   "source": [
    "X_train_raw, y_train_raw = zip(*[(reuters.raw(doc), reuters.categories(doc)) for doc in train_doc_names])\n",
    "X_test_raw, y_test_raw= zip(*[(reuters.raw(doc), reuters.categories(doc)) for doc in test_doc_names])"
   ]
  },
  {
   "cell_type": "markdown",
   "metadata": {},
   "source": [
    "### Review the data:"
   ]
  },
  {
   "cell_type": "code",
   "execution_count": 12,
   "metadata": {},
   "outputs": [
    {
     "name": "stdout",
     "output_type": "stream",
     "text": [
      "Number of train articles: 7769\n",
      "Number of test articles: 3019\n"
     ]
    }
   ],
   "source": [
    "# Number of articles:\n",
    "print(f\"Number of train articles: {len(X_train_raw)}\")\n",
    "print(f\"Number of test articles: {len(X_test_raw)}\")"
   ]
  },
  {
   "cell_type": "markdown",
   "metadata": {},
   "source": [
    "#### Review labels"
   ]
  },
  {
   "cell_type": "code",
   "execution_count": 13,
   "metadata": {},
   "outputs": [],
   "source": [
    "y_train_raw_flat = pd.Series(itertools.chain(*y_train_raw))\n",
    "y_test_raw_flat = pd.Series(itertools.chain(*y_train_raw))"
   ]
  },
  {
   "cell_type": "code",
   "execution_count": 14,
   "metadata": {
    "scrolled": true
   },
   "outputs": [
    {
     "name": "stdout",
     "output_type": "stream",
     "text": [
      "Avg number of labels per article in train set: 1.23\n"
     ]
    }
   ],
   "source": [
    "print(f\"Avg number of labels per article in train set: {(len(y_train_raw_flat) / len(y_train_raw) ):.2f}\")\n",
    "# print(f\"Avg number of labels per article in test set: {(len(y_test_raw_flat) / len(y_test_raw) ):.2f}\")"
   ]
  },
  {
   "cell_type": "code",
   "execution_count": 15,
   "metadata": {},
   "outputs": [
    {
     "name": "stdout",
     "output_type": "stream",
     "text": [
      "Number of labels assigned to article: Total number of such occurances\n"
     ]
    },
    {
     "data": {
      "text/plain": [
       "{1: 6577,\n",
       " 2: 865,\n",
       " 3: 192,\n",
       " 4: 59,\n",
       " 5: 37,\n",
       " 6: 22,\n",
       " 7: 5,\n",
       " 8: 5,\n",
       " 9: 3,\n",
       " 10: 2,\n",
       " 11: 1,\n",
       " 15: 1}"
      ]
     },
     "execution_count": 15,
     "metadata": {},
     "output_type": "execute_result"
    }
   ],
   "source": [
    "# Count number of labels for each article\n",
    "labels_len = [len(labels) for labels in y_train_raw]\n",
    "# Group \n",
    "labels_freq = {n: labels_len.count(n) for n in labels_len}\n",
    "labels_freq = dict(sorted(labels_freq.items()))\n",
    "print(f\"Number of labels assigned to article: Total number of such occurances\")\n",
    "labels_freq"
   ]
  },
  {
   "cell_type": "markdown",
   "metadata": {},
   "source": [
    "Conclusion: For most of the cases in the train set - there is only 1 label associated with article."
   ]
  },
  {
   "cell_type": "markdown",
   "metadata": {},
   "source": [
    "#### Review classes"
   ]
  },
  {
   "cell_type": "code",
   "execution_count": 16,
   "metadata": {},
   "outputs": [
    {
     "name": "stdout",
     "output_type": "stream",
     "text": [
      "Total number of classes: 90\n"
     ]
    }
   ],
   "source": [
    "print(f\"Total number of classes: {len(reuters.categories())}\")"
   ]
  },
  {
   "cell_type": "code",
   "execution_count": 17,
   "metadata": {
    "scrolled": true
   },
   "outputs": [
    {
     "data": {
      "text/plain": [
       "earn        2877\n",
       "acq         1650\n",
       "money-fx     538\n",
       "grain        433\n",
       "crude        389\n",
       "dtype: int64"
      ]
     },
     "execution_count": 17,
     "metadata": {},
     "output_type": "execute_result"
    }
   ],
   "source": [
    "cat_distr = y_train_raw_flat.value_counts()\n",
    "cat_distr.head(5)"
   ]
  },
  {
   "cell_type": "code",
   "execution_count": 18,
   "metadata": {},
   "outputs": [
    {
     "data": {
      "text/plain": [
       "cotton-oil       1\n",
       "castor-oil       1\n",
       "rye              1\n",
       "groundnut-oil    1\n",
       "lin-oil          1\n",
       "dtype: int64"
      ]
     },
     "execution_count": 18,
     "metadata": {},
     "output_type": "execute_result"
    }
   ],
   "source": [
    "cat_distr.tail(5)"
   ]
  },
  {
   "cell_type": "code",
   "execution_count": 19,
   "metadata": {},
   "outputs": [
    {
     "data": {
      "image/png": "[encoded data removed]",
      "text/plain": [
       "<Figure size 1080x360 with 2 Axes>"
      ]
     },
     "metadata": {
      "needs_background": "light"
     },
     "output_type": "display_data"
    }
   ],
   "source": [
    "n=20 # split between left and right graph (number of top classes)\n",
    "plt.figure(figsize=(15,5))\n",
    "plt.suptitle('Distribution of classes in the train set - abs values', fontsize = 16)\n",
    "\n",
    "plt.subplot(1,2,1)\n",
    "cat_distr[:n].plot.bar()\n",
    "plt.ylabel(f'Number of occurences');\n",
    "plt.title(f'Top {n} classes');\n",
    "\n",
    "plt.subplot(1,2,2)\n",
    "cat_distr[n:].plot.bar()\n",
    "plt.title(f'All except Top {n} classes');"
   ]
  },
  {
   "cell_type": "code",
   "execution_count": 20,
   "metadata": {},
   "outputs": [
    {
     "data": {
      "image/png": "[encoded data removed]",
      "text/plain": [
       "<Figure size 1080x360 with 2 Axes>"
      ]
     },
     "metadata": {
      "needs_background": "light"
     },
     "output_type": "display_data"
    }
   ],
   "source": [
    "n=20 # split between left and right graph (number of top classes)\n",
    "plt.figure(figsize=(15,5))\n",
    "plt.suptitle('Distribution of classes in the train set - ratio', fontsize = 16)\n",
    "\n",
    "plt.subplot(1,2,1)\n",
    "(cat_distr[:n]/cat_distr.sum()).plot.bar()\n",
    "plt.ylabel(f'Ratio');\n",
    "plt.title(f'Top {n} classes');\n",
    "\n",
    "plt.subplot(1,2,2)\n",
    "(cat_distr[n:]/cat_distr.sum()).plot.bar()\n",
    "plt.title(f'All except Top {n} classes');"
   ]
  },
  {
   "cell_type": "markdown",
   "metadata": {},
   "source": [
    "Conclusion: Top 2 classes are far more frequent than other classes (more than 45% of all targets)"
   ]
  },
  {
   "cell_type": "markdown",
   "metadata": {},
   "source": [
    "#### Review the raw articles"
   ]
  },
  {
   "cell_type": "code",
   "execution_count": 21,
   "metadata": {},
   "outputs": [
    {
     "data": {
      "text/plain": [
       "str"
      ]
     },
     "execution_count": 21,
     "metadata": {},
     "output_type": "execute_result"
    }
   ],
   "source": [
    "type(X_train_raw[0])"
   ]
  },
  {
   "cell_type": "code",
   "execution_count": 22,
   "metadata": {},
   "outputs": [],
   "source": [
    "art_len = [len(art) for art in X_train_raw]"
   ]
  },
  {
   "cell_type": "code",
   "execution_count": 23,
   "metadata": {},
   "outputs": [
    {
     "name": "stdout",
     "output_type": "stream",
     "text": [
      "Character count for the shortest article: 27\n",
      "Character count for the longest article: 8898\n"
     ]
    }
   ],
   "source": [
    "print(f\"Character count for the shortest article: {min(art_len)}\")\n",
    "print(f\"Character count for the longest article: {max(art_len)}\")"
   ]
  },
  {
   "cell_type": "code",
   "execution_count": 24,
   "metadata": {},
   "outputs": [],
   "source": [
    "# fig, (ax1, ax2) = plt.subplots(1,2, figsize=(15,5))\n",
    "# ax1.hist(art_len, bins=50, rwidth = 0.9);"
   ]
  },
  {
   "cell_type": "code",
   "execution_count": 25,
   "metadata": {},
   "outputs": [
    {
     "data": {
      "text/plain": [
       "(0.0, 200.0)"
      ]
     },
     "execution_count": 25,
     "metadata": {},
     "output_type": "execute_result"
    },
    {
     "data": {
      "image/png": "[encoded data removed]",
      "text/plain": [
       "<Figure size 1080x360 with 2 Axes>"
      ]
     },
     "metadata": {
      "needs_background": "light"
     },
     "output_type": "display_data"
    }
   ],
   "source": [
    "n=2000 # split between left and right graph (number of characters)\n",
    "plt.figure(figsize=(15,5))\n",
    "plt.suptitle('Distribution of character count in articles in the train set', fontsize = 16)\n",
    "\n",
    "plt.subplot(1,2,1)\n",
    "plt.hist(art_len, bins=50, rwidth = 0.9);\n",
    "plt.ylabel(f'Number of articles');\n",
    "plt.xlabel(f'Characters count');\n",
    "plt.title(f'Shortest articles');\n",
    "plt.xlim(0,n)\n",
    "\n",
    "plt.subplot(1,2,2)\n",
    "plt.hist(art_len, bins=50, rwidth = 0.9);\n",
    "plt.ylabel(f'Number of articles');\n",
    "plt.xlabel(f'Characters count');\n",
    "plt.title(f'Longest articles');\n",
    "plt.xlim(n,)\n",
    "plt.ylim(0,200)\n",
    "\n",
    "# plt.tight_layout()\n",
    "# ax.set(ylabel = 'aaa')"
   ]
  },
  {
   "cell_type": "code",
   "execution_count": 26,
   "metadata": {},
   "outputs": [
    {
     "data": {
      "text/plain": [
       "'BAHIA COCOA REVIEW\\n  Showers continued throughout the week in\\n  the Bahia cocoa zone, alleviating the drought since early\\n  January and improving prospects for the coming temporao,\\n  although normal humidity levels have not been restored,\\n  Comissaria Smith said in its weekly review.\\n      The dry p'"
      ]
     },
     "execution_count": 26,
     "metadata": {},
     "output_type": "execute_result"
    }
   ],
   "source": [
    "X_train_raw[0][:300]"
   ]
  },
  {
   "cell_type": "markdown",
   "metadata": {},
   "source": [
    "<br><br><br>\n",
    "### Side analysis START"
   ]
  },
  {
   "cell_type": "code",
   "execution_count": 27,
   "metadata": {
    "scrolled": true
   },
   "outputs": [
    {
     "data": {
      "text/plain": [
       "'26-FEB-1987\\n  26-FEB-1987\\n\\n'"
      ]
     },
     "execution_count": 27,
     "metadata": {},
     "output_type": "execute_result"
    }
   ],
   "source": [
    "min(X_train_raw, key=len)"
   ]
  },
  {
   "cell_type": "code",
   "execution_count": 28,
   "metadata": {
    "scrolled": false
   },
   "outputs": [
    {
     "data": {
      "text/plain": [
       "' 1-APR-1987 17:39:30.41\\n   1-APR-1987 17:39:30.41\\n\\n'"
      ]
     },
     "execution_count": 28,
     "metadata": {},
     "output_type": "execute_result"
    }
   ],
   "source": [
    "min(X_train_raw)"
   ]
  },
  {
   "cell_type": "code",
   "execution_count": 29,
   "metadata": {},
   "outputs": [
    {
     "data": {
      "text/plain": [
       "66"
      ]
     },
     "execution_count": 29,
     "metadata": {},
     "output_type": "execute_result"
    }
   ],
   "source": [
    "X_train_raw.index(min(X_train_raw, key=len))"
   ]
  },
  {
   "cell_type": "code",
   "execution_count": 30,
   "metadata": {
    "scrolled": true
   },
   "outputs": [
    {
     "data": {
      "text/plain": [
       "1533"
      ]
     },
     "execution_count": 30,
     "metadata": {},
     "output_type": "execute_result"
    }
   ],
   "source": [
    "X_train_raw.index(min(X_train_raw))"
   ]
  },
  {
   "cell_type": "code",
   "execution_count": 31,
   "metadata": {},
   "outputs": [
    {
     "data": {
      "text/plain": [
       "['grain', 'ship']"
      ]
     },
     "execution_count": 31,
     "metadata": {},
     "output_type": "execute_result"
    }
   ],
   "source": [
    "y_train_raw[1533]"
   ]
  },
  {
   "cell_type": "code",
   "execution_count": 32,
   "metadata": {},
   "outputs": [
    {
     "data": {
      "text/plain": [
       "['money-supply']"
      ]
     },
     "execution_count": 32,
     "metadata": {},
     "output_type": "execute_result"
    }
   ],
   "source": [
    "y_train_raw[66]"
   ]
  },
  {
   "cell_type": "markdown",
   "metadata": {},
   "source": [
    "### Side analysis END"
   ]
  },
  {
   "cell_type": "markdown",
   "metadata": {},
   "source": [
    "<br><br><br>\n",
    "### Clean text"
   ]
  },
  {
   "cell_type": "markdown",
   "metadata": {},
   "source": [
    "#### Functions definition"
   ]
  },
  {
   "cell_type": "code",
   "execution_count": 33,
   "metadata": {},
   "outputs": [],
   "source": [
    "def remove_html(text_list):\n",
    "    text_clean = [re.sub(\"<.+?>\", \" \", el) for el in text]\n",
    "    return text_clean"
   ]
  },
  {
   "cell_type": "code",
   "execution_count": 34,
   "metadata": {},
   "outputs": [],
   "source": [
    "def convert_to_lower(text):\n",
    "    text_clean = [el.lower() for el in text]\n",
    "    return text_clean"
   ]
  },
  {
   "cell_type": "code",
   "execution_count": 35,
   "metadata": {},
   "outputs": [],
   "source": [
    "def remove_control_chars(text): # (e.g. \\n \\t...)\n",
    "    text_clean = [re.sub(\"\\s+\", \" \", el) for el in text]\n",
    "    return text_clean"
   ]
  },
  {
   "cell_type": "code",
   "execution_count": 36,
   "metadata": {},
   "outputs": [],
   "source": [
    "def tokenization(text):\n",
    "    text_clean = [nltk.word_tokenize(el) for el in text]\n",
    "    return text_clean"
   ]
  },
  {
   "cell_type": "code",
   "execution_count": 37,
   "metadata": {},
   "outputs": [],
   "source": [
    "def remove_stopwords(text):\n",
    "    stopwords =nltk.corpus.stopwords.words(\"english\")\n",
    "    text_clean = [[w for w in el if w not in stopwords] for el in text]\n",
    "    return text_clean"
   ]
  },
  {
   "cell_type": "code",
   "execution_count": 38,
   "metadata": {},
   "outputs": [],
   "source": [
    "def remove_punctuations(text):\n",
    "    import string\n",
    "    punctuations = [char for char in string.punctuation]\n",
    "    \n",
    "    text_clean = [[w for w in el if w not in punctuations] for el in text]\n",
    "    return text_clean"
   ]
  },
  {
   "cell_type": "code",
   "execution_count": 39,
   "metadata": {},
   "outputs": [],
   "source": [
    "def token_normalization(text):\n",
    "    # Token normalization - stemming with PorterStemmer \n",
    "    # It is not important to keep \"real\" language words, so stemming (as being faster) is a better choice than lemmatization\n",
    "    stemmer = nltk.PorterStemmer()\n",
    "    \n",
    "    text_clean = [[stemmer.stem(w) for w in el] for el in text]\n",
    "    return text_clean"
   ]
  },
  {
   "cell_type": "code",
   "execution_count": 40,
   "metadata": {},
   "outputs": [],
   "source": [
    "def remove_numbers(text):\n",
    "    \n",
    "    text_clean = [[re.sub('[^A-Za-z]+', '', w) for w in el] for el in text]\n",
    "    # Remove empty strings after number removal\n",
    "    text_clean = [list(filter(None, el)) for el in text_clean]\n",
    "    \n",
    "    return text_clean"
   ]
  },
  {
   "cell_type": "code",
   "execution_count": 41,
   "metadata": {},
   "outputs": [],
   "source": [
    "def remove_short_words(text, k):\n",
    "    text_clean = [[w for w in el if len(w) > k] for el in text]\n",
    "    return text_clean"
   ]
  },
  {
   "cell_type": "code",
   "execution_count": 42,
   "metadata": {},
   "outputs": [],
   "source": [
    "def merge_back(text):\n",
    "    text_merge = [\" \".join(el) for el in text]\n",
    "    return text_merge"
   ]
  },
  {
   "cell_type": "code",
   "execution_count": 125,
   "metadata": {},
   "outputs": [],
   "source": [
    "# Combine all functions above\n",
    "def text_preprocess(text):\n",
    "#     text = remove_html(text)\n",
    "    text = convert_to_lower(text)\n",
    "    text = remove_control_chars(text)\n",
    "    tokens = tokenization(text)\n",
    "    tokens = remove_stopwords(tokens)\n",
    "    tokens = remove_punctuations(tokens)\n",
    "    tokens = token_normalization(tokens)\n",
    "    tokens = remove_numbers(tokens)\n",
    "    text = remove_short_words(tokens, 2)\n",
    "    text_final = merge_back(text)\n",
    "    \n",
    "    return tokens, text_final"
   ]
  },
  {
   "cell_type": "markdown",
   "metadata": {},
   "source": [
    "#### Let's apply cleaning functions on train set:"
   ]
  },
  {
   "cell_type": "code",
   "execution_count": 44,
   "metadata": {},
   "outputs": [
    {
     "data": {
      "text/plain": [
       "'bahia cocoa review\\n  showers continued throughout the week in\\n  the bahia cocoa zone, alleviating the drought since early\\n  january and improving prospects for the coming temporao,\\n  although normal humidity levels have not been restored,\\n  comissaria smith said in its weekly review.\\n      the dry p'"
      ]
     },
     "execution_count": 44,
     "metadata": {},
     "output_type": "execute_result"
    }
   ],
   "source": [
    "# Convert to lower case\n",
    "X_train =  convert_to_lower(X_train_raw)\n",
    "X_train[0][:300]"
   ]
  },
  {
   "cell_type": "code",
   "execution_count": 45,
   "metadata": {},
   "outputs": [
    {
     "data": {
      "text/plain": [
       "'bahia cocoa review showers continued throughout the week in the bahia cocoa zone, alleviating the drought since early january and improving prospects for the coming temporao, although normal humidity levels have not been restored, comissaria smith said in its weekly review. the dry period means the '"
      ]
     },
     "execution_count": 45,
     "metadata": {},
     "output_type": "execute_result"
    }
   ],
   "source": [
    "# Remove control characters\n",
    "X_train =  remove_control_chars(X_train)\n",
    "X_train[0][:300]"
   ]
  },
  {
   "cell_type": "code",
   "execution_count": 46,
   "metadata": {
    "scrolled": true
   },
   "outputs": [
    {
     "name": "stdout",
     "output_type": "stream",
     "text": [
      "['bahia', 'cocoa', 'review', 'showers', 'continued', 'throughout', 'the', 'week', 'in', 'the', 'bahia', 'cocoa', 'zone', ',', 'alleviating', 'the', 'drought', 'since', 'early', 'january']\n"
     ]
    }
   ],
   "source": [
    "# Tokenization\n",
    "X_train = tokenization(X_train)\n",
    "print(X_train[0][:20])"
   ]
  },
  {
   "cell_type": "code",
   "execution_count": 47,
   "metadata": {},
   "outputs": [
    {
     "name": "stdout",
     "output_type": "stream",
     "text": [
      "['bahia', 'cocoa', 'review', 'showers', 'continued', 'throughout', 'week', 'bahia', 'cocoa', 'zone', ',', 'alleviating', 'drought', 'since', 'early', 'january', 'improving', 'prospects', 'coming', 'temporao']\n"
     ]
    }
   ],
   "source": [
    "# Remove stopwords\n",
    "X_train = remove_stopwords(X_train)\n",
    "print(X_train[0][:20])"
   ]
  },
  {
   "cell_type": "code",
   "execution_count": 48,
   "metadata": {},
   "outputs": [
    {
     "name": "stdout",
     "output_type": "stream",
     "text": [
      "['bahia', 'cocoa', 'review', 'showers', 'continued', 'throughout', 'week', 'bahia', 'cocoa', 'zone', 'alleviating', 'drought', 'since', 'early', 'january', 'improving', 'prospects', 'coming', 'temporao', 'although']\n"
     ]
    }
   ],
   "source": [
    "# Remove punctuations\n",
    "X_train = remove_punctuations(X_train)\n",
    "print(X_train[0][:20])"
   ]
  },
  {
   "cell_type": "code",
   "execution_count": 49,
   "metadata": {},
   "outputs": [
    {
     "name": "stdout",
     "output_type": "stream",
     "text": [
      "['bahia', 'cocoa', 'review', 'shower', 'continu', 'throughout', 'week', 'bahia', 'cocoa', 'zone', 'allevi', 'drought', 'sinc', 'earli', 'januari', 'improv', 'prospect', 'come', 'temporao', 'although', 'normal', 'humid', 'level', 'restor', 'comissaria', 'smith', 'said', 'weekli', 'review', 'dri', 'period', 'mean', 'temporao', 'late', 'year', 'arriv', 'week', 'end', 'februari', '22', '155,221', 'bag', '60', 'kilo', 'make', 'cumul', 'total', 'season', '5.93', 'mln']\n"
     ]
    }
   ],
   "source": [
    "# Token normalization\n",
    "X_train = token_normalization(X_train)\n",
    "print(X_train[0][:50])"
   ]
  },
  {
   "cell_type": "code",
   "execution_count": 50,
   "metadata": {},
   "outputs": [
    {
     "name": "stdout",
     "output_type": "stream",
     "text": [
      "['bahia', 'cocoa', 'review', 'shower', 'continu', 'throughout', 'week', 'bahia', 'cocoa', 'zone', 'allevi', 'drought', 'sinc', 'earli', 'januari', 'improv', 'prospect', 'come', 'temporao', 'although', 'normal', 'humid', 'level', 'restor', 'comissaria', 'smith', 'said', 'weekli', 'review', 'dri', 'period', 'mean', 'temporao', 'late', 'year', 'arriv', 'week', 'end', 'februari', 'bag', 'kilo', 'make', 'cumul', 'total', 'season', 'mln', 'stage', 'last', 'year', 'seem']\n"
     ]
    }
   ],
   "source": [
    "# Remove numbers \n",
    "# Consider converting all numbers to \"number\" string instead of removing them ???\n",
    "X_train = remove_numbers(X_train) \n",
    "print(X_train[0][:50])"
   ]
  },
  {
   "cell_type": "code",
   "execution_count": 51,
   "metadata": {},
   "outputs": [
    {
     "name": "stdout",
     "output_type": "stream",
     "text": [
      "['bahia', 'cocoa', 'review', 'shower', 'continu', 'throughout', 'week', 'bahia', 'cocoa', 'zone', 'allevi', 'drought', 'sinc', 'earli', 'januari', 'improv', 'prospect', 'come', 'temporao', 'although', 'normal', 'humid', 'level', 'restor', 'comissaria', 'smith', 'said', 'weekli', 'review', 'dri', 'period', 'mean', 'temporao', 'late', 'year', 'arriv', 'week', 'end', 'februari', 'bag', 'kilo', 'make', 'cumul', 'total', 'season', 'mln', 'stage', 'last', 'year', 'seem', 'cocoa', 'deliv', 'earlier', 'consign', 'includ', 'arriv', 'figur', 'comissaria', 'smith', 'said']\n"
     ]
    }
   ],
   "source": [
    "# Remove words shorter than 2\n",
    "X_train = remove_short_words(X_train, 2)\n",
    "print(X_train[0][:60])"
   ]
  },
  {
   "cell_type": "code",
   "execution_count": 52,
   "metadata": {},
   "outputs": [],
   "source": [
    "tokens_train = X_train"
   ]
  },
  {
   "cell_type": "code",
   "execution_count": 53,
   "metadata": {},
   "outputs": [
    {
     "data": {
      "text/plain": [
       "'bahia cocoa review shower continu throughout week bahia cocoa zone allevi drought sinc earli januari improv prospect come temporao although normal humid level restor comissaria smith said weekli review dri period mean temporao late year arriv week end februari bag kilo make cumul total season mln stage last year seem cocoa deliv earlier consign includ arriv figur comissaria smith said still doubt much old crop cocoa still avail harvest practic come end total bahia crop estim around mln bag sale '"
      ]
     },
     "execution_count": 53,
     "metadata": {},
     "output_type": "execute_result"
    }
   ],
   "source": [
    "X_train = merge_back(X_train)\n",
    "X_train[0][:500]"
   ]
  },
  {
   "cell_type": "markdown",
   "metadata": {},
   "source": [
    "#### Let's review frequency and size of cleaned data:"
   ]
  },
  {
   "cell_type": "code",
   "execution_count": 89,
   "metadata": {},
   "outputs": [],
   "source": [
    "indexes = [word for doc in tokens_train for word in doc]  "
   ]
  },
  {
   "cell_type": "code",
   "execution_count": 90,
   "metadata": {},
   "outputs": [],
   "source": [
    "from collections import Counter"
   ]
  },
  {
   "cell_type": "code",
   "execution_count": 292,
   "metadata": {
    "scrolled": true
   },
   "outputs": [
    {
     "data": {
      "text/plain": [
       "[('said', 18844),\n",
       " ('mln', 13102),\n",
       " ('dlr', 9750),\n",
       " ('pct', 7406),\n",
       " ('year', 6010),\n",
       " ('net', 4566),\n",
       " ('loss', 4312),\n",
       " ('share', 4184),\n",
       " ('billion', 4110),\n",
       " ('compani', 4037)]"
      ]
     },
     "execution_count": 292,
     "metadata": {},
     "output_type": "execute_result"
    }
   ],
   "source": [
    "# Most frequent words:\n",
    "corpus_freq = Counter(indexes).most_common()\n",
    "corpus_freq[:10]"
   ]
  },
  {
   "cell_type": "code",
   "execution_count": 86,
   "metadata": {},
   "outputs": [],
   "source": [
    "uniques = [word for word,freq in Counter(indexes).items() if freq == 1]"
   ]
  },
  {
   "cell_type": "code",
   "execution_count": 95,
   "metadata": {
    "scrolled": true
   },
   "outputs": [
    {
     "name": "stdout",
     "output_type": "stream",
     "text": [
      "There are 596080 words in the train corpus,\n",
      "within which we have 19850 unique words,\n",
      "out of which there are 7983 words that appear only once the train corpus!\n"
     ]
    }
   ],
   "source": [
    "print(f\"There are {len(indexes)} words in the train corpus,\")\n",
    "print(f\"within which we have {len(Counter(indexes))} unique words,\")\n",
    "print(f\"out of which there are {len(uniques)} words that appear only once the train corpus!\")"
   ]
  },
  {
   "cell_type": "markdown",
   "metadata": {},
   "source": [
    "#### Let's do the same cleaning transofrmations with test set (using combined function)"
   ]
  },
  {
   "cell_type": "code",
   "execution_count": 128,
   "metadata": {},
   "outputs": [],
   "source": [
    "tokens_test, X_test = text_preprocess(X_test_raw)"
   ]
  },
  {
   "cell_type": "code",
   "execution_count": 130,
   "metadata": {},
   "outputs": [
    {
     "data": {
      "text/plain": [
       "['asian',\n",
       " 'export',\n",
       " 'fear',\n",
       " 'damag',\n",
       " 'usjapan',\n",
       " 'rift',\n",
       " 'mount',\n",
       " 'trade',\n",
       " 'friction',\n",
       " 'us']"
      ]
     },
     "execution_count": 130,
     "metadata": {},
     "output_type": "execute_result"
    }
   ],
   "source": [
    "tokens_test[0][:10]"
   ]
  },
  {
   "cell_type": "markdown",
   "metadata": {},
   "source": [
    "<br><br><br>\n",
    "## Text vectorization\n",
    "Plan to review TFIDF, FastText, doc2vec\n",
    "\n",
    "What about Skip-Thought Vectors??"
   ]
  },
  {
   "cell_type": "markdown",
   "metadata": {},
   "source": [
    "### TFIDF"
   ]
  },
  {
   "cell_type": "code",
   "execution_count": 172,
   "metadata": {},
   "outputs": [],
   "source": [
    "from sklearn.feature_extraction.text import TfidfVectorizer\n",
    "# TfidfVectorizer?"
   ]
  },
  {
   "cell_type": "code",
   "execution_count": 173,
   "metadata": {},
   "outputs": [],
   "source": [
    "min_df = 3\n",
    "max_df = 0.8"
   ]
  },
  {
   "cell_type": "code",
   "execution_count": 174,
   "metadata": {},
   "outputs": [],
   "source": [
    "tfidf_vectorizer = TfidfVectorizer(min_df=min_df, max_df=max_df)\n",
    "\n",
    "tfidf = tfidf_vectorizer.fit(X_train)\n",
    "X_train_tfidf = tfidf.transform(X_train)\n",
    "\n",
    "X_test_tfidf = tfidf.transform(X_test)"
   ]
  },
  {
   "cell_type": "code",
   "execution_count": 175,
   "metadata": {},
   "outputs": [
    {
     "name": "stdout",
     "output_type": "stream",
     "text": [
      "Number of remaining tokens: 7188\n"
     ]
    }
   ],
   "source": [
    "print(f\"Number of remaining tokens: {X_train_tfidf.shape[1]}\")"
   ]
  },
  {
   "cell_type": "code",
   "execution_count": 176,
   "metadata": {},
   "outputs": [],
   "source": [
    "# Take a dense tfidf with feature names\n",
    "df_tfidf = pd.DataFrame(X_train_tfidf.todense().T, index=tfidf.get_feature_names())"
   ]
  },
  {
   "cell_type": "code",
   "execution_count": 177,
   "metadata": {},
   "outputs": [
    {
     "data": {
      "text/html": [
       "<div>\n",
       "<style scoped>\n",
       "    .dataframe tbody tr th:only-of-type {\n",
       "        vertical-align: middle;\n",
       "    }\n",
       "\n",
       "    .dataframe tbody tr th {\n",
       "        vertical-align: top;\n",
       "    }\n",
       "\n",
       "    .dataframe thead th {\n",
       "        text-align: right;\n",
       "    }\n",
       "</style>\n",
       "<table border=\"1\" class=\"dataframe\">\n",
       "  <thead>\n",
       "    <tr style=\"text-align: right;\">\n",
       "      <th></th>\n",
       "      <th>0</th>\n",
       "      <th>1</th>\n",
       "      <th>2</th>\n",
       "      <th>3</th>\n",
       "      <th>4</th>\n",
       "      <th>5</th>\n",
       "      <th>6</th>\n",
       "      <th>7</th>\n",
       "      <th>8</th>\n",
       "      <th>9</th>\n",
       "      <th>...</th>\n",
       "      <th>7759</th>\n",
       "      <th>7760</th>\n",
       "      <th>7761</th>\n",
       "      <th>7762</th>\n",
       "      <th>7763</th>\n",
       "      <th>7764</th>\n",
       "      <th>7765</th>\n",
       "      <th>7766</th>\n",
       "      <th>7767</th>\n",
       "      <th>7768</th>\n",
       "    </tr>\n",
       "  </thead>\n",
       "  <tbody>\n",
       "    <tr>\n",
       "      <th>aaa</th>\n",
       "      <td>0.000000</td>\n",
       "      <td>0.0</td>\n",
       "      <td>0.0</td>\n",
       "      <td>0.0</td>\n",
       "      <td>0.0</td>\n",
       "      <td>0.0</td>\n",
       "      <td>0.0</td>\n",
       "      <td>0.0</td>\n",
       "      <td>0.0</td>\n",
       "      <td>0.0</td>\n",
       "      <td>...</td>\n",
       "      <td>0.0</td>\n",
       "      <td>0.0</td>\n",
       "      <td>0.0</td>\n",
       "      <td>0.0</td>\n",
       "      <td>0.0</td>\n",
       "      <td>0.0</td>\n",
       "      <td>0.0</td>\n",
       "      <td>0.0</td>\n",
       "      <td>0.0</td>\n",
       "      <td>0.0</td>\n",
       "    </tr>\n",
       "    <tr>\n",
       "      <th>aac</th>\n",
       "      <td>0.000000</td>\n",
       "      <td>0.0</td>\n",
       "      <td>0.0</td>\n",
       "      <td>0.0</td>\n",
       "      <td>0.0</td>\n",
       "      <td>0.0</td>\n",
       "      <td>0.0</td>\n",
       "      <td>0.0</td>\n",
       "      <td>0.0</td>\n",
       "      <td>0.0</td>\n",
       "      <td>...</td>\n",
       "      <td>0.0</td>\n",
       "      <td>0.0</td>\n",
       "      <td>0.0</td>\n",
       "      <td>0.0</td>\n",
       "      <td>0.0</td>\n",
       "      <td>0.0</td>\n",
       "      <td>0.0</td>\n",
       "      <td>0.0</td>\n",
       "      <td>0.0</td>\n",
       "      <td>0.0</td>\n",
       "    </tr>\n",
       "    <tr>\n",
       "      <th>aar</th>\n",
       "      <td>0.000000</td>\n",
       "      <td>0.0</td>\n",
       "      <td>0.0</td>\n",
       "      <td>0.0</td>\n",
       "      <td>0.0</td>\n",
       "      <td>0.0</td>\n",
       "      <td>0.0</td>\n",
       "      <td>0.0</td>\n",
       "      <td>0.0</td>\n",
       "      <td>0.0</td>\n",
       "      <td>...</td>\n",
       "      <td>0.0</td>\n",
       "      <td>0.0</td>\n",
       "      <td>0.0</td>\n",
       "      <td>0.0</td>\n",
       "      <td>0.0</td>\n",
       "      <td>0.0</td>\n",
       "      <td>0.0</td>\n",
       "      <td>0.0</td>\n",
       "      <td>0.0</td>\n",
       "      <td>0.0</td>\n",
       "    </tr>\n",
       "    <tr>\n",
       "      <th>abandon</th>\n",
       "      <td>0.000000</td>\n",
       "      <td>0.0</td>\n",
       "      <td>0.0</td>\n",
       "      <td>0.0</td>\n",
       "      <td>0.0</td>\n",
       "      <td>0.0</td>\n",
       "      <td>0.0</td>\n",
       "      <td>0.0</td>\n",
       "      <td>0.0</td>\n",
       "      <td>0.0</td>\n",
       "      <td>...</td>\n",
       "      <td>0.0</td>\n",
       "      <td>0.0</td>\n",
       "      <td>0.0</td>\n",
       "      <td>0.0</td>\n",
       "      <td>0.0</td>\n",
       "      <td>0.0</td>\n",
       "      <td>0.0</td>\n",
       "      <td>0.0</td>\n",
       "      <td>0.0</td>\n",
       "      <td>0.0</td>\n",
       "    </tr>\n",
       "    <tr>\n",
       "      <th>abat</th>\n",
       "      <td>0.000000</td>\n",
       "      <td>0.0</td>\n",
       "      <td>0.0</td>\n",
       "      <td>0.0</td>\n",
       "      <td>0.0</td>\n",
       "      <td>0.0</td>\n",
       "      <td>0.0</td>\n",
       "      <td>0.0</td>\n",
       "      <td>0.0</td>\n",
       "      <td>0.0</td>\n",
       "      <td>...</td>\n",
       "      <td>0.0</td>\n",
       "      <td>0.0</td>\n",
       "      <td>0.0</td>\n",
       "      <td>0.0</td>\n",
       "      <td>0.0</td>\n",
       "      <td>0.0</td>\n",
       "      <td>0.0</td>\n",
       "      <td>0.0</td>\n",
       "      <td>0.0</td>\n",
       "      <td>0.0</td>\n",
       "    </tr>\n",
       "    <tr>\n",
       "      <th>...</th>\n",
       "      <td>...</td>\n",
       "      <td>...</td>\n",
       "      <td>...</td>\n",
       "      <td>...</td>\n",
       "      <td>...</td>\n",
       "      <td>...</td>\n",
       "      <td>...</td>\n",
       "      <td>...</td>\n",
       "      <td>...</td>\n",
       "      <td>...</td>\n",
       "      <td>...</td>\n",
       "      <td>...</td>\n",
       "      <td>...</td>\n",
       "      <td>...</td>\n",
       "      <td>...</td>\n",
       "      <td>...</td>\n",
       "      <td>...</td>\n",
       "      <td>...</td>\n",
       "      <td>...</td>\n",
       "      <td>...</td>\n",
       "      <td>...</td>\n",
       "    </tr>\n",
       "    <tr>\n",
       "      <th>zoet</th>\n",
       "      <td>0.000000</td>\n",
       "      <td>0.0</td>\n",
       "      <td>0.0</td>\n",
       "      <td>0.0</td>\n",
       "      <td>0.0</td>\n",
       "      <td>0.0</td>\n",
       "      <td>0.0</td>\n",
       "      <td>0.0</td>\n",
       "      <td>0.0</td>\n",
       "      <td>0.0</td>\n",
       "      <td>...</td>\n",
       "      <td>0.0</td>\n",
       "      <td>0.0</td>\n",
       "      <td>0.0</td>\n",
       "      <td>0.0</td>\n",
       "      <td>0.0</td>\n",
       "      <td>0.0</td>\n",
       "      <td>0.0</td>\n",
       "      <td>0.0</td>\n",
       "      <td>0.0</td>\n",
       "      <td>0.0</td>\n",
       "    </tr>\n",
       "    <tr>\n",
       "      <th>zone</th>\n",
       "      <td>0.044526</td>\n",
       "      <td>0.0</td>\n",
       "      <td>0.0</td>\n",
       "      <td>0.0</td>\n",
       "      <td>0.0</td>\n",
       "      <td>0.0</td>\n",
       "      <td>0.0</td>\n",
       "      <td>0.0</td>\n",
       "      <td>0.0</td>\n",
       "      <td>0.0</td>\n",
       "      <td>...</td>\n",
       "      <td>0.0</td>\n",
       "      <td>0.0</td>\n",
       "      <td>0.0</td>\n",
       "      <td>0.0</td>\n",
       "      <td>0.0</td>\n",
       "      <td>0.0</td>\n",
       "      <td>0.0</td>\n",
       "      <td>0.0</td>\n",
       "      <td>0.0</td>\n",
       "      <td>0.0</td>\n",
       "    </tr>\n",
       "    <tr>\n",
       "      <th>zorinski</th>\n",
       "      <td>0.000000</td>\n",
       "      <td>0.0</td>\n",
       "      <td>0.0</td>\n",
       "      <td>0.0</td>\n",
       "      <td>0.0</td>\n",
       "      <td>0.0</td>\n",
       "      <td>0.0</td>\n",
       "      <td>0.0</td>\n",
       "      <td>0.0</td>\n",
       "      <td>0.0</td>\n",
       "      <td>...</td>\n",
       "      <td>0.0</td>\n",
       "      <td>0.0</td>\n",
       "      <td>0.0</td>\n",
       "      <td>0.0</td>\n",
       "      <td>0.0</td>\n",
       "      <td>0.0</td>\n",
       "      <td>0.0</td>\n",
       "      <td>0.0</td>\n",
       "      <td>0.0</td>\n",
       "      <td>0.0</td>\n",
       "    </tr>\n",
       "    <tr>\n",
       "      <th>zuccherifici</th>\n",
       "      <td>0.000000</td>\n",
       "      <td>0.0</td>\n",
       "      <td>0.0</td>\n",
       "      <td>0.0</td>\n",
       "      <td>0.0</td>\n",
       "      <td>0.0</td>\n",
       "      <td>0.0</td>\n",
       "      <td>0.0</td>\n",
       "      <td>0.0</td>\n",
       "      <td>0.0</td>\n",
       "      <td>...</td>\n",
       "      <td>0.0</td>\n",
       "      <td>0.0</td>\n",
       "      <td>0.0</td>\n",
       "      <td>0.0</td>\n",
       "      <td>0.0</td>\n",
       "      <td>0.0</td>\n",
       "      <td>0.0</td>\n",
       "      <td>0.0</td>\n",
       "      <td>0.0</td>\n",
       "      <td>0.0</td>\n",
       "    </tr>\n",
       "    <tr>\n",
       "      <th>zurich</th>\n",
       "      <td>0.000000</td>\n",
       "      <td>0.0</td>\n",
       "      <td>0.0</td>\n",
       "      <td>0.0</td>\n",
       "      <td>0.0</td>\n",
       "      <td>0.0</td>\n",
       "      <td>0.0</td>\n",
       "      <td>0.0</td>\n",
       "      <td>0.0</td>\n",
       "      <td>0.0</td>\n",
       "      <td>...</td>\n",
       "      <td>0.0</td>\n",
       "      <td>0.0</td>\n",
       "      <td>0.0</td>\n",
       "      <td>0.0</td>\n",
       "      <td>0.0</td>\n",
       "      <td>0.0</td>\n",
       "      <td>0.0</td>\n",
       "      <td>0.0</td>\n",
       "      <td>0.0</td>\n",
       "      <td>0.0</td>\n",
       "    </tr>\n",
       "  </tbody>\n",
       "</table>\n",
       "<p>7188 rows × 7769 columns</p>\n",
       "</div>"
      ],
      "text/plain": [
       "                  0     1     2     3     4     5     6     7     8     9     \\\n",
       "aaa           0.000000   0.0   0.0   0.0   0.0   0.0   0.0   0.0   0.0   0.0   \n",
       "aac           0.000000   0.0   0.0   0.0   0.0   0.0   0.0   0.0   0.0   0.0   \n",
       "aar           0.000000   0.0   0.0   0.0   0.0   0.0   0.0   0.0   0.0   0.0   \n",
       "abandon       0.000000   0.0   0.0   0.0   0.0   0.0   0.0   0.0   0.0   0.0   \n",
       "abat          0.000000   0.0   0.0   0.0   0.0   0.0   0.0   0.0   0.0   0.0   \n",
       "...                ...   ...   ...   ...   ...   ...   ...   ...   ...   ...   \n",
       "zoet          0.000000   0.0   0.0   0.0   0.0   0.0   0.0   0.0   0.0   0.0   \n",
       "zone          0.044526   0.0   0.0   0.0   0.0   0.0   0.0   0.0   0.0   0.0   \n",
       "zorinski      0.000000   0.0   0.0   0.0   0.0   0.0   0.0   0.0   0.0   0.0   \n",
       "zuccherifici  0.000000   0.0   0.0   0.0   0.0   0.0   0.0   0.0   0.0   0.0   \n",
       "zurich        0.000000   0.0   0.0   0.0   0.0   0.0   0.0   0.0   0.0   0.0   \n",
       "\n",
       "              ...  7759  7760  7761  7762  7763  7764  7765  7766  7767  7768  \n",
       "aaa           ...   0.0   0.0   0.0   0.0   0.0   0.0   0.0   0.0   0.0   0.0  \n",
       "aac           ...   0.0   0.0   0.0   0.0   0.0   0.0   0.0   0.0   0.0   0.0  \n",
       "aar           ...   0.0   0.0   0.0   0.0   0.0   0.0   0.0   0.0   0.0   0.0  \n",
       "abandon       ...   0.0   0.0   0.0   0.0   0.0   0.0   0.0   0.0   0.0   0.0  \n",
       "abat          ...   0.0   0.0   0.0   0.0   0.0   0.0   0.0   0.0   0.0   0.0  \n",
       "...           ...   ...   ...   ...   ...   ...   ...   ...   ...   ...   ...  \n",
       "zoet          ...   0.0   0.0   0.0   0.0   0.0   0.0   0.0   0.0   0.0   0.0  \n",
       "zone          ...   0.0   0.0   0.0   0.0   0.0   0.0   0.0   0.0   0.0   0.0  \n",
       "zorinski      ...   0.0   0.0   0.0   0.0   0.0   0.0   0.0   0.0   0.0   0.0  \n",
       "zuccherifici  ...   0.0   0.0   0.0   0.0   0.0   0.0   0.0   0.0   0.0   0.0  \n",
       "zurich        ...   0.0   0.0   0.0   0.0   0.0   0.0   0.0   0.0   0.0   0.0  \n",
       "\n",
       "[7188 rows x 7769 columns]"
      ]
     },
     "execution_count": 177,
     "metadata": {},
     "output_type": "execute_result"
    }
   ],
   "source": [
    "df_tfidf"
   ]
  },
  {
   "cell_type": "code",
   "execution_count": 178,
   "metadata": {},
   "outputs": [
    {
     "data": {
      "text/html": [
       "<div>\n",
       "<style scoped>\n",
       "    .dataframe tbody tr th:only-of-type {\n",
       "        vertical-align: middle;\n",
       "    }\n",
       "\n",
       "    .dataframe tbody tr th {\n",
       "        vertical-align: top;\n",
       "    }\n",
       "\n",
       "    .dataframe thead th {\n",
       "        text-align: right;\n",
       "    }\n",
       "</style>\n",
       "<table border=\"1\" class=\"dataframe\">\n",
       "  <thead>\n",
       "    <tr style=\"text-align: right;\">\n",
       "      <th></th>\n",
       "      <th>0</th>\n",
       "    </tr>\n",
       "  </thead>\n",
       "  <tbody>\n",
       "    <tr>\n",
       "      <th>allevi</th>\n",
       "      <td>0.056771</td>\n",
       "    </tr>\n",
       "    <tr>\n",
       "      <th>almost</th>\n",
       "      <td>0.038594</td>\n",
       "    </tr>\n",
       "    <tr>\n",
       "      <th>also</th>\n",
       "      <td>0.020205</td>\n",
       "    </tr>\n",
       "    <tr>\n",
       "      <th>although</th>\n",
       "      <td>0.033906</td>\n",
       "    </tr>\n",
       "    <tr>\n",
       "      <th>aprilmay</th>\n",
       "      <td>0.055303</td>\n",
       "    </tr>\n",
       "    <tr>\n",
       "      <th>...</th>\n",
       "      <td>...</td>\n",
       "    </tr>\n",
       "    <tr>\n",
       "      <th>went</th>\n",
       "      <td>0.043398</td>\n",
       "    </tr>\n",
       "    <tr>\n",
       "      <th>would</th>\n",
       "      <td>0.019074</td>\n",
       "    </tr>\n",
       "    <tr>\n",
       "      <th>year</th>\n",
       "      <td>0.029054</td>\n",
       "    </tr>\n",
       "    <tr>\n",
       "      <th>york</th>\n",
       "      <td>0.258704</td>\n",
       "    </tr>\n",
       "    <tr>\n",
       "      <th>zone</th>\n",
       "      <td>0.044526</td>\n",
       "    </tr>\n",
       "  </tbody>\n",
       "</table>\n",
       "<p>140 rows × 1 columns</p>\n",
       "</div>"
      ],
      "text/plain": [
       "                 0\n",
       "allevi    0.056771\n",
       "almost    0.038594\n",
       "also      0.020205\n",
       "although  0.033906\n",
       "aprilmay  0.055303\n",
       "...            ...\n",
       "went      0.043398\n",
       "would     0.019074\n",
       "year      0.029054\n",
       "york      0.258704\n",
       "zone      0.044526\n",
       "\n",
       "[140 rows x 1 columns]"
      ]
     },
     "execution_count": 178,
     "metadata": {},
     "output_type": "execute_result"
    }
   ],
   "source": [
    "doc = 0\n",
    "df_tfidf.loc[df_tfidf[doc] > 0, [doc]]"
   ]
  },
  {
   "cell_type": "code",
   "execution_count": 179,
   "metadata": {},
   "outputs": [
    {
     "data": {
      "text/plain": [
       "(7188, 7769)"
      ]
     },
     "execution_count": 179,
     "metadata": {},
     "output_type": "execute_result"
    }
   ],
   "source": [
    "df_tfidf.shape"
   ]
  },
  {
   "cell_type": "code",
   "execution_count": 180,
   "metadata": {
    "scrolled": false
   },
   "outputs": [
    {
     "data": {
      "image/png": "[encoded data removed]",
      "text/plain": [
       "<Figure size 720x432 with 1 Axes>"
      ]
     },
     "metadata": {
      "needs_background": "light"
     },
     "output_type": "display_data"
    }
   ],
   "source": [
    "import random\n",
    "n = 10 # Number of articles to be presented\n",
    "randomlist = random.sample(range(0, X_train_tfidf.shape[0]), n)\n",
    "\n",
    "plt.figure(figsize=(10,6))\n",
    "\n",
    "for i in randomlist:\n",
    "    rowssort = X_train_tfidf.getrow(i).todense().A1.argsort()[::-1]\n",
    "    valsort = df_tfidf[i].values[rowssort]\n",
    "    \n",
    "    plt.plot(valsort, 'o')\n",
    "\n",
    "ax = plt.gca()\n",
    "ax.set(xlim=(-10, 200), ylim=(0, 1),\n",
    "       ylabel='tf-idf value',\n",
    "       title=f'Values of tfidf in descending order for {n} random articles');\n"
   ]
  },
  {
   "cell_type": "markdown",
   "metadata": {},
   "source": [
    "### Doc2vec"
   ]
  },
  {
   "cell_type": "code",
   "execution_count": 716,
   "metadata": {},
   "outputs": [],
   "source": [
    "from gensim.models import Doc2Vec\n",
    "from gensim.models.doc2vec import TaggedDocument\n",
    "\n",
    "import multiprocessing"
   ]
  },
  {
   "cell_type": "code",
   "execution_count": 715,
   "metadata": {},
   "outputs": [
    {
     "data": {
      "text/plain": [
       "gensim.models.doc2vec.TaggedDocument"
      ]
     },
     "execution_count": 715,
     "metadata": {},
     "output_type": "execute_result"
    }
   ],
   "source": [
    "TaggedDocument"
   ]
  },
  {
   "cell_type": "markdown",
   "metadata": {},
   "source": [
    "### Let's train my own model:"
   ]
  },
  {
   "cell_type": "code",
   "execution_count": 182,
   "metadata": {},
   "outputs": [],
   "source": [
    "# Create train corpus objects from tokenized train set \n",
    "D2V_train_corpus = [TaggedDocument(doc, [i]) for i, doc in enumerate(tokens_train)]"
   ]
  },
  {
   "cell_type": "code",
   "execution_count": 1150,
   "metadata": {},
   "outputs": [
    {
     "data": {
      "text/plain": [
       "TaggedDocument(words=['comput', 'termin', 'system', 'cpml', 'complet', 'sale', 'comput', 'termin', 'system', 'inc', 'said', 'complet', 'sale', 'share', 'common', 'stock', 'warrant', 'acquir', 'addit', 'one', 'mln', 'share', 'sedio', 'lugano', 'switzerland', 'dlr', 'compani', 'said', 'warrant', 'exercis', 'five', 'year', 'purchas', 'price', 'dlr', 'per', 'share', 'comput', 'termin', 'said', 'sedio', 'also', 'right', 'buy', 'addit', 'share', 'increas', 'total', 'hold', 'pct', 'comput', 'termin', 'outstand', 'common', 'stock', 'certain', 'circumst', 'involv', 'chang', 'control', 'compani', 'compani', 'said', 'condit', 'occur', 'warrant', 'would', 'exercis', 'price', 'equal', 'pct', 'common', 'stock', 'market', 'price', 'time', 'exceed', 'dlr', 'per', 'share', 'comput', 'termin', 'also', 'said', 'sold', 'technolgi', 'right', 'dot', 'matrix', 'impact', 'technolog', 'includ', 'futur', 'improv', 'woodco', 'inc', 'houston', 'tex', 'dlr', 'said', 'would', 'continu', 'exclus', 'worldwid', 'license', 'technolog', 'woodco', 'compani', 'said', 'move', 'part', 'reorgan', 'plan', 'would', 'help', 'pay', 'current', 'oper', 'cost', 'ensur', 'product', 'deliveri', 'comput', 'termin', 'make', 'comput', 'gener', 'label', 'form', 'tag', 'ticket', 'printer', 'termin'], tags=[1])"
      ]
     },
     "execution_count": 1150,
     "metadata": {},
     "output_type": "execute_result"
    }
   ],
   "source": [
    "D2V_train_corpus[1]"
   ]
  },
  {
   "cell_type": "code",
   "execution_count": 717,
   "metadata": {},
   "outputs": [],
   "source": [
    "# Params:\n",
    "vector_size = 100 # Same as we will use for CNN model\n",
    "min_count= 3 # Same as for tfidf\n",
    "\n",
    "cores = multiprocessing.cpu_count()-1"
   ]
  },
  {
   "cell_type": "code",
   "execution_count": 719,
   "metadata": {},
   "outputs": [],
   "source": [
    "# Create model\n",
    "model_Doc2Vec =  Doc2Vec(D2V_train_corpus, vector_size = vector_size, min_count = min_count, window = 4, epochs = 40, workers=cores)"
   ]
  },
  {
   "cell_type": "code",
   "execution_count": 720,
   "metadata": {
    "scrolled": true
   },
   "outputs": [],
   "source": [
    "# Train model on train corpus\n",
    "model_Doc2Vec.train(D2V_train_corpus,\n",
    "                    total_examples = model_Doc2Vec.corpus_count,\n",
    "                    epochs = model_Doc2Vec.epochs)"
   ]
  },
  {
   "cell_type": "code",
   "execution_count": 723,
   "metadata": {},
   "outputs": [],
   "source": [
    "# \"convert\" train tokenized to vectors\n",
    "X_train_D2V = np.zeros((len(tokens_train), vector_size))\n",
    "for i in range(0, len(tokens_train)):\n",
    "    X_train_D2V[i,]=model_Doc2Vec.infer_vector(tokens_train[i]).transpose()\n",
    "\n",
    "X_train_D2V[0][:10]"
   ]
  },
  {
   "cell_type": "code",
   "execution_count": 727,
   "metadata": {},
   "outputs": [],
   "source": [
    "# \"convert\" test tokenized to vectors\n",
    "X_test_D2V = np.zeros((len(tokens_test), vector_size))\n",
    "for i in range(0, len(tokens_test)):\n",
    "    X_test_D2V[i,]=model_Doc2Vec.infer_vector(tokens_test[i]).transpose()"
   ]
  },
  {
   "cell_type": "code",
   "execution_count": null,
   "metadata": {},
   "outputs": [],
   "source": []
  },
  {
   "cell_type": "markdown",
   "metadata": {},
   "source": [
    "### Let's use the pretrained model"
   ]
  },
  {
   "cell_type": "code",
   "execution_count": null,
   "metadata": {},
   "outputs": [],
   "source": []
  },
  {
   "cell_type": "markdown",
   "metadata": {},
   "source": [
    "### FastText"
   ]
  },
  {
   "cell_type": "code",
   "execution_count": 733,
   "metadata": {},
   "outputs": [],
   "source": [
    "from gensim.models import FastText"
   ]
  },
  {
   "cell_type": "code",
   "execution_count": 734,
   "metadata": {},
   "outputs": [],
   "source": [
    "model_FT = FastText(size=vector_size, min_count=min_count, window=4)\n",
    "model_FT.build_vocab(sentences=tokens_train)\n",
    "model_FT.train(sentences=tokens_train, total_examples=len(tokens_train), epochs=40)  "
   ]
  },
  {
   "cell_type": "code",
   "execution_count": 736,
   "metadata": {},
   "outputs": [
    {
     "data": {
      "text/plain": [
       "<gensim.models.fasttext.FastText at 0x21260a184c8>"
      ]
     },
     "execution_count": 736,
     "metadata": {},
     "output_type": "execute_result"
    }
   ],
   "source": [
    "model_FT"
   ]
  },
  {
   "cell_type": "code",
   "execution_count": 741,
   "metadata": {},
   "outputs": [],
   "source": [
    "# \"convert\" train tokenized to vectors\n",
    "similarities = model_FT.wv['computer']"
   ]
  },
  {
   "cell_type": "code",
   "execution_count": null,
   "metadata": {},
   "outputs": [],
   "source": [
    "aaa"
   ]
  },
  {
   "cell_type": "code",
   "execution_count": null,
   "metadata": {},
   "outputs": [],
   "source": []
  },
  {
   "cell_type": "code",
   "execution_count": null,
   "metadata": {},
   "outputs": [],
   "source": []
  },
  {
   "cell_type": "code",
   "execution_count": null,
   "metadata": {},
   "outputs": [],
   "source": []
  },
  {
   "cell_type": "markdown",
   "metadata": {},
   "source": [
    "### Pretrained FT model"
   ]
  },
  {
   "cell_type": "code",
   "execution_count": 746,
   "metadata": {},
   "outputs": [],
   "source": [
    "import gensim"
   ]
  },
  {
   "cell_type": "code",
   "execution_count": 748,
   "metadata": {},
   "outputs": [
    {
     "ename": "TypeError",
     "evalue": "load_facebook_model() missing 1 required positional argument: 'path'",
     "output_type": "error",
     "traceback": [
      "\u001b[1;31m---------------------------------------------------------------------------\u001b[0m",
      "\u001b[1;31mTypeError\u001b[0m                                 Traceback (most recent call last)",
      "\u001b[1;32m<ipython-input-748-8ec4006d2cdc>\u001b[0m in \u001b[0;36m<module>\u001b[1;34m\u001b[0m\n\u001b[1;32m----> 1\u001b[1;33m \u001b[0mtemp\u001b[0m \u001b[1;33m=\u001b[0m \u001b[0mgensim\u001b[0m\u001b[1;33m.\u001b[0m\u001b[0mmodels\u001b[0m\u001b[1;33m.\u001b[0m\u001b[0mfasttext\u001b[0m\u001b[1;33m.\u001b[0m\u001b[0mload_facebook_model\u001b[0m\u001b[1;33m(\u001b[0m\u001b[1;33m)\u001b[0m\u001b[1;33m\u001b[0m\u001b[1;33m\u001b[0m\u001b[0m\n\u001b[0m",
      "\u001b[1;31mTypeError\u001b[0m: load_facebook_model() missing 1 required positional argument: 'path'"
     ]
    }
   ],
   "source": [
    "temp = gensim.models.fasttext.load_facebook_model()"
   ]
  },
  {
   "cell_type": "code",
   "execution_count": null,
   "metadata": {},
   "outputs": [],
   "source": []
  },
  {
   "cell_type": "markdown",
   "metadata": {},
   "source": [
    "## Target binarization"
   ]
  },
  {
   "cell_type": "code",
   "execution_count": 324,
   "metadata": {},
   "outputs": [],
   "source": [
    "from sklearn.preprocessing import MultiLabelBinarizer\n",
    "\n",
    "mlb = MultiLabelBinarizer()\n",
    "y_train = mlb.fit_transform(y_train_raw)\n",
    "y_test = mlb.transform(y_test_raw)"
   ]
  },
  {
   "cell_type": "markdown",
   "metadata": {},
   "source": [
    "## Model"
   ]
  },
  {
   "cell_type": "code",
   "execution_count": 213,
   "metadata": {},
   "outputs": [],
   "source": [
    "def metricsReport(modelName, test_labels, predictions):\n",
    "    accuracy = accuracy_score(test_labels, predictions)\n",
    "\n",
    "    macro_precision = precision_score(test_labels, predictions, average='macro')\n",
    "    macro_recall = recall_score(test_labels, predictions, average='macro')\n",
    "    macro_f1 = f1_score(test_labels, predictions, average='macro')\n",
    "\n",
    "    micro_precision = precision_score(test_labels, predictions, average='micro')\n",
    "    micro_recall = recall_score(test_labels, predictions, average='micro')\n",
    "    micro_f1 = f1_score(test_labels, predictions, average='micro')\n",
    "    hamLoss = hamming_loss(test_labels, predictions)\n",
    "    print(\"------\" + modelName + \" Model Metrics-----\")\n",
    "    print(\"Accuracy: {:.4f}\\nHamming Loss: {:.4f}\\nPrecision:\\n  - Macro: {:.4f}\\n  - Micro: {:.4f}\\nRecall:\\n  - Macro: {:.4f}\\n  - Micro: {:.4f}\\nF1-measure:\\n  - Macro: {:.4f}\\n  - Micro: {:.4f}\"\\\n",
    "          .format(accuracy, hamLoss, macro_precision, micro_precision, macro_recall, micro_recall, macro_f1, micro_f1))\n",
    "#     ModelsPerformance[modelName] = micro_f1"
   ]
  },
  {
   "cell_type": "markdown",
   "metadata": {},
   "source": [
    "Consider using some clever split to represent the same number of classes in different splits"
   ]
  },
  {
   "cell_type": "markdown",
   "metadata": {},
   "source": [
    "### Random Forest"
   ]
  },
  {
   "cell_type": "code",
   "execution_count": 1010,
   "metadata": {},
   "outputs": [],
   "source": [
    "from sklearn.ensemble import RandomForestClassifier"
   ]
  },
  {
   "cell_type": "code",
   "execution_count": 1014,
   "metadata": {},
   "outputs": [
    {
     "name": "stdout",
     "output_type": "stream",
     "text": [
      "Best params: {'clf__n_estimators': 25}\n",
      "Train accuracy: 0.9876431973226928\n",
      "Test accuracy: 0.6796952633322292\n"
     ]
    }
   ],
   "source": [
    "pipe = Pipeline(steps=[\n",
    "    ('vectorizer',  TfidfVectorizer(min_df=min_df, max_df=max_df)),\n",
    "    ('clf', RandomForestClassifier(n_estimators = 100, random_state=42))\n",
    "])\n",
    "\n",
    "param_grid = {\n",
    "    'clf__n_estimators': [25, 50],\n",
    "#     'clf__criterion': ['gini', 'entropy']\n",
    "}\n",
    "\n",
    "grid_RF_tfidf = GridSearchCV(pipe, param_grid, cv=5, n_jobs=-1, return_train_score=True, verbose=1)\n",
    "grid_RF_tfidf.fit(X_train, y_train)\n",
    "\n",
    "print(f\"Best params: {grid_RF_tfidf.best_params_}\")\n",
    "print(f\"Train accuracy: {grid_RF_tfidf.score(X_train, y_train)}\")\n",
    "print(f\"Test accuracy: {grid_RF_tfidf.score(X_test, y_test)}\")"
   ]
  },
  {
   "cell_type": "code",
   "execution_count": 1015,
   "metadata": {},
   "outputs": [
    {
     "name": "stdout",
     "output_type": "stream",
     "text": [
      "------RF Model Metrics-----\n",
      "Accuracy: 0.6797\n",
      "Hamming Loss: 0.0056\n",
      "Precision:\n",
      "  - Macro: 0.4458\n",
      "  - Micro: 0.9593\n",
      "Recall:\n",
      "  - Macro: 0.1311\n",
      "  - Micro: 0.6234\n",
      "F1-measure:\n",
      "  - Macro: 0.1840\n",
      "  - Micro: 0.7557\n"
     ]
    },
    {
     "name": "stderr",
     "output_type": "stream",
     "text": [
      "C:\\Users\\prad8002\\.conda\\envs\\py37\\lib\\site-packages\\sklearn\\metrics\\classification.py:1437: UndefinedMetricWarning: Precision is ill-defined and being set to 0.0 in labels with no predicted samples.\n",
      "  'precision', 'predicted', average, warn_for)\n",
      "C:\\Users\\prad8002\\.conda\\envs\\py37\\lib\\site-packages\\sklearn\\metrics\\classification.py:1437: UndefinedMetricWarning: F-score is ill-defined and being set to 0.0 in labels with no predicted samples.\n",
      "  'precision', 'predicted', average, warn_for)\n"
     ]
    }
   ],
   "source": [
    "y_pred = grid_RF_tfidf.best_estimator_.predict(X_test)\n",
    "metricsReport('RF', y_test, y_pred) "
   ]
  },
  {
   "cell_type": "code",
   "execution_count": 1022,
   "metadata": {},
   "outputs": [
    {
     "data": {
      "text/plain": [
       "array([ 687,    1,    3,    3,    0,    0,    0,    0,    0,    8,    2,\n",
       "          0,   22,    2,    0,    4,    0,  108,    0,   20,    0, 1064,\n",
       "          2,    3,    4,    2,  101,    0,    0,    2,    2,    0,    1,\n",
       "          0,   72,    1,    0,    0,    3,    0,    0,    0,    0,    3,\n",
       "          0,    0,  118,   18,    0,    1,    0,    0,    0,    1,   12,\n",
       "          2,    0,    3,    0,    0,    0,    0,    0,    0,    0,    3,\n",
       "          5,    0,    1,    0,    0,   30,    0,    2,    0,    0,    6,\n",
       "          0,   12,    0,    0,    1,    0,    0,   56,    3,   38,    0,\n",
       "          1,    0])"
      ]
     },
     "execution_count": 1022,
     "metadata": {},
     "output_type": "execute_result"
    }
   ],
   "source": [
    "sum(y_pred)"
   ]
  },
  {
   "cell_type": "code",
   "execution_count": 1023,
   "metadata": {},
   "outputs": [
    {
     "data": {
      "text/plain": [
       "array([ 719,   23,   14,   30,   18,    1,   18,    2,    3,   28,   18,\n",
       "          1,   56,   20,    2,   28,    1,  189,    1,   44,    4, 1087,\n",
       "         10,   17,   35,   30,  149,    4,    1,    5,    6,    4,    7,\n",
       "          1,  131,   12,   14,    1,   21,    2,   14,    3,    1,   24,\n",
       "          6,   19,  179,   34,    4,   30,    1,    2,    2,    6,   47,\n",
       "         11,    1,   10,    1,   12,    7,    3,    3,    1,    3,    9,\n",
       "         18,    2,   24,   12,    1,   89,    8,   10,   13,   11,   33,\n",
       "         11,   36,    1,    2,    5,    4,   12,  117,   37,   71,   10,\n",
       "         14,   13])"
      ]
     },
     "execution_count": 1023,
     "metadata": {},
     "output_type": "execute_result"
    }
   ],
   "source": [
    "sum(y_test)"
   ]
  },
  {
   "cell_type": "code",
   "execution_count": 1024,
   "metadata": {
    "collapsed": true
   },
   "outputs": [
    {
     "data": {
      "text/plain": [
       "array([[[2272,   28],\n",
       "        [  60,  659]],\n",
       "\n",
       "       [[2996,    0],\n",
       "        [  22,    1]],\n",
       "\n",
       "       [[3005,    0],\n",
       "        [  11,    3]],\n",
       "\n",
       "       [[2989,    0],\n",
       "        [  27,    3]],\n",
       "\n",
       "       [[3001,    0],\n",
       "        [  18,    0]],\n",
       "\n",
       "       [[3018,    0],\n",
       "        [   1,    0]],\n",
       "\n",
       "       [[3001,    0],\n",
       "        [  18,    0]],\n",
       "\n",
       "       [[3017,    0],\n",
       "        [   2,    0]],\n",
       "\n",
       "       [[3016,    0],\n",
       "        [   3,    0]],\n",
       "\n",
       "       [[2991,    0],\n",
       "        [  20,    8]],\n",
       "\n",
       "       [[3001,    0],\n",
       "        [  16,    2]],\n",
       "\n",
       "       [[3018,    0],\n",
       "        [   1,    0]],\n",
       "\n",
       "       [[2962,    1],\n",
       "        [  35,   21]],\n",
       "\n",
       "       [[2999,    0],\n",
       "        [  18,    2]],\n",
       "\n",
       "       [[3017,    0],\n",
       "        [   2,    0]],\n",
       "\n",
       "       [[2990,    1],\n",
       "        [  25,    3]],\n",
       "\n",
       "       [[3018,    0],\n",
       "        [   1,    0]],\n",
       "\n",
       "       [[2828,    2],\n",
       "        [  83,  106]],\n",
       "\n",
       "       [[3018,    0],\n",
       "        [   1,    0]],\n",
       "\n",
       "       [[2974,    1],\n",
       "        [  25,   19]],\n",
       "\n",
       "       [[3015,    0],\n",
       "        [   4,    0]],\n",
       "\n",
       "       [[1920,   12],\n",
       "        [  35, 1052]],\n",
       "\n",
       "       [[3008,    1],\n",
       "        [   9,    1]],\n",
       "\n",
       "       [[3002,    0],\n",
       "        [  14,    3]],\n",
       "\n",
       "       [[2984,    0],\n",
       "        [  31,    4]],\n",
       "\n",
       "       [[2989,    0],\n",
       "        [  28,    2]],\n",
       "\n",
       "       [[2863,    7],\n",
       "        [  55,   94]],\n",
       "\n",
       "       [[3015,    0],\n",
       "        [   4,    0]],\n",
       "\n",
       "       [[3018,    0],\n",
       "        [   1,    0]],\n",
       "\n",
       "       [[3014,    0],\n",
       "        [   3,    2]],\n",
       "\n",
       "       [[3013,    0],\n",
       "        [   4,    2]],\n",
       "\n",
       "       [[3015,    0],\n",
       "        [   4,    0]],\n",
       "\n",
       "       [[3012,    0],\n",
       "        [   6,    1]],\n",
       "\n",
       "       [[3018,    0],\n",
       "        [   1,    0]],\n",
       "\n",
       "       [[2878,   10],\n",
       "        [  69,   62]],\n",
       "\n",
       "       [[3007,    0],\n",
       "        [  11,    1]],\n",
       "\n",
       "       [[3005,    0],\n",
       "        [  14,    0]],\n",
       "\n",
       "       [[3018,    0],\n",
       "        [   1,    0]],\n",
       "\n",
       "       [[2998,    0],\n",
       "        [  18,    3]],\n",
       "\n",
       "       [[3017,    0],\n",
       "        [   2,    0]],\n",
       "\n",
       "       [[3005,    0],\n",
       "        [  14,    0]],\n",
       "\n",
       "       [[3016,    0],\n",
       "        [   3,    0]],\n",
       "\n",
       "       [[3018,    0],\n",
       "        [   1,    0]],\n",
       "\n",
       "       [[2995,    0],\n",
       "        [  21,    3]],\n",
       "\n",
       "       [[3013,    0],\n",
       "        [   6,    0]],\n",
       "\n",
       "       [[3000,    0],\n",
       "        [  19,    0]],\n",
       "\n",
       "       [[2818,   22],\n",
       "        [  83,   96]],\n",
       "\n",
       "       [[2983,    2],\n",
       "        [  18,   16]],\n",
       "\n",
       "       [[3015,    0],\n",
       "        [   4,    0]],\n",
       "\n",
       "       [[2989,    0],\n",
       "        [  29,    1]],\n",
       "\n",
       "       [[3018,    0],\n",
       "        [   1,    0]],\n",
       "\n",
       "       [[3017,    0],\n",
       "        [   2,    0]],\n",
       "\n",
       "       [[3017,    0],\n",
       "        [   2,    0]],\n",
       "\n",
       "       [[3013,    0],\n",
       "        [   5,    1]],\n",
       "\n",
       "       [[2971,    1],\n",
       "        [  36,   11]],\n",
       "\n",
       "       [[3008,    0],\n",
       "        [   9,    2]],\n",
       "\n",
       "       [[3018,    0],\n",
       "        [   1,    0]],\n",
       "\n",
       "       [[3009,    0],\n",
       "        [   7,    3]],\n",
       "\n",
       "       [[3018,    0],\n",
       "        [   1,    0]],\n",
       "\n",
       "       [[3007,    0],\n",
       "        [  12,    0]],\n",
       "\n",
       "       [[3012,    0],\n",
       "        [   7,    0]],\n",
       "\n",
       "       [[3016,    0],\n",
       "        [   3,    0]],\n",
       "\n",
       "       [[3016,    0],\n",
       "        [   3,    0]],\n",
       "\n",
       "       [[3018,    0],\n",
       "        [   1,    0]],\n",
       "\n",
       "       [[3016,    0],\n",
       "        [   3,    0]],\n",
       "\n",
       "       [[3010,    0],\n",
       "        [   6,    3]],\n",
       "\n",
       "       [[3001,    0],\n",
       "        [  13,    5]],\n",
       "\n",
       "       [[3017,    0],\n",
       "        [   2,    0]],\n",
       "\n",
       "       [[2995,    0],\n",
       "        [  23,    1]],\n",
       "\n",
       "       [[3007,    0],\n",
       "        [  12,    0]],\n",
       "\n",
       "       [[3018,    0],\n",
       "        [   1,    0]],\n",
       "\n",
       "       [[2928,    2],\n",
       "        [  61,   28]],\n",
       "\n",
       "       [[3011,    0],\n",
       "        [   8,    0]],\n",
       "\n",
       "       [[3009,    0],\n",
       "        [   8,    2]],\n",
       "\n",
       "       [[3006,    0],\n",
       "        [  13,    0]],\n",
       "\n",
       "       [[3008,    0],\n",
       "        [  11,    0]],\n",
       "\n",
       "       [[2985,    1],\n",
       "        [  28,    5]],\n",
       "\n",
       "       [[3008,    0],\n",
       "        [  11,    0]],\n",
       "\n",
       "       [[2983,    0],\n",
       "        [  24,   12]],\n",
       "\n",
       "       [[3018,    0],\n",
       "        [   1,    0]],\n",
       "\n",
       "       [[3017,    0],\n",
       "        [   2,    0]],\n",
       "\n",
       "       [[3014,    0],\n",
       "        [   4,    1]],\n",
       "\n",
       "       [[3015,    0],\n",
       "        [   4,    0]],\n",
       "\n",
       "       [[3007,    0],\n",
       "        [  12,    0]],\n",
       "\n",
       "       [[2897,    5],\n",
       "        [  66,   51]],\n",
       "\n",
       "       [[2982,    0],\n",
       "        [  34,    3]],\n",
       "\n",
       "       [[2946,    2],\n",
       "        [  35,   36]],\n",
       "\n",
       "       [[3009,    0],\n",
       "        [  10,    0]],\n",
       "\n",
       "       [[3004,    1],\n",
       "        [  14,    0]],\n",
       "\n",
       "       [[3006,    0],\n",
       "        [  13,    0]]], dtype=int64)"
      ]
     },
     "execution_count": 1024,
     "metadata": {},
     "output_type": "execute_result"
    }
   ],
   "source": [
    "multilabel_confusion_matrix(y_test, y_pred )"
   ]
  },
  {
   "cell_type": "code",
   "execution_count": 1025,
   "metadata": {},
   "outputs": [
    {
     "data": {
      "text/plain": [
       "2433"
      ]
     },
     "execution_count": 1025,
     "metadata": {},
     "output_type": "execute_result"
    }
   ],
   "source": [
    "sum(sum(y_pred))"
   ]
  },
  {
   "cell_type": "code",
   "execution_count": 1026,
   "metadata": {},
   "outputs": [
    {
     "data": {
      "text/plain": [
       "3744"
      ]
     },
     "execution_count": 1026,
     "metadata": {},
     "output_type": "execute_result"
    }
   ],
   "source": [
    "sum(sum(y_test))"
   ]
  },
  {
   "cell_type": "markdown",
   "metadata": {},
   "source": [
    "### KNN"
   ]
  },
  {
   "cell_type": "code",
   "execution_count": 1027,
   "metadata": {},
   "outputs": [],
   "source": [
    "from sklearn.neighbors import KNeighborsClassifier"
   ]
  },
  {
   "cell_type": "code",
   "execution_count": 1028,
   "metadata": {},
   "outputs": [
    {
     "name": "stdout",
     "output_type": "stream",
     "text": [
      "Best params: {'clf__n_neighbors': 5, 'clf__weights': 'distance'}\n",
      "Train accuracy: 0.9899600978246879\n",
      "Test accuracy: 0.7522358396820139\n"
     ]
    }
   ],
   "source": [
    "pipe = Pipeline(steps=[\n",
    "    ('vectorizer',  TfidfVectorizer(min_df=min_df, max_df=max_df)),\n",
    "    ('clf', KNeighborsClassifier())\n",
    "])\n",
    "\n",
    "param_grid = {\n",
    "    'clf__n_neighbors': [3,5,7,9,11],\n",
    "    'clf__weights': ['uniform', 'distance']\n",
    "}\n",
    "\n",
    "grid_kNN_tfidf = GridSearchCV(pipe, param_grid, cv=5, n_jobs=-1, return_train_score=True, verbose=1)\n",
    "grid_kNN_tfidf.fit(X_train, y_train)\n",
    "\n",
    "print(f\"Best params: {grid_kNN_tfidf.best_params_}\")\n",
    "print(f\"Train accuracy: {grid_kNN_tfidf.score(X_train, y_train)}\")\n",
    "print(f\"Test accuracy: {grid_kNN_tfidf.score(X_test, y_test)}\")"
   ]
  },
  {
   "cell_type": "code",
   "execution_count": 1029,
   "metadata": {},
   "outputs": [
    {
     "name": "stdout",
     "output_type": "stream",
     "text": [
      "------kNN Model Metrics-----\n",
      "Accuracy: 0.7522\n",
      "Hamming Loss: 0.0051\n",
      "Precision:\n",
      "  - Macro: 0.6198\n",
      "  - Micro: 0.8566\n",
      "Recall:\n",
      "  - Macro: 0.3938\n",
      "  - Micro: 0.7548\n",
      "F1-measure:\n",
      "  - Macro: 0.4498\n",
      "  - Micro: 0.8025\n"
     ]
    },
    {
     "name": "stderr",
     "output_type": "stream",
     "text": [
      "C:\\Users\\prad8002\\.conda\\envs\\py37\\lib\\site-packages\\sklearn\\metrics\\classification.py:1437: UndefinedMetricWarning: Precision is ill-defined and being set to 0.0 in labels with no predicted samples.\n",
      "  'precision', 'predicted', average, warn_for)\n",
      "C:\\Users\\prad8002\\.conda\\envs\\py37\\lib\\site-packages\\sklearn\\metrics\\classification.py:1437: UndefinedMetricWarning: F-score is ill-defined and being set to 0.0 in labels with no predicted samples.\n",
      "  'precision', 'predicted', average, warn_for)\n"
     ]
    }
   ],
   "source": [
    "y_pred = grid_kNN_tfidf.best_estimator_.predict(X_test)\n",
    "metricsReport('kNN', y_test, y_pred)"
   ]
  },
  {
   "cell_type": "markdown",
   "metadata": {},
   "source": [
    "### Linear SVC"
   ]
  },
  {
   "cell_type": "code",
   "execution_count": 597,
   "metadata": {},
   "outputs": [],
   "source": [
    "from sklearn.multiclass import OneVsRestClassifier\n",
    "from sklearn.naive_bayes import MultinomialNB # Veeery bad predictions - highly sensitive to correlation between features\n",
    "from sklearn.svm import LinearSVC\n",
    "from sklearn.linear_model import LogisticRegression"
   ]
  },
  {
   "cell_type": "code",
   "execution_count": 598,
   "metadata": {},
   "outputs": [
    {
     "name": "stdout",
     "output_type": "stream",
     "text": [
      "Fitting 5 folds for each of 3 candidates, totalling 15 fits\n"
     ]
    },
    {
     "name": "stderr",
     "output_type": "stream",
     "text": [
      "[Parallel(n_jobs=-1)]: Using backend LokyBackend with 4 concurrent workers.\n",
      "[Parallel(n_jobs=-1)]: Done  15 out of  15 | elapsed:   59.6s finished\n"
     ]
    },
    {
     "name": "stdout",
     "output_type": "stream",
     "text": [
      "Best params: {'clf__estimator__C': 1}\n",
      "Train accuracy: 0.9725833440597246\n",
      "Test accuracy: 0.8138456442530639\n"
     ]
    }
   ],
   "source": [
    "pipe = Pipeline(steps=[\n",
    "    ('vectorizer',  TfidfVectorizer(min_df=min_df, max_df=max_df)),\n",
    "    ('clf', OneVsRestClassifier(LinearSVC(max_iter = 10000)))\n",
    "])\n",
    "\n",
    "param_grid = {\n",
    "     'clf__estimator__C': [0.1, 1, 10]\n",
    "}\n",
    "\n",
    "grid_LinSVC_tfidf = GridSearchCV(pipe, param_grid, cv=5, n_jobs=-1, return_train_score=True, verbose=1)\n",
    "grid_LinSVC_tfidf.fit(X_train, y_train)\n",
    "\n",
    "print(f\"Best params: {grid_LinSVC_tfidf.best_params_}\")\n",
    "print(f\"Train accuracy: {grid_LinSVC_tfidf.score(X_train, y_train)}\")\n",
    "print(f\"Test accuracy: {grid_LinSVC_tfidf.score(X_test, y_test)}\")"
   ]
  },
  {
   "cell_type": "code",
   "execution_count": 599,
   "metadata": {
    "scrolled": true
   },
   "outputs": [
    {
     "name": "stderr",
     "output_type": "stream",
     "text": [
      "C:\\Users\\prad8002\\.conda\\envs\\py37\\lib\\site-packages\\sklearn\\metrics\\classification.py:1437: UndefinedMetricWarning: Precision is ill-defined and being set to 0.0 in labels with no predicted samples.\n",
      "  'precision', 'predicted', average, warn_for)\n",
      "C:\\Users\\prad8002\\.conda\\envs\\py37\\lib\\site-packages\\sklearn\\metrics\\classification.py:1437: UndefinedMetricWarning: F-score is ill-defined and being set to 0.0 in labels with no predicted samples.\n",
      "  'precision', 'predicted', average, warn_for)\n"
     ]
    },
    {
     "name": "stdout",
     "output_type": "stream",
     "text": [
      "------LinSVC Model Metrics-----\n",
      "Accuracy: 0.8138\n",
      "Hamming Loss: 0.0033\n",
      "Precision:\n",
      "  - Macro: 0.6384\n",
      "  - Micro: 0.9462\n",
      "Recall:\n",
      "  - Macro: 0.3938\n",
      "  - Micro: 0.8026\n",
      "F1-measure:\n",
      "  - Macro: 0.4647\n",
      "  - Micro: 0.8685\n"
     ]
    }
   ],
   "source": [
    "y_pred = grid_LinSVC_tfidf.best_estimator_.predict(X_test)\n",
    "metricsReport('LinSVC', y_test, y_pred)"
   ]
  },
  {
   "cell_type": "code",
   "execution_count": 604,
   "metadata": {},
   "outputs": [
    {
     "data": {
      "text/plain": [
       "array([ 701,   11,    9,   19,    9,    0,   17,    1,    0,   28,   14,\n",
       "          0,   44,   11,    0,   14,    0,  181,    0,   38,    0, 1079,\n",
       "          2,    8,   29,   26,  126,    0,    0,    3,    2,    3,    2,\n",
       "          0,  104,   11,   14,    0,   11,    0,    0,    3,    0,   14,\n",
       "          1,    8,  169,   28,    0,   17,    1,    0,    0,    1,   38,\n",
       "          9,    0,    6,    0,    1,    1,    1,    0,    0,    0,    4,\n",
       "         15,    1,   11,    9,    0,   65,    0,    5,    3,    1,   22,\n",
       "          0,   28,    0,    0,    1,    1,    7,  102,   17,   57,    5,\n",
       "          0,    7])"
      ]
     },
     "execution_count": 604,
     "metadata": {},
     "output_type": "execute_result"
    }
   ],
   "source": [
    "sum(y_pred)"
   ]
  },
  {
   "cell_type": "code",
   "execution_count": 601,
   "metadata": {},
   "outputs": [
    {
     "data": {
      "text/plain": [
       "array([ 719,   23,   14,   30,   18,    1,   18,    2,    3,   28,   18,\n",
       "          1,   56,   20,    2,   28,    1,  189,    1,   44,    4, 1087,\n",
       "         10,   17,   35,   30,  149,    4,    1,    5,    6,    4,    7,\n",
       "          1,  131,   12,   14,    1,   21,    2,   14,    3,    1,   24,\n",
       "          6,   19,  179,   34,    4,   30,    1,    2,    2,    6,   47,\n",
       "         11,    1,   10,    1,   12,    7,    3,    3,    1,    3,    9,\n",
       "         18,    2,   24,   12,    1,   89,    8,   10,   13,   11,   33,\n",
       "         11,   36,    1,    2,    5,    4,   12,  117,   37,   71,   10,\n",
       "         14,   13])"
      ]
     },
     "execution_count": 601,
     "metadata": {},
     "output_type": "execute_result"
    }
   ],
   "source": [
    "sum(y_test)"
   ]
  },
  {
   "cell_type": "markdown",
   "metadata": {},
   "source": [
    "### Labels correlation"
   ]
  },
  {
   "cell_type": "code",
   "execution_count": 728,
   "metadata": {},
   "outputs": [
    {
     "data": {
      "text/plain": [
       "<matplotlib.axes._subplots.AxesSubplot at 0x1ed82212a08>"
      ]
     },
     "execution_count": 728,
     "metadata": {},
     "output_type": "execute_result"
    },
    {
     "data": {
      "image/png": "[encoded data removed]",
      "text/plain": [
       "<Figure size 1080x720 with 2 Axes>"
      ]
     },
     "metadata": {
      "needs_background": "light"
     },
     "output_type": "display_data"
    }
   ],
   "source": [
    "plt.figure(figsize = (15,10))\n",
    "sns.heatmap(pd.DataFrame(y_train).corr())"
   ]
  },
  {
   "cell_type": "code",
   "execution_count": 752,
   "metadata": {},
   "outputs": [
    {
     "name": "stdout",
     "output_type": "stream",
     "text": [
      "Collecting scikit-multilearn\n",
      "  Downloading scikit_multilearn-0.2.0-py3-none-any.whl (89 kB)\n",
      "Installing collected packages: scikit-multilearn\n",
      "Successfully installed scikit-multilearn-0.2.0\n"
     ]
    }
   ],
   "source": [
    "# !pip install scikit-multilearn"
   ]
  },
  {
   "cell_type": "markdown",
   "metadata": {},
   "source": [
    "### Label Powerset Linear SVM"
   ]
  },
  {
   "cell_type": "code",
   "execution_count": 1033,
   "metadata": {
    "scrolled": true
   },
   "outputs": [],
   "source": [
    "from skmultilearn.problem_transform import LabelPowerset"
   ]
  },
  {
   "cell_type": "code",
   "execution_count": 1034,
   "metadata": {},
   "outputs": [
    {
     "name": "stdout",
     "output_type": "stream",
     "text": [
      "Best params: {}\n",
      "Train accuracy: 0.9819796627622602\n",
      "Test accuracy: 0.8449817820470354\n"
     ]
    }
   ],
   "source": [
    "pipe = Pipeline(steps=[\n",
    "    ('vectorizer',  TfidfVectorizer(min_df=min_df, max_df=max_df)),\n",
    "    ('clf', LabelPowerset(LinearSVC(max_iter = 10000)))\n",
    "])\n",
    "\n",
    "param_grid = {\n",
    "#      'clf__classifier__C': [0.1, 1, 10]\n",
    "}\n",
    "\n",
    "grid_LP_LinSVC_tfidf = GridSearchCV(pipe, param_grid, cv=5, n_jobs=-1, return_train_score=True, verbose=1)\n",
    "grid_LP_LinSVC_tfidf.fit(X_train, y_train)\n",
    "\n",
    "print(f\"Best params: {grid_LP_LinSVC_tfidf.best_params_}\")\n",
    "print(f\"Train accuracy: {grid_LP_LinSVC_tfidf.score(X_train, y_train)}\")\n",
    "print(f\"Test accuracy: {grid_LP_LinSVC_tfidf.score(X_test, y_test)}\")"
   ]
  },
  {
   "cell_type": "code",
   "execution_count": 1035,
   "metadata": {},
   "outputs": [
    {
     "name": "stdout",
     "output_type": "stream",
     "text": [
      "------LabelPowerSet_LinSVC Model Metrics-----\n",
      "Accuracy: 0.8450\n",
      "Hamming Loss: 0.0036\n",
      "Precision:\n",
      "  - Macro: 0.6969\n",
      "  - Micro: 0.9064\n",
      "Recall:\n",
      "  - Macro: 0.4948\n",
      "  - Micro: 0.8272\n",
      "F1-measure:\n",
      "  - Macro: 0.5438\n",
      "  - Micro: 0.8650\n"
     ]
    },
    {
     "name": "stderr",
     "output_type": "stream",
     "text": [
      "C:\\Users\\prad8002\\.conda\\envs\\py37\\lib\\site-packages\\sklearn\\metrics\\classification.py:1437: UndefinedMetricWarning: Precision is ill-defined and being set to 0.0 in labels with no predicted samples.\n",
      "  'precision', 'predicted', average, warn_for)\n",
      "C:\\Users\\prad8002\\.conda\\envs\\py37\\lib\\site-packages\\sklearn\\metrics\\classification.py:1437: UndefinedMetricWarning: F-score is ill-defined and being set to 0.0 in labels with no predicted samples.\n",
      "  'precision', 'predicted', average, warn_for)\n"
     ]
    }
   ],
   "source": [
    "y_pred = grid_LP_LinSVC_tfidf.best_estimator_.predict(X_test)\n",
    "metricsReport('LP LinSVC tfidf', y_test, y_pred)"
   ]
  },
  {
   "cell_type": "markdown",
   "metadata": {},
   "source": [
    "### Multi Label kNN"
   ]
  },
  {
   "cell_type": "code",
   "execution_count": 1036,
   "metadata": {},
   "outputs": [],
   "source": [
    "from skmultilearn.adapt import MLkNN"
   ]
  },
  {
   "cell_type": "code",
   "execution_count": 1037,
   "metadata": {},
   "outputs": [
    {
     "name": "stdout",
     "output_type": "stream",
     "text": [
      "Best params: {'clf__k': 7}\n",
      "Train accuracy: 0.8315098468271335\n",
      "Test accuracy: 0.7671414375621066\n"
     ]
    }
   ],
   "source": [
    "pipe = Pipeline(steps=[\n",
    "    ('vectorizer',  TfidfVectorizer(min_df=min_df, max_df=max_df)),\n",
    "    ('clf', MLkNN(k=10))\n",
    "])\n",
    "\n",
    "param_grid = {\n",
    "    'clf__k': [7,9,11]\n",
    "}\n",
    "\n",
    "grid_ML_kNN_tfidf = GridSearchCV(pipe, param_grid, cv=5, n_jobs=-1, return_train_score=True, verbose=1)\n",
    "grid_ML_kNN_tfidf.fit(X_train, y_train)\n",
    "\n",
    "print(f\"Best params: {grid_ML_kNN_tfidf.best_params_}\")\n",
    "print(f\"Train accuracy: {grid_ML_kNN_tfidf.score(X_train, y_train)}\")\n",
    "print(f\"Test accuracy: {grid_ML_kNN_tfidf.score(X_test, y_test)}\")"
   ]
  },
  {
   "cell_type": "code",
   "execution_count": 1038,
   "metadata": {},
   "outputs": [
    {
     "name": "stdout",
     "output_type": "stream",
     "text": [
      "------MLkNN Model Metrics-----\n",
      "Accuracy: 0.7671\n",
      "Hamming Loss: 0.0047\n",
      "Precision:\n",
      "  - Macro: 0.5576\n",
      "  - Micro: 0.8670\n",
      "Recall:\n",
      "  - Macro: 0.4065\n",
      "  - Micro: 0.7783\n",
      "F1-measure:\n",
      "  - Macro: 0.4500\n",
      "  - Micro: 0.8203\n"
     ]
    },
    {
     "name": "stderr",
     "output_type": "stream",
     "text": [
      "C:\\Users\\prad8002\\.conda\\envs\\py37\\lib\\site-packages\\sklearn\\metrics\\classification.py:1437: UndefinedMetricWarning: Precision is ill-defined and being set to 0.0 in labels with no predicted samples.\n",
      "  'precision', 'predicted', average, warn_for)\n",
      "C:\\Users\\prad8002\\.conda\\envs\\py37\\lib\\site-packages\\sklearn\\metrics\\classification.py:1437: UndefinedMetricWarning: F-score is ill-defined and being set to 0.0 in labels with no predicted samples.\n",
      "  'precision', 'predicted', average, warn_for)\n"
     ]
    }
   ],
   "source": [
    "y_pred = grid_ML_kNN_tfidf.best_estimator_.predict(X_test)\n",
    "metricsReport('MLkNN tfidf', y_test, y_pred)"
   ]
  },
  {
   "cell_type": "markdown",
   "metadata": {},
   "source": [
    "### Comparison"
   ]
  },
  {
   "cell_type": "code",
   "execution_count": 1039,
   "metadata": {},
   "outputs": [
    {
     "name": "stderr",
     "output_type": "stream",
     "text": [
      "C:\\Users\\prad8002\\.conda\\envs\\py37\\lib\\site-packages\\sklearn\\metrics\\classification.py:1437: UndefinedMetricWarning: Precision is ill-defined and being set to 0.0 in labels with no predicted samples.\n",
      "  'precision', 'predicted', average, warn_for)\n",
      "C:\\Users\\prad8002\\.conda\\envs\\py37\\lib\\site-packages\\sklearn\\metrics\\classification.py:1437: UndefinedMetricWarning: F-score is ill-defined and being set to 0.0 in labels with no predicted samples.\n",
      "  'precision', 'predicted', average, warn_for)\n",
      "C:\\Users\\prad8002\\.conda\\envs\\py37\\lib\\site-packages\\sklearn\\metrics\\classification.py:1437: UndefinedMetricWarning: Precision is ill-defined and being set to 0.0 in labels with no predicted samples.\n",
      "  'precision', 'predicted', average, warn_for)\n",
      "C:\\Users\\prad8002\\.conda\\envs\\py37\\lib\\site-packages\\sklearn\\metrics\\classification.py:1437: UndefinedMetricWarning: F-score is ill-defined and being set to 0.0 in labels with no predicted samples.\n",
      "  'precision', 'predicted', average, warn_for)\n"
     ]
    }
   ],
   "source": [
    "# Assign models:\n",
    "models = []\n",
    "models.append(('RF tfidf', grid_RF_tfidf.best_estimator_))\n",
    "models.append(('kNN tfidf', grid_kNN_tfidf.best_estimator_))\n",
    "models.append(('linSVC tfidf', grid_LinSVC_tfidf.best_estimator_))\n",
    "models.append(('LP linSVC tfidf`', grid_LP_LinSVC_tfidf.best_estimator_))\n",
    "models.append(('MLkNN tfidf`', grid_ML_kNN_tfidf.best_estimator_))\n",
    "\n",
    "# Initiate metrics:\n",
    "accuracy = []\n",
    "hamLoss = []\n",
    "macro_precision = []\n",
    "macro_recall = []\n",
    "macro_f1 = []\n",
    "micro_precision = []\n",
    "micro_recall = []\n",
    "micro_f1 = []\n",
    "auc = []\n",
    "\n",
    "# Iterate over models and calculate metrics\n",
    "for name, model in models:\n",
    "    y_pred = model.predict(X_test)\n",
    "    \n",
    "    accuracy.append(accuracy_score(y_test, y_pred))\n",
    "    hamLoss.append(hamming_loss(y_test, y_pred))\n",
    "    \n",
    "    macro_precision.append(precision_score(y_test, y_pred, average='macro'))\n",
    "    macro_recall.append(recall_score(y_test, y_pred, average='macro'))\n",
    "    macro_f1.append(f1_score(y_test, y_pred, average='macro'))\n",
    "\n",
    "    micro_precision.append(precision_score(y_test, y_pred, average='micro'))\n",
    "    micro_recall.append(recall_score(y_test, y_pred, average='micro'))\n",
    "    micro_f1.append(f1_score(y_test, y_pred, average='micro'))\n",
    " \n",
    "#     if (name in ['linSVC tfidf']):\n",
    "#         auc.append(roc_auc_score(y_test , model.decision_function(X_test)))\n",
    "#     else:\n",
    "#         auc.append(roc_auc_score(y_test , model.predict_proba(X_test)[:,1]))"
   ]
  },
  {
   "cell_type": "code",
   "execution_count": 1040,
   "metadata": {},
   "outputs": [
    {
     "data": {
      "text/html": [
       "<div>\n",
       "<style scoped>\n",
       "    .dataframe tbody tr th:only-of-type {\n",
       "        vertical-align: middle;\n",
       "    }\n",
       "\n",
       "    .dataframe tbody tr th {\n",
       "        vertical-align: top;\n",
       "    }\n",
       "\n",
       "    .dataframe thead th {\n",
       "        text-align: right;\n",
       "    }\n",
       "</style>\n",
       "<table border=\"1\" class=\"dataframe\">\n",
       "  <thead>\n",
       "    <tr style=\"text-align: right;\">\n",
       "      <th></th>\n",
       "      <th>Method</th>\n",
       "      <th>accuracy_score</th>\n",
       "      <th>hamLoss</th>\n",
       "      <th>macro_precision</th>\n",
       "      <th>micro_precision</th>\n",
       "      <th>macro_recall</th>\n",
       "      <th>micro_recall</th>\n",
       "      <th>macro_f1</th>\n",
       "      <th>micro_f1</th>\n",
       "    </tr>\n",
       "  </thead>\n",
       "  <tbody>\n",
       "    <tr>\n",
       "      <th>0</th>\n",
       "      <td>RF tfidf</td>\n",
       "      <td>0.679695</td>\n",
       "      <td>0.005554</td>\n",
       "      <td>0.445774</td>\n",
       "      <td>0.959309</td>\n",
       "      <td>0.131130</td>\n",
       "      <td>0.623397</td>\n",
       "      <td>0.184037</td>\n",
       "      <td>0.755707</td>\n",
       "    </tr>\n",
       "    <tr>\n",
       "      <th>1</th>\n",
       "      <td>kNN tfidf</td>\n",
       "      <td>0.752236</td>\n",
       "      <td>0.005119</td>\n",
       "      <td>0.619805</td>\n",
       "      <td>0.856623</td>\n",
       "      <td>0.393773</td>\n",
       "      <td>0.754808</td>\n",
       "      <td>0.449770</td>\n",
       "      <td>0.802499</td>\n",
       "    </tr>\n",
       "    <tr>\n",
       "      <th>2</th>\n",
       "      <td>linSVC tfidf</td>\n",
       "      <td>0.814839</td>\n",
       "      <td>0.003323</td>\n",
       "      <td>0.639500</td>\n",
       "      <td>0.946839</td>\n",
       "      <td>0.398712</td>\n",
       "      <td>0.803953</td>\n",
       "      <td>0.469395</td>\n",
       "      <td>0.869565</td>\n",
       "    </tr>\n",
       "    <tr>\n",
       "      <th>3</th>\n",
       "      <td>LP linSVC tfidf`</td>\n",
       "      <td>0.844982</td>\n",
       "      <td>0.003559</td>\n",
       "      <td>0.696936</td>\n",
       "      <td>0.906351</td>\n",
       "      <td>0.494810</td>\n",
       "      <td>0.827190</td>\n",
       "      <td>0.543839</td>\n",
       "      <td>0.864963</td>\n",
       "    </tr>\n",
       "    <tr>\n",
       "      <th>4</th>\n",
       "      <td>MLkNN tfidf`</td>\n",
       "      <td>0.767141</td>\n",
       "      <td>0.004700</td>\n",
       "      <td>0.557589</td>\n",
       "      <td>0.867004</td>\n",
       "      <td>0.406514</td>\n",
       "      <td>0.778312</td>\n",
       "      <td>0.449981</td>\n",
       "      <td>0.820267</td>\n",
       "    </tr>\n",
       "  </tbody>\n",
       "</table>\n",
       "</div>"
      ],
      "text/plain": [
       "             Method  accuracy_score   hamLoss  macro_precision  \\\n",
       "0          RF tfidf        0.679695  0.005554         0.445774   \n",
       "1         kNN tfidf        0.752236  0.005119         0.619805   \n",
       "2      linSVC tfidf        0.814839  0.003323         0.639500   \n",
       "3  LP linSVC tfidf`        0.844982  0.003559         0.696936   \n",
       "4      MLkNN tfidf`        0.767141  0.004700         0.557589   \n",
       "\n",
       "   micro_precision  macro_recall  micro_recall  macro_f1  micro_f1  \n",
       "0         0.959309      0.131130      0.623397  0.184037  0.755707  \n",
       "1         0.856623      0.393773      0.754808  0.449770  0.802499  \n",
       "2         0.946839      0.398712      0.803953  0.469395  0.869565  \n",
       "3         0.906351      0.494810      0.827190  0.543839  0.864963  \n",
       "4         0.867004      0.406514      0.778312  0.449981  0.820267  "
      ]
     },
     "execution_count": 1040,
     "metadata": {},
     "output_type": "execute_result"
    }
   ],
   "source": [
    "d = {'accuracy_score': accuracy, \n",
    "     'hamLoss': hamLoss, \n",
    "     'macro_precision': macro_precision,\n",
    "     'micro_precision': micro_precision,\n",
    "     'macro_recall' : macro_recall,\n",
    "     'micro_recall' : micro_recall,\n",
    "     'macro_f1' : macro_f1,\n",
    "     'micro_f1' : micro_f1\n",
    "#      'roc_auc_score' : roc_auc_score\n",
    "    }\n",
    "\n",
    "df = pd.DataFrame(data=d)\n",
    "name, _ = zip(*models)\n",
    "df.insert(loc=0, column='Method', value=name)\n",
    "df"
   ]
  },
  {
   "cell_type": "markdown",
   "metadata": {},
   "source": [
    "### Take the best classifier and search over tfidf params:"
   ]
  },
  {
   "cell_type": "code",
   "execution_count": 819,
   "metadata": {
    "scrolled": true
   },
   "outputs": [
    {
     "name": "stderr",
     "output_type": "stream",
     "text": [
      "C:\\Users\\prad8002\\.conda\\envs\\py37\\lib\\site-packages\\sklearn\\multiclass.py:76: UserWarning: Label not 5 is present in all training examples.\n",
      "  str(classes[c]))\n",
      "C:\\Users\\prad8002\\.conda\\envs\\py37\\lib\\site-packages\\sklearn\\multiclass.py:76: UserWarning: Label not 51 is present in all training examples.\n",
      "  str(classes[c]))\n",
      "C:\\Users\\prad8002\\.conda\\envs\\py37\\lib\\site-packages\\sklearn\\multiclass.py:76: UserWarning: Label not 79 is present in all training examples.\n",
      "  str(classes[c]))\n",
      "C:\\Users\\prad8002\\.conda\\envs\\py37\\lib\\site-packages\\sklearn\\multiclass.py:76: UserWarning: Label not 11 is present in all training examples.\n",
      "  str(classes[c]))\n",
      "C:\\Users\\prad8002\\.conda\\envs\\py37\\lib\\site-packages\\sklearn\\multiclass.py:76: UserWarning: Label not 28 is present in all training examples.\n",
      "  str(classes[c]))\n",
      "C:\\Users\\prad8002\\.conda\\envs\\py37\\lib\\site-packages\\sklearn\\multiclass.py:76: UserWarning: Label not 56 is present in all training examples.\n",
      "  str(classes[c]))\n",
      "C:\\Users\\prad8002\\.conda\\envs\\py37\\lib\\site-packages\\sklearn\\multiclass.py:76: UserWarning: Label not 14 is present in all training examples.\n",
      "  str(classes[c]))\n",
      "C:\\Users\\prad8002\\.conda\\envs\\py37\\lib\\site-packages\\sklearn\\multiclass.py:76: UserWarning: Label not 16 is present in all training examples.\n",
      "  str(classes[c]))\n",
      "C:\\Users\\prad8002\\.conda\\envs\\py37\\lib\\site-packages\\sklearn\\multiclass.py:76: UserWarning: Label not 42 is present in all training examples.\n",
      "  str(classes[c]))\n",
      "C:\\Users\\prad8002\\.conda\\envs\\py37\\lib\\site-packages\\sklearn\\multiclass.py:76: UserWarning: Label not 48 is present in all training examples.\n",
      "  str(classes[c]))\n",
      "C:\\Users\\prad8002\\.conda\\envs\\py37\\lib\\site-packages\\sklearn\\multiclass.py:76: UserWarning: Label not 70 is present in all training examples.\n",
      "  str(classes[c]))\n",
      "C:\\Users\\prad8002\\.conda\\envs\\py37\\lib\\site-packages\\sklearn\\multiclass.py:76: UserWarning: Label not 5 is present in all training examples.\n",
      "  str(classes[c]))\n",
      "C:\\Users\\prad8002\\.conda\\envs\\py37\\lib\\site-packages\\sklearn\\multiclass.py:76: UserWarning: Label not 51 is present in all training examples.\n",
      "  str(classes[c]))\n",
      "C:\\Users\\prad8002\\.conda\\envs\\py37\\lib\\site-packages\\sklearn\\multiclass.py:76: UserWarning: Label not 79 is present in all training examples.\n",
      "  str(classes[c]))\n",
      "C:\\Users\\prad8002\\.conda\\envs\\py37\\lib\\site-packages\\sklearn\\multiclass.py:76: UserWarning: Label not 11 is present in all training examples.\n",
      "  str(classes[c]))\n",
      "C:\\Users\\prad8002\\.conda\\envs\\py37\\lib\\site-packages\\sklearn\\multiclass.py:76: UserWarning: Label not 28 is present in all training examples.\n",
      "  str(classes[c]))\n",
      "C:\\Users\\prad8002\\.conda\\envs\\py37\\lib\\site-packages\\sklearn\\multiclass.py:76: UserWarning: Label not 56 is present in all training examples.\n",
      "  str(classes[c]))\n",
      "C:\\Users\\prad8002\\.conda\\envs\\py37\\lib\\site-packages\\sklearn\\multiclass.py:76: UserWarning: Label not 14 is present in all training examples.\n",
      "  str(classes[c]))\n",
      "C:\\Users\\prad8002\\.conda\\envs\\py37\\lib\\site-packages\\sklearn\\multiclass.py:76: UserWarning: Label not 16 is present in all training examples.\n",
      "  str(classes[c]))\n",
      "C:\\Users\\prad8002\\.conda\\envs\\py37\\lib\\site-packages\\sklearn\\multiclass.py:76: UserWarning: Label not 42 is present in all training examples.\n",
      "  str(classes[c]))\n",
      "C:\\Users\\prad8002\\.conda\\envs\\py37\\lib\\site-packages\\sklearn\\multiclass.py:76: UserWarning: Label not 48 is present in all training examples.\n",
      "  str(classes[c]))\n",
      "C:\\Users\\prad8002\\.conda\\envs\\py37\\lib\\site-packages\\sklearn\\multiclass.py:76: UserWarning: Label not 70 is present in all training examples.\n",
      "  str(classes[c]))\n",
      "C:\\Users\\prad8002\\.conda\\envs\\py37\\lib\\site-packages\\sklearn\\multiclass.py:76: UserWarning: Label not 5 is present in all training examples.\n",
      "  str(classes[c]))\n",
      "C:\\Users\\prad8002\\.conda\\envs\\py37\\lib\\site-packages\\sklearn\\multiclass.py:76: UserWarning: Label not 51 is present in all training examples.\n",
      "  str(classes[c]))\n",
      "C:\\Users\\prad8002\\.conda\\envs\\py37\\lib\\site-packages\\sklearn\\multiclass.py:76: UserWarning: Label not 79 is present in all training examples.\n",
      "  str(classes[c]))\n",
      "C:\\Users\\prad8002\\.conda\\envs\\py37\\lib\\site-packages\\sklearn\\multiclass.py:76: UserWarning: Label not 11 is present in all training examples.\n",
      "  str(classes[c]))\n",
      "C:\\Users\\prad8002\\.conda\\envs\\py37\\lib\\site-packages\\sklearn\\multiclass.py:76: UserWarning: Label not 28 is present in all training examples.\n",
      "  str(classes[c]))\n",
      "C:\\Users\\prad8002\\.conda\\envs\\py37\\lib\\site-packages\\sklearn\\multiclass.py:76: UserWarning: Label not 56 is present in all training examples.\n",
      "  str(classes[c]))\n",
      "C:\\Users\\prad8002\\.conda\\envs\\py37\\lib\\site-packages\\sklearn\\multiclass.py:76: UserWarning: Label not 14 is present in all training examples.\n",
      "  str(classes[c]))\n",
      "C:\\Users\\prad8002\\.conda\\envs\\py37\\lib\\site-packages\\sklearn\\multiclass.py:76: UserWarning: Label not 16 is present in all training examples.\n",
      "  str(classes[c]))\n",
      "C:\\Users\\prad8002\\.conda\\envs\\py37\\lib\\site-packages\\sklearn\\multiclass.py:76: UserWarning: Label not 42 is present in all training examples.\n",
      "  str(classes[c]))\n",
      "C:\\Users\\prad8002\\.conda\\envs\\py37\\lib\\site-packages\\sklearn\\multiclass.py:76: UserWarning: Label not 48 is present in all training examples.\n",
      "  str(classes[c]))\n",
      "C:\\Users\\prad8002\\.conda\\envs\\py37\\lib\\site-packages\\sklearn\\multiclass.py:76: UserWarning: Label not 70 is present in all training examples.\n",
      "  str(classes[c]))\n",
      "C:\\Users\\prad8002\\.conda\\envs\\py37\\lib\\site-packages\\sklearn\\multiclass.py:76: UserWarning: Label not 5 is present in all training examples.\n",
      "  str(classes[c]))\n",
      "C:\\Users\\prad8002\\.conda\\envs\\py37\\lib\\site-packages\\sklearn\\multiclass.py:76: UserWarning: Label not 51 is present in all training examples.\n",
      "  str(classes[c]))\n",
      "C:\\Users\\prad8002\\.conda\\envs\\py37\\lib\\site-packages\\sklearn\\multiclass.py:76: UserWarning: Label not 79 is present in all training examples.\n",
      "  str(classes[c]))\n",
      "C:\\Users\\prad8002\\.conda\\envs\\py37\\lib\\site-packages\\sklearn\\multiclass.py:76: UserWarning: Label not 11 is present in all training examples.\n",
      "  str(classes[c]))\n",
      "C:\\Users\\prad8002\\.conda\\envs\\py37\\lib\\site-packages\\sklearn\\multiclass.py:76: UserWarning: Label not 28 is present in all training examples.\n",
      "  str(classes[c]))\n",
      "C:\\Users\\prad8002\\.conda\\envs\\py37\\lib\\site-packages\\sklearn\\multiclass.py:76: UserWarning: Label not 56 is present in all training examples.\n",
      "  str(classes[c]))\n",
      "C:\\Users\\prad8002\\.conda\\envs\\py37\\lib\\site-packages\\sklearn\\multiclass.py:76: UserWarning: Label not 14 is present in all training examples.\n",
      "  str(classes[c]))\n",
      "C:\\Users\\prad8002\\.conda\\envs\\py37\\lib\\site-packages\\sklearn\\multiclass.py:76: UserWarning: Label not 16 is present in all training examples.\n",
      "  str(classes[c]))\n",
      "C:\\Users\\prad8002\\.conda\\envs\\py37\\lib\\site-packages\\sklearn\\multiclass.py:76: UserWarning: Label not 42 is present in all training examples.\n",
      "  str(classes[c]))\n",
      "C:\\Users\\prad8002\\.conda\\envs\\py37\\lib\\site-packages\\sklearn\\multiclass.py:76: UserWarning: Label not 48 is present in all training examples.\n",
      "  str(classes[c]))\n",
      "C:\\Users\\prad8002\\.conda\\envs\\py37\\lib\\site-packages\\sklearn\\multiclass.py:76: UserWarning: Label not 70 is present in all training examples.\n",
      "  str(classes[c]))\n",
      "C:\\Users\\prad8002\\.conda\\envs\\py37\\lib\\site-packages\\sklearn\\multiclass.py:76: UserWarning: Label not 5 is present in all training examples.\n",
      "  str(classes[c]))\n",
      "C:\\Users\\prad8002\\.conda\\envs\\py37\\lib\\site-packages\\sklearn\\multiclass.py:76: UserWarning: Label not 51 is present in all training examples.\n",
      "  str(classes[c]))\n",
      "C:\\Users\\prad8002\\.conda\\envs\\py37\\lib\\site-packages\\sklearn\\multiclass.py:76: UserWarning: Label not 79 is present in all training examples.\n",
      "  str(classes[c]))\n",
      "C:\\Users\\prad8002\\.conda\\envs\\py37\\lib\\site-packages\\sklearn\\multiclass.py:76: UserWarning: Label not 11 is present in all training examples.\n",
      "  str(classes[c]))\n",
      "C:\\Users\\prad8002\\.conda\\envs\\py37\\lib\\site-packages\\sklearn\\multiclass.py:76: UserWarning: Label not 28 is present in all training examples.\n",
      "  str(classes[c]))\n",
      "C:\\Users\\prad8002\\.conda\\envs\\py37\\lib\\site-packages\\sklearn\\multiclass.py:76: UserWarning: Label not 56 is present in all training examples.\n",
      "  str(classes[c]))\n",
      "C:\\Users\\prad8002\\.conda\\envs\\py37\\lib\\site-packages\\sklearn\\multiclass.py:76: UserWarning: Label not 14 is present in all training examples.\n",
      "  str(classes[c]))\n",
      "C:\\Users\\prad8002\\.conda\\envs\\py37\\lib\\site-packages\\sklearn\\multiclass.py:76: UserWarning: Label not 16 is present in all training examples.\n",
      "  str(classes[c]))\n"
     ]
    },
    {
     "name": "stderr",
     "output_type": "stream",
     "text": [
      "C:\\Users\\prad8002\\.conda\\envs\\py37\\lib\\site-packages\\sklearn\\multiclass.py:76: UserWarning: Label not 42 is present in all training examples.\n",
      "  str(classes[c]))\n",
      "C:\\Users\\prad8002\\.conda\\envs\\py37\\lib\\site-packages\\sklearn\\multiclass.py:76: UserWarning: Label not 48 is present in all training examples.\n",
      "  str(classes[c]))\n",
      "C:\\Users\\prad8002\\.conda\\envs\\py37\\lib\\site-packages\\sklearn\\multiclass.py:76: UserWarning: Label not 70 is present in all training examples.\n",
      "  str(classes[c]))\n",
      "C:\\Users\\prad8002\\.conda\\envs\\py37\\lib\\site-packages\\sklearn\\multiclass.py:76: UserWarning: Label not 5 is present in all training examples.\n",
      "  str(classes[c]))\n",
      "C:\\Users\\prad8002\\.conda\\envs\\py37\\lib\\site-packages\\sklearn\\multiclass.py:76: UserWarning: Label not 51 is present in all training examples.\n",
      "  str(classes[c]))\n",
      "C:\\Users\\prad8002\\.conda\\envs\\py37\\lib\\site-packages\\sklearn\\multiclass.py:76: UserWarning: Label not 79 is present in all training examples.\n",
      "  str(classes[c]))\n",
      "C:\\Users\\prad8002\\.conda\\envs\\py37\\lib\\site-packages\\sklearn\\multiclass.py:76: UserWarning: Label not 11 is present in all training examples.\n",
      "  str(classes[c]))\n",
      "C:\\Users\\prad8002\\.conda\\envs\\py37\\lib\\site-packages\\sklearn\\multiclass.py:76: UserWarning: Label not 28 is present in all training examples.\n",
      "  str(classes[c]))\n",
      "C:\\Users\\prad8002\\.conda\\envs\\py37\\lib\\site-packages\\sklearn\\multiclass.py:76: UserWarning: Label not 56 is present in all training examples.\n",
      "  str(classes[c]))\n",
      "C:\\Users\\prad8002\\.conda\\envs\\py37\\lib\\site-packages\\sklearn\\multiclass.py:76: UserWarning: Label not 14 is present in all training examples.\n",
      "  str(classes[c]))\n",
      "C:\\Users\\prad8002\\.conda\\envs\\py37\\lib\\site-packages\\sklearn\\multiclass.py:76: UserWarning: Label not 16 is present in all training examples.\n",
      "  str(classes[c]))\n",
      "C:\\Users\\prad8002\\.conda\\envs\\py37\\lib\\site-packages\\sklearn\\multiclass.py:76: UserWarning: Label not 42 is present in all training examples.\n",
      "  str(classes[c]))\n",
      "C:\\Users\\prad8002\\.conda\\envs\\py37\\lib\\site-packages\\sklearn\\multiclass.py:76: UserWarning: Label not 48 is present in all training examples.\n",
      "  str(classes[c]))\n",
      "C:\\Users\\prad8002\\.conda\\envs\\py37\\lib\\site-packages\\sklearn\\multiclass.py:76: UserWarning: Label not 70 is present in all training examples.\n",
      "  str(classes[c]))\n",
      "C:\\Users\\prad8002\\.conda\\envs\\py37\\lib\\site-packages\\sklearn\\multiclass.py:76: UserWarning: Label not 5 is present in all training examples.\n",
      "  str(classes[c]))\n",
      "C:\\Users\\prad8002\\.conda\\envs\\py37\\lib\\site-packages\\sklearn\\multiclass.py:76: UserWarning: Label not 51 is present in all training examples.\n",
      "  str(classes[c]))\n",
      "C:\\Users\\prad8002\\.conda\\envs\\py37\\lib\\site-packages\\sklearn\\multiclass.py:76: UserWarning: Label not 79 is present in all training examples.\n",
      "  str(classes[c]))\n",
      "C:\\Users\\prad8002\\.conda\\envs\\py37\\lib\\site-packages\\sklearn\\multiclass.py:76: UserWarning: Label not 11 is present in all training examples.\n",
      "  str(classes[c]))\n",
      "C:\\Users\\prad8002\\.conda\\envs\\py37\\lib\\site-packages\\sklearn\\multiclass.py:76: UserWarning: Label not 28 is present in all training examples.\n",
      "  str(classes[c]))\n",
      "C:\\Users\\prad8002\\.conda\\envs\\py37\\lib\\site-packages\\sklearn\\multiclass.py:76: UserWarning: Label not 56 is present in all training examples.\n",
      "  str(classes[c]))\n",
      "C:\\Users\\prad8002\\.conda\\envs\\py37\\lib\\site-packages\\sklearn\\multiclass.py:76: UserWarning: Label not 14 is present in all training examples.\n",
      "  str(classes[c]))\n",
      "C:\\Users\\prad8002\\.conda\\envs\\py37\\lib\\site-packages\\sklearn\\multiclass.py:76: UserWarning: Label not 16 is present in all training examples.\n",
      "  str(classes[c]))\n",
      "C:\\Users\\prad8002\\.conda\\envs\\py37\\lib\\site-packages\\sklearn\\multiclass.py:76: UserWarning: Label not 42 is present in all training examples.\n",
      "  str(classes[c]))\n",
      "C:\\Users\\prad8002\\.conda\\envs\\py37\\lib\\site-packages\\sklearn\\multiclass.py:76: UserWarning: Label not 48 is present in all training examples.\n",
      "  str(classes[c]))\n",
      "C:\\Users\\prad8002\\.conda\\envs\\py37\\lib\\site-packages\\sklearn\\multiclass.py:76: UserWarning: Label not 70 is present in all training examples.\n",
      "  str(classes[c]))\n",
      "C:\\Users\\prad8002\\.conda\\envs\\py37\\lib\\site-packages\\sklearn\\multiclass.py:76: UserWarning: Label not 5 is present in all training examples.\n",
      "  str(classes[c]))\n",
      "C:\\Users\\prad8002\\.conda\\envs\\py37\\lib\\site-packages\\sklearn\\multiclass.py:76: UserWarning: Label not 51 is present in all training examples.\n",
      "  str(classes[c]))\n",
      "C:\\Users\\prad8002\\.conda\\envs\\py37\\lib\\site-packages\\sklearn\\multiclass.py:76: UserWarning: Label not 79 is present in all training examples.\n",
      "  str(classes[c]))\n",
      "C:\\Users\\prad8002\\.conda\\envs\\py37\\lib\\site-packages\\sklearn\\multiclass.py:76: UserWarning: Label not 11 is present in all training examples.\n",
      "  str(classes[c]))\n",
      "C:\\Users\\prad8002\\.conda\\envs\\py37\\lib\\site-packages\\sklearn\\multiclass.py:76: UserWarning: Label not 28 is present in all training examples.\n",
      "  str(classes[c]))\n",
      "C:\\Users\\prad8002\\.conda\\envs\\py37\\lib\\site-packages\\sklearn\\multiclass.py:76: UserWarning: Label not 56 is present in all training examples.\n",
      "  str(classes[c]))\n",
      "C:\\Users\\prad8002\\.conda\\envs\\py37\\lib\\site-packages\\sklearn\\multiclass.py:76: UserWarning: Label not 14 is present in all training examples.\n",
      "  str(classes[c]))\n",
      "C:\\Users\\prad8002\\.conda\\envs\\py37\\lib\\site-packages\\sklearn\\multiclass.py:76: UserWarning: Label not 16 is present in all training examples.\n",
      "  str(classes[c]))\n",
      "C:\\Users\\prad8002\\.conda\\envs\\py37\\lib\\site-packages\\sklearn\\multiclass.py:76: UserWarning: Label not 42 is present in all training examples.\n",
      "  str(classes[c]))\n",
      "C:\\Users\\prad8002\\.conda\\envs\\py37\\lib\\site-packages\\sklearn\\multiclass.py:76: UserWarning: Label not 48 is present in all training examples.\n",
      "  str(classes[c]))\n",
      "C:\\Users\\prad8002\\.conda\\envs\\py37\\lib\\site-packages\\sklearn\\multiclass.py:76: UserWarning: Label not 70 is present in all training examples.\n",
      "  str(classes[c]))\n",
      "C:\\Users\\prad8002\\.conda\\envs\\py37\\lib\\site-packages\\sklearn\\multiclass.py:76: UserWarning: Label not 5 is present in all training examples.\n",
      "  str(classes[c]))\n",
      "C:\\Users\\prad8002\\.conda\\envs\\py37\\lib\\site-packages\\sklearn\\multiclass.py:76: UserWarning: Label not 51 is present in all training examples.\n",
      "  str(classes[c]))\n",
      "C:\\Users\\prad8002\\.conda\\envs\\py37\\lib\\site-packages\\sklearn\\multiclass.py:76: UserWarning: Label not 79 is present in all training examples.\n",
      "  str(classes[c]))\n",
      "C:\\Users\\prad8002\\.conda\\envs\\py37\\lib\\site-packages\\sklearn\\multiclass.py:76: UserWarning: Label not 11 is present in all training examples.\n",
      "  str(classes[c]))\n",
      "C:\\Users\\prad8002\\.conda\\envs\\py37\\lib\\site-packages\\sklearn\\multiclass.py:76: UserWarning: Label not 28 is present in all training examples.\n",
      "  str(classes[c]))\n",
      "C:\\Users\\prad8002\\.conda\\envs\\py37\\lib\\site-packages\\sklearn\\multiclass.py:76: UserWarning: Label not 56 is present in all training examples.\n",
      "  str(classes[c]))\n",
      "C:\\Users\\prad8002\\.conda\\envs\\py37\\lib\\site-packages\\sklearn\\multiclass.py:76: UserWarning: Label not 14 is present in all training examples.\n",
      "  str(classes[c]))\n",
      "C:\\Users\\prad8002\\.conda\\envs\\py37\\lib\\site-packages\\sklearn\\multiclass.py:76: UserWarning: Label not 16 is present in all training examples.\n",
      "  str(classes[c]))\n",
      "C:\\Users\\prad8002\\.conda\\envs\\py37\\lib\\site-packages\\sklearn\\multiclass.py:76: UserWarning: Label not 42 is present in all training examples.\n",
      "  str(classes[c]))\n",
      "C:\\Users\\prad8002\\.conda\\envs\\py37\\lib\\site-packages\\sklearn\\multiclass.py:76: UserWarning: Label not 48 is present in all training examples.\n",
      "  str(classes[c]))\n",
      "C:\\Users\\prad8002\\.conda\\envs\\py37\\lib\\site-packages\\sklearn\\multiclass.py:76: UserWarning: Label not 70 is present in all training examples.\n",
      "  str(classes[c]))\n",
      "C:\\Users\\prad8002\\.conda\\envs\\py37\\lib\\site-packages\\sklearn\\multiclass.py:76: UserWarning: Label not 5 is present in all training examples.\n",
      "  str(classes[c]))\n",
      "C:\\Users\\prad8002\\.conda\\envs\\py37\\lib\\site-packages\\sklearn\\multiclass.py:76: UserWarning: Label not 51 is present in all training examples.\n",
      "  str(classes[c]))\n",
      "C:\\Users\\prad8002\\.conda\\envs\\py37\\lib\\site-packages\\sklearn\\multiclass.py:76: UserWarning: Label not 79 is present in all training examples.\n",
      "  str(classes[c]))\n",
      "C:\\Users\\prad8002\\.conda\\envs\\py37\\lib\\site-packages\\sklearn\\multiclass.py:76: UserWarning: Label not 11 is present in all training examples.\n",
      "  str(classes[c]))\n"
     ]
    },
    {
     "name": "stderr",
     "output_type": "stream",
     "text": [
      "C:\\Users\\prad8002\\.conda\\envs\\py37\\lib\\site-packages\\sklearn\\multiclass.py:76: UserWarning: Label not 28 is present in all training examples.\n",
      "  str(classes[c]))\n",
      "C:\\Users\\prad8002\\.conda\\envs\\py37\\lib\\site-packages\\sklearn\\multiclass.py:76: UserWarning: Label not 56 is present in all training examples.\n",
      "  str(classes[c]))\n",
      "C:\\Users\\prad8002\\.conda\\envs\\py37\\lib\\site-packages\\sklearn\\multiclass.py:76: UserWarning: Label not 14 is present in all training examples.\n",
      "  str(classes[c]))\n",
      "C:\\Users\\prad8002\\.conda\\envs\\py37\\lib\\site-packages\\sklearn\\multiclass.py:76: UserWarning: Label not 16 is present in all training examples.\n",
      "  str(classes[c]))\n",
      "C:\\Users\\prad8002\\.conda\\envs\\py37\\lib\\site-packages\\sklearn\\multiclass.py:76: UserWarning: Label not 42 is present in all training examples.\n",
      "  str(classes[c]))\n",
      "C:\\Users\\prad8002\\.conda\\envs\\py37\\lib\\site-packages\\sklearn\\multiclass.py:76: UserWarning: Label not 48 is present in all training examples.\n",
      "  str(classes[c]))\n",
      "C:\\Users\\prad8002\\.conda\\envs\\py37\\lib\\site-packages\\sklearn\\multiclass.py:76: UserWarning: Label not 70 is present in all training examples.\n",
      "  str(classes[c]))\n"
     ]
    },
    {
     "name": "stdout",
     "output_type": "stream",
     "text": [
      "Best params: {'vectorizer__max_df': 0.6, 'vectorizer__min_df': 1, 'vectorizer__ngram_range': (1, 1)}\n",
      "Train accuracy: 0.9764448448963831\n",
      "Test accuracy: 0.8148393507784034\n"
     ]
    }
   ],
   "source": [
    "pipe = Pipeline(steps=[\n",
    "    ('vectorizer',  TfidfVectorizer()),\n",
    "    ('clf', OneVsRestClassifier(LinearSVC(max_iter = 10000)))\n",
    "])\n",
    "\n",
    "param_grid = {\n",
    "    'vectorizer__min_df' : [1],\n",
    "    'vectorizer__max_df' : [0.5, 0.6, 0.7, 5, 10],\n",
    "    'vectorizer__ngram_range' : [(1,1), (1,2)]\n",
    "#     'clf__estimator__C': [1]\n",
    "}\n",
    "\n",
    "grid_LinSVC_tfidf_minmax = GridSearchCV(pipe, param_grid, cv=5, n_jobs=-1, return_train_score=True, verbose=1)\n",
    "grid_LinSVC_tfidf_minmax.fit(X_train, y_train)\n",
    "\n",
    "print(f\"Best params: {grid_LinSVC_tfidf_minmax.best_params_}\")\n",
    "print(f\"Train accuracy: {grid_LinSVC_tfidf_minmax.score(X_train, y_train)}\")\n",
    "print(f\"Test accuracy: {grid_LinSVC_tfidf_minmax.score(X_test, y_test)}\")"
   ]
  },
  {
   "cell_type": "code",
   "execution_count": 820,
   "metadata": {},
   "outputs": [
    {
     "name": "stdout",
     "output_type": "stream",
     "text": [
      "------LP_LinSVC_tfidf Model Metrics-----\n",
      "Accuracy: 0.8148\n",
      "Hamming Loss: 0.0034\n",
      "Precision:\n",
      "  - Macro: 0.6281\n",
      "  - Micro: 0.9458\n",
      "Recall:\n",
      "  - Macro: 0.3927\n",
      "  - Micro: 0.8018\n",
      "F1-measure:\n",
      "  - Macro: 0.4624\n",
      "  - Micro: 0.8679\n"
     ]
    },
    {
     "name": "stderr",
     "output_type": "stream",
     "text": [
      "C:\\Users\\prad8002\\.conda\\envs\\py37\\lib\\site-packages\\sklearn\\metrics\\classification.py:1437: UndefinedMetricWarning: Precision is ill-defined and being set to 0.0 in labels with no predicted samples.\n",
      "  'precision', 'predicted', average, warn_for)\n",
      "C:\\Users\\prad8002\\.conda\\envs\\py37\\lib\\site-packages\\sklearn\\metrics\\classification.py:1437: UndefinedMetricWarning: F-score is ill-defined and being set to 0.0 in labels with no predicted samples.\n",
      "  'precision', 'predicted', average, warn_for)\n"
     ]
    }
   ],
   "source": [
    "y_pred = grid_LinSVC_tfidf_minmax.best_estimator_.predict(X_test)\n",
    "metricsReport('LP_LinSVC_tfidf', y_test, y_pred)"
   ]
  },
  {
   "cell_type": "markdown",
   "metadata": {},
   "source": [
    "#### Changing tfidf min/max params has minor influence on results"
   ]
  },
  {
   "cell_type": "code",
   "execution_count": 831,
   "metadata": {},
   "outputs": [],
   "source": [
    "from sklearn.neural_network import MLPClassifier"
   ]
  },
  {
   "cell_type": "code",
   "execution_count": 840,
   "metadata": {},
   "outputs": [
    {
     "name": "stdout",
     "output_type": "stream",
     "text": [
      "Fitting 5 folds for each of 1 candidates, totalling 5 fits\n"
     ]
    },
    {
     "name": "stderr",
     "output_type": "stream",
     "text": [
      "[Parallel(n_jobs=-1)]: Using backend LokyBackend with 4 concurrent workers.\n",
      "[Parallel(n_jobs=-1)]: Done   5 out of   5 | elapsed:  1.1min finished\n",
      "C:\\Users\\prad8002\\.conda\\envs\\py37\\lib\\site-packages\\sklearn\\neural_network\\multilayer_perceptron.py:566: ConvergenceWarning: Stochastic Optimizer: Maximum iterations (200) reached and the optimization hasn't converged yet.\n",
      "  % self.max_iter, ConvergenceWarning)\n"
     ]
    },
    {
     "name": "stdout",
     "output_type": "stream",
     "text": [
      "Best params: {}\n",
      "Train accuracy: 0.6416527223580899\n",
      "Test accuracy: 0.5531632991056641\n"
     ]
    }
   ],
   "source": [
    "pipe = Pipeline(steps=[\n",
    "    ('vectorizer',  TfidfVectorizer()),\n",
    "    ('clf', MLPClassifier(hidden_layer_sizes=3, max_iter=1000))\n",
    "])\n",
    "\n",
    "param_grid = {\n",
    "#     'vectorizer__min_df' : [1],\n",
    "#     'vectorizer__max_df' : [0.5, 0.6, 0.7, 5, 10],\n",
    "#     'vectorizer__ngram_range' : [(1,1), (1,2)]\n",
    "# #     'clf__estimator__C': [1]\n",
    "}\n",
    "\n",
    "grid_MLP_tfidf = GridSearchCV(pipe, param_grid, cv=5, n_jobs=-1, return_train_score=True, verbose=1)\n",
    "grid_MLP_tfidf.fit(X_train, y_train)\n",
    "\n",
    "print(f\"Best params: {grid_MLP_tfidf.best_params_}\")\n",
    "print(f\"Train accuracy: {grid_MLP_tfidf.score(X_train, y_train)}\")\n",
    "print(f\"Test accuracy: {grid_MLP_tfidf.score(X_test, y_test)}\")"
   ]
  },
  {
   "cell_type": "code",
   "execution_count": 842,
   "metadata": {},
   "outputs": [
    {
     "name": "stdout",
     "output_type": "stream",
     "text": [
      "------MLP_tfidf Model Metrics-----\n",
      "Accuracy: 0.5532\n",
      "Hamming Loss: 0.0075\n",
      "Precision:\n",
      "  - Macro: 0.0884\n",
      "  - Micro: 0.9128\n",
      "Recall:\n",
      "  - Macro: 0.0447\n",
      "  - Micro: 0.5061\n",
      "F1-measure:\n",
      "  - Macro: 0.0516\n",
      "  - Micro: 0.6512\n"
     ]
    }
   ],
   "source": [
    "y_pred = grid_MLP_tfidf.best_estimator_.predict(X_test)\n",
    "metricsReport('MLP_tfidf', y_test, y_pred)"
   ]
  },
  {
   "cell_type": "code",
   "execution_count": null,
   "metadata": {},
   "outputs": [],
   "source": []
  },
  {
   "cell_type": "markdown",
   "metadata": {},
   "source": [
    "# Try to use Doc2Vec instead of TfIdf "
   ]
  },
  {
   "cell_type": "markdown",
   "metadata": {},
   "source": [
    "### Linear SVC"
   ]
  },
  {
   "cell_type": "code",
   "execution_count": 731,
   "metadata": {},
   "outputs": [
    {
     "name": "stdout",
     "output_type": "stream",
     "text": [
      "Fitting 5 folds for each of 3 candidates, totalling 15 fits\n"
     ]
    },
    {
     "name": "stderr",
     "output_type": "stream",
     "text": [
      "[Parallel(n_jobs=-1)]: Using backend LokyBackend with 4 concurrent workers.\n",
      "[Parallel(n_jobs=-1)]: Done  15 out of  15 | elapsed: 15.4min finished\n"
     ]
    },
    {
     "name": "stdout",
     "output_type": "stream",
     "text": [
      "Best params: {'clf__estimator__C': 0.1}\n",
      "Train accuracy: 0.6214442013129103\n",
      "Test accuracy: 0.40642596886386223\n"
     ]
    }
   ],
   "source": [
    "# The input data is already pre-processed and vectorized, so we will apply only classifier:\n",
    "pipe = Pipeline(steps=[\n",
    "    ('clf', OneVsRestClassifier(LinearSVC(max_iter = 10000)))\n",
    "])\n",
    "\n",
    "param_grid = {\n",
    "#      'clf__estimator__C': [0.1, 1, 10]\n",
    "}\n",
    "\n",
    "grid_LinSVC_d2v = GridSearchCV(pipe, param_grid, cv=5, n_jobs=-1, return_train_score=True, verbose=2)\n",
    "grid_LinSVC_d2v.fit(X_train_D2V, y_train)\n",
    "\n",
    "print(f\"Best params: {grid_LinSVC_d2v.best_params_}\")\n",
    "print(f\"Train accuracy: {grid_LinSVC_d2v.score(X_train_D2V, y_train)}\")\n",
    "print(f\"Test accuracy: {grid_LinSVC_d2v.score(X_test_D2V, y_test)}\")"
   ]
  },
  {
   "cell_type": "code",
   "execution_count": 732,
   "metadata": {
    "scrolled": true
   },
   "outputs": [
    {
     "name": "stderr",
     "output_type": "stream",
     "text": [
      "C:\\Users\\prad8002\\.conda\\envs\\py37\\lib\\site-packages\\sklearn\\metrics\\classification.py:1437: UndefinedMetricWarning: Precision is ill-defined and being set to 0.0 in labels with no predicted samples.\n",
      "  'precision', 'predicted', average, warn_for)\n",
      "C:\\Users\\prad8002\\.conda\\envs\\py37\\lib\\site-packages\\sklearn\\metrics\\classification.py:1437: UndefinedMetricWarning: F-score is ill-defined and being set to 0.0 in labels with no predicted samples.\n",
      "  'precision', 'predicted', average, warn_for)\n"
     ]
    },
    {
     "name": "stdout",
     "output_type": "stream",
     "text": [
      "------LinSVC Doc2Vec Model Metrics-----\n",
      "Accuracy: 0.4064\n",
      "Hamming Loss: 0.0192\n",
      "Precision:\n",
      "  - Macro: 0.1649\n",
      "  - Micro: 0.3989\n",
      "Recall:\n",
      "  - Macro: 0.4369\n",
      "  - Micro: 0.7743\n",
      "F1-measure:\n",
      "  - Macro: 0.2178\n",
      "  - Micro: 0.5266\n"
     ]
    }
   ],
   "source": [
    "y_pred = grid_LinSVC_d2v.best_estimator_.predict(X_test_D2V)\n",
    "metricsReport('LinSVC Doc2Vec', y_test, y_pred)"
   ]
  },
  {
   "cell_type": "code",
   "execution_count": null,
   "metadata": {},
   "outputs": [],
   "source": []
  },
  {
   "cell_type": "code",
   "execution_count": 712,
   "metadata": {},
   "outputs": [
    {
     "data": {
      "text/plain": [
       "array([ 702,    0,    0,    8,    0,    0,    0,    0,    0,   14,    0,\n",
       "          0,   36,    0,    0,    6,    0,  168,    0,   21,    0, 1097,\n",
       "          0,    0,   12,    1,  137,    0,    0,    0,    0,    0,    0,\n",
       "          0,   60,    0,    0,    0,    0,    0,    0,    0,    0,    0,\n",
       "          0,    0,  214,   11,    0,    5,    0,    0,    0,    0,   13,\n",
       "          0,    0,    0,    0,    0,    0,    0,    0,    0,    0,    0,\n",
       "          0,    0,    0,    0,    0,   24,    0,    0,    0,    0,    3,\n",
       "          0,   28,    0,    0,    0,    0,    0,   86,    8,   62,    0,\n",
       "          0,    0])"
      ]
     },
     "execution_count": 712,
     "metadata": {},
     "output_type": "execute_result"
    }
   ],
   "source": [
    "sum((y_pred))"
   ]
  },
  {
   "cell_type": "code",
   "execution_count": 713,
   "metadata": {},
   "outputs": [
    {
     "data": {
      "text/plain": [
       "array([ 719,   23,   14,   30,   18,    1,   18,    2,    3,   28,   18,\n",
       "          1,   56,   20,    2,   28,    1,  189,    1,   44,    4, 1087,\n",
       "         10,   17,   35,   30,  149,    4,    1,    5,    6,    4,    7,\n",
       "          1,  131,   12,   14,    1,   21,    2,   14,    3,    1,   24,\n",
       "          6,   19,  179,   34,    4,   30,    1,    2,    2,    6,   47,\n",
       "         11,    1,   10,    1,   12,    7,    3,    3,    1,    3,    9,\n",
       "         18,    2,   24,   12,    1,   89,    8,   10,   13,   11,   33,\n",
       "         11,   36,    1,    2,    5,    4,   12,  117,   37,   71,   10,\n",
       "         14,   13])"
      ]
     },
     "execution_count": 713,
     "metadata": {},
     "output_type": "execute_result"
    }
   ],
   "source": [
    "sum((y_test))"
   ]
  },
  {
   "cell_type": "markdown",
   "metadata": {},
   "source": [
    "# CNN in Keras"
   ]
  },
  {
   "cell_type": "code",
   "execution_count": 619,
   "metadata": {},
   "outputs": [],
   "source": [
    "import keras\n",
    "from keras.preprocessing import sequence\n",
    "from keras.models import Sequential\n",
    "from keras.layers import Dense, Dropout, Flatten, Embedding, Conv1D, MaxPooling1D, GlobalAveragePooling1D, GlobalMaxPooling1D\n",
    "from keras.callbacks import EarlyStopping\n",
    "from keras.regularizers import l2"
   ]
  },
  {
   "cell_type": "code",
   "execution_count": 515,
   "metadata": {},
   "outputs": [
    {
     "name": "stdout",
     "output_type": "stream",
     "text": [
      "Reminder: Vocabulary size: 19850\n"
     ]
    }
   ],
   "source": [
    "print(f\"Reminder: Vocabulary size: {len(corpus_freq)}\")"
   ]
  },
  {
   "cell_type": "code",
   "execution_count": 642,
   "metadata": {},
   "outputs": [],
   "source": [
    "# Set parameters:\n",
    "# For data prep / embedding:\n",
    "max_features = 5000 # number of features or number of top words to be used\n",
    "maxlen = 150\n",
    "embedding_dims = 100\n",
    "\n",
    "# For convolution:\n",
    "filters = 100\n",
    "kernel_size = 2\n",
    "\n",
    "# For model fit:\n",
    "batch_size = 10\n",
    "epochs = 3\n",
    "validation_split = 0.2"
   ]
  },
  {
   "cell_type": "code",
   "execution_count": 613,
   "metadata": {},
   "outputs": [],
   "source": [
    "# Define early stopping:\n",
    "es = EarlyStopping(patience = 4,\n",
    "                  monitor = 'val_loss',\n",
    "                  restore_best_weights=True)"
   ]
  },
  {
   "cell_type": "markdown",
   "metadata": {},
   "source": [
    "### Approach 1: take sequence of words and provide it as an input"
   ]
  },
  {
   "cell_type": "code",
   "execution_count": 518,
   "metadata": {},
   "outputs": [],
   "source": [
    "# Take topwords as max_features-1 (0 index to be left for padding)\n",
    "topwords, _= zip(*corpus_freq[:max_features-1])\n",
    "topwords = list(topwords)"
   ]
  },
  {
   "cell_type": "code",
   "execution_count": 519,
   "metadata": {},
   "outputs": [],
   "source": [
    "# Create dictionary for words:\n",
    "word_to_index = dict([(word, index+1) for index, word in enumerate(topwords)])"
   ]
  },
  {
   "cell_type": "code",
   "execution_count": 520,
   "metadata": {},
   "outputs": [],
   "source": [
    "# Use dictionary to convert tokenized train words into ids\n",
    "X_train_index = [[word_to_index[word] for word in doc if word in topwords] for doc in tokens_train ]\n",
    "# Do the same for test\n",
    "X_test_index = [[word_to_index[word] for word in doc if word in topwords] for doc in tokens_test]"
   ]
  },
  {
   "cell_type": "code",
   "execution_count": 521,
   "metadata": {},
   "outputs": [
    {
     "name": "stdout",
     "output_type": "stream",
     "text": [
      "Average train sequence length: 72\n",
      "Average test sequence length: 66\n"
     ]
    }
   ],
   "source": [
    "print('Average train sequence length: {}'.format(np.mean(list(map(len, X_train_index)), dtype=int)))\n",
    "print('Average test sequence length: {}'.format(np.mean(list(map(len, X_test_index)), dtype=int)))"
   ]
  },
  {
   "cell_type": "code",
   "execution_count": 522,
   "metadata": {},
   "outputs": [],
   "source": [
    "X_train_index = sequence.pad_sequences(X_train_index, maxlen=maxlen)\n",
    "X_test_index = sequence.pad_sequences(X_test_index, maxlen=maxlen)"
   ]
  },
  {
   "cell_type": "code",
   "execution_count": 523,
   "metadata": {},
   "outputs": [
    {
     "data": {
      "text/plain": [
       "array([   0,    0,    0,    0,    0,    0,    0,    0,    0,    0,    0,\n",
       "          0,    0,    0,    0,    0,    0,    0,    0,    0,    0,    0,\n",
       "          0,    0,    0,    0,    0,    0,    0,    0,    0,    0,    0,\n",
       "          0,    0,    0,    0,    0,    0,    0,    0,    0,    0,    0,\n",
       "          0,    0,    0,    0,    0,    0,    0,    0,    0,    0,    0,\n",
       "          0,    0,    0,    0,    0,    0,    0,    0,    0,    0,    0,\n",
       "          0,    0,    0,    0,    0,    0,    0,    0,    0,    0,    0,\n",
       "          0,    0,    0,    0,    0,    0,    0,    0,    0,    0,    0,\n",
       "          0,    0,    0,    0,    0,   78,    1,   86,  103,  233,  285,\n",
       "        268,   78, 1007,  387,   89,   86,   62,   23, 1296,   84,  233,\n",
       "        203,  526, 1039,    1,    1,  455,  312,  159, 1809,  268,   78,\n",
       "       2895,  387,  989,  335,   76,  302,  665, 1134,  212,  377,  460,\n",
       "        209,  849,  155,  831,  397,   12,  297,  203,   84,   12,  331,\n",
       "         86,  405,  832,   48,   26,   14,  801])"
      ]
     },
     "execution_count": 523,
     "metadata": {},
     "output_type": "execute_result"
    }
   ],
   "source": [
    "X_train_index[10]"
   ]
  },
  {
   "cell_type": "markdown",
   "metadata": {},
   "source": [
    "#### After fighting with the piece of code above, I found out that Keras can do it for me... in few simple lines..."
   ]
  },
  {
   "cell_type": "code",
   "execution_count": 524,
   "metadata": {},
   "outputs": [],
   "source": [
    "from keras.preprocessing.text import Tokenizer"
   ]
  },
  {
   "cell_type": "code",
   "execution_count": 525,
   "metadata": {},
   "outputs": [],
   "source": [
    "tokenizer = Tokenizer(num_words=max_features)"
   ]
  },
  {
   "cell_type": "code",
   "execution_count": 526,
   "metadata": {},
   "outputs": [],
   "source": [
    "tokenizer.fit_on_texts(tokens_train) \n",
    "sequences_train = tokenizer.texts_to_sequences(tokens_train)\n",
    "sequences_test = tokenizer.texts_to_sequences(tokens_test)"
   ]
  },
  {
   "cell_type": "markdown",
   "metadata": {},
   "source": [
    "#### Let's forget about it and move on to our models"
   ]
  },
  {
   "cell_type": "markdown",
   "metadata": {},
   "source": [
    "### 0-layer neural network"
   ]
  },
  {
   "cell_type": "code",
   "execution_count": 527,
   "metadata": {},
   "outputs": [
    {
     "name": "stdout",
     "output_type": "stream",
     "text": [
      "Model: \"sequential_54\"\n",
      "_________________________________________________________________\n",
      "Layer (type)                 Output Shape              Param #   \n",
      "=================================================================\n",
      "dense_47 (Dense)             (None, 90)                13590     \n",
      "=================================================================\n",
      "Total params: 13,590\n",
      "Trainable params: 13,590\n",
      "Non-trainable params: 0\n",
      "_________________________________________________________________\n"
     ]
    }
   ],
   "source": [
    "model = Sequential()\n",
    "model.build()\n",
    "model.add(Dense(units=y_train.shape[1], input_shape = (X_train_index.shape[1],), activation=\"sigmoid\"))\n",
    "\n",
    "model.compile(loss='binary_crossentropy',\n",
    "             optimizer='adam',\n",
    "             metrics=['binary_accuracy'])\n",
    "model.summary()"
   ]
  },
  {
   "cell_type": "code",
   "execution_count": 528,
   "metadata": {},
   "outputs": [
    {
     "name": "stdout",
     "output_type": "stream",
     "text": [
      "Train on 6215 samples, validate on 1554 samples\n",
      "Epoch 1/5\n",
      "6215/6215 [==============================] - 1s 227us/step - loss: 23.2450 - binary_accuracy: 0.9257 - val_loss: 10.5935 - val_binary_accuracy: 0.9686\n",
      "Epoch 2/5\n",
      "6215/6215 [==============================] - 1s 182us/step - loss: 7.8494 - binary_accuracy: 0.9711 - val_loss: 6.7995 - val_binary_accuracy: 0.9693\n",
      "Epoch 3/5\n",
      "6215/6215 [==============================] - 1s 182us/step - loss: 4.8115 - binary_accuracy: 0.9738 - val_loss: 4.8264 - val_binary_accuracy: 0.9706\n",
      "Epoch 4/5\n",
      "6215/6215 [==============================] - 1s 183us/step - loss: 3.2622 - binary_accuracy: 0.9740 - val_loss: 3.9866 - val_binary_accuracy: 0.9721\n",
      "Epoch 5/5\n",
      "6215/6215 [==============================] - 1s 164us/step - loss: 2.4961 - binary_accuracy: 0.9742 - val_loss: 3.5835 - val_binary_accuracy: 0.9686\n"
     ]
    },
    {
     "data": {
      "text/plain": [
       "<keras.callbacks.callbacks.History at 0x2119aaa1c48>"
      ]
     },
     "execution_count": 528,
     "metadata": {},
     "output_type": "execute_result"
    }
   ],
   "source": [
    "model.fit(X_train_index, y_train, \n",
    "         batch_size=batch_size,\n",
    "         epochs=epochs,\n",
    "         callbacks=[es],\n",
    "         validation_split = validation_split)"
   ]
  },
  {
   "cell_type": "code",
   "execution_count": 529,
   "metadata": {},
   "outputs": [
    {
     "name": "stdout",
     "output_type": "stream",
     "text": [
      "------NN_0_layer Model Metrics-----\n",
      "Accuracy: 0.1043\n",
      "Hamming Loss: 0.0324\n",
      "Precision:\n",
      "  - Macro: 0.0110\n",
      "  - Micro: 0.1403\n",
      "Recall:\n",
      "  - Macro: 0.0176\n",
      "  - Micro: 0.2631\n",
      "F1-measure:\n",
      "  - Macro: 0.0131\n",
      "  - Micro: 0.1830\n"
     ]
    }
   ],
   "source": [
    "y_pred = model.predict(X_test_index)\n",
    "y_pred[y_pred>=0.5] = 1\n",
    "y_pred[y_pred<0.5] = 0\n",
    "metricsReport('NN_0_layer', y_test, y_pred)"
   ]
  },
  {
   "cell_type": "markdown",
   "metadata": {},
   "source": [
    "### WIth Embedding (FT approach)"
   ]
  },
  {
   "cell_type": "code",
   "execution_count": 559,
   "metadata": {},
   "outputs": [
    {
     "name": "stdout",
     "output_type": "stream",
     "text": [
      "Model: \"sequential_64\"\n",
      "_________________________________________________________________\n",
      "Layer (type)                 Output Shape              Param #   \n",
      "=================================================================\n",
      "embedding_47 (Embedding)     (None, 150, 50)           250000    \n",
      "_________________________________________________________________\n",
      "global_average_pooling1d_25  (None, 50)                0         \n",
      "_________________________________________________________________\n",
      "dense_59 (Dense)             (None, 90)                4590      \n",
      "=================================================================\n",
      "Total params: 254,590\n",
      "Trainable params: 254,590\n",
      "Non-trainable params: 0\n",
      "_________________________________________________________________\n"
     ]
    }
   ],
   "source": [
    "model = Sequential()\n",
    "model.add(Embedding(input_dim=max_features,\n",
    "                   output_dim=embedding_dims,\n",
    "                   input_length=maxlen))\n",
    "model.add(GlobalAveragePooling1D())\n",
    "model.add(Dense(units=y_train.shape[1], activation=\"sigmoid\"))\n",
    "\n",
    "model.compile(loss='binary_crossentropy',\n",
    "             optimizer='adam',\n",
    "             metrics=['binary_accuracy'])\n",
    "model.summary()"
   ]
  },
  {
   "cell_type": "code",
   "execution_count": 563,
   "metadata": {},
   "outputs": [
    {
     "name": "stdout",
     "output_type": "stream",
     "text": [
      "Train on 6215 samples, validate on 1554 samples\n",
      "Epoch 1/5\n",
      "6215/6215 [==============================] - 3s 461us/step - loss: 0.0318 - binary_accuracy: 0.9918 - val_loss: 0.0292 - val_binary_accuracy: 0.9923\n",
      "Epoch 2/5\n",
      "6215/6215 [==============================] - 3s 463us/step - loss: 0.0294 - binary_accuracy: 0.9923 - val_loss: 0.0271 - val_binary_accuracy: 0.9928\n",
      "Epoch 3/5\n",
      "6215/6215 [==============================] - 3s 486us/step - loss: 0.0273 - binary_accuracy: 0.9928 - val_loss: 0.0255 - val_binary_accuracy: 0.9931\n",
      "Epoch 4/5\n",
      "6215/6215 [==============================] - 4s 589us/step - loss: 0.0256 - binary_accuracy: 0.9931 - val_loss: 0.0242 - val_binary_accuracy: 0.9934\n",
      "Epoch 5/5\n",
      "6215/6215 [==============================] - 3s 455us/step - loss: 0.0240 - binary_accuracy: 0.9934 - val_loss: 0.0231 - val_binary_accuracy: 0.9936\n"
     ]
    },
    {
     "data": {
      "text/plain": [
       "<keras.callbacks.callbacks.History at 0x211ff518d08>"
      ]
     },
     "execution_count": 563,
     "metadata": {},
     "output_type": "execute_result"
    }
   ],
   "source": [
    "model.fit(X_train_index, y_train, \n",
    "         batch_size=batch_size,\n",
    "         epochs=epochs,\n",
    "         callbacks=[es],\n",
    "         validation_split = validation_split)"
   ]
  },
  {
   "cell_type": "code",
   "execution_count": 562,
   "metadata": {},
   "outputs": [
    {
     "name": "stdout",
     "output_type": "stream",
     "text": [
      "------NN_Embed_FT Model Metrics-----\n",
      "Accuracy: 0.5028\n",
      "Hamming Loss: 0.0082\n",
      "Precision:\n",
      "  - Macro: 0.0707\n",
      "  - Micro: 0.9804\n",
      "Recall:\n",
      "  - Macro: 0.0202\n",
      "  - Micro: 0.4140\n",
      "F1-measure:\n",
      "  - Macro: 0.0235\n",
      "  - Micro: 0.5822\n"
     ]
    }
   ],
   "source": [
    "y_pred = model.predict(X_test_index)\n",
    "y_pred[y_pred>=0.5] = 1\n",
    "y_pred[y_pred<0.5] = 0\n",
    "metricsReport('NN_Embed_FT', y_test, y_pred)"
   ]
  },
  {
   "cell_type": "markdown",
   "metadata": {},
   "source": [
    "### Convolution"
   ]
  },
  {
   "cell_type": "code",
   "execution_count": 709,
   "metadata": {},
   "outputs": [
    {
     "name": "stdout",
     "output_type": "stream",
     "text": [
      "Model: \"sequential_98\"\n",
      "_________________________________________________________________\n",
      "Layer (type)                 Output Shape              Param #   \n",
      "=================================================================\n",
      "embedding_81 (Embedding)     (None, 150, 100)          500000    \n",
      "_________________________________________________________________\n",
      "dropout_75 (Dropout)         (None, 150, 100)          0         \n",
      "_________________________________________________________________\n",
      "conv1d_74 (Conv1D)           (None, 148, 100)          30100     \n",
      "_________________________________________________________________\n",
      "max_pooling1d_59 (MaxPooling (None, 74, 100)           0         \n",
      "_________________________________________________________________\n",
      "flatten_35 (Flatten)         (None, 7400)              0         \n",
      "_________________________________________________________________\n",
      "dense_119 (Dense)            (None, 250)               1850250   \n",
      "_________________________________________________________________\n",
      "dropout_76 (Dropout)         (None, 250)               0         \n",
      "_________________________________________________________________\n",
      "dense_120 (Dense)            (None, 90)                22590     \n",
      "=================================================================\n",
      "Total params: 2,402,940\n",
      "Trainable params: 2,402,940\n",
      "Non-trainable params: 0\n",
      "_________________________________________________________________\n"
     ]
    }
   ],
   "source": [
    "model = Sequential()\n",
    "model.add(Embedding(input_dim=max_features,\n",
    "                   output_dim=embedding_dims,\n",
    "                   input_length=maxlen))\n",
    "model.add(Dropout(0.2))\n",
    "model.add(Conv1D(filters = 100,\n",
    "                 kernel_size = 3,\n",
    "                 padding='valid',\n",
    "                 activation='relu'))\n",
    "model.add(MaxPooling1D())\n",
    "# model.add(Conv1D(filters = 100,\n",
    "#                  kernel_size = 3,\n",
    "#                  padding='valid',\n",
    "#                  activation='relu'))\n",
    "# model.add(MaxPooling1D())\n",
    "# model.add(GlobalAveragePooling1D())\n",
    "model.add(Flatten())\n",
    "model.add(Dense(units=250, activation=\"relu\"))\n",
    "model.add(Dropout(0.2))\n",
    "model.add(Dense(units=y_train.shape[1], activation=\"sigmoid\"))\n",
    "\n",
    "model.compile(loss='binary_crossentropy', #weighted_binary_crossentropy\n",
    "             optimizer='adam',\n",
    "             metrics=['binary_accuracy'])\n",
    "model.summary()"
   ]
  },
  {
   "cell_type": "code",
   "execution_count": 710,
   "metadata": {},
   "outputs": [
    {
     "name": "stderr",
     "output_type": "stream",
     "text": [
      "C:\\Users\\prad8002\\.conda\\envs\\py37\\lib\\site-packages\\tensorflow_core\\python\\framework\\indexed_slices.py:433: UserWarning: Converting sparse IndexedSlices to a dense Tensor of unknown shape. This may consume a large amount of memory.\n",
      "  \"Converting sparse IndexedSlices to a dense Tensor of unknown shape. \"\n"
     ]
    },
    {
     "name": "stdout",
     "output_type": "stream",
     "text": [
      "Train on 6215 samples, validate on 1554 samples\n",
      "Epoch 1/3\n",
      "6215/6215 [==============================] - 30s 5ms/step - loss: 0.0456 - binary_accuracy: 0.9879 - val_loss: 0.0251 - val_binary_accuracy: 0.9932\n",
      "Epoch 2/3\n",
      "6215/6215 [==============================] - 31s 5ms/step - loss: 0.0229 - binary_accuracy: 0.9936 - val_loss: 0.0191 - val_binary_accuracy: 0.9944\n",
      "Epoch 3/3\n",
      "6215/6215 [==============================] - 28s 5ms/step - loss: 0.0152 - binary_accuracy: 0.9952 - val_loss: 0.0185 - val_binary_accuracy: 0.9950\n"
     ]
    },
    {
     "data": {
      "text/plain": [
       "<keras.callbacks.callbacks.History at 0x21262431b08>"
      ]
     },
     "execution_count": 710,
     "metadata": {},
     "output_type": "execute_result"
    }
   ],
   "source": [
    "model.fit(X_train_index, y_train, \n",
    "         batch_size=batch_size,\n",
    "         epochs=epochs,\n",
    "         callbacks=[es],\n",
    "         validation_split = validation_split)"
   ]
  },
  {
   "cell_type": "code",
   "execution_count": 711,
   "metadata": {},
   "outputs": [
    {
     "name": "stderr",
     "output_type": "stream",
     "text": [
      "C:\\Users\\prad8002\\.conda\\envs\\py37\\lib\\site-packages\\sklearn\\metrics\\classification.py:1437: UndefinedMetricWarning: Precision is ill-defined and being set to 0.0 in labels with no predicted samples.\n",
      "  'precision', 'predicted', average, warn_for)\n",
      "C:\\Users\\prad8002\\.conda\\envs\\py37\\lib\\site-packages\\sklearn\\metrics\\classification.py:1437: UndefinedMetricWarning: F-score is ill-defined and being set to 0.0 in labels with no predicted samples.\n",
      "  'precision', 'predicted', average, warn_for)\n"
     ]
    },
    {
     "name": "stdout",
     "output_type": "stream",
     "text": [
      "------CNN_Embed Model Metrics-----\n",
      "Accuracy: 0.6804\n",
      "Hamming Loss: 0.0057\n",
      "Precision:\n",
      "  - Macro: 0.1898\n",
      "  - Micro: 0.9065\n",
      "Recall:\n",
      "  - Macro: 0.1043\n",
      "  - Micro: 0.6576\n",
      "F1-measure:\n",
      "  - Macro: 0.1225\n",
      "  - Micro: 0.7622\n"
     ]
    }
   ],
   "source": [
    "y_pred = model.predict(X_test_index)\n",
    "val = 0.5\n",
    "y_pred[y_pred>=val] = int(1)\n",
    "y_pred[y_pred<val] = int(0)\n",
    "y_pred = y_pred.astype(int)\n",
    "metricsReport('CNN_Embed', y_test, y_pred)"
   ]
  },
  {
   "cell_type": "code",
   "execution_count": 712,
   "metadata": {},
   "outputs": [
    {
     "data": {
      "text/plain": [
       "array([ 702,    0,    0,    8,    0,    0,    0,    0,    0,   14,    0,\n",
       "          0,   36,    0,    0,    6,    0,  168,    0,   21,    0, 1097,\n",
       "          0,    0,   12,    1,  137,    0,    0,    0,    0,    0,    0,\n",
       "          0,   60,    0,    0,    0,    0,    0,    0,    0,    0,    0,\n",
       "          0,    0,  214,   11,    0,    5,    0,    0,    0,    0,   13,\n",
       "          0,    0,    0,    0,    0,    0,    0,    0,    0,    0,    0,\n",
       "          0,    0,    0,    0,    0,   24,    0,    0,    0,    0,    3,\n",
       "          0,   28,    0,    0,    0,    0,    0,   86,    8,   62,    0,\n",
       "          0,    0])"
      ]
     },
     "execution_count": 712,
     "metadata": {},
     "output_type": "execute_result"
    }
   ],
   "source": [
    "sum((y_pred))"
   ]
  },
  {
   "cell_type": "code",
   "execution_count": 713,
   "metadata": {},
   "outputs": [
    {
     "data": {
      "text/plain": [
       "array([ 719,   23,   14,   30,   18,    1,   18,    2,    3,   28,   18,\n",
       "          1,   56,   20,    2,   28,    1,  189,    1,   44,    4, 1087,\n",
       "         10,   17,   35,   30,  149,    4,    1,    5,    6,    4,    7,\n",
       "          1,  131,   12,   14,    1,   21,    2,   14,    3,    1,   24,\n",
       "          6,   19,  179,   34,    4,   30,    1,    2,    2,    6,   47,\n",
       "         11,    1,   10,    1,   12,    7,    3,    3,    1,    3,    9,\n",
       "         18,    2,   24,   12,    1,   89,    8,   10,   13,   11,   33,\n",
       "         11,   36,    1,    2,    5,    4,   12,  117,   37,   71,   10,\n",
       "         14,   13])"
      ]
     },
     "execution_count": 713,
     "metadata": {},
     "output_type": "execute_result"
    }
   ],
   "source": [
    "sum((y_test))"
   ]
  },
  {
   "cell_type": "code",
   "execution_count": null,
   "metadata": {},
   "outputs": [],
   "source": []
  },
  {
   "cell_type": "code",
   "execution_count": null,
   "metadata": {},
   "outputs": [],
   "source": [
    "print (metrics.val_f1s)"
   ]
  },
  {
   "cell_type": "markdown",
   "metadata": {},
   "source": [
    "#### Smallest convolutional network"
   ]
  },
  {
   "cell_type": "code",
   "execution_count": 171,
   "metadata": {},
   "outputs": [
    {
     "ename": "NameError",
     "evalue": "name 'X_train_tfidf' is not defined",
     "output_type": "error",
     "traceback": [
      "\u001b[1;31m---------------------------------------------------------------------------\u001b[0m",
      "\u001b[1;31mNameError\u001b[0m                                 Traceback (most recent call last)",
      "\u001b[1;32m<ipython-input-171-b466529e1e67>\u001b[0m in \u001b[0;36m<module>\u001b[1;34m\u001b[0m\n\u001b[0;32m      1\u001b[0m \u001b[0mmodel\u001b[0m \u001b[1;33m=\u001b[0m \u001b[0mSequential\u001b[0m\u001b[1;33m(\u001b[0m\u001b[1;33m)\u001b[0m\u001b[1;33m\u001b[0m\u001b[1;33m\u001b[0m\u001b[0m\n\u001b[1;32m----> 2\u001b[1;33m \u001b[0mmodel\u001b[0m\u001b[1;33m.\u001b[0m\u001b[0madd\u001b[0m\u001b[1;33m(\u001b[0m\u001b[0mConv1D\u001b[0m\u001b[1;33m(\u001b[0m\u001b[0mfilters\u001b[0m\u001b[1;33m=\u001b[0m\u001b[1;36m64\u001b[0m\u001b[1;33m,\u001b[0m \u001b[0mkernel_size\u001b[0m\u001b[1;33m=\u001b[0m\u001b[1;36m32\u001b[0m\u001b[1;33m,\u001b[0m \u001b[0mactivation\u001b[0m\u001b[1;33m=\u001b[0m\u001b[1;34m'relu'\u001b[0m\u001b[1;33m,\u001b[0m \u001b[0minput_shape\u001b[0m\u001b[1;33m=\u001b[0m\u001b[1;33m(\u001b[0m\u001b[0mX_train_tfidf\u001b[0m\u001b[1;33m.\u001b[0m\u001b[0mshape\u001b[0m\u001b[1;33m[\u001b[0m\u001b[1;36m1\u001b[0m\u001b[1;33m]\u001b[0m\u001b[1;33m,\u001b[0m \u001b[1;36m1\u001b[0m\u001b[1;33m)\u001b[0m\u001b[1;33m,\u001b[0m \u001b[1;33m)\u001b[0m\u001b[1;33m)\u001b[0m\u001b[1;33m\u001b[0m\u001b[1;33m\u001b[0m\u001b[0m\n\u001b[0m\u001b[0;32m      3\u001b[0m \u001b[0mmodel\u001b[0m\u001b[1;33m.\u001b[0m\u001b[0madd\u001b[0m\u001b[1;33m(\u001b[0m\u001b[0mDense\u001b[0m\u001b[1;33m(\u001b[0m\u001b[0munits\u001b[0m\u001b[1;33m=\u001b[0m\u001b[0my_train\u001b[0m\u001b[1;33m.\u001b[0m\u001b[0mshape\u001b[0m\u001b[1;33m[\u001b[0m\u001b[1;36m1\u001b[0m\u001b[1;33m]\u001b[0m\u001b[1;33m,\u001b[0m \u001b[0mactivation\u001b[0m\u001b[1;33m=\u001b[0m\u001b[1;34m\"sigmoid\"\u001b[0m \u001b[1;33m)\u001b[0m\u001b[1;33m)\u001b[0m\u001b[1;33m\u001b[0m\u001b[1;33m\u001b[0m\u001b[0m\n\u001b[0;32m      4\u001b[0m \u001b[1;33m\u001b[0m\u001b[0m\n\u001b[0;32m      5\u001b[0m model.compile(loss='categorical_crossentropy',\n",
      "\u001b[1;31mNameError\u001b[0m: name 'X_train_tfidf' is not defined"
     ]
    }
   ],
   "source": [
    "model = Sequential()\n",
    "model.add(Conv1D(filters=64, kernel_size=32, activation='relu', input_shape=(X_train_tfidf.shape[1], 1), ))\n",
    "model.add(Dense(units=y_train.shape[1], activation=\"sigmoid\" ))\n",
    "\n",
    "model.compile(loss='binary_crossentropy',\n",
    "             optimizer='adam',\n",
    "             metrics=['binary_accuracy'])\n",
    "model.summary()"
   ]
  },
  {
   "cell_type": "code",
   "execution_count": null,
   "metadata": {},
   "outputs": [],
   "source": []
  },
  {
   "cell_type": "markdown",
   "metadata": {},
   "source": [
    "#### Explanation of micro and macro average for multiclass:\n",
    "https://datascience.stackexchange.com/questions/15989/micro-average-vs-macro-average-performance-in-a-multiclass-classification-settin"
   ]
  },
  {
   "cell_type": "code",
   "execution_count": null,
   "metadata": {},
   "outputs": [],
   "source": []
  }
 ],
 "metadata": {
  "kernelspec": {
   "display_name": "Python 3",
   "language": "python",
   "name": "python3"
  },
  "language_info": {
   "codemirror_mode": {
    "name": "ipython",
    "version": 3
   },
   "file_extension": ".py",
   "mimetype": "text/x-python",
   "name": "python",
   "nbconvert_exporter": "python",
   "pygments_lexer": "ipython3",
   "version": "3.7.7"
  }
 },
 "nbformat": 4,
 "nbformat_minor": 2
}
