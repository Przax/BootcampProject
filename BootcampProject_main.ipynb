{
 "cells": [
  {
   "cell_type": "markdown",
   "metadata": {},
   "source": [
    "# Multilabel classification problem solution for Reuters-21578"
   ]
  },
  {
   "cell_type": "markdown",
   "metadata": {},
   "source": [
    "### AIM OF THE PROJECT\n",
    "The objetive of this project is to test different appraches to NLP problem of multilabel classification and find optimal model that would properly predict document \"subject\" labels based on a raw document text. <br>\n",
    "<br><br>\n",
    "The multilabel classification is a classification for which:\n",
    "* Number of targets >1\n",
    "* Number of targets for each sample is a-priori unknown and can differ for different samples\n",
    "* Target cardinality is equal to 2 (0 or 1) == the sample belongs to a certain target (category) or not"
   ]
  },
  {
   "cell_type": "markdown",
   "metadata": {},
   "source": [
    "### DATASET USED\n",
    "Reuters-21578\n",
    "\n",
    "The full set is available here:\n",
    "https://archive.ics.uci.edu/ml/datasets/reuters-21578+text+categorization+collection\n",
    "\n",
    "For the project needs, the author used dataset available in NLTK library which is already split to train and test. It can be loaded to the memory by a command:\n",
    "*from nltk.corpus import reuters*\n",
    "\n",
    "The dataset contains:\n",
    "* almost 8000 train articles\n",
    "* over 3000 test articles\n",
    "* there is 90 unique labels\n",
    "* In average only 1.23 labels are assigned to each train set article"
   ]
  },
  {
   "cell_type": "markdown",
   "metadata": {},
   "source": [
    "### SUMMARY OF THE PROJECT\n",
    "\n",
    "#### DATA CLEANING\n",
    "\n",
    "Before applying a model - the data was cleaned, tokenized and normlized.\n",
    "\n",
    "#### DATA PRE-PROCESSING\n",
    "\n",
    "In order to find a best approach to this problem, three different approaches were taken for the words embedding:\n",
    "* Tf-Idf\n",
    "* Doc2Vec (model trained on the train corpus)\n",
    "* FastText (pre-trained model, weights applied in embedding layer of CNN)\n",
    "\n",
    "#### MODELLING\n",
    "\n",
    "1. The target labels were binarized with MultiLabelBinarizer\n",
    "2. A few different models were fitted using pipeline and GridSearchCV (for different pre-processing methods):\n",
    "    * Inherently supporting multilabels:\n",
    "        * k-nearest neighbors\n",
    "        * Random Forest\n",
    "    * OneVsRest with Linear SVC and Logistic Regression\n",
    "    * Label Powerset with Linear SVC\n",
    "    * Convolutional Neural Network\n",
    "\n",
    "#### METRICS\n",
    "As in multilabel  - the sample belongs to few labels out of all set of labels, the absolute accuracy is not a good measure (as it will tag as correct only these samples which have all set of labels correclty predicted, without taking into account partial correctness (e.g. we predict correctly 3 out of 4 labels)).\n",
    "It is proposed to use hamming loss function which would take into account partial correctness.\n",
    "\n",
    "Each individual category predictions can be evaluated based on traditional metrics like F1 score, Precision and Recall, however, to evaluate full multilabel model, these metrics for each category shall be averaged. There are 2 approaches to do that: micro and macro.\n",
    "\n",
    "Finally for this project, it was decided to evaluate the model based on a hamming loss and micro & macro f1-score.\n",
    "\n",
    "Find explanation of micro and macro averaging here:\n",
    "https://datascience.stackexchange.com/questions/15989/micro-average-vs-macro-average-performance-in-a-multiclass-classification-settin"
   ]
  },
  {
   "cell_type": "code",
   "execution_count": 1,
   "metadata": {},
   "outputs": [],
   "source": [
    "import numpy as np\n",
    "import pandas as pd\n",
    "import re\n",
    "import itertools\n",
    "\n",
    "import seaborn as sns\n",
    "import matplotlib.pyplot as plt\n",
    "\n",
    "import nltk # text cleaning and datasets \n",
    "import re # patterns searching in strings\n",
    "\n",
    "from sklearn.pipeline import Pipeline\n",
    "from sklearn.model_selection import GridSearchCV\n",
    "from sklearn.metrics import accuracy_score, precision_score, recall_score, f1_score, roc_auc_score, multilabel_confusion_matrix, hamming_loss"
   ]
  },
  {
   "cell_type": "markdown",
   "metadata": {},
   "source": [
    "#### Import data from nltk.corpus and establish train/test inputs and targets"
   ]
  },
  {
   "cell_type": "code",
   "execution_count": 2,
   "metadata": {},
   "outputs": [],
   "source": [
    "from nltk.corpus import reuters"
   ]
  },
  {
   "cell_type": "code",
   "execution_count": 3,
   "metadata": {},
   "outputs": [],
   "source": [
    "all_docs = reuters.fileids()\n",
    "train_doc_names = [doc for doc in all_docs if doc.startswith(\"train\")]\n",
    "test_doc_names = [doc for doc in all_docs if doc.startswith(\"test\")]"
   ]
  },
  {
   "cell_type": "code",
   "execution_count": 4,
   "metadata": {},
   "outputs": [],
   "source": [
    "X_train_raw, y_train_raw = zip(*[(reuters.raw(doc), reuters.categories(doc)) for doc in train_doc_names])\n",
    "X_test_raw, y_test_raw= zip(*[(reuters.raw(doc), reuters.categories(doc)) for doc in test_doc_names])"
   ]
  },
  {
   "cell_type": "markdown",
   "metadata": {},
   "source": [
    "## Review the data:"
   ]
  },
  {
   "cell_type": "code",
   "execution_count": 5,
   "metadata": {},
   "outputs": [
    {
     "name": "stdout",
     "output_type": "stream",
     "text": [
      "Number of train articles: 7769\n",
      "Number of test articles: 3019\n"
     ]
    }
   ],
   "source": [
    "# Number of articles:\n",
    "print(f\"Number of train articles: {len(X_train_raw)}\")\n",
    "print(f\"Number of test articles: {len(X_test_raw)}\")"
   ]
  },
  {
   "cell_type": "markdown",
   "metadata": {},
   "source": [
    "#### Review labels"
   ]
  },
  {
   "cell_type": "code",
   "execution_count": 6,
   "metadata": {},
   "outputs": [],
   "source": [
    "y_train_raw_flat = pd.Series(itertools.chain(*y_train_raw))\n",
    "y_test_raw_flat = pd.Series(itertools.chain(*y_train_raw))"
   ]
  },
  {
   "cell_type": "code",
   "execution_count": 7,
   "metadata": {
    "scrolled": true
   },
   "outputs": [
    {
     "name": "stdout",
     "output_type": "stream",
     "text": [
      "Avg number of labels per article in train set: 1.23\n"
     ]
    }
   ],
   "source": [
    "print(f\"Avg number of labels per article in train set: {(len(y_train_raw_flat) / len(y_train_raw) ):.2f}\")\n",
    "# print(f\"Avg number of labels per article in test set: {(len(y_test_raw_flat) / len(y_test_raw) ):.2f}\")"
   ]
  },
  {
   "cell_type": "code",
   "execution_count": 8,
   "metadata": {},
   "outputs": [
    {
     "name": "stdout",
     "output_type": "stream",
     "text": [
      "Number of labels assigned to article: Total number of such occurances\n"
     ]
    },
    {
     "data": {
      "text/plain": [
       "{1: 6577,\n",
       " 2: 865,\n",
       " 3: 192,\n",
       " 4: 59,\n",
       " 5: 37,\n",
       " 6: 22,\n",
       " 7: 5,\n",
       " 8: 5,\n",
       " 9: 3,\n",
       " 10: 2,\n",
       " 11: 1,\n",
       " 15: 1}"
      ]
     },
     "execution_count": 8,
     "metadata": {},
     "output_type": "execute_result"
    }
   ],
   "source": [
    "# Count number of labels for each article\n",
    "labels_len = [len(labels) for labels in y_train_raw]\n",
    "# Group \n",
    "labels_freq = {n: labels_len.count(n) for n in labels_len}\n",
    "labels_freq = dict(sorted(labels_freq.items()))\n",
    "print(f\"Number of labels assigned to article: Total number of such occurances\")\n",
    "labels_freq"
   ]
  },
  {
   "cell_type": "markdown",
   "metadata": {},
   "source": [
    "Conclusion: For most of the cases in the train set - there is only 1 label associated with article."
   ]
  },
  {
   "cell_type": "markdown",
   "metadata": {},
   "source": [
    "#### Review classes"
   ]
  },
  {
   "cell_type": "code",
   "execution_count": 9,
   "metadata": {},
   "outputs": [
    {
     "name": "stdout",
     "output_type": "stream",
     "text": [
      "Total number of classes: 90\n"
     ]
    }
   ],
   "source": [
    "print(f\"Total number of classes: {len(reuters.categories())}\")"
   ]
  },
  {
   "cell_type": "code",
   "execution_count": 10,
   "metadata": {
    "scrolled": true
   },
   "outputs": [
    {
     "data": {
      "text/plain": [
       "earn        2877\n",
       "acq         1650\n",
       "money-fx     538\n",
       "grain        433\n",
       "crude        389\n",
       "dtype: int64"
      ]
     },
     "execution_count": 10,
     "metadata": {},
     "output_type": "execute_result"
    }
   ],
   "source": [
    "cat_distr = y_train_raw_flat.value_counts()\n",
    "cat_distr.head(5)"
   ]
  },
  {
   "cell_type": "code",
   "execution_count": 11,
   "metadata": {},
   "outputs": [
    {
     "data": {
      "text/plain": [
       "lin-oil       1\n",
       "cotton-oil    1\n",
       "nkr           1\n",
       "rye           1\n",
       "sun-meal      1\n",
       "dtype: int64"
      ]
     },
     "execution_count": 11,
     "metadata": {},
     "output_type": "execute_result"
    }
   ],
   "source": [
    "cat_distr.tail(5)"
   ]
  },
  {
   "cell_type": "code",
   "execution_count": 12,
   "metadata": {},
   "outputs": [
    {
     "data": {
      "image/png": "[encoded data removed]",
      "text/plain": [
       "<Figure size 1080x360 with 2 Axes>"
      ]
     },
     "metadata": {
      "needs_background": "light"
     },
     "output_type": "display_data"
    }
   ],
   "source": [
    "n=20 # split between left and right graph (number of top classes)\n",
    "plt.figure(figsize=(15,5))\n",
    "plt.suptitle('Distribution of classes in the train set - abs values', fontsize = 16)\n",
    "\n",
    "plt.subplot(1,2,1)\n",
    "cat_distr[:n].plot.bar()\n",
    "plt.ylabel(f'Number of occurences');\n",
    "plt.title(f'Top {n} classes');\n",
    "\n",
    "plt.subplot(1,2,2)\n",
    "cat_distr[n:].plot.bar()\n",
    "plt.title(f'All except Top {n} classes');"
   ]
  },
  {
   "cell_type": "code",
   "execution_count": 13,
   "metadata": {},
   "outputs": [
    {
     "data": {
      "image/png": "[encoded data removed]",
      "text/plain": [
       "<Figure size 1080x360 with 2 Axes>"
      ]
     },
     "metadata": {
      "needs_background": "light"
     },
     "output_type": "display_data"
    }
   ],
   "source": [
    "n=20 # split between left and right graph (number of top classes)\n",
    "plt.figure(figsize=(15,5))\n",
    "plt.suptitle('Distribution of classes in the train set - ratio', fontsize = 16)\n",
    "\n",
    "plt.subplot(1,2,1)\n",
    "(cat_distr[:n]/cat_distr.sum()).plot.bar()\n",
    "plt.ylabel(f'Ratio');\n",
    "plt.title(f'Top {n} classes');\n",
    "\n",
    "plt.subplot(1,2,2)\n",
    "(cat_distr[n:]/cat_distr.sum()).plot.bar()\n",
    "plt.title(f'All except Top {n} classes');"
   ]
  },
  {
   "cell_type": "markdown",
   "metadata": {},
   "source": [
    "Conclusion: Top 2 classes are far more frequent than other classes (more than 45% of all targets)"
   ]
  },
  {
   "cell_type": "markdown",
   "metadata": {},
   "source": [
    "#### Review the raw articles"
   ]
  },
  {
   "cell_type": "code",
   "execution_count": 14,
   "metadata": {},
   "outputs": [
    {
     "data": {
      "text/plain": [
       "str"
      ]
     },
     "execution_count": 14,
     "metadata": {},
     "output_type": "execute_result"
    }
   ],
   "source": [
    "type(X_train_raw[0])"
   ]
  },
  {
   "cell_type": "code",
   "execution_count": 15,
   "metadata": {},
   "outputs": [],
   "source": [
    "art_len = [len(art) for art in X_train_raw]"
   ]
  },
  {
   "cell_type": "code",
   "execution_count": 16,
   "metadata": {},
   "outputs": [
    {
     "name": "stdout",
     "output_type": "stream",
     "text": [
      "Character count for the shortest article: 27\n",
      "Character count for the longest article: 8898\n"
     ]
    }
   ],
   "source": [
    "print(f\"Character count for the shortest article: {min(art_len)}\")\n",
    "print(f\"Character count for the longest article: {max(art_len)}\")"
   ]
  },
  {
   "cell_type": "code",
   "execution_count": 17,
   "metadata": {},
   "outputs": [],
   "source": [
    "# fig, (ax1, ax2) = plt.subplots(1,2, figsize=(15,5))\n",
    "# ax1.hist(art_len, bins=50, rwidth = 0.9);"
   ]
  },
  {
   "cell_type": "code",
   "execution_count": 18,
   "metadata": {},
   "outputs": [
    {
     "data": {
      "text/plain": [
       "(0.0, 200.0)"
      ]
     },
     "execution_count": 18,
     "metadata": {},
     "output_type": "execute_result"
    },
    {
     "data": {
      "image/png": "[encoded data removed]",
      "text/plain": [
       "<Figure size 1080x360 with 2 Axes>"
      ]
     },
     "metadata": {
      "needs_background": "light"
     },
     "output_type": "display_data"
    }
   ],
   "source": [
    "n=2000 # split between left and right graph (number of characters)\n",
    "plt.figure(figsize=(15,5))\n",
    "plt.suptitle('Distribution of character count in articles in the train set', fontsize = 16)\n",
    "\n",
    "plt.subplot(1,2,1)\n",
    "plt.hist(art_len, bins=50, rwidth = 0.9);\n",
    "plt.ylabel(f'Number of articles');\n",
    "plt.xlabel(f'Characters count');\n",
    "plt.title(f'Shortest articles');\n",
    "plt.xlim(0,n)\n",
    "\n",
    "plt.subplot(1,2,2)\n",
    "plt.hist(art_len, bins=50, rwidth = 0.9);\n",
    "plt.ylabel(f'Number of articles');\n",
    "plt.xlabel(f'Characters count');\n",
    "plt.title(f'Longest articles');\n",
    "plt.xlim(n,)\n",
    "plt.ylim(0,200)\n",
    "\n",
    "# plt.tight_layout()\n",
    "# ax.set(ylabel = 'aaa')"
   ]
  },
  {
   "cell_type": "code",
   "execution_count": 19,
   "metadata": {},
   "outputs": [
    {
     "data": {
      "text/plain": [
       "'BAHIA COCOA REVIEW\\n  Showers continued throughout the week in\\n  the Bahia cocoa zone, alleviating the drought since early\\n  January and improving prospects for the coming temporao,\\n  although normal humidity levels have not been restored,\\n  Comissaria Smith said in its weekly review.\\n      The dry p'"
      ]
     },
     "execution_count": 19,
     "metadata": {},
     "output_type": "execute_result"
    }
   ],
   "source": [
    "X_train_raw[0][:300]"
   ]
  },
  {
   "cell_type": "markdown",
   "metadata": {},
   "source": [
    "<br><br><br>\n",
    "## Clean text"
   ]
  },
  {
   "cell_type": "markdown",
   "metadata": {},
   "source": [
    "#### Functions definition"
   ]
  },
  {
   "cell_type": "code",
   "execution_count": 20,
   "metadata": {},
   "outputs": [],
   "source": [
    "def remove_html(text_list):\n",
    "    text_clean = [re.sub(\"<.+?>\", \" \", el) for el in text]\n",
    "    return text_clean"
   ]
  },
  {
   "cell_type": "code",
   "execution_count": 21,
   "metadata": {},
   "outputs": [],
   "source": [
    "def convert_to_lower(text):\n",
    "    text_clean = [el.lower() for el in text]\n",
    "    return text_clean"
   ]
  },
  {
   "cell_type": "code",
   "execution_count": 22,
   "metadata": {},
   "outputs": [],
   "source": [
    "def remove_control_chars(text): # (e.g. \\n \\t...)\n",
    "    text_clean = [re.sub(\"\\s+\", \" \", el) for el in text]\n",
    "    return text_clean"
   ]
  },
  {
   "cell_type": "code",
   "execution_count": 23,
   "metadata": {},
   "outputs": [],
   "source": [
    "def tokenization(text):\n",
    "    text_clean = [nltk.word_tokenize(el) for el in text]\n",
    "    return text_clean"
   ]
  },
  {
   "cell_type": "code",
   "execution_count": 24,
   "metadata": {},
   "outputs": [],
   "source": [
    "def remove_stopwords(text):\n",
    "    stopwords =nltk.corpus.stopwords.words(\"english\")\n",
    "    text_clean = [[w for w in el if w not in stopwords] for el in text]\n",
    "    return text_clean"
   ]
  },
  {
   "cell_type": "code",
   "execution_count": 25,
   "metadata": {},
   "outputs": [],
   "source": [
    "def remove_punctuations(text):\n",
    "    import string\n",
    "    punctuations = [char for char in string.punctuation]\n",
    "    \n",
    "    text_clean = [[w for w in el if w not in punctuations] for el in text]\n",
    "    return text_clean"
   ]
  },
  {
   "cell_type": "code",
   "execution_count": 26,
   "metadata": {},
   "outputs": [],
   "source": [
    "def token_normalization(text):\n",
    "    # Token normalization - stemming with PorterStemmer \n",
    "    # It is not important to keep \"real\" language words, so stemming (as being faster) is a better choice than lemmatization\n",
    "    stemmer = nltk.PorterStemmer()\n",
    "    \n",
    "    text_clean = [[stemmer.stem(w) for w in el] for el in text]\n",
    "    return text_clean"
   ]
  },
  {
   "cell_type": "code",
   "execution_count": 27,
   "metadata": {},
   "outputs": [],
   "source": [
    "def remove_numbers(text):\n",
    "    \n",
    "    text_clean = [[re.sub('[^A-Za-z]+', '', w) for w in el] for el in text]\n",
    "    # Remove empty strings after number removal\n",
    "    text_clean = [list(filter(None, el)) for el in text_clean]\n",
    "    \n",
    "    return text_clean"
   ]
  },
  {
   "cell_type": "code",
   "execution_count": 28,
   "metadata": {},
   "outputs": [],
   "source": [
    "def remove_short_words(text, k):\n",
    "    text_clean = [[w for w in el if len(w) > k] for el in text]\n",
    "    return text_clean"
   ]
  },
  {
   "cell_type": "code",
   "execution_count": 29,
   "metadata": {},
   "outputs": [],
   "source": [
    "def merge_back(text):\n",
    "    text_merge = [\" \".join(el) for el in text]\n",
    "    return text_merge"
   ]
  },
  {
   "cell_type": "code",
   "execution_count": 30,
   "metadata": {},
   "outputs": [],
   "source": [
    "# Combine all functions above\n",
    "def text_preprocess(text):\n",
    "#     text = remove_html(text)\n",
    "    text = convert_to_lower(text)\n",
    "    text = remove_control_chars(text)\n",
    "    tokens = tokenization(text)\n",
    "    tokens = remove_stopwords(tokens)\n",
    "    tokens = remove_punctuations(tokens)\n",
    "    tokens = token_normalization(tokens)\n",
    "    tokens = remove_numbers(tokens)\n",
    "    text = remove_short_words(tokens, 2)\n",
    "    text_final = merge_back(text)\n",
    "    \n",
    "    return tokens, text_final"
   ]
  },
  {
   "cell_type": "markdown",
   "metadata": {},
   "source": [
    "#### Let's apply cleaning functions on train set:"
   ]
  },
  {
   "cell_type": "code",
   "execution_count": 31,
   "metadata": {},
   "outputs": [
    {
     "data": {
      "text/plain": [
       "'bahia cocoa review\\n  showers continued throughout the week in\\n  the bahia cocoa zone, alleviating the drought since early\\n  january and improving prospects for the coming temporao,\\n  although normal humidity levels have not been restored,\\n  comissaria smith said in its weekly review.\\n      the dry p'"
      ]
     },
     "execution_count": 31,
     "metadata": {},
     "output_type": "execute_result"
    }
   ],
   "source": [
    "# Convert to lower case\n",
    "X_train =  convert_to_lower(X_train_raw)\n",
    "X_train[0][:300]"
   ]
  },
  {
   "cell_type": "code",
   "execution_count": 32,
   "metadata": {},
   "outputs": [
    {
     "data": {
      "text/plain": [
       "'bahia cocoa review showers continued throughout the week in the bahia cocoa zone, alleviating the drought since early january and improving prospects for the coming temporao, although normal humidity levels have not been restored, comissaria smith said in its weekly review. the dry period means the '"
      ]
     },
     "execution_count": 32,
     "metadata": {},
     "output_type": "execute_result"
    }
   ],
   "source": [
    "# Remove control characters\n",
    "X_train =  remove_control_chars(X_train)\n",
    "X_train[0][:300]"
   ]
  },
  {
   "cell_type": "code",
   "execution_count": 33,
   "metadata": {
    "scrolled": true
   },
   "outputs": [
    {
     "name": "stdout",
     "output_type": "stream",
     "text": [
      "['bahia', 'cocoa', 'review', 'showers', 'continued', 'throughout', 'the', 'week', 'in', 'the', 'bahia', 'cocoa', 'zone', ',', 'alleviating', 'the', 'drought', 'since', 'early', 'january']\n"
     ]
    }
   ],
   "source": [
    "# Tokenization\n",
    "tokens_train = tokenization(X_train)\n",
    "print(tokens_train[0][:20])"
   ]
  },
  {
   "cell_type": "code",
   "execution_count": 34,
   "metadata": {},
   "outputs": [
    {
     "name": "stdout",
     "output_type": "stream",
     "text": [
      "['bahia', 'cocoa', 'review', 'showers', 'continued', 'throughout', 'week', 'bahia', 'cocoa', 'zone', ',', 'alleviating', 'drought', 'since', 'early', 'january', 'improving', 'prospects', 'coming', 'temporao']\n"
     ]
    }
   ],
   "source": [
    "# Remove stopwords\n",
    "tokens_train = remove_stopwords(tokens_train)\n",
    "print(tokens_train[0][:20])"
   ]
  },
  {
   "cell_type": "code",
   "execution_count": 35,
   "metadata": {},
   "outputs": [
    {
     "name": "stdout",
     "output_type": "stream",
     "text": [
      "['bahia', 'cocoa', 'review', 'showers', 'continued', 'throughout', 'week', 'bahia', 'cocoa', 'zone', 'alleviating', 'drought', 'since', 'early', 'january', 'improving', 'prospects', 'coming', 'temporao', 'although']\n"
     ]
    }
   ],
   "source": [
    "# Remove punctuations\n",
    "tokens_train = remove_punctuations(tokens_train)\n",
    "print(tokens_train[0][:20])"
   ]
  },
  {
   "cell_type": "code",
   "execution_count": 36,
   "metadata": {},
   "outputs": [
    {
     "name": "stdout",
     "output_type": "stream",
     "text": [
      "['bahia', 'cocoa', 'review', 'shower', 'continu', 'throughout', 'week', 'bahia', 'cocoa', 'zone', 'allevi', 'drought', 'sinc', 'earli', 'januari', 'improv', 'prospect', 'come', 'temporao', 'although', 'normal', 'humid', 'level', 'restor', 'comissaria', 'smith', 'said', 'weekli', 'review', 'dri', 'period', 'mean', 'temporao', 'late', 'year', 'arriv', 'week', 'end', 'februari', '22', '155,221', 'bag', '60', 'kilo', 'make', 'cumul', 'total', 'season', '5.93', 'mln']\n"
     ]
    }
   ],
   "source": [
    "# Token normalization\n",
    "tokens_train = token_normalization(tokens_train)\n",
    "print(tokens_train[0][:50])"
   ]
  },
  {
   "cell_type": "code",
   "execution_count": 37,
   "metadata": {},
   "outputs": [
    {
     "name": "stdout",
     "output_type": "stream",
     "text": [
      "['bahia', 'cocoa', 'review', 'shower', 'continu', 'throughout', 'week', 'bahia', 'cocoa', 'zone', 'allevi', 'drought', 'sinc', 'earli', 'januari', 'improv', 'prospect', 'come', 'temporao', 'although', 'normal', 'humid', 'level', 'restor', 'comissaria', 'smith', 'said', 'weekli', 'review', 'dri', 'period', 'mean', 'temporao', 'late', 'year', 'arriv', 'week', 'end', 'februari', 'bag', 'kilo', 'make', 'cumul', 'total', 'season', 'mln', 'stage', 'last', 'year', 'seem']\n"
     ]
    }
   ],
   "source": [
    "# Remove numbers \n",
    "# Consider converting all numbers to \"number\" string instead of removing them ???\n",
    "tokens_train = remove_numbers(tokens_train) \n",
    "print(tokens_train[0][:50])"
   ]
  },
  {
   "cell_type": "code",
   "execution_count": 38,
   "metadata": {},
   "outputs": [
    {
     "name": "stdout",
     "output_type": "stream",
     "text": [
      "['bahia', 'cocoa', 'review', 'shower', 'continu', 'throughout', 'week', 'bahia', 'cocoa', 'zone', 'allevi', 'drought', 'sinc', 'earli', 'januari', 'improv', 'prospect', 'come', 'temporao', 'although', 'normal', 'humid', 'level', 'restor', 'comissaria', 'smith', 'said', 'weekli', 'review', 'dri', 'period', 'mean', 'temporao', 'late', 'year', 'arriv', 'week', 'end', 'februari', 'bag', 'kilo', 'make', 'cumul', 'total', 'season', 'mln', 'stage', 'last', 'year', 'seem', 'cocoa', 'deliv', 'earlier', 'consign', 'includ', 'arriv', 'figur', 'comissaria', 'smith', 'said']\n"
     ]
    }
   ],
   "source": [
    "# Remove words shorter than 2\n",
    "tokens_train = remove_short_words(tokens_train, 2)\n",
    "print(tokens_train[0][:60])"
   ]
  },
  {
   "cell_type": "code",
   "execution_count": 39,
   "metadata": {},
   "outputs": [
    {
     "data": {
      "text/plain": [
       "'bahia cocoa review shower continu throughout week bahia cocoa zone allevi drought sinc earli januari improv prospect come temporao although normal humid level restor comissaria smith said weekli review dri period mean temporao late year arriv week end februari bag kilo make cumul total season mln stage last year seem cocoa deliv earlier consign includ arriv figur comissaria smith said still doubt much old crop cocoa still avail harvest practic come end total bahia crop estim around mln bag sale '"
      ]
     },
     "execution_count": 39,
     "metadata": {},
     "output_type": "execute_result"
    }
   ],
   "source": [
    "X_train = merge_back(tokens_train)\n",
    "X_train[0][:500]"
   ]
  },
  {
   "cell_type": "markdown",
   "metadata": {},
   "source": [
    "#### Let's review frequency and size of cleaned data:"
   ]
  },
  {
   "cell_type": "code",
   "execution_count": 40,
   "metadata": {},
   "outputs": [],
   "source": [
    "indexes = [word for doc in tokens_train for word in doc]  "
   ]
  },
  {
   "cell_type": "code",
   "execution_count": 41,
   "metadata": {},
   "outputs": [],
   "source": [
    "from collections import Counter"
   ]
  },
  {
   "cell_type": "code",
   "execution_count": 42,
   "metadata": {
    "scrolled": true
   },
   "outputs": [
    {
     "data": {
      "text/plain": [
       "[('said', 18844),\n",
       " ('mln', 13102),\n",
       " ('dlr', 9750),\n",
       " ('pct', 7406),\n",
       " ('year', 6010),\n",
       " ('net', 4566),\n",
       " ('loss', 4312),\n",
       " ('share', 4184),\n",
       " ('billion', 4110),\n",
       " ('compani', 4037)]"
      ]
     },
     "execution_count": 42,
     "metadata": {},
     "output_type": "execute_result"
    }
   ],
   "source": [
    "# Most frequent words:\n",
    "corpus_freq = Counter(indexes).most_common()\n",
    "corpus_freq[:10]"
   ]
  },
  {
   "cell_type": "code",
   "execution_count": 43,
   "metadata": {},
   "outputs": [],
   "source": [
    "uniques = [word for word,freq in Counter(indexes).items() if freq == 1]"
   ]
  },
  {
   "cell_type": "code",
   "execution_count": 44,
   "metadata": {
    "scrolled": true
   },
   "outputs": [
    {
     "name": "stdout",
     "output_type": "stream",
     "text": [
      "There are 596080 words in the train corpus,\n",
      "- consisting of 19850 unique words,\n",
      "- out of which 7983 words appear only once the train corpus!\n"
     ]
    }
   ],
   "source": [
    "print(f\"There are {len(indexes)} words in the train corpus,\")\n",
    "print(f\"- consisting of {len(Counter(indexes))} unique words,\")\n",
    "print(f\"- out of which {len(uniques)} words appear only once the train corpus!\")"
   ]
  },
  {
   "cell_type": "markdown",
   "metadata": {},
   "source": [
    "#### Let's do the same cleaning transofrmations with test set (using combined function)"
   ]
  },
  {
   "cell_type": "code",
   "execution_count": 45,
   "metadata": {},
   "outputs": [],
   "source": [
    "tokens_test, X_test = text_preprocess(X_test_raw)"
   ]
  },
  {
   "cell_type": "code",
   "execution_count": 46,
   "metadata": {},
   "outputs": [
    {
     "data": {
      "text/plain": [
       "['asian',\n",
       " 'export',\n",
       " 'fear',\n",
       " 'damag',\n",
       " 'usjapan',\n",
       " 'rift',\n",
       " 'mount',\n",
       " 'trade',\n",
       " 'friction',\n",
       " 'us']"
      ]
     },
     "execution_count": 46,
     "metadata": {},
     "output_type": "execute_result"
    }
   ],
   "source": [
    "tokens_test[0][:10]"
   ]
  },
  {
   "cell_type": "markdown",
   "metadata": {},
   "source": [
    "<br><br><br>\n",
    "## Text vectorization\n",
    "This section will present the documents vectorization by TfIdf and Doc2Vec approaches."
   ]
  },
  {
   "cell_type": "markdown",
   "metadata": {},
   "source": [
    "### TFIDF\n",
    "This method is shown here only for text exploration and presentation purposes. The results of vectorization in this section is not used in the models, as in the models, the TfIdf is incorporated in the pipeline."
   ]
  },
  {
   "cell_type": "code",
   "execution_count": 47,
   "metadata": {},
   "outputs": [],
   "source": [
    "from sklearn.feature_extraction.text import TfidfVectorizer"
   ]
  },
  {
   "cell_type": "code",
   "execution_count": 48,
   "metadata": {},
   "outputs": [],
   "source": [
    "min_df = 3\n",
    "max_df = 0.8"
   ]
  },
  {
   "cell_type": "code",
   "execution_count": 49,
   "metadata": {},
   "outputs": [],
   "source": [
    "tfidf_vectorizer = TfidfVectorizer(min_df=min_df, max_df=max_df)\n",
    "\n",
    "tfidf = tfidf_vectorizer.fit(X_train)\n",
    "X_train_tfidf = tfidf.transform(X_train)\n",
    "\n",
    "X_test_tfidf = tfidf.transform(X_test)"
   ]
  },
  {
   "cell_type": "code",
   "execution_count": 50,
   "metadata": {},
   "outputs": [
    {
     "name": "stdout",
     "output_type": "stream",
     "text": [
      "The number of remaining tokens is 7188 out of 19850 unique words in original cleaned corpus\n"
     ]
    }
   ],
   "source": [
    "print(f\"The number of remaining tokens is {X_train_tfidf.shape[1]} out of {len(Counter(indexes))} unique words in original cleaned corpus\")"
   ]
  },
  {
   "cell_type": "code",
   "execution_count": 51,
   "metadata": {},
   "outputs": [],
   "source": [
    "# Take a dense tfidf with feature names\n",
    "df_tfidf = pd.DataFrame(X_train_tfidf.todense().T, index=tfidf.get_feature_names())"
   ]
  },
  {
   "cell_type": "markdown",
   "metadata": {},
   "source": [
    "#### TfIdf is a sparse matrix even after applying min and max number of words..."
   ]
  },
  {
   "cell_type": "code",
   "execution_count": 52,
   "metadata": {},
   "outputs": [
    {
     "data": {
      "text/html": [
       "<div>\n",
       "<style scoped>\n",
       "    .dataframe tbody tr th:only-of-type {\n",
       "        vertical-align: middle;\n",
       "    }\n",
       "\n",
       "    .dataframe tbody tr th {\n",
       "        vertical-align: top;\n",
       "    }\n",
       "\n",
       "    .dataframe thead th {\n",
       "        text-align: right;\n",
       "    }\n",
       "</style>\n",
       "<table border=\"1\" class=\"dataframe\">\n",
       "  <thead>\n",
       "    <tr style=\"text-align: right;\">\n",
       "      <th></th>\n",
       "      <th>0</th>\n",
       "      <th>1</th>\n",
       "      <th>2</th>\n",
       "      <th>3</th>\n",
       "      <th>4</th>\n",
       "      <th>5</th>\n",
       "      <th>6</th>\n",
       "      <th>7</th>\n",
       "      <th>8</th>\n",
       "      <th>9</th>\n",
       "      <th>...</th>\n",
       "      <th>7759</th>\n",
       "      <th>7760</th>\n",
       "      <th>7761</th>\n",
       "      <th>7762</th>\n",
       "      <th>7763</th>\n",
       "      <th>7764</th>\n",
       "      <th>7765</th>\n",
       "      <th>7766</th>\n",
       "      <th>7767</th>\n",
       "      <th>7768</th>\n",
       "    </tr>\n",
       "  </thead>\n",
       "  <tbody>\n",
       "    <tr>\n",
       "      <th>aaa</th>\n",
       "      <td>0.000000</td>\n",
       "      <td>0.0</td>\n",
       "      <td>0.0</td>\n",
       "      <td>0.0</td>\n",
       "      <td>0.0</td>\n",
       "      <td>0.0</td>\n",
       "      <td>0.0</td>\n",
       "      <td>0.0</td>\n",
       "      <td>0.0</td>\n",
       "      <td>0.0</td>\n",
       "      <td>...</td>\n",
       "      <td>0.0</td>\n",
       "      <td>0.0</td>\n",
       "      <td>0.0</td>\n",
       "      <td>0.0</td>\n",
       "      <td>0.0</td>\n",
       "      <td>0.0</td>\n",
       "      <td>0.0</td>\n",
       "      <td>0.0</td>\n",
       "      <td>0.0</td>\n",
       "      <td>0.0</td>\n",
       "    </tr>\n",
       "    <tr>\n",
       "      <th>aac</th>\n",
       "      <td>0.000000</td>\n",
       "      <td>0.0</td>\n",
       "      <td>0.0</td>\n",
       "      <td>0.0</td>\n",
       "      <td>0.0</td>\n",
       "      <td>0.0</td>\n",
       "      <td>0.0</td>\n",
       "      <td>0.0</td>\n",
       "      <td>0.0</td>\n",
       "      <td>0.0</td>\n",
       "      <td>...</td>\n",
       "      <td>0.0</td>\n",
       "      <td>0.0</td>\n",
       "      <td>0.0</td>\n",
       "      <td>0.0</td>\n",
       "      <td>0.0</td>\n",
       "      <td>0.0</td>\n",
       "      <td>0.0</td>\n",
       "      <td>0.0</td>\n",
       "      <td>0.0</td>\n",
       "      <td>0.0</td>\n",
       "    </tr>\n",
       "    <tr>\n",
       "      <th>aar</th>\n",
       "      <td>0.000000</td>\n",
       "      <td>0.0</td>\n",
       "      <td>0.0</td>\n",
       "      <td>0.0</td>\n",
       "      <td>0.0</td>\n",
       "      <td>0.0</td>\n",
       "      <td>0.0</td>\n",
       "      <td>0.0</td>\n",
       "      <td>0.0</td>\n",
       "      <td>0.0</td>\n",
       "      <td>...</td>\n",
       "      <td>0.0</td>\n",
       "      <td>0.0</td>\n",
       "      <td>0.0</td>\n",
       "      <td>0.0</td>\n",
       "      <td>0.0</td>\n",
       "      <td>0.0</td>\n",
       "      <td>0.0</td>\n",
       "      <td>0.0</td>\n",
       "      <td>0.0</td>\n",
       "      <td>0.0</td>\n",
       "    </tr>\n",
       "    <tr>\n",
       "      <th>abandon</th>\n",
       "      <td>0.000000</td>\n",
       "      <td>0.0</td>\n",
       "      <td>0.0</td>\n",
       "      <td>0.0</td>\n",
       "      <td>0.0</td>\n",
       "      <td>0.0</td>\n",
       "      <td>0.0</td>\n",
       "      <td>0.0</td>\n",
       "      <td>0.0</td>\n",
       "      <td>0.0</td>\n",
       "      <td>...</td>\n",
       "      <td>0.0</td>\n",
       "      <td>0.0</td>\n",
       "      <td>0.0</td>\n",
       "      <td>0.0</td>\n",
       "      <td>0.0</td>\n",
       "      <td>0.0</td>\n",
       "      <td>0.0</td>\n",
       "      <td>0.0</td>\n",
       "      <td>0.0</td>\n",
       "      <td>0.0</td>\n",
       "    </tr>\n",
       "    <tr>\n",
       "      <th>abat</th>\n",
       "      <td>0.000000</td>\n",
       "      <td>0.0</td>\n",
       "      <td>0.0</td>\n",
       "      <td>0.0</td>\n",
       "      <td>0.0</td>\n",
       "      <td>0.0</td>\n",
       "      <td>0.0</td>\n",
       "      <td>0.0</td>\n",
       "      <td>0.0</td>\n",
       "      <td>0.0</td>\n",
       "      <td>...</td>\n",
       "      <td>0.0</td>\n",
       "      <td>0.0</td>\n",
       "      <td>0.0</td>\n",
       "      <td>0.0</td>\n",
       "      <td>0.0</td>\n",
       "      <td>0.0</td>\n",
       "      <td>0.0</td>\n",
       "      <td>0.0</td>\n",
       "      <td>0.0</td>\n",
       "      <td>0.0</td>\n",
       "    </tr>\n",
       "    <tr>\n",
       "      <th>...</th>\n",
       "      <td>...</td>\n",
       "      <td>...</td>\n",
       "      <td>...</td>\n",
       "      <td>...</td>\n",
       "      <td>...</td>\n",
       "      <td>...</td>\n",
       "      <td>...</td>\n",
       "      <td>...</td>\n",
       "      <td>...</td>\n",
       "      <td>...</td>\n",
       "      <td>...</td>\n",
       "      <td>...</td>\n",
       "      <td>...</td>\n",
       "      <td>...</td>\n",
       "      <td>...</td>\n",
       "      <td>...</td>\n",
       "      <td>...</td>\n",
       "      <td>...</td>\n",
       "      <td>...</td>\n",
       "      <td>...</td>\n",
       "      <td>...</td>\n",
       "    </tr>\n",
       "    <tr>\n",
       "      <th>zoet</th>\n",
       "      <td>0.000000</td>\n",
       "      <td>0.0</td>\n",
       "      <td>0.0</td>\n",
       "      <td>0.0</td>\n",
       "      <td>0.0</td>\n",
       "      <td>0.0</td>\n",
       "      <td>0.0</td>\n",
       "      <td>0.0</td>\n",
       "      <td>0.0</td>\n",
       "      <td>0.0</td>\n",
       "      <td>...</td>\n",
       "      <td>0.0</td>\n",
       "      <td>0.0</td>\n",
       "      <td>0.0</td>\n",
       "      <td>0.0</td>\n",
       "      <td>0.0</td>\n",
       "      <td>0.0</td>\n",
       "      <td>0.0</td>\n",
       "      <td>0.0</td>\n",
       "      <td>0.0</td>\n",
       "      <td>0.0</td>\n",
       "    </tr>\n",
       "    <tr>\n",
       "      <th>zone</th>\n",
       "      <td>0.044526</td>\n",
       "      <td>0.0</td>\n",
       "      <td>0.0</td>\n",
       "      <td>0.0</td>\n",
       "      <td>0.0</td>\n",
       "      <td>0.0</td>\n",
       "      <td>0.0</td>\n",
       "      <td>0.0</td>\n",
       "      <td>0.0</td>\n",
       "      <td>0.0</td>\n",
       "      <td>...</td>\n",
       "      <td>0.0</td>\n",
       "      <td>0.0</td>\n",
       "      <td>0.0</td>\n",
       "      <td>0.0</td>\n",
       "      <td>0.0</td>\n",
       "      <td>0.0</td>\n",
       "      <td>0.0</td>\n",
       "      <td>0.0</td>\n",
       "      <td>0.0</td>\n",
       "      <td>0.0</td>\n",
       "    </tr>\n",
       "    <tr>\n",
       "      <th>zorinski</th>\n",
       "      <td>0.000000</td>\n",
       "      <td>0.0</td>\n",
       "      <td>0.0</td>\n",
       "      <td>0.0</td>\n",
       "      <td>0.0</td>\n",
       "      <td>0.0</td>\n",
       "      <td>0.0</td>\n",
       "      <td>0.0</td>\n",
       "      <td>0.0</td>\n",
       "      <td>0.0</td>\n",
       "      <td>...</td>\n",
       "      <td>0.0</td>\n",
       "      <td>0.0</td>\n",
       "      <td>0.0</td>\n",
       "      <td>0.0</td>\n",
       "      <td>0.0</td>\n",
       "      <td>0.0</td>\n",
       "      <td>0.0</td>\n",
       "      <td>0.0</td>\n",
       "      <td>0.0</td>\n",
       "      <td>0.0</td>\n",
       "    </tr>\n",
       "    <tr>\n",
       "      <th>zuccherifici</th>\n",
       "      <td>0.000000</td>\n",
       "      <td>0.0</td>\n",
       "      <td>0.0</td>\n",
       "      <td>0.0</td>\n",
       "      <td>0.0</td>\n",
       "      <td>0.0</td>\n",
       "      <td>0.0</td>\n",
       "      <td>0.0</td>\n",
       "      <td>0.0</td>\n",
       "      <td>0.0</td>\n",
       "      <td>...</td>\n",
       "      <td>0.0</td>\n",
       "      <td>0.0</td>\n",
       "      <td>0.0</td>\n",
       "      <td>0.0</td>\n",
       "      <td>0.0</td>\n",
       "      <td>0.0</td>\n",
       "      <td>0.0</td>\n",
       "      <td>0.0</td>\n",
       "      <td>0.0</td>\n",
       "      <td>0.0</td>\n",
       "    </tr>\n",
       "    <tr>\n",
       "      <th>zurich</th>\n",
       "      <td>0.000000</td>\n",
       "      <td>0.0</td>\n",
       "      <td>0.0</td>\n",
       "      <td>0.0</td>\n",
       "      <td>0.0</td>\n",
       "      <td>0.0</td>\n",
       "      <td>0.0</td>\n",
       "      <td>0.0</td>\n",
       "      <td>0.0</td>\n",
       "      <td>0.0</td>\n",
       "      <td>...</td>\n",
       "      <td>0.0</td>\n",
       "      <td>0.0</td>\n",
       "      <td>0.0</td>\n",
       "      <td>0.0</td>\n",
       "      <td>0.0</td>\n",
       "      <td>0.0</td>\n",
       "      <td>0.0</td>\n",
       "      <td>0.0</td>\n",
       "      <td>0.0</td>\n",
       "      <td>0.0</td>\n",
       "    </tr>\n",
       "  </tbody>\n",
       "</table>\n",
       "<p>7188 rows × 7769 columns</p>\n",
       "</div>"
      ],
      "text/plain": [
       "                  0     1     2     3     4     5     6     7     8     9     \\\n",
       "aaa           0.000000   0.0   0.0   0.0   0.0   0.0   0.0   0.0   0.0   0.0   \n",
       "aac           0.000000   0.0   0.0   0.0   0.0   0.0   0.0   0.0   0.0   0.0   \n",
       "aar           0.000000   0.0   0.0   0.0   0.0   0.0   0.0   0.0   0.0   0.0   \n",
       "abandon       0.000000   0.0   0.0   0.0   0.0   0.0   0.0   0.0   0.0   0.0   \n",
       "abat          0.000000   0.0   0.0   0.0   0.0   0.0   0.0   0.0   0.0   0.0   \n",
       "...                ...   ...   ...   ...   ...   ...   ...   ...   ...   ...   \n",
       "zoet          0.000000   0.0   0.0   0.0   0.0   0.0   0.0   0.0   0.0   0.0   \n",
       "zone          0.044526   0.0   0.0   0.0   0.0   0.0   0.0   0.0   0.0   0.0   \n",
       "zorinski      0.000000   0.0   0.0   0.0   0.0   0.0   0.0   0.0   0.0   0.0   \n",
       "zuccherifici  0.000000   0.0   0.0   0.0   0.0   0.0   0.0   0.0   0.0   0.0   \n",
       "zurich        0.000000   0.0   0.0   0.0   0.0   0.0   0.0   0.0   0.0   0.0   \n",
       "\n",
       "              ...  7759  7760  7761  7762  7763  7764  7765  7766  7767  7768  \n",
       "aaa           ...   0.0   0.0   0.0   0.0   0.0   0.0   0.0   0.0   0.0   0.0  \n",
       "aac           ...   0.0   0.0   0.0   0.0   0.0   0.0   0.0   0.0   0.0   0.0  \n",
       "aar           ...   0.0   0.0   0.0   0.0   0.0   0.0   0.0   0.0   0.0   0.0  \n",
       "abandon       ...   0.0   0.0   0.0   0.0   0.0   0.0   0.0   0.0   0.0   0.0  \n",
       "abat          ...   0.0   0.0   0.0   0.0   0.0   0.0   0.0   0.0   0.0   0.0  \n",
       "...           ...   ...   ...   ...   ...   ...   ...   ...   ...   ...   ...  \n",
       "zoet          ...   0.0   0.0   0.0   0.0   0.0   0.0   0.0   0.0   0.0   0.0  \n",
       "zone          ...   0.0   0.0   0.0   0.0   0.0   0.0   0.0   0.0   0.0   0.0  \n",
       "zorinski      ...   0.0   0.0   0.0   0.0   0.0   0.0   0.0   0.0   0.0   0.0  \n",
       "zuccherifici  ...   0.0   0.0   0.0   0.0   0.0   0.0   0.0   0.0   0.0   0.0  \n",
       "zurich        ...   0.0   0.0   0.0   0.0   0.0   0.0   0.0   0.0   0.0   0.0  \n",
       "\n",
       "[7188 rows x 7769 columns]"
      ]
     },
     "execution_count": 52,
     "metadata": {},
     "output_type": "execute_result"
    }
   ],
   "source": [
    "df_tfidf"
   ]
  },
  {
   "cell_type": "markdown",
   "metadata": {},
   "source": [
    "#### Let's see TfIdf values > 0 for the first document: "
   ]
  },
  {
   "cell_type": "code",
   "execution_count": 53,
   "metadata": {},
   "outputs": [
    {
     "data": {
      "text/html": [
       "<div>\n",
       "<style scoped>\n",
       "    .dataframe tbody tr th:only-of-type {\n",
       "        vertical-align: middle;\n",
       "    }\n",
       "\n",
       "    .dataframe tbody tr th {\n",
       "        vertical-align: top;\n",
       "    }\n",
       "\n",
       "    .dataframe thead th {\n",
       "        text-align: right;\n",
       "    }\n",
       "</style>\n",
       "<table border=\"1\" class=\"dataframe\">\n",
       "  <thead>\n",
       "    <tr style=\"text-align: right;\">\n",
       "      <th></th>\n",
       "      <th>0</th>\n",
       "    </tr>\n",
       "  </thead>\n",
       "  <tbody>\n",
       "    <tr>\n",
       "      <th>allevi</th>\n",
       "      <td>0.056771</td>\n",
       "    </tr>\n",
       "    <tr>\n",
       "      <th>almost</th>\n",
       "      <td>0.038594</td>\n",
       "    </tr>\n",
       "    <tr>\n",
       "      <th>also</th>\n",
       "      <td>0.020205</td>\n",
       "    </tr>\n",
       "    <tr>\n",
       "      <th>although</th>\n",
       "      <td>0.033906</td>\n",
       "    </tr>\n",
       "    <tr>\n",
       "      <th>aprilmay</th>\n",
       "      <td>0.055303</td>\n",
       "    </tr>\n",
       "    <tr>\n",
       "      <th>...</th>\n",
       "      <td>...</td>\n",
       "    </tr>\n",
       "    <tr>\n",
       "      <th>went</th>\n",
       "      <td>0.043398</td>\n",
       "    </tr>\n",
       "    <tr>\n",
       "      <th>would</th>\n",
       "      <td>0.019074</td>\n",
       "    </tr>\n",
       "    <tr>\n",
       "      <th>year</th>\n",
       "      <td>0.029054</td>\n",
       "    </tr>\n",
       "    <tr>\n",
       "      <th>york</th>\n",
       "      <td>0.258704</td>\n",
       "    </tr>\n",
       "    <tr>\n",
       "      <th>zone</th>\n",
       "      <td>0.044526</td>\n",
       "    </tr>\n",
       "  </tbody>\n",
       "</table>\n",
       "<p>140 rows × 1 columns</p>\n",
       "</div>"
      ],
      "text/plain": [
       "                 0\n",
       "allevi    0.056771\n",
       "almost    0.038594\n",
       "also      0.020205\n",
       "although  0.033906\n",
       "aprilmay  0.055303\n",
       "...            ...\n",
       "went      0.043398\n",
       "would     0.019074\n",
       "year      0.029054\n",
       "york      0.258704\n",
       "zone      0.044526\n",
       "\n",
       "[140 rows x 1 columns]"
      ]
     },
     "execution_count": 53,
     "metadata": {},
     "output_type": "execute_result"
    }
   ],
   "source": [
    "doc = 0\n",
    "df_tfidf.loc[df_tfidf[doc] > 0, [doc]]"
   ]
  },
  {
   "cell_type": "markdown",
   "metadata": {},
   "source": [
    "#### Let's see the values of TfIdf for 10 random documents: "
   ]
  },
  {
   "cell_type": "code",
   "execution_count": 54,
   "metadata": {
    "scrolled": false
   },
   "outputs": [
    {
     "data": {
      "image/png": "[encoded data removed]",
      "text/plain": [
       "<Figure size 720x432 with 1 Axes>"
      ]
     },
     "metadata": {
      "needs_background": "light"
     },
     "output_type": "display_data"
    }
   ],
   "source": [
    "import random\n",
    "n = 10 # Number of articles to be presented\n",
    "randomlist = random.sample(range(0, X_train_tfidf.shape[0]), n)\n",
    "\n",
    "plt.figure(figsize=(10,6))\n",
    "\n",
    "for i in randomlist:\n",
    "    rowssort = X_train_tfidf.getrow(i).todense().A1.argsort()[::-1]\n",
    "    valsort = df_tfidf[i].values[rowssort]\n",
    "    \n",
    "    plt.plot(valsort, 'o')\n",
    "\n",
    "ax = plt.gca()\n",
    "ax.set(xlim=(-10, 200), ylim=(0, 1),\n",
    "       ylabel='tf-idf value',\n",
    "       title=f'Values of tfidf in descending order for {n} random articles');\n"
   ]
  },
  {
   "cell_type": "markdown",
   "metadata": {},
   "source": [
    "<br><br><br>\n",
    "### Doc2Vec\n",
    "This section will build a Doc2Vec model trained on the corpus available in the dataset. This Doc2Vec will be used and provided to the classifier instead of TfIdf."
   ]
  },
  {
   "cell_type": "code",
   "execution_count": 55,
   "metadata": {},
   "outputs": [],
   "source": [
    "from gensim.models import Doc2Vec\n",
    "from gensim.models.doc2vec import TaggedDocument\n",
    "\n",
    "import multiprocessing"
   ]
  },
  {
   "cell_type": "code",
   "execution_count": 56,
   "metadata": {},
   "outputs": [
    {
     "data": {
      "text/plain": [
       "gensim.models.doc2vec.TaggedDocument"
      ]
     },
     "execution_count": 56,
     "metadata": {},
     "output_type": "execute_result"
    }
   ],
   "source": [
    "TaggedDocument"
   ]
  },
  {
   "cell_type": "markdown",
   "metadata": {},
   "source": [
    "#### Let's train my own model:"
   ]
  },
  {
   "cell_type": "code",
   "execution_count": 57,
   "metadata": {},
   "outputs": [],
   "source": [
    "# Create train corpus objects from tokenized train set \n",
    "D2V_train_corpus = [TaggedDocument(doc, [i]) for i, doc in enumerate(tokens_train)]"
   ]
  },
  {
   "cell_type": "code",
   "execution_count": 58,
   "metadata": {
    "scrolled": true
   },
   "outputs": [
    {
     "data": {
      "text/plain": [
       "TaggedDocument(words=['comput', 'termin', 'system', 'cpml', 'complet', 'sale', 'comput', 'termin', 'system', 'inc', 'said', 'complet', 'sale', 'share', 'common', 'stock', 'warrant', 'acquir', 'addit', 'one', 'mln', 'share', 'sedio', 'lugano', 'switzerland', 'dlr', 'compani', 'said', 'warrant', 'exercis', 'five', 'year', 'purchas', 'price', 'dlr', 'per', 'share', 'comput', 'termin', 'said', 'sedio', 'also', 'right', 'buy', 'addit', 'share', 'increas', 'total', 'hold', 'pct', 'comput', 'termin', 'outstand', 'common', 'stock', 'certain', 'circumst', 'involv', 'chang', 'control', 'compani', 'compani', 'said', 'condit', 'occur', 'warrant', 'would', 'exercis', 'price', 'equal', 'pct', 'common', 'stock', 'market', 'price', 'time', 'exceed', 'dlr', 'per', 'share', 'comput', 'termin', 'also', 'said', 'sold', 'technolgi', 'right', 'dot', 'matrix', 'impact', 'technolog', 'includ', 'futur', 'improv', 'woodco', 'inc', 'houston', 'tex', 'dlr', 'said', 'would', 'continu', 'exclus', 'worldwid', 'license', 'technolog', 'woodco', 'compani', 'said', 'move', 'part', 'reorgan', 'plan', 'would', 'help', 'pay', 'current', 'oper', 'cost', 'ensur', 'product', 'deliveri', 'comput', 'termin', 'make', 'comput', 'gener', 'label', 'form', 'tag', 'ticket', 'printer', 'termin'], tags=[1])"
      ]
     },
     "execution_count": 58,
     "metadata": {},
     "output_type": "execute_result"
    }
   ],
   "source": [
    "D2V_train_corpus[1]"
   ]
  },
  {
   "cell_type": "code",
   "execution_count": 59,
   "metadata": {},
   "outputs": [],
   "source": [
    "# Params:\n",
    "vector_size = 100 # Same as we will use for CNN model\n",
    "min_count= 3 # Same as for TfIdf\n",
    "\n",
    "cores = multiprocessing.cpu_count()-1"
   ]
  },
  {
   "cell_type": "markdown",
   "metadata": {},
   "source": [
    "#### The next 4 cells trains the model and saves it to the drive. Skip them and load model from the drive if you don't want to wait too long"
   ]
  },
  {
   "cell_type": "code",
   "execution_count": 60,
   "metadata": {},
   "outputs": [],
   "source": [
    "# 1. Create DBOW model (dm=0 --> DBOW, while dm=1 --> PV-DM)\n",
    "# model_Doc2Vec =  Doc2Vec(dm=0, vector_size = vector_size, min_count = min_count, window = 4, epochs = 40, workers=cores)"
   ]
  },
  {
   "cell_type": "code",
   "execution_count": 61,
   "metadata": {},
   "outputs": [],
   "source": [
    "# 2. Pass corpus to build vocabulary\n",
    "# model_Doc2Vec.build_vocab(D2V_train_corpus)"
   ]
  },
  {
   "cell_type": "code",
   "execution_count": 62,
   "metadata": {},
   "outputs": [],
   "source": [
    "# 3. Train model prepared train corpus\n",
    "# model_Doc2Vec.train(D2V_train_corpus,\n",
    "#                     total_examples = model_Doc2Vec.corpus_count,\n",
    "#                     epochs = model_Doc2Vec.epochs)"
   ]
  },
  {
   "cell_type": "code",
   "execution_count": 63,
   "metadata": {},
   "outputs": [],
   "source": [
    "# 4. Save the model\n",
    "# model_Doc2Vec.save('model_Doc2Vec')"
   ]
  },
  {
   "cell_type": "code",
   "execution_count": 64,
   "metadata": {},
   "outputs": [],
   "source": [
    "model_Doc2Vec = Doc2Vec.load('model_Doc2Vec')"
   ]
  },
  {
   "cell_type": "code",
   "execution_count": 65,
   "metadata": {},
   "outputs": [
    {
     "data": {
      "text/plain": [
       "array([-0.94684154, -0.16295987,  0.22185573,  0.42019096,  1.20932579,\n",
       "       -0.13093458, -0.12016711, -0.81358808,  0.2468235 , -0.47098747])"
      ]
     },
     "execution_count": 65,
     "metadata": {},
     "output_type": "execute_result"
    }
   ],
   "source": [
    "# Build vector feature from train corpus:\n",
    "X_train_D2V = np.zeros((len(tokens_train), vector_size))\n",
    "for i in range(len(tokens_train)):\n",
    "    X_train_D2V[i]=model_Doc2Vec.infer_vector(tokens_train[i])\n",
    "\n",
    "X_train_D2V[0][:10]"
   ]
  },
  {
   "cell_type": "code",
   "execution_count": 66,
   "metadata": {},
   "outputs": [],
   "source": [
    "# Build vector feature from test corpus:\n",
    "X_test_D2V = np.zeros((len(tokens_test), vector_size))\n",
    "for i in range(len(tokens_test)):\n",
    "    X_test_D2V[i]=model_Doc2Vec.infer_vector(tokens_test[i])"
   ]
  },
  {
   "cell_type": "markdown",
   "metadata": {},
   "source": [
    "<br><br><br>\n",
    "## Target binarization\n",
    "In the multilabel problem, the number of associated labels is unknown apriori, thus number of labels will differ depending on the document. We would like to have the same number of labels for each document.\n",
    "\n",
    "For each document, MultiLabelBinarizer will create a vector with n number of binary values (n being a number of possible labels, here = 90) and assigns 1's to appropriate document tags."
   ]
  },
  {
   "cell_type": "code",
   "execution_count": 67,
   "metadata": {},
   "outputs": [],
   "source": [
    "from sklearn.preprocessing import MultiLabelBinarizer\n",
    "\n",
    "mlb = MultiLabelBinarizer()\n",
    "y_train = mlb.fit_transform(y_train_raw)\n",
    "y_test = mlb.transform(y_test_raw)"
   ]
  },
  {
   "cell_type": "code",
   "execution_count": 68,
   "metadata": {},
   "outputs": [
    {
     "data": {
      "text/plain": [
       "['cocoa', 'coffee', 'sugar']"
      ]
     },
     "execution_count": 68,
     "metadata": {},
     "output_type": "execute_result"
    }
   ],
   "source": [
    "y_train_raw[9]"
   ]
  },
  {
   "cell_type": "code",
   "execution_count": 69,
   "metadata": {
    "scrolled": true
   },
   "outputs": [
    {
     "data": {
      "text/plain": [
       "array([0, 0, 0, 0, 0, 0, 1, 0, 0, 1, 0, 0, 0, 0, 0, 0, 0, 0, 0, 0, 0, 0,\n",
       "       0, 0, 0, 0, 0, 0, 0, 0, 0, 0, 0, 0, 0, 0, 0, 0, 0, 0, 0, 0, 0, 0,\n",
       "       0, 0, 0, 0, 0, 0, 0, 0, 0, 0, 0, 0, 0, 0, 0, 0, 0, 0, 0, 0, 0, 0,\n",
       "       0, 0, 0, 0, 0, 0, 0, 0, 0, 0, 0, 0, 1, 0, 0, 0, 0, 0, 0, 0, 0, 0,\n",
       "       0, 0])"
      ]
     },
     "execution_count": 69,
     "metadata": {},
     "output_type": "execute_result"
    }
   ],
   "source": [
    "y_train[9]"
   ]
  },
  {
   "cell_type": "markdown",
   "metadata": {},
   "source": [
    "<br><br><br>\n",
    "# Models"
   ]
  },
  {
   "cell_type": "markdown",
   "metadata": {},
   "source": [
    "#### Support function to plot metrics (taken from a web):"
   ]
  },
  {
   "cell_type": "code",
   "execution_count": 70,
   "metadata": {},
   "outputs": [],
   "source": [
    "def metricsReport(modelName, test_labels, predictions):\n",
    "    accuracy = accuracy_score(test_labels, predictions)\n",
    "\n",
    "    macro_precision = precision_score(test_labels, predictions, average='macro')\n",
    "    macro_recall = recall_score(test_labels, predictions, average='macro')\n",
    "    macro_f1 = f1_score(test_labels, predictions, average='macro')\n",
    "\n",
    "    micro_precision = precision_score(test_labels, predictions, average='micro')\n",
    "    micro_recall = recall_score(test_labels, predictions, average='micro')\n",
    "    micro_f1 = f1_score(test_labels, predictions, average='micro')\n",
    "    hamLoss = hamming_loss(test_labels, predictions)\n",
    "    print(\"------\" + modelName + \" Model Metrics-----\")\n",
    "    print(\"Accuracy: {:.4f}\\nHamming Loss: {:.4f}\\nPrecision:\\n  - Macro: {:.4f}\\n  - Micro: {:.4f}\\nRecall:\\n  - Macro: {:.4f}\\n  - Micro: {:.4f}\\nF1-measure:\\n  - Macro: {:.4f}\\n  - Micro: {:.4f}\"\\\n",
    "          .format(accuracy, hamLoss, macro_precision, micro_precision, macro_recall, micro_recall, macro_f1, micro_f1))\n",
    "#     ModelsPerformance[modelName] = micro_f1"
   ]
  },
  {
   "cell_type": "markdown",
   "metadata": {},
   "source": [
    "<br><br>\n",
    "## Models inherently supporting multilabel problems\n",
    "* Random Forest\n",
    "* kNN\n",
    "\n",
    "with 2 different pre-processing approaches: TfIdf & Doc2Vec"
   ]
  },
  {
   "cell_type": "markdown",
   "metadata": {},
   "source": [
    "### Random Forest"
   ]
  },
  {
   "cell_type": "code",
   "execution_count": 71,
   "metadata": {},
   "outputs": [],
   "source": [
    "from sklearn.ensemble import RandomForestClassifier"
   ]
  },
  {
   "cell_type": "markdown",
   "metadata": {},
   "source": [
    "#### Random Forest with TfIdf"
   ]
  },
  {
   "cell_type": "code",
   "execution_count": 76,
   "metadata": {},
   "outputs": [
    {
     "name": "stdout",
     "output_type": "stream",
     "text": [
      "Fitting 5 folds for each of 6 candidates, totalling 30 fits\n"
     ]
    },
    {
     "name": "stderr",
     "output_type": "stream",
     "text": [
      "[Parallel(n_jobs=-1)]: Using backend LokyBackend with 4 concurrent workers.\n",
      "[Parallel(n_jobs=-1)]: Done  30 out of  30 | elapsed:  6.4min finished\n"
     ]
    },
    {
     "name": "stdout",
     "output_type": "stream",
     "text": [
      "Best params: {'clf__criterion': 'gini', 'clf__n_estimators': 100}\n",
      "Train accuracy: 0.9920195649375724\n",
      "Test accuracy: 0.663795958926797\n"
     ]
    }
   ],
   "source": [
    "pipe = Pipeline(steps=[\n",
    "    ('vectorizer',  TfidfVectorizer(min_df=min_df, max_df=max_df)),\n",
    "    ('clf', RandomForestClassifier(n_estimators = 100, random_state=42))\n",
    "])\n",
    "\n",
    "param_grid = {\n",
    "    'clf__n_estimators': [25, 50, 100],\n",
    "#     'clf__max_depth': [4, 6, 8, 10],\n",
    "    'clf__criterion': ['gini', 'entropy']\n",
    "}\n",
    "\n",
    "grid_RF_tfidf = GridSearchCV(pipe, param_grid, cv=5, n_jobs=-1, return_train_score=True, verbose=1)\n",
    "grid_RF_tfidf.fit(X_train, y_train)\n",
    "\n",
    "print(f\"Best params: {grid_RF_tfidf.best_params_}\")\n",
    "print(f\"Train accuracy: {grid_RF_tfidf.score(X_train, y_train)}\")\n",
    "print(f\"Test accuracy: {grid_RF_tfidf.score(X_test, y_test)}\")"
   ]
  },
  {
   "cell_type": "code",
   "execution_count": 77,
   "metadata": {},
   "outputs": [
    {
     "name": "stdout",
     "output_type": "stream",
     "text": [
      "------RF tfidf Model Metrics-----\n",
      "Accuracy: 0.6638\n",
      "Hamming Loss: 0.0058\n",
      "Precision:\n",
      "  - Macro: 0.3960\n",
      "  - Micro: 0.9653\n",
      "Recall:\n",
      "  - Macro: 0.1095\n",
      "  - Micro: 0.6026\n",
      "F1-measure:\n",
      "  - Macro: 0.1540\n",
      "  - Micro: 0.7420\n"
     ]
    },
    {
     "name": "stderr",
     "output_type": "stream",
     "text": [
      "C:\\Users\\prad8002\\.conda\\envs\\py37\\lib\\site-packages\\sklearn\\metrics\\classification.py:1437: UndefinedMetricWarning: Precision is ill-defined and being set to 0.0 in labels with no predicted samples.\n",
      "  'precision', 'predicted', average, warn_for)\n",
      "C:\\Users\\prad8002\\.conda\\envs\\py37\\lib\\site-packages\\sklearn\\metrics\\classification.py:1437: UndefinedMetricWarning: F-score is ill-defined and being set to 0.0 in labels with no predicted samples.\n",
      "  'precision', 'predicted', average, warn_for)\n"
     ]
    }
   ],
   "source": [
    "y_pred = grid_RF_tfidf.best_estimator_.predict(X_test)\n",
    "metricsReport('RF tfidf', y_test, y_pred) "
   ]
  },
  {
   "cell_type": "code",
   "execution_count": 78,
   "metadata": {},
   "outputs": [],
   "source": [
    "# multilabel_confusion_matrix(y_test, y_pred )"
   ]
  },
  {
   "cell_type": "markdown",
   "metadata": {},
   "source": [
    "#### Random Forest with Doc2Vec"
   ]
  },
  {
   "cell_type": "code",
   "execution_count": 79,
   "metadata": {},
   "outputs": [
    {
     "name": "stdout",
     "output_type": "stream",
     "text": [
      "Fitting 5 folds for each of 6 candidates, totalling 30 fits\n"
     ]
    },
    {
     "name": "stderr",
     "output_type": "stream",
     "text": [
      "[Parallel(n_jobs=-1)]: Using backend LokyBackend with 4 concurrent workers.\n",
      "[Parallel(n_jobs=-1)]: Done  30 out of  30 | elapsed: 24.2min finished\n"
     ]
    },
    {
     "name": "stdout",
     "output_type": "stream",
     "text": [
      "Best params: {'clf__criterion': 'entropy', 'clf__n_estimators': 25}\n",
      "Train accuracy: 0.9864847470716952\n",
      "Test accuracy: 0.46372971182510764\n"
     ]
    }
   ],
   "source": [
    "pipe = Pipeline(steps=[\n",
    "    ('clf', RandomForestClassifier(n_estimators = 100, random_state=42))\n",
    "])\n",
    "\n",
    "param_grid = {\n",
    "    'clf__n_estimators': [25, 50, 100],\n",
    "#     'clf__max_depth': [4, 6, 8, 10],\n",
    "    'clf__criterion': ['gini', 'entropy']\n",
    "}\n",
    "\n",
    "grid_RF_D2V = GridSearchCV(pipe, param_grid, cv=5, n_jobs=-1, return_train_score=True, verbose=1)\n",
    "grid_RF_D2V.fit(X_train_D2V, y_train)\n",
    "\n",
    "print(f\"Best params: {grid_RF_D2V.best_params_}\")\n",
    "print(f\"Train accuracy: {grid_RF_D2V.score(X_train_D2V, y_train)}\")\n",
    "print(f\"Test accuracy: {grid_RF_D2V.score(X_test_D2V, y_test)}\")"
   ]
  },
  {
   "cell_type": "code",
   "execution_count": 80,
   "metadata": {},
   "outputs": [
    {
     "name": "stdout",
     "output_type": "stream",
     "text": [
      "------RF Doc2Vec Model Metrics-----\n",
      "Accuracy: 0.4637\n",
      "Hamming Loss: 0.0086\n",
      "Precision:\n",
      "  - Macro: 0.1900\n",
      "  - Micro: 0.9676\n",
      "Recall:\n",
      "  - Macro: 0.0318\n",
      "  - Micro: 0.3910\n",
      "F1-measure:\n",
      "  - Macro: 0.0456\n",
      "  - Micro: 0.5570\n"
     ]
    },
    {
     "name": "stderr",
     "output_type": "stream",
     "text": [
      "C:\\Users\\prad8002\\.conda\\envs\\py37\\lib\\site-packages\\sklearn\\metrics\\classification.py:1437: UndefinedMetricWarning: Precision is ill-defined and being set to 0.0 in labels with no predicted samples.\n",
      "  'precision', 'predicted', average, warn_for)\n",
      "C:\\Users\\prad8002\\.conda\\envs\\py37\\lib\\site-packages\\sklearn\\metrics\\classification.py:1437: UndefinedMetricWarning: F-score is ill-defined and being set to 0.0 in labels with no predicted samples.\n",
      "  'precision', 'predicted', average, warn_for)\n"
     ]
    }
   ],
   "source": [
    "y_pred = grid_RF_D2V.best_estimator_.predict(X_test_D2V)\n",
    "metricsReport('RF Doc2Vec', y_test, y_pred) "
   ]
  },
  {
   "cell_type": "markdown",
   "metadata": {},
   "source": [
    "### KNN"
   ]
  },
  {
   "cell_type": "code",
   "execution_count": 81,
   "metadata": {},
   "outputs": [],
   "source": [
    "from sklearn.neighbors import KNeighborsClassifier"
   ]
  },
  {
   "cell_type": "markdown",
   "metadata": {},
   "source": [
    "#### KNN with TfIdf"
   ]
  },
  {
   "cell_type": "code",
   "execution_count": 84,
   "metadata": {},
   "outputs": [
    {
     "name": "stdout",
     "output_type": "stream",
     "text": [
      "Fitting 5 folds for each of 10 candidates, totalling 50 fits\n"
     ]
    },
    {
     "name": "stderr",
     "output_type": "stream",
     "text": [
      "[Parallel(n_jobs=-1)]: Using backend LokyBackend with 4 concurrent workers.\n",
      "[Parallel(n_jobs=-1)]: Done  42 tasks      | elapsed:  5.2min\n",
      "[Parallel(n_jobs=-1)]: Done  50 out of  50 | elapsed:  5.9min finished\n"
     ]
    },
    {
     "name": "stdout",
     "output_type": "stream",
     "text": [
      "Best params: {'clf__n_neighbors': 5, 'clf__weights': 'distance'}\n",
      "Train accuracy: 0.9918908482430171\n",
      "Test accuracy: 0.7512421331566744\n"
     ]
    }
   ],
   "source": [
    "pipe = Pipeline(steps=[\n",
    "    ('vectorizer',  TfidfVectorizer(min_df=min_df, max_df=max_df)),\n",
    "    ('clf', KNeighborsClassifier())\n",
    "])\n",
    "\n",
    "param_grid = {\n",
    "    'clf__n_neighbors': [3,5,7,9,11],\n",
    "    'clf__weights': ['uniform', 'distance']\n",
    "}\n",
    "\n",
    "grid_kNN_tfidf = GridSearchCV(pipe, param_grid, cv=5, n_jobs=-1, return_train_score=True, verbose=1)\n",
    "grid_kNN_tfidf.fit(X_train, y_train)\n",
    "\n",
    "print(f\"Best params: {grid_kNN_tfidf.best_params_}\")\n",
    "print(f\"Train accuracy: {grid_kNN_tfidf.score(X_train, y_train)}\")\n",
    "print(f\"Test accuracy: {grid_kNN_tfidf.score(X_test, y_test)}\")"
   ]
  },
  {
   "cell_type": "code",
   "execution_count": 85,
   "metadata": {},
   "outputs": [
    {
     "name": "stderr",
     "output_type": "stream",
     "text": [
      "C:\\Users\\prad8002\\.conda\\envs\\py37\\lib\\site-packages\\sklearn\\metrics\\classification.py:1437: UndefinedMetricWarning: Precision is ill-defined and being set to 0.0 in labels with no predicted samples.\n",
      "  'precision', 'predicted', average, warn_for)\n",
      "C:\\Users\\prad8002\\.conda\\envs\\py37\\lib\\site-packages\\sklearn\\metrics\\classification.py:1437: UndefinedMetricWarning: F-score is ill-defined and being set to 0.0 in labels with no predicted samples.\n",
      "  'precision', 'predicted', average, warn_for)\n"
     ]
    },
    {
     "name": "stdout",
     "output_type": "stream",
     "text": [
      "------kNN tfidf Model Metrics-----\n",
      "Accuracy: 0.7512\n",
      "Hamming Loss: 0.0052\n",
      "Precision:\n",
      "  - Macro: 0.6271\n",
      "  - Micro: 0.8551\n",
      "Recall:\n",
      "  - Macro: 0.3961\n",
      "  - Micro: 0.7532\n",
      "F1-measure:\n",
      "  - Macro: 0.4537\n",
      "  - Micro: 0.8009\n"
     ]
    }
   ],
   "source": [
    "y_pred = grid_kNN_tfidf.best_estimator_.predict(X_test)\n",
    "metricsReport('kNN tfidf', y_test, y_pred)"
   ]
  },
  {
   "cell_type": "markdown",
   "metadata": {},
   "source": [
    "#### KNN with Doc2Vec"
   ]
  },
  {
   "cell_type": "code",
   "execution_count": 86,
   "metadata": {},
   "outputs": [
    {
     "name": "stdout",
     "output_type": "stream",
     "text": [
      "Fitting 5 folds for each of 10 candidates, totalling 50 fits\n"
     ]
    },
    {
     "name": "stderr",
     "output_type": "stream",
     "text": [
      "[Parallel(n_jobs=-1)]: Using backend LokyBackend with 4 concurrent workers.\n",
      "[Parallel(n_jobs=-1)]: Done  42 tasks      | elapsed:  8.4min\n",
      "[Parallel(n_jobs=-1)]: Done  50 out of  50 | elapsed:  9.2min finished\n"
     ]
    },
    {
     "name": "stdout",
     "output_type": "stream",
     "text": [
      "Best params: {'clf__n_neighbors': 3, 'clf__weights': 'distance'}\n",
      "Train accuracy: 1.0\n",
      "Test accuracy: 0.5935740311361378\n"
     ]
    }
   ],
   "source": [
    "pipe = Pipeline(steps=[\n",
    "    ('clf', KNeighborsClassifier())\n",
    "])\n",
    "\n",
    "param_grid = {\n",
    "    'clf__n_neighbors': [3,5,7,9,11],\n",
    "    'clf__weights': ['uniform', 'distance']\n",
    "}\n",
    "\n",
    "grid_kNN_D2V = GridSearchCV(pipe, param_grid, cv=5, n_jobs=-1, return_train_score=True, verbose=1)\n",
    "grid_kNN_D2V.fit(X_train_D2V, y_train)\n",
    "\n",
    "print(f\"Best params: {grid_kNN_D2V.best_params_}\")\n",
    "print(f\"Train accuracy: {grid_kNN_D2V.score(X_train_D2V, y_train)}\")\n",
    "print(f\"Test accuracy: {grid_kNN_D2V.score(X_test_D2V, y_test)}\")"
   ]
  },
  {
   "cell_type": "code",
   "execution_count": 87,
   "metadata": {},
   "outputs": [
    {
     "name": "stdout",
     "output_type": "stream",
     "text": [
      "------kNN D2V Model Metrics-----\n",
      "Accuracy: 0.5936\n",
      "Hamming Loss: 0.0092\n",
      "Precision:\n",
      "  - Macro: 0.4157\n",
      "  - Micro: 0.7069\n",
      "Recall:\n",
      "  - Macro: 0.1976\n",
      "  - Micro: 0.5713\n",
      "F1-measure:\n",
      "  - Macro: 0.2386\n",
      "  - Micro: 0.6319\n"
     ]
    },
    {
     "name": "stderr",
     "output_type": "stream",
     "text": [
      "C:\\Users\\prad8002\\.conda\\envs\\py37\\lib\\site-packages\\sklearn\\metrics\\classification.py:1437: UndefinedMetricWarning: Precision is ill-defined and being set to 0.0 in labels with no predicted samples.\n",
      "  'precision', 'predicted', average, warn_for)\n",
      "C:\\Users\\prad8002\\.conda\\envs\\py37\\lib\\site-packages\\sklearn\\metrics\\classification.py:1437: UndefinedMetricWarning: F-score is ill-defined and being set to 0.0 in labels with no predicted samples.\n",
      "  'precision', 'predicted', average, warn_for)\n"
     ]
    }
   ],
   "source": [
    "y_pred = grid_kNN_D2V.best_estimator_.predict(X_test_D2V)\n",
    "metricsReport('kNN D2V', y_test, y_pred)"
   ]
  },
  {
   "cell_type": "markdown",
   "metadata": {},
   "source": [
    "<br><br>\n",
    "## Models with OneVsRest approach\n",
    "* Linear SVC\n",
    "* Logistic Regression\n",
    "\n",
    "also with 2 different pre-processing: TfIdf & Doc2Vec"
   ]
  },
  {
   "cell_type": "code",
   "execution_count": 88,
   "metadata": {},
   "outputs": [],
   "source": [
    "from sklearn.multiclass import OneVsRestClassifier\n",
    "from sklearn.naive_bayes import MultinomialNB # Veeery bad predictions - highly sensitive to correlation between features\n",
    "from sklearn.svm import LinearSVC\n",
    "from sklearn.linear_model import LogisticRegression"
   ]
  },
  {
   "cell_type": "markdown",
   "metadata": {},
   "source": [
    "#### LinearSVC with TfIdf"
   ]
  },
  {
   "cell_type": "code",
   "execution_count": 89,
   "metadata": {},
   "outputs": [
    {
     "name": "stderr",
     "output_type": "stream",
     "text": [
      "[Parallel(n_jobs=-1)]: Using backend LokyBackend with 4 concurrent workers.\n"
     ]
    },
    {
     "name": "stdout",
     "output_type": "stream",
     "text": [
      "Fitting 5 folds for each of 5 candidates, totalling 25 fits\n"
     ]
    },
    {
     "name": "stderr",
     "output_type": "stream",
     "text": [
      "[Parallel(n_jobs=-1)]: Done  25 out of  25 | elapsed:  1.2min finished\n"
     ]
    },
    {
     "name": "stdout",
     "output_type": "stream",
     "text": [
      "Best params: {'clf__estimator__C': 1}\n",
      "Train accuracy: 0.9725833440597246\n",
      "Test accuracy: 0.8138456442530639\n"
     ]
    }
   ],
   "source": [
    "pipe = Pipeline(steps=[\n",
    "    ('vectorizer',  TfidfVectorizer(min_df=min_df, max_df=max_df)),\n",
    "    ('clf', OneVsRestClassifier(LinearSVC(max_iter = 10000)))\n",
    "])\n",
    "\n",
    "param_grid = {\n",
    "     'clf__estimator__C': [0.01, 0.1, 1, 10, 100]\n",
    "}\n",
    "\n",
    "grid_LinSVC_tfidf = GridSearchCV(pipe, param_grid, cv=5, n_jobs=-1, return_train_score=True, verbose=1)\n",
    "grid_LinSVC_tfidf.fit(X_train, y_train)\n",
    "\n",
    "print(f\"Best params: {grid_LinSVC_tfidf.best_params_}\")\n",
    "print(f\"Train accuracy: {grid_LinSVC_tfidf.score(X_train, y_train)}\")\n",
    "print(f\"Test accuracy: {grid_LinSVC_tfidf.score(X_test, y_test)}\")"
   ]
  },
  {
   "cell_type": "code",
   "execution_count": 90,
   "metadata": {
    "scrolled": true
   },
   "outputs": [
    {
     "name": "stdout",
     "output_type": "stream",
     "text": [
      "------LinSVC tfidf Model Metrics-----\n",
      "Accuracy: 0.8138\n",
      "Hamming Loss: 0.0033\n",
      "Precision:\n",
      "  - Macro: 0.6384\n",
      "  - Micro: 0.9462\n",
      "Recall:\n",
      "  - Macro: 0.3938\n",
      "  - Micro: 0.8026\n",
      "F1-measure:\n",
      "  - Macro: 0.4647\n",
      "  - Micro: 0.8685\n"
     ]
    },
    {
     "name": "stderr",
     "output_type": "stream",
     "text": [
      "C:\\Users\\prad8002\\.conda\\envs\\py37\\lib\\site-packages\\sklearn\\metrics\\classification.py:1437: UndefinedMetricWarning: Precision is ill-defined and being set to 0.0 in labels with no predicted samples.\n",
      "  'precision', 'predicted', average, warn_for)\n",
      "C:\\Users\\prad8002\\.conda\\envs\\py37\\lib\\site-packages\\sklearn\\metrics\\classification.py:1437: UndefinedMetricWarning: F-score is ill-defined and being set to 0.0 in labels with no predicted samples.\n",
      "  'precision', 'predicted', average, warn_for)\n"
     ]
    }
   ],
   "source": [
    "y_pred = grid_LinSVC_tfidf.best_estimator_.predict(X_test)\n",
    "metricsReport('LinSVC tfidf', y_test, y_pred)"
   ]
  },
  {
   "cell_type": "markdown",
   "metadata": {},
   "source": [
    "#### LinearSVC with Doc2Vec"
   ]
  },
  {
   "cell_type": "code",
   "execution_count": 91,
   "metadata": {},
   "outputs": [
    {
     "name": "stdout",
     "output_type": "stream",
     "text": [
      "Fitting 5 folds for each of 5 candidates, totalling 25 fits\n"
     ]
    },
    {
     "name": "stderr",
     "output_type": "stream",
     "text": [
      "[Parallel(n_jobs=-1)]: Using backend LokyBackend with 4 concurrent workers.\n",
      "[Parallel(n_jobs=-1)]: Done  25 out of  25 | elapsed:  3.8min finished\n"
     ]
    },
    {
     "name": "stdout",
     "output_type": "stream",
     "text": [
      "Best params: {'clf__estimator__C': 0.1}\n",
      "Train accuracy: 0.8182520272879392\n",
      "Test accuracy: 0.7098376946008612\n"
     ]
    }
   ],
   "source": [
    "pipe = Pipeline(steps=[\n",
    "    ('clf', OneVsRestClassifier(LinearSVC(max_iter = 10000)))\n",
    "])\n",
    "\n",
    "param_grid = {\n",
    "     'clf__estimator__C': [0.01, 0.1, 1, 10, 100]\n",
    "}\n",
    "\n",
    "grid_LinSVC_D2V = GridSearchCV(pipe, param_grid, cv=5, n_jobs=-1, return_train_score=True, verbose=1)\n",
    "grid_LinSVC_D2V.fit(X_train_D2V, y_train)\n",
    "\n",
    "print(f\"Best params: {grid_LinSVC_D2V.best_params_}\")\n",
    "print(f\"Train accuracy: {grid_LinSVC_D2V.score(X_train_D2V, y_train)}\")\n",
    "print(f\"Test accuracy: {grid_LinSVC_D2V.score(X_test_D2V, y_test)}\")"
   ]
  },
  {
   "cell_type": "code",
   "execution_count": 92,
   "metadata": {
    "scrolled": false
   },
   "outputs": [
    {
     "name": "stdout",
     "output_type": "stream",
     "text": [
      "------LinSVC D2V Model Metrics-----\n",
      "Accuracy: 0.7098\n",
      "Hamming Loss: 0.0054\n",
      "Precision:\n",
      "  - Macro: 0.4271\n",
      "  - Micro: 0.8241\n",
      "Recall:\n",
      "  - Macro: 0.2802\n",
      "  - Micro: 0.7706\n",
      "F1-measure:\n",
      "  - Macro: 0.3159\n",
      "  - Micro: 0.7964\n"
     ]
    },
    {
     "name": "stderr",
     "output_type": "stream",
     "text": [
      "C:\\Users\\prad8002\\.conda\\envs\\py37\\lib\\site-packages\\sklearn\\metrics\\classification.py:1437: UndefinedMetricWarning: Precision is ill-defined and being set to 0.0 in labels with no predicted samples.\n",
      "  'precision', 'predicted', average, warn_for)\n",
      "C:\\Users\\prad8002\\.conda\\envs\\py37\\lib\\site-packages\\sklearn\\metrics\\classification.py:1437: UndefinedMetricWarning: F-score is ill-defined and being set to 0.0 in labels with no predicted samples.\n",
      "  'precision', 'predicted', average, warn_for)\n"
     ]
    }
   ],
   "source": [
    "y_pred = grid_LinSVC_D2V.best_estimator_.predict(X_test_D2V)\n",
    "metricsReport('LinSVC D2V', y_test, y_pred)"
   ]
  },
  {
   "cell_type": "markdown",
   "metadata": {},
   "source": [
    "#### Logistic Regression with TfIdf"
   ]
  },
  {
   "cell_type": "code",
   "execution_count": 94,
   "metadata": {},
   "outputs": [
    {
     "name": "stdout",
     "output_type": "stream",
     "text": [
      "Fitting 5 folds for each of 15 candidates, totalling 75 fits\n"
     ]
    },
    {
     "name": "stderr",
     "output_type": "stream",
     "text": [
      "[Parallel(n_jobs=-1)]: Using backend LokyBackend with 4 concurrent workers.\n",
      "[Parallel(n_jobs=-1)]: Done  42 tasks      | elapsed:  2.7min\n",
      "[Parallel(n_jobs=-1)]: Done  75 out of  75 | elapsed:  6.1min finished\n"
     ]
    },
    {
     "name": "stdout",
     "output_type": "stream",
     "text": [
      "Best params: {'clf__estimator__C': 100, 'clf__estimator__solver': 'newton-cg'}\n",
      "Train accuracy: 0.9902175312137984\n",
      "Test accuracy: 0.8022524014574363\n"
     ]
    }
   ],
   "source": [
    "pipe = Pipeline(steps=[\n",
    "    ('vectorizer',  TfidfVectorizer(min_df=min_df, max_df=max_df)),\n",
    "    ('clf', OneVsRestClassifier(LogisticRegression(max_iter = 10000)))\n",
    "])\n",
    "\n",
    "param_grid = {\n",
    "            'clf__estimator__C': [0.01, 0.1, 1, 10, 100],\n",
    "            'clf__estimator__solver': ['newton-cg', 'lbfgs', 'liblinear']\n",
    "}\n",
    "\n",
    "grid_LR_tfidf = GridSearchCV(pipe, param_grid, cv=5, n_jobs=-1, return_train_score=True, verbose=1)\n",
    "grid_LR_tfidf.fit(X_train, y_train)\n",
    "\n",
    "print(f\"Best params: {grid_LR_tfidf.best_params_}\")\n",
    "print(f\"Train accuracy: {grid_LR_tfidf.score(X_train, y_train)}\")\n",
    "print(f\"Test accuracy: {grid_LR_tfidf.score(X_test, y_test)}\")"
   ]
  },
  {
   "cell_type": "code",
   "execution_count": 95,
   "metadata": {
    "scrolled": true
   },
   "outputs": [
    {
     "name": "stdout",
     "output_type": "stream",
     "text": [
      "------LogReg tfidf Model Metrics-----\n",
      "Accuracy: 0.8023\n",
      "Hamming Loss: 0.0035\n",
      "Precision:\n",
      "  - Macro: 0.6084\n",
      "  - Micro: 0.9416\n",
      "Recall:\n",
      "  - Macro: 0.3663\n",
      "  - Micro: 0.7917\n",
      "F1-measure:\n",
      "  - Macro: 0.4363\n",
      "  - Micro: 0.8601\n"
     ]
    },
    {
     "name": "stderr",
     "output_type": "stream",
     "text": [
      "C:\\Users\\prad8002\\.conda\\envs\\py37\\lib\\site-packages\\sklearn\\metrics\\classification.py:1437: UndefinedMetricWarning: Precision is ill-defined and being set to 0.0 in labels with no predicted samples.\n",
      "  'precision', 'predicted', average, warn_for)\n",
      "C:\\Users\\prad8002\\.conda\\envs\\py37\\lib\\site-packages\\sklearn\\metrics\\classification.py:1437: UndefinedMetricWarning: F-score is ill-defined and being set to 0.0 in labels with no predicted samples.\n",
      "  'precision', 'predicted', average, warn_for)\n"
     ]
    }
   ],
   "source": [
    "y_pred = grid_LR_tfidf.best_estimator_.predict(X_test)\n",
    "metricsReport('LogReg tfidf', y_test, y_pred)"
   ]
  },
  {
   "cell_type": "markdown",
   "metadata": {},
   "source": [
    "#### Logistic Regression with Doc2Vec"
   ]
  },
  {
   "cell_type": "code",
   "execution_count": 96,
   "metadata": {},
   "outputs": [
    {
     "name": "stdout",
     "output_type": "stream",
     "text": [
      "Fitting 5 folds for each of 15 candidates, totalling 75 fits\n"
     ]
    },
    {
     "name": "stderr",
     "output_type": "stream",
     "text": [
      "[Parallel(n_jobs=-1)]: Using backend LokyBackend with 4 concurrent workers.\n",
      "[Parallel(n_jobs=-1)]: Done  42 tasks      | elapsed:  3.3min\n",
      "[Parallel(n_jobs=-1)]: Done  75 out of  75 | elapsed:  7.7min finished\n"
     ]
    },
    {
     "name": "stdout",
     "output_type": "stream",
     "text": [
      "Best params: {'clf__estimator__C': 1, 'clf__estimator__solver': 'liblinear'}\n",
      "Train accuracy: 0.8165787102587205\n",
      "Test accuracy: 0.7121563431599868\n"
     ]
    }
   ],
   "source": [
    "pipe = Pipeline(steps=[\n",
    "    ('clf', OneVsRestClassifier(LogisticRegression(max_iter = 10000)))\n",
    "])\n",
    "\n",
    "param_grid = {\n",
    "     'clf__estimator__C': [0.01, 0.1, 1, 10, 100],\n",
    "     'clf__estimator__solver': ['newton-cg', 'lbfgs', 'liblinear']\n",
    "}\n",
    "\n",
    "grid_LR_D2V = GridSearchCV(pipe, param_grid, cv=5, n_jobs=-1, return_train_score=True, verbose=1)\n",
    "grid_LR_D2V.fit(X_train_D2V, y_train)\n",
    "\n",
    "print(f\"Best params: {grid_LR_D2V.best_params_}\")\n",
    "print(f\"Train accuracy: {grid_LR_D2V.score(X_train_D2V, y_train)}\")\n",
    "print(f\"Test accuracy: {grid_LR_D2V.score(X_test_D2V, y_test)}\")"
   ]
  },
  {
   "cell_type": "code",
   "execution_count": 97,
   "metadata": {
    "scrolled": false
   },
   "outputs": [
    {
     "name": "stderr",
     "output_type": "stream",
     "text": [
      "C:\\Users\\prad8002\\.conda\\envs\\py37\\lib\\site-packages\\sklearn\\metrics\\classification.py:1437: UndefinedMetricWarning: Precision is ill-defined and being set to 0.0 in labels with no predicted samples.\n",
      "  'precision', 'predicted', average, warn_for)\n",
      "C:\\Users\\prad8002\\.conda\\envs\\py37\\lib\\site-packages\\sklearn\\metrics\\classification.py:1437: UndefinedMetricWarning: F-score is ill-defined and being set to 0.0 in labels with no predicted samples.\n",
      "  'precision', 'predicted', average, warn_for)\n"
     ]
    },
    {
     "name": "stdout",
     "output_type": "stream",
     "text": [
      "------LinSVC D2V Model Metrics-----\n",
      "Accuracy: 0.7122\n",
      "Hamming Loss: 0.0053\n",
      "Precision:\n",
      "  - Macro: 0.4201\n",
      "  - Micro: 0.8352\n",
      "Recall:\n",
      "  - Macro: 0.2642\n",
      "  - Micro: 0.7634\n",
      "F1-measure:\n",
      "  - Macro: 0.3022\n",
      "  - Micro: 0.7977\n"
     ]
    }
   ],
   "source": [
    "y_pred = grid_LR_D2V.best_estimator_.predict(X_test_D2V)\n",
    "metricsReport('LinSVC D2V', y_test, y_pred)"
   ]
  },
  {
   "cell_type": "markdown",
   "metadata": {},
   "source": [
    "<br><br>\n",
    "## Model - Label Powerset\n",
    "Some labels can be correleted - this information is lost in OneVsRest models. Let's verify the correlation and apply Label Powerset model with Linear SVC."
   ]
  },
  {
   "cell_type": "markdown",
   "metadata": {},
   "source": [
    "### Labels correlation"
   ]
  },
  {
   "cell_type": "code",
   "execution_count": 98,
   "metadata": {},
   "outputs": [
    {
     "data": {
      "text/plain": [
       "<matplotlib.axes._subplots.AxesSubplot at 0x1ba01eb7f08>"
      ]
     },
     "execution_count": 98,
     "metadata": {},
     "output_type": "execute_result"
    },
    {
     "data": {
      "image/png": "[encoded data removed]",
      "text/plain": [
       "<Figure size 1080x720 with 2 Axes>"
      ]
     },
     "metadata": {
      "needs_background": "light"
     },
     "output_type": "display_data"
    }
   ],
   "source": [
    "plt.figure(figsize = (15,10))\n",
    "sns.heatmap(pd.DataFrame(y_train).corr())"
   ]
  },
  {
   "cell_type": "markdown",
   "metadata": {},
   "source": [
    "The labels do not seem to be stronly correlated, but some patterns might be observed"
   ]
  },
  {
   "cell_type": "markdown",
   "metadata": {},
   "source": [
    "### Label Powerset LinearSVC"
   ]
  },
  {
   "cell_type": "code",
   "execution_count": 99,
   "metadata": {
    "scrolled": true
   },
   "outputs": [],
   "source": [
    "from skmultilearn.problem_transform import LabelPowerset"
   ]
  },
  {
   "cell_type": "markdown",
   "metadata": {},
   "source": [
    "#### Label Powerset LinearSVC with TfIdf"
   ]
  },
  {
   "cell_type": "code",
   "execution_count": 100,
   "metadata": {},
   "outputs": [
    {
     "name": "stdout",
     "output_type": "stream",
     "text": [
      "Fitting 5 folds for each of 6 candidates, totalling 30 fits\n"
     ]
    },
    {
     "name": "stderr",
     "output_type": "stream",
     "text": [
      "[Parallel(n_jobs=-1)]: Using backend LokyBackend with 4 concurrent workers.\n",
      "[Parallel(n_jobs=-1)]: Done  30 out of  30 | elapsed:  2.4min finished\n"
     ]
    },
    {
     "name": "stdout",
     "output_type": "stream",
     "text": [
      "Best params: {'clf__classifier__C': 1}\n",
      "Train accuracy: 0.9814647959840391\n",
      "Test accuracy: 0.8436568400132494\n"
     ]
    }
   ],
   "source": [
    "pipe = Pipeline(steps=[\n",
    "    ('vectorizer',  TfidfVectorizer(min_df=min_df, max_df=max_df)),\n",
    "    ('clf', LabelPowerset(LinearSVC(max_iter = 10000)))\n",
    "])\n",
    "\n",
    "param_grid = {\n",
    "     'clf__classifier__C': [0.01, 0.1, 0.5, 1, 10, 100]\n",
    "}\n",
    "\n",
    "grid_LP_LinSVC_tfidf = GridSearchCV(pipe, param_grid, cv=5, n_jobs=-1, return_train_score=True, verbose=1)\n",
    "grid_LP_LinSVC_tfidf.fit(X_train, y_train)\n",
    "\n",
    "print(f\"Best params: {grid_LP_LinSVC_tfidf.best_params_}\")\n",
    "print(f\"Train accuracy: {grid_LP_LinSVC_tfidf.score(X_train, y_train)}\")\n",
    "print(f\"Test accuracy: {grid_LP_LinSVC_tfidf.score(X_test, y_test)}\")"
   ]
  },
  {
   "cell_type": "code",
   "execution_count": 101,
   "metadata": {},
   "outputs": [
    {
     "name": "stdout",
     "output_type": "stream",
     "text": [
      "------LP LinSVC tfidf Model Metrics-----\n",
      "Accuracy: 0.8437\n",
      "Hamming Loss: 0.0036\n",
      "Precision:\n",
      "  - Macro: 0.6970\n",
      "  - Micro: 0.9050\n",
      "Recall:\n",
      "  - Macro: 0.4920\n",
      "  - Micro: 0.8269\n",
      "F1-measure:\n",
      "  - Macro: 0.5413\n",
      "  - Micro: 0.8642\n"
     ]
    },
    {
     "name": "stderr",
     "output_type": "stream",
     "text": [
      "C:\\Users\\prad8002\\.conda\\envs\\py37\\lib\\site-packages\\sklearn\\metrics\\classification.py:1437: UndefinedMetricWarning: Precision is ill-defined and being set to 0.0 in labels with no predicted samples.\n",
      "  'precision', 'predicted', average, warn_for)\n",
      "C:\\Users\\prad8002\\.conda\\envs\\py37\\lib\\site-packages\\sklearn\\metrics\\classification.py:1437: UndefinedMetricWarning: F-score is ill-defined and being set to 0.0 in labels with no predicted samples.\n",
      "  'precision', 'predicted', average, warn_for)\n"
     ]
    }
   ],
   "source": [
    "y_pred = grid_LP_LinSVC_tfidf.best_estimator_.predict(X_test)\n",
    "metricsReport('LP LinSVC tfidf', y_test, y_pred)"
   ]
  },
  {
   "cell_type": "markdown",
   "metadata": {},
   "source": [
    "#### Label Powerset LinearSVC with Doc2Vec"
   ]
  },
  {
   "cell_type": "code",
   "execution_count": 102,
   "metadata": {},
   "outputs": [
    {
     "name": "stderr",
     "output_type": "stream",
     "text": [
      "[Parallel(n_jobs=-1)]: Using backend LokyBackend with 4 concurrent workers.\n"
     ]
    },
    {
     "name": "stdout",
     "output_type": "stream",
     "text": [
      "Fitting 5 folds for each of 6 candidates, totalling 30 fits\n"
     ]
    },
    {
     "name": "stderr",
     "output_type": "stream",
     "text": [
      "[Parallel(n_jobs=-1)]: Done  30 out of  30 | elapsed:  3.6min finished\n"
     ]
    },
    {
     "name": "stdout",
     "output_type": "stream",
     "text": [
      "Best params: {'clf__classifier__C': 0.1}\n",
      "Train accuracy: 0.9281760844381516\n",
      "Test accuracy: 0.7919841006955946\n"
     ]
    }
   ],
   "source": [
    "pipe = Pipeline(steps=[\n",
    "    ('clf', LabelPowerset(LinearSVC(max_iter = 10000)))\n",
    "])\n",
    "\n",
    "param_grid = {\n",
    "     'clf__classifier__C': [0.01, 0.1, 0.5, 1, 10, 100]\n",
    "}\n",
    "\n",
    "grid_LP_LinSVC_D2V = GridSearchCV(pipe, param_grid, cv=5, n_jobs=-1, return_train_score=True, verbose=1)\n",
    "grid_LP_LinSVC_D2V.fit(X_train_D2V, y_train)\n",
    "\n",
    "print(f\"Best params: {grid_LP_LinSVC_D2V.best_params_}\")\n",
    "print(f\"Train accuracy: {grid_LP_LinSVC_D2V.score(X_train_D2V, y_train)}\")\n",
    "print(f\"Test accuracy: {grid_LP_LinSVC_D2V.score(X_test_D2V, y_test)}\")"
   ]
  },
  {
   "cell_type": "code",
   "execution_count": 103,
   "metadata": {},
   "outputs": [
    {
     "name": "stdout",
     "output_type": "stream",
     "text": [
      "------LP LinSVC Doc2Vec Model Metrics-----\n",
      "Accuracy: 0.7920\n",
      "Hamming Loss: 0.0050\n",
      "Precision:\n",
      "  - Macro: 0.5152\n",
      "  - Micro: 0.8493\n",
      "Recall:\n",
      "  - Macro: 0.3417\n",
      "  - Micro: 0.7722\n",
      "F1-measure:\n",
      "  - Macro: 0.3889\n",
      "  - Micro: 0.8089\n"
     ]
    },
    {
     "name": "stderr",
     "output_type": "stream",
     "text": [
      "C:\\Users\\prad8002\\.conda\\envs\\py37\\lib\\site-packages\\sklearn\\metrics\\classification.py:1437: UndefinedMetricWarning: Precision is ill-defined and being set to 0.0 in labels with no predicted samples.\n",
      "  'precision', 'predicted', average, warn_for)\n",
      "C:\\Users\\prad8002\\.conda\\envs\\py37\\lib\\site-packages\\sklearn\\metrics\\classification.py:1437: UndefinedMetricWarning: F-score is ill-defined and being set to 0.0 in labels with no predicted samples.\n",
      "  'precision', 'predicted', average, warn_for)\n"
     ]
    }
   ],
   "source": [
    "y_pred = grid_LP_LinSVC_D2V.best_estimator_.predict(X_test_D2V)\n",
    "metricsReport('LP LinSVC Doc2Vec', y_test, y_pred)"
   ]
  },
  {
   "cell_type": "markdown",
   "metadata": {},
   "source": [
    "<br><br>\n",
    "# Convolutional Neural Networks\n",
    "This section will test Convolutional Neural Network models with 2 different approaches:\n",
    "* embedding layer without initialized weights\n",
    "* embedding layer with weights from pre-trained FastText model\n",
    "\n",
    "Additional information:\n",
    "* the output layer size is set to be equal to all possible labels (90)\n",
    "* sigmoid activation function on output\n",
    "* loss function set to binary crossentropy.\n",
    "\n",
    "At the end - the labels are assigned based on the probability level."
   ]
  },
  {
   "cell_type": "code",
   "execution_count": 104,
   "metadata": {},
   "outputs": [
    {
     "name": "stderr",
     "output_type": "stream",
     "text": [
      "Using TensorFlow backend.\n"
     ]
    }
   ],
   "source": [
    "import keras\n",
    "from keras.preprocessing import sequence\n",
    "from keras.models import Sequential\n",
    "from keras.layers import Dense, Dropout, Flatten, Embedding, Conv1D, MaxPooling1D, GlobalAveragePooling1D, GlobalMaxPooling1D\n",
    "from keras.callbacks import EarlyStopping\n",
    "from keras.regularizers import l2"
   ]
  },
  {
   "cell_type": "markdown",
   "metadata": {},
   "source": [
    "### Parameters:"
   ]
  },
  {
   "cell_type": "code",
   "execution_count": 105,
   "metadata": {},
   "outputs": [],
   "source": [
    "# Set parameters:\n",
    "# For data prep / embedding:\n",
    "max_features = 5000 # number of features or number of top words to be used\n",
    "maxlen = 150\n",
    "embedding_dims = 300\n",
    "\n",
    "# For convolution:\n",
    "filters = 100\n",
    "kernel_size = 2\n",
    "\n",
    "# For model fit:\n",
    "batch_size = 10\n",
    "epochs = 3\n",
    "validation_split = 0.2"
   ]
  },
  {
   "cell_type": "code",
   "execution_count": 106,
   "metadata": {},
   "outputs": [],
   "source": [
    "# Define early stopping:\n",
    "es = EarlyStopping(patience = 4,\n",
    "                  monitor = 'val_loss',\n",
    "                  restore_best_weights=True)"
   ]
  },
  {
   "cell_type": "markdown",
   "metadata": {},
   "source": [
    "### Input preparation 1: Converting text into sequence of numbers"
   ]
  },
  {
   "cell_type": "markdown",
   "metadata": {},
   "source": [
    "#### My solution:"
   ]
  },
  {
   "cell_type": "code",
   "execution_count": 107,
   "metadata": {},
   "outputs": [],
   "source": [
    "# Take topwords as max_features-1 (0 index to be left for padding)\n",
    "topwords, _= zip(*corpus_freq[:max_features-1])\n",
    "topwords = list(topwords)"
   ]
  },
  {
   "cell_type": "code",
   "execution_count": 108,
   "metadata": {},
   "outputs": [],
   "source": [
    "# Create dictionary for words:\n",
    "word_to_index = dict([(word, index+1) for index, word in enumerate(topwords)])"
   ]
  },
  {
   "cell_type": "code",
   "execution_count": 109,
   "metadata": {},
   "outputs": [],
   "source": [
    "# Use dictionary to convert tokenized train words into ids\n",
    "X_train_seq = [[word_to_index[word] for word in doc if word in topwords] for doc in tokens_train ]\n",
    "# Do the same for test\n",
    "X_test_seq = [[word_to_index[word] for word in doc if word in topwords] for doc in tokens_test]"
   ]
  },
  {
   "cell_type": "code",
   "execution_count": 110,
   "metadata": {},
   "outputs": [
    {
     "name": "stdout",
     "output_type": "stream",
     "text": [
      "Average train sequence length: 72\n",
      "Average test sequence length: 66\n"
     ]
    }
   ],
   "source": [
    "print('Average train sequence length: {}'.format(np.mean(list(map(len, X_train_seq)), dtype=int)))\n",
    "print('Average test sequence length: {}'.format(np.mean(list(map(len, X_test_seq)), dtype=int)))"
   ]
  },
  {
   "cell_type": "markdown",
   "metadata": {},
   "source": [
    "##### Add padding to have the same length of each document:"
   ]
  },
  {
   "cell_type": "code",
   "execution_count": 111,
   "metadata": {},
   "outputs": [
    {
     "name": "stdout",
     "output_type": "stream",
     "text": [
      "X_train shape: (7769, 150)\n",
      "X_test shape: (3019, 150)\n",
      "[  78    1   86  103  233  285  268   78 1007  387   89   86   62   23\n",
      " 1296   84  233  203  526 1039    1    1  455  312  159 1809  268   78\n",
      " 2895  387  989  335   76  302  665 1134  212  377  460  209  849  155\n",
      "  831  397   12  297  203   84   12  331   86  405  832   48   26   14\n",
      "  801    0    0    0    0    0    0    0    0    0    0    0    0    0\n",
      "    0    0    0    0    0    0    0    0    0    0    0    0    0    0\n",
      "    0    0    0    0    0    0    0    0    0    0    0    0    0    0\n",
      "    0    0    0    0    0    0    0    0    0    0    0    0    0    0\n",
      "    0    0    0    0    0    0    0    0    0    0    0    0    0    0\n",
      "    0    0    0    0    0    0    0    0    0    0    0    0    0    0\n",
      "    0    0    0    0    0    0    0    0    0    0]\n"
     ]
    }
   ],
   "source": [
    "X_train_pad = sequence.pad_sequences(X_train_seq, maxlen=maxlen, padding='post')\n",
    "X_test_pad = sequence.pad_sequences(X_test_seq, maxlen=maxlen, padding='post')\n",
    "print('X_train shape:', X_train_pad.shape)\n",
    "print('X_test shape:', X_test_pad.shape)\n",
    "print(X_train_pad[10])"
   ]
  },
  {
   "cell_type": "markdown",
   "metadata": {},
   "source": [
    "##### After fighting with the piece of code above, I found out that Keras can do it for me... in few simple lines..."
   ]
  },
  {
   "cell_type": "markdown",
   "metadata": {},
   "source": [
    "#### Keras solution:"
   ]
  },
  {
   "cell_type": "code",
   "execution_count": 112,
   "metadata": {},
   "outputs": [],
   "source": [
    "from keras.preprocessing.text import Tokenizer"
   ]
  },
  {
   "cell_type": "code",
   "execution_count": 113,
   "metadata": {
    "scrolled": true
   },
   "outputs": [],
   "source": [
    "tokenizer = Tokenizer(num_words=max_features) # Actually tokenizer  will automatically keep (max_feature - 1) words. That's good.\n",
    "tokenizer.fit_on_texts(X_train_raw)\n",
    "X_train_seq = tokenizer.texts_to_sequences(X_train_raw)\n",
    "X_test_seq = tokenizer.texts_to_sequences(X_test_raw)"
   ]
  },
  {
   "cell_type": "code",
   "execution_count": 114,
   "metadata": {},
   "outputs": [
    {
     "name": "stdout",
     "output_type": "stream",
     "text": [
      "X_train shape: (7769, 150)\n",
      "X_test shape: (3019, 150)\n",
      "[ 346  216  257    6    2   26  114 1041 1858  119    7 1217    3  308\n",
      "  540  216  690  257   54 1348  114   57   61  487  115    7  119   16\n",
      "  293 1389    5 4699  982 1041    5 1858  376   25    1  308  280  699\n",
      " 1902    6   78    6    7  634  425    3  793 3046   18  216  690  257\n",
      "   66  487 3737  115    1 1208  294    7  173 2398   29 4184    1 2851\n",
      "    9    1  289  216  497  102   49 3134  267 1184   78  166   23  237\n",
      "  677    5 1361   66 1478   78   39  506    1  280  453   49   39  833\n",
      "    2    7  119 2358    3 2515 1362   88  648  294    1   84  563  102\n",
      " 1126    0    0    0    0    0    0    0    0    0    0    0    0    0\n",
      "    0    0    0    0    0    0    0    0    0    0    0    0    0    0\n",
      "    0    0    0    0    0    0    0    0    0    0]\n"
     ]
    }
   ],
   "source": [
    "X_train_pad = sequence.pad_sequences(X_train_seq, maxlen=maxlen, padding='post')\n",
    "X_test_pad = sequence.pad_sequences(X_test_seq, maxlen=maxlen, padding='post')\n",
    "print('X_train shape:', X_train_pad.shape)\n",
    "print('X_test shape:', X_test_pad.shape)\n",
    "print(X_train_pad[10])"
   ]
  },
  {
   "cell_type": "markdown",
   "metadata": {},
   "source": [
    "Please note: the full raw texts have been used to create sequences!"
   ]
  },
  {
   "cell_type": "markdown",
   "metadata": {},
   "source": [
    "### Input preparation 2: Pre-trained vectors "
   ]
  },
  {
   "cell_type": "markdown",
   "metadata": {},
   "source": [
    "#### Extract pre-trained vectors for all words in my vocabulary:\n",
    "The embedding can be downloaded from: https://fasttext.cc/docs/en/english-vectors.html"
   ]
  },
  {
   "cell_type": "code",
   "execution_count": 115,
   "metadata": {},
   "outputs": [
    {
     "name": "stdout",
     "output_type": "stream",
     "text": [
      "Embeddings found: 19530\n"
     ]
    }
   ],
   "source": [
    "embeddings_index = {}\n",
    "f = open('Input/wiki-news-300d-1M.vec',encoding='utf-8')\n",
    "\n",
    "word_not_found = []\n",
    "embeddings_dict = dict()\n",
    "for line in f:\n",
    "    toks = line.split(\" \")\n",
    "    word = toks[0]\n",
    "    if word in tokenizer.word_index:\n",
    "        coefs = np.array([float(x) for x in toks[1:]])\n",
    "        embeddings_dict[word] = coefs\n",
    "    else:\n",
    "        word_not_found.append(word)\n",
    "f.close()\n",
    "print(f\"Embeddings found: {len(embeddings_dict)}\")"
   ]
  },
  {
   "cell_type": "code",
   "execution_count": 116,
   "metadata": {},
   "outputs": [],
   "source": [
    "# notfound = [x for x in list(tokenizer.word_index.keys()) if x not in list(embeddings_dict.keys())]"
   ]
  },
  {
   "cell_type": "markdown",
   "metadata": {},
   "source": [
    "#### Create embedding matrix (to be used to initialize embedding weights)"
   ]
  },
  {
   "cell_type": "code",
   "execution_count": 117,
   "metadata": {},
   "outputs": [],
   "source": [
    "embedding_matrix = np.zeros((max_features, embedding_dims))\n",
    "for word, i in tokenizer.word_index.items():\n",
    "    # tokenizer will store all words available in dictionary - I want to extract only vectors for top max_features words\n",
    "    if i == max_features:\n",
    "        break;\n",
    "    \n",
    "    embedding_vector = embeddings_dict.get(word)\n",
    "    if embedding_vector is not None:\n",
    "        embedding_matrix[i] = embedding_vector"
   ]
  },
  {
   "cell_type": "markdown",
   "metadata": {},
   "source": [
    "### Model 1: Take sequence of words as input without embedding vectors"
   ]
  },
  {
   "cell_type": "code",
   "execution_count": 118,
   "metadata": {},
   "outputs": [
    {
     "name": "stdout",
     "output_type": "stream",
     "text": [
      "Model: \"sequential_1\"\n",
      "_________________________________________________________________\n",
      "Layer (type)                 Output Shape              Param #   \n",
      "=================================================================\n",
      "embedding_1 (Embedding)      (None, 150, 300)          1500000   \n",
      "_________________________________________________________________\n",
      "dropout_1 (Dropout)          (None, 150, 300)          0         \n",
      "_________________________________________________________________\n",
      "conv1d_1 (Conv1D)            (None, 148, 100)          90100     \n",
      "_________________________________________________________________\n",
      "max_pooling1d_1 (MaxPooling1 (None, 74, 100)           0         \n",
      "_________________________________________________________________\n",
      "flatten_1 (Flatten)          (None, 7400)              0         \n",
      "_________________________________________________________________\n",
      "dense_1 (Dense)              (None, 250)               1850250   \n",
      "_________________________________________________________________\n",
      "dropout_2 (Dropout)          (None, 250)               0         \n",
      "_________________________________________________________________\n",
      "dense_2 (Dense)              (None, 90)                22590     \n",
      "=================================================================\n",
      "Total params: 3,462,940\n",
      "Trainable params: 3,462,940\n",
      "Non-trainable params: 0\n",
      "_________________________________________________________________\n"
     ]
    }
   ],
   "source": [
    "model_CNN1 = Sequential()\n",
    "model_CNN1.add(Embedding(input_dim=max_features,\n",
    "                   output_dim=embedding_dims,\n",
    "                   input_length=maxlen))\n",
    "model_CNN1.add(Dropout(0.2))\n",
    "model_CNN1.add(Conv1D(filters = 100,\n",
    "                 kernel_size = 3,\n",
    "                 padding='valid',\n",
    "                 activation='relu'))\n",
    "model_CNN1.add(MaxPooling1D())\n",
    "model_CNN1.add(Flatten())\n",
    "model_CNN1.add(Dense(units=250, activation=\"relu\"))\n",
    "model_CNN1.add(Dropout(0.2))\n",
    "model_CNN1.add(Dense(units=y_train.shape[1], activation=\"sigmoid\"))\n",
    "\n",
    "model_CNN1.compile(loss='binary_crossentropy', #weighted_binary_crossentropy\n",
    "             optimizer='adam',\n",
    "             metrics=['binary_accuracy'])\n",
    "model_CNN1.summary()"
   ]
  },
  {
   "cell_type": "code",
   "execution_count": 119,
   "metadata": {},
   "outputs": [
    {
     "name": "stderr",
     "output_type": "stream",
     "text": [
      "C:\\Users\\prad8002\\.conda\\envs\\py37\\lib\\site-packages\\tensorflow_core\\python\\framework\\indexed_slices.py:433: UserWarning: Converting sparse IndexedSlices to a dense Tensor of unknown shape. This may consume a large amount of memory.\n",
      "  \"Converting sparse IndexedSlices to a dense Tensor of unknown shape. \"\n"
     ]
    },
    {
     "name": "stdout",
     "output_type": "stream",
     "text": [
      "Train on 6215 samples, validate on 1554 samples\n",
      "Epoch 1/3\n",
      "6215/6215 [==============================] - 48s 8ms/step - loss: 0.0425 - binary_accuracy: 0.9892 - val_loss: 0.0249 - val_binary_accuracy: 0.9929\n",
      "Epoch 2/3\n",
      "6215/6215 [==============================] - 48s 8ms/step - loss: 0.0206 - binary_accuracy: 0.9941 - val_loss: 0.0207 - val_binary_accuracy: 0.9943\n",
      "Epoch 3/3\n",
      "6215/6215 [==============================] - 51s 8ms/step - loss: 0.0118 - binary_accuracy: 0.9963 - val_loss: 0.0209 - val_binary_accuracy: 0.9947\n"
     ]
    },
    {
     "data": {
      "text/plain": [
       "<keras.callbacks.callbacks.History at 0x1ba6d4470c8>"
      ]
     },
     "execution_count": 119,
     "metadata": {},
     "output_type": "execute_result"
    }
   ],
   "source": [
    "model_CNN1.fit(X_train_pad, y_train, \n",
    "         batch_size=batch_size,\n",
    "         epochs=epochs,\n",
    "         callbacks=[es],\n",
    "         validation_split = validation_split)"
   ]
  },
  {
   "cell_type": "code",
   "execution_count": 148,
   "metadata": {},
   "outputs": [
    {
     "name": "stdout",
     "output_type": "stream",
     "text": [
      "------CNN Model Metrics-----\n",
      "Accuracy: 0.7141\n",
      "Hamming Loss: 0.0057\n",
      "Precision:\n",
      "  - Macro: 0.2910\n",
      "  - Micro: 0.8461\n",
      "Recall:\n",
      "  - Macro: 0.1759\n",
      "  - Micro: 0.7123\n",
      "F1-measure:\n",
      "  - Macro: 0.1967\n",
      "  - Micro: 0.7735\n"
     ]
    },
    {
     "name": "stderr",
     "output_type": "stream",
     "text": [
      "C:\\Users\\prad8002\\.conda\\envs\\py37\\lib\\site-packages\\sklearn\\metrics\\classification.py:1437: UndefinedMetricWarning: Precision is ill-defined and being set to 0.0 in labels with no predicted samples.\n",
      "  'precision', 'predicted', average, warn_for)\n",
      "C:\\Users\\prad8002\\.conda\\envs\\py37\\lib\\site-packages\\sklearn\\metrics\\classification.py:1437: UndefinedMetricWarning: F-score is ill-defined and being set to 0.0 in labels with no predicted samples.\n",
      "  'precision', 'predicted', average, warn_for)\n"
     ]
    }
   ],
   "source": [
    "y_pred = model_CNN1.predict(X_test_pad)\n",
    "val = 0.3\n",
    "y_pred[y_pred>=val] = 1\n",
    "y_pred[y_pred<val] = 0\n",
    "y_pred = y_pred.astype(int)\n",
    "metricsReport('CNN', y_test, y_pred)"
   ]
  },
  {
   "cell_type": "markdown",
   "metadata": {},
   "source": [
    "### Model 2: Use pre-trained vectors to initilize weights in embedding layer"
   ]
  },
  {
   "cell_type": "code",
   "execution_count": 149,
   "metadata": {},
   "outputs": [
    {
     "name": "stdout",
     "output_type": "stream",
     "text": [
      "Model: \"sequential_3\"\n",
      "_________________________________________________________________\n",
      "Layer (type)                 Output Shape              Param #   \n",
      "=================================================================\n",
      "embedding_3 (Embedding)      (None, 150, 300)          1500000   \n",
      "_________________________________________________________________\n",
      "dropout_5 (Dropout)          (None, 150, 300)          0         \n",
      "_________________________________________________________________\n",
      "conv1d_3 (Conv1D)            (None, 148, 100)          90100     \n",
      "_________________________________________________________________\n",
      "max_pooling1d_3 (MaxPooling1 (None, 74, 100)           0         \n",
      "_________________________________________________________________\n",
      "flatten_3 (Flatten)          (None, 7400)              0         \n",
      "_________________________________________________________________\n",
      "dense_5 (Dense)              (None, 250)               1850250   \n",
      "_________________________________________________________________\n",
      "dropout_6 (Dropout)          (None, 250)               0         \n",
      "_________________________________________________________________\n",
      "dense_6 (Dense)              (None, 90)                22590     \n",
      "=================================================================\n",
      "Total params: 3,462,940\n",
      "Trainable params: 1,962,940\n",
      "Non-trainable params: 1,500,000\n",
      "_________________________________________________________________\n"
     ]
    }
   ],
   "source": [
    "model_CNN2 = Sequential()\n",
    "model_CNN2.add(Embedding(input_dim=max_features,\n",
    "                   output_dim=embedding_dims,\n",
    "                   input_length=maxlen,\n",
    "                   weights=[embedding_matrix],\n",
    "                   trainable = False))\n",
    "model_CNN2.add(Dropout(0.2))\n",
    "model_CNN2.add(Conv1D(filters = 100,\n",
    "                 kernel_size = 3,\n",
    "                 padding='valid',\n",
    "                 activation='relu'))\n",
    "model_CNN2.add(MaxPooling1D())\n",
    "model_CNN2.add(Flatten())\n",
    "model_CNN2.add(Dense(units=250, activation=\"relu\"))\n",
    "model_CNN2.add(Dropout(0.2))\n",
    "model_CNN2.add(Dense(units=y_train.shape[1], activation=\"sigmoid\"))\n",
    "\n",
    "model_CNN2.compile(loss='binary_crossentropy',\n",
    "             optimizer='adam',\n",
    "             metrics=['binary_accuracy'])\n",
    "model_CNN2.summary()"
   ]
  },
  {
   "cell_type": "code",
   "execution_count": 150,
   "metadata": {},
   "outputs": [
    {
     "name": "stdout",
     "output_type": "stream",
     "text": [
      "Train on 6215 samples, validate on 1554 samples\n",
      "Epoch 1/3\n",
      "6215/6215 [==============================] - 40s 6ms/step - loss: 0.0440 - binary_accuracy: 0.9889 - val_loss: 0.0252 - val_binary_accuracy: 0.9934\n",
      "Epoch 2/3\n",
      "6215/6215 [==============================] - 41s 7ms/step - loss: 0.0222 - binary_accuracy: 0.9936 - val_loss: 0.0198 - val_binary_accuracy: 0.9942\n",
      "Epoch 3/3\n",
      "6215/6215 [==============================] - 41s 7ms/step - loss: 0.0134 - binary_accuracy: 0.9956 - val_loss: 0.0186 - val_binary_accuracy: 0.9945\n"
     ]
    },
    {
     "data": {
      "text/plain": [
       "<keras.callbacks.callbacks.History at 0x1ba990c9e48>"
      ]
     },
     "execution_count": 150,
     "metadata": {},
     "output_type": "execute_result"
    }
   ],
   "source": [
    "model_CNN2.fit(X_train_pad, y_train, \n",
    "         batch_size=batch_size,\n",
    "         epochs=epochs,\n",
    "         callbacks=[es],\n",
    "         validation_split = validation_split)"
   ]
  },
  {
   "cell_type": "code",
   "execution_count": 151,
   "metadata": {},
   "outputs": [
    {
     "name": "stdout",
     "output_type": "stream",
     "text": [
      "------CNN_pretrained Model Metrics-----\n",
      "Accuracy: 0.6850\n",
      "Hamming Loss: 0.0068\n",
      "Precision:\n",
      "  - Macro: 0.2615\n",
      "  - Micro: 0.7574\n",
      "Recall:\n",
      "  - Macro: 0.1890\n",
      "  - Micro: 0.7439\n",
      "F1-measure:\n",
      "  - Macro: 0.1886\n",
      "  - Micro: 0.7506\n"
     ]
    },
    {
     "name": "stderr",
     "output_type": "stream",
     "text": [
      "C:\\Users\\prad8002\\.conda\\envs\\py37\\lib\\site-packages\\sklearn\\metrics\\classification.py:1437: UndefinedMetricWarning: Precision is ill-defined and being set to 0.0 in labels with no predicted samples.\n",
      "  'precision', 'predicted', average, warn_for)\n",
      "C:\\Users\\prad8002\\.conda\\envs\\py37\\lib\\site-packages\\sklearn\\metrics\\classification.py:1437: UndefinedMetricWarning: F-score is ill-defined and being set to 0.0 in labels with no predicted samples.\n",
      "  'precision', 'predicted', average, warn_for)\n"
     ]
    }
   ],
   "source": [
    "y_pred = model_CNN2.predict(X_test_pad)\n",
    "val = 0.3\n",
    "y_pred[y_pred>=val] = 1\n",
    "y_pred[y_pred<val] = 0\n",
    "y_pred = y_pred.astype(int)\n",
    "metricsReport('CNN_pretrained', y_test, y_pred)"
   ]
  },
  {
   "cell_type": "markdown",
   "metadata": {},
   "source": [
    "#### Let's review what happens if we change probability threshold:"
   ]
  },
  {
   "cell_type": "code",
   "execution_count": 141,
   "metadata": {},
   "outputs": [],
   "source": [
    "y_pred = model_CNN2.predict(X_test_pad)\n",
    "\n",
    "val_list = np.arange(0.1, 1, 0.1)\n",
    "macro_f1_cnn = []\n",
    "micro_f1_cnn = []\n",
    "for val in val_list:\n",
    "    y_pred_val = y_pred.copy()\n",
    "    y_pred_val[y_pred_val>=val] = 1\n",
    "    y_pred_val[y_pred_val<val] = 0\n",
    "    macro_f1_cnn.append(f1_score(y_test, y_pred_val, average='macro'))\n",
    "    micro_f1_cnn.append(f1_score(y_test, y_pred_val, average='micro'))"
   ]
  },
  {
   "cell_type": "code",
   "execution_count": 147,
   "metadata": {},
   "outputs": [
    {
     "data": {
      "image/png": "[encoded data removed]",
      "text/plain": [
       "<Figure size 576x432 with 1 Axes>"
      ]
     },
     "metadata": {},
     "output_type": "display_data"
    }
   ],
   "source": [
    "plt.figure(figsize=(8,6))\n",
    "plt.plot(val_list, macro_f1_cnn, label = \"f1_macro\")\n",
    "plt.plot(val_list, micro_f1_cnn, label = \"f1_micro\")\n",
    "plt.title('Comparison of f1 results in a function of prediction probability threshold');\n",
    "plt.xlabel('Threshold for label assignment')\n",
    "plt.ylabel('f1-score')\n",
    "plt.legend()\n",
    "plt.show()"
   ]
  },
  {
   "cell_type": "markdown",
   "metadata": {},
   "source": [
    "Conclusion: val = 0.3 seems to be the best for our needs"
   ]
  },
  {
   "cell_type": "markdown",
   "metadata": {},
   "source": [
    "<br><br><br>\n",
    "# Models Comparison"
   ]
  },
  {
   "cell_type": "code",
   "execution_count": 189,
   "metadata": {},
   "outputs": [
    {
     "name": "stderr",
     "output_type": "stream",
     "text": [
      "C:\\Users\\prad8002\\.conda\\envs\\py37\\lib\\site-packages\\sklearn\\metrics\\classification.py:1437: UndefinedMetricWarning: Precision is ill-defined and being set to 0.0 in labels with no predicted samples.\n",
      "  'precision', 'predicted', average, warn_for)\n",
      "C:\\Users\\prad8002\\.conda\\envs\\py37\\lib\\site-packages\\sklearn\\metrics\\classification.py:1437: UndefinedMetricWarning: F-score is ill-defined and being set to 0.0 in labels with no predicted samples.\n",
      "  'precision', 'predicted', average, warn_for)\n",
      "C:\\Users\\prad8002\\.conda\\envs\\py37\\lib\\site-packages\\sklearn\\metrics\\classification.py:1437: UndefinedMetricWarning: Precision is ill-defined and being set to 0.0 in labels with no predicted samples.\n",
      "  'precision', 'predicted', average, warn_for)\n",
      "C:\\Users\\prad8002\\.conda\\envs\\py37\\lib\\site-packages\\sklearn\\metrics\\classification.py:1437: UndefinedMetricWarning: F-score is ill-defined and being set to 0.0 in labels with no predicted samples.\n",
      "  'precision', 'predicted', average, warn_for)\n",
      "C:\\Users\\prad8002\\.conda\\envs\\py37\\lib\\site-packages\\sklearn\\metrics\\classification.py:1437: UndefinedMetricWarning: Precision is ill-defined and being set to 0.0 in labels with no predicted samples.\n",
      "  'precision', 'predicted', average, warn_for)\n",
      "C:\\Users\\prad8002\\.conda\\envs\\py37\\lib\\site-packages\\sklearn\\metrics\\classification.py:1437: UndefinedMetricWarning: F-score is ill-defined and being set to 0.0 in labels with no predicted samples.\n",
      "  'precision', 'predicted', average, warn_for)\n",
      "C:\\Users\\prad8002\\.conda\\envs\\py37\\lib\\site-packages\\sklearn\\metrics\\classification.py:1437: UndefinedMetricWarning: Precision is ill-defined and being set to 0.0 in labels with no predicted samples.\n",
      "  'precision', 'predicted', average, warn_for)\n",
      "C:\\Users\\prad8002\\.conda\\envs\\py37\\lib\\site-packages\\sklearn\\metrics\\classification.py:1437: UndefinedMetricWarning: F-score is ill-defined and being set to 0.0 in labels with no predicted samples.\n",
      "  'precision', 'predicted', average, warn_for)\n",
      "C:\\Users\\prad8002\\.conda\\envs\\py37\\lib\\site-packages\\sklearn\\metrics\\classification.py:1437: UndefinedMetricWarning: Precision is ill-defined and being set to 0.0 in labels with no predicted samples.\n",
      "  'precision', 'predicted', average, warn_for)\n",
      "C:\\Users\\prad8002\\.conda\\envs\\py37\\lib\\site-packages\\sklearn\\metrics\\classification.py:1437: UndefinedMetricWarning: F-score is ill-defined and being set to 0.0 in labels with no predicted samples.\n",
      "  'precision', 'predicted', average, warn_for)\n",
      "C:\\Users\\prad8002\\.conda\\envs\\py37\\lib\\site-packages\\sklearn\\metrics\\classification.py:1437: UndefinedMetricWarning: Precision is ill-defined and being set to 0.0 in labels with no predicted samples.\n",
      "  'precision', 'predicted', average, warn_for)\n",
      "C:\\Users\\prad8002\\.conda\\envs\\py37\\lib\\site-packages\\sklearn\\metrics\\classification.py:1437: UndefinedMetricWarning: F-score is ill-defined and being set to 0.0 in labels with no predicted samples.\n",
      "  'precision', 'predicted', average, warn_for)\n"
     ]
    }
   ],
   "source": [
    "# Assign models:\n",
    "models = []\n",
    "models.append(('RF tfidf', grid_RF_tfidf.best_estimator_))\n",
    "models.append(('RF Doc2Vec', grid_RF_D2V.best_estimator_))\n",
    "models.append(('kNN tfidf', grid_kNN_tfidf.best_estimator_))\n",
    "models.append(('kNN Doc2Vec', grid_kNN_D2V.best_estimator_))\n",
    "models.append(('OvR_linSVC tfidf', grid_LinSVC_tfidf.best_estimator_))\n",
    "models.append(('OvR_linSVC Doc2Vec', grid_LinSVC_D2V.best_estimator_))\n",
    "models.append(('OvR_LogReg tfidf', grid_LR_tfidf.best_estimator_))\n",
    "models.append(('OvR_LogReg Doc2Vec', grid_LR_D2V.best_estimator_))\n",
    "models.append(('LP linSVC tfidf', grid_LP_LinSVC_tfidf.best_estimator_))\n",
    "models.append(('CNN', model_CNN1))\n",
    "models.append(('CNN_pretrained', model_CNN2))\n",
    "\n",
    "# Initiate metrics:\n",
    "accuracy = []\n",
    "hamLoss = []\n",
    "macro_precision = []\n",
    "macro_recall = []\n",
    "macro_f1 = []\n",
    "micro_precision = []\n",
    "micro_recall = []\n",
    "micro_f1 = []\n",
    "# auc = []\n",
    "\n",
    "# Probability threshold to assign label in CNN models:\n",
    "val = 0.5\n",
    "\n",
    "# Iterate over models and calculate metrics\n",
    "for name, model in models:\n",
    "    if 'tfidf' in name.lower():\n",
    "        y_pred = model.predict(X_test)\n",
    "    elif 'doc2vec' in name.lower():\n",
    "        y_pred = model.predict(X_test_D2V)\n",
    "    elif 'cnn' in name.lower():\n",
    "        y_pred = model.predict(X_test_pad)\n",
    "        y_pred[y_pred>=val] = 1\n",
    "        y_pred[y_pred<val] = 0\n",
    "        y_pred = y_pred.astype(int)\n",
    "    \n",
    "    accuracy.append(accuracy_score(y_test, y_pred))\n",
    "    hamLoss.append(hamming_loss(y_test, y_pred))\n",
    "    \n",
    "    macro_precision.append(precision_score(y_test, y_pred, average='macro'))\n",
    "    macro_recall.append(recall_score(y_test, y_pred, average='macro'))\n",
    "    macro_f1.append(f1_score(y_test, y_pred, average='macro'))\n",
    "\n",
    "    micro_precision.append(precision_score(y_test, y_pred, average='micro'))\n",
    "    micro_recall.append(recall_score(y_test, y_pred, average='micro'))\n",
    "    micro_f1.append(f1_score(y_test, y_pred, average='micro'))\n"
   ]
  },
  {
   "cell_type": "code",
   "execution_count": 190,
   "metadata": {},
   "outputs": [
    {
     "data": {
      "text/html": [
       "<div>\n",
       "<style scoped>\n",
       "    .dataframe tbody tr th:only-of-type {\n",
       "        vertical-align: middle;\n",
       "    }\n",
       "\n",
       "    .dataframe tbody tr th {\n",
       "        vertical-align: top;\n",
       "    }\n",
       "\n",
       "    .dataframe thead th {\n",
       "        text-align: right;\n",
       "    }\n",
       "</style>\n",
       "<table border=\"1\" class=\"dataframe\">\n",
       "  <thead>\n",
       "    <tr style=\"text-align: right;\">\n",
       "      <th></th>\n",
       "      <th>Method</th>\n",
       "      <th>accuracy_score</th>\n",
       "      <th>hamLoss</th>\n",
       "      <th>macro_precision</th>\n",
       "      <th>micro_precision</th>\n",
       "      <th>macro_recall</th>\n",
       "      <th>micro_recall</th>\n",
       "      <th>macro_f1</th>\n",
       "      <th>micro_f1</th>\n",
       "    </tr>\n",
       "  </thead>\n",
       "  <tbody>\n",
       "    <tr>\n",
       "      <th>0</th>\n",
       "      <td>RF tfidf</td>\n",
       "      <td>0.66380</td>\n",
       "      <td>0.00577</td>\n",
       "      <td>0.39603</td>\n",
       "      <td>0.96534</td>\n",
       "      <td>0.10951</td>\n",
       "      <td>0.60256</td>\n",
       "      <td>0.15399</td>\n",
       "      <td>0.74198</td>\n",
       "    </tr>\n",
       "    <tr>\n",
       "      <th>1</th>\n",
       "      <td>RF Doc2Vec</td>\n",
       "      <td>0.46373</td>\n",
       "      <td>0.00857</td>\n",
       "      <td>0.18998</td>\n",
       "      <td>0.96761</td>\n",
       "      <td>0.03176</td>\n",
       "      <td>0.39103</td>\n",
       "      <td>0.04563</td>\n",
       "      <td>0.55697</td>\n",
       "    </tr>\n",
       "    <tr>\n",
       "      <th>2</th>\n",
       "      <td>kNN tfidf</td>\n",
       "      <td>0.75124</td>\n",
       "      <td>0.00516</td>\n",
       "      <td>0.62708</td>\n",
       "      <td>0.85506</td>\n",
       "      <td>0.39613</td>\n",
       "      <td>0.75321</td>\n",
       "      <td>0.45370</td>\n",
       "      <td>0.80091</td>\n",
       "    </tr>\n",
       "    <tr>\n",
       "      <th>3</th>\n",
       "      <td>kNN Doc2Vec</td>\n",
       "      <td>0.59357</td>\n",
       "      <td>0.00917</td>\n",
       "      <td>0.41566</td>\n",
       "      <td>0.70687</td>\n",
       "      <td>0.19763</td>\n",
       "      <td>0.57131</td>\n",
       "      <td>0.23856</td>\n",
       "      <td>0.63191</td>\n",
       "    </tr>\n",
       "    <tr>\n",
       "      <th>4</th>\n",
       "      <td>OvR_linSVC tfidf</td>\n",
       "      <td>0.81385</td>\n",
       "      <td>0.00335</td>\n",
       "      <td>0.63838</td>\n",
       "      <td>0.94616</td>\n",
       "      <td>0.39377</td>\n",
       "      <td>0.80262</td>\n",
       "      <td>0.46472</td>\n",
       "      <td>0.86850</td>\n",
       "    </tr>\n",
       "    <tr>\n",
       "      <th>5</th>\n",
       "      <td>OvR_linSVC Doc2Vec</td>\n",
       "      <td>0.70984</td>\n",
       "      <td>0.00543</td>\n",
       "      <td>0.42709</td>\n",
       "      <td>0.82405</td>\n",
       "      <td>0.28018</td>\n",
       "      <td>0.77057</td>\n",
       "      <td>0.31590</td>\n",
       "      <td>0.79641</td>\n",
       "    </tr>\n",
       "    <tr>\n",
       "      <th>6</th>\n",
       "      <td>OvR_LogReg tfidf</td>\n",
       "      <td>0.80225</td>\n",
       "      <td>0.00355</td>\n",
       "      <td>0.60835</td>\n",
       "      <td>0.94155</td>\n",
       "      <td>0.36632</td>\n",
       "      <td>0.79167</td>\n",
       "      <td>0.43628</td>\n",
       "      <td>0.86013</td>\n",
       "    </tr>\n",
       "    <tr>\n",
       "      <th>7</th>\n",
       "      <td>OvR_LogReg Doc2Vec</td>\n",
       "      <td>0.71216</td>\n",
       "      <td>0.00534</td>\n",
       "      <td>0.42008</td>\n",
       "      <td>0.83518</td>\n",
       "      <td>0.26419</td>\n",
       "      <td>0.76335</td>\n",
       "      <td>0.30216</td>\n",
       "      <td>0.79766</td>\n",
       "    </tr>\n",
       "    <tr>\n",
       "      <th>8</th>\n",
       "      <td>LP linSVC tfidf</td>\n",
       "      <td>0.84366</td>\n",
       "      <td>0.00358</td>\n",
       "      <td>0.69697</td>\n",
       "      <td>0.90500</td>\n",
       "      <td>0.49197</td>\n",
       "      <td>0.82692</td>\n",
       "      <td>0.54133</td>\n",
       "      <td>0.86420</td>\n",
       "    </tr>\n",
       "    <tr>\n",
       "      <th>9</th>\n",
       "      <td>CNN</td>\n",
       "      <td>0.70553</td>\n",
       "      <td>0.00544</td>\n",
       "      <td>0.27413</td>\n",
       "      <td>0.91347</td>\n",
       "      <td>0.13729</td>\n",
       "      <td>0.66827</td>\n",
       "      <td>0.16344</td>\n",
       "      <td>0.77186</td>\n",
       "    </tr>\n",
       "    <tr>\n",
       "      <th>10</th>\n",
       "      <td>CNN_pretrained</td>\n",
       "      <td>0.69526</td>\n",
       "      <td>0.00581</td>\n",
       "      <td>0.27059</td>\n",
       "      <td>0.86362</td>\n",
       "      <td>0.14058</td>\n",
       "      <td>0.68670</td>\n",
       "      <td>0.16544</td>\n",
       "      <td>0.76506</td>\n",
       "    </tr>\n",
       "  </tbody>\n",
       "</table>\n",
       "</div>"
      ],
      "text/plain": [
       "                Method  accuracy_score  hamLoss  macro_precision  \\\n",
       "0             RF tfidf         0.66380  0.00577          0.39603   \n",
       "1           RF Doc2Vec         0.46373  0.00857          0.18998   \n",
       "2            kNN tfidf         0.75124  0.00516          0.62708   \n",
       "3          kNN Doc2Vec         0.59357  0.00917          0.41566   \n",
       "4     OvR_linSVC tfidf         0.81385  0.00335          0.63838   \n",
       "5   OvR_linSVC Doc2Vec         0.70984  0.00543          0.42709   \n",
       "6     OvR_LogReg tfidf         0.80225  0.00355          0.60835   \n",
       "7   OvR_LogReg Doc2Vec         0.71216  0.00534          0.42008   \n",
       "8      LP linSVC tfidf         0.84366  0.00358          0.69697   \n",
       "9                  CNN         0.70553  0.00544          0.27413   \n",
       "10      CNN_pretrained         0.69526  0.00581          0.27059   \n",
       "\n",
       "    micro_precision  macro_recall  micro_recall  macro_f1  micro_f1  \n",
       "0           0.96534       0.10951       0.60256   0.15399   0.74198  \n",
       "1           0.96761       0.03176       0.39103   0.04563   0.55697  \n",
       "2           0.85506       0.39613       0.75321   0.45370   0.80091  \n",
       "3           0.70687       0.19763       0.57131   0.23856   0.63191  \n",
       "4           0.94616       0.39377       0.80262   0.46472   0.86850  \n",
       "5           0.82405       0.28018       0.77057   0.31590   0.79641  \n",
       "6           0.94155       0.36632       0.79167   0.43628   0.86013  \n",
       "7           0.83518       0.26419       0.76335   0.30216   0.79766  \n",
       "8           0.90500       0.49197       0.82692   0.54133   0.86420  \n",
       "9           0.91347       0.13729       0.66827   0.16344   0.77186  \n",
       "10          0.86362       0.14058       0.68670   0.16544   0.76506  "
      ]
     },
     "execution_count": 190,
     "metadata": {},
     "output_type": "execute_result"
    }
   ],
   "source": [
    "d = {'accuracy_score': accuracy, \n",
    "     'hamLoss': hamLoss, \n",
    "     'macro_precision': macro_precision,\n",
    "     'micro_precision': micro_precision,\n",
    "     'macro_recall' : macro_recall,\n",
    "     'micro_recall' : micro_recall,\n",
    "     'macro_f1' : macro_f1,\n",
    "     'micro_f1' : micro_f1\n",
    "#      'roc_auc_score' : roc_auc_score\n",
    "    }\n",
    "\n",
    "df = pd.DataFrame(data=d)\n",
    "name, _ = zip(*models)\n",
    "df.insert(loc=0, column='Method', value=name)\n",
    "df = df.round(5)\n",
    "df"
   ]
  },
  {
   "cell_type": "code",
   "execution_count": 191,
   "metadata": {},
   "outputs": [
    {
     "data": {
      "image/png": "[encoded data removed]",
      "text/plain": [
       "<Figure size 864x648 with 1 Axes>"
      ]
     },
     "metadata": {},
     "output_type": "display_data"
    }
   ],
   "source": [
    "df_temp = df.sort_values(by=\"macro_f1\",ascending=False)\n",
    "sns.set(font_scale = 1.2)\n",
    "sns.set_style({\"axes.facecolor\": \"1.0\", \"axes.edgecolor\": \"0.85\", \"grid.color\": \"0.85\",\n",
    "               \"grid.linestyle\": \"-\", 'axes.labelcolor': '0.4', \"xtick.color\": \"0.4\",\n",
    "               'ytick.color': '0.4'})\n",
    "f, ax = plt.subplots(figsize=(12, 9))\n",
    "sns.barplot(x=\"macro_f1\", y=\"Method\", data=df_temp)\n",
    "ax.axvline(x = -1, color = 'black', linewidth = 4, alpha = .7)\n",
    "plt.xlim(0, 1)\n",
    "plt.title('macro_f1 comparison')\n",
    "plt.tight_layout()\n",
    "\n",
    "plt.show()"
   ]
  },
  {
   "cell_type": "code",
   "execution_count": 192,
   "metadata": {},
   "outputs": [
    {
     "data": {
      "image/png": "[encoded data removed]",
      "text/plain": [
       "<Figure size 864x648 with 1 Axes>"
      ]
     },
     "metadata": {},
     "output_type": "display_data"
    }
   ],
   "source": [
    "df_temp = df.sort_values(by=\"micro_f1\",ascending=False)\n",
    "sns.set(font_scale = 1.2)\n",
    "sns.set_style({\"axes.facecolor\": \"1.0\", \"axes.edgecolor\": \"0.85\", \"grid.color\": \"0.85\",\n",
    "               \"grid.linestyle\": \"-\", 'axes.labelcolor': '0.4', \"xtick.color\": \"0.4\",\n",
    "               'ytick.color': '0.4'})\n",
    "f, ax = plt.subplots(figsize=(12, 9))\n",
    "sns.barplot(x=\"micro_f1\", y=\"Method\", data=df_temp)\n",
    "ax.axvline(x = -1, color = 'black', linewidth = 4, alpha = .7)\n",
    "plt.xlim(0, 1)\n",
    "plt.title('micro_f1 comparison')\n",
    "plt.tight_layout()\n",
    "\n",
    "plt.show()"
   ]
  },
  {
   "cell_type": "markdown",
   "metadata": {},
   "source": [
    "### Take the best classifier and search over tfidf params:"
   ]
  },
  {
   "cell_type": "code",
   "execution_count": 194,
   "metadata": {
    "scrolled": true
   },
   "outputs": [
    {
     "name": "stdout",
     "output_type": "stream",
     "text": [
      "Fitting 5 folds for each of 108 candidates, totalling 540 fits\n"
     ]
    },
    {
     "name": "stderr",
     "output_type": "stream",
     "text": [
      "[Parallel(n_jobs=-1)]: Using backend LokyBackend with 4 concurrent workers.\n",
      "[Parallel(n_jobs=-1)]: Done  42 tasks      | elapsed:  2.7min\n",
      "[Parallel(n_jobs=-1)]: Done 192 tasks      | elapsed: 12.7min\n",
      "[Parallel(n_jobs=-1)]: Done 442 tasks      | elapsed: 40.6min\n",
      "[Parallel(n_jobs=-1)]: Done 540 out of 540 | elapsed: 57.9min finished\n"
     ]
    },
    {
     "name": "stdout",
     "output_type": "stream",
     "text": [
      "Best params: {'clf__estimator__C': 10, 'vectorizer__max_df': 0.7, 'vectorizer__min_df': 3, 'vectorizer__ngram_range': (1, 2)}\n",
      "Train accuracy: 0.9915046981593513\n",
      "Test accuracy: 0.817157999337529\n"
     ]
    }
   ],
   "source": [
    "pipe = Pipeline(steps=[\n",
    "    ('vectorizer',  TfidfVectorizer()),\n",
    "    ('clf', OneVsRestClassifier(LinearSVC(max_iter = 10000)))\n",
    "])\n",
    "\n",
    "param_grid = {\n",
    "    'vectorizer__min_df' : [1, 2, 3],\n",
    "    'vectorizer__max_df' : [0.5, 0.6, 0.7, 0.8],\n",
    "    'vectorizer__ngram_range' : [(1,1), (1,2), (1,3)],\n",
    "    'clf__estimator__C': [0.1, 1, 10]\n",
    "}\n",
    "\n",
    "grid_LinSVC_tfidf2 = GridSearchCV(pipe, param_grid, cv=5, n_jobs=-1, return_train_score=True, verbose=1)\n",
    "grid_LinSVC_tfidf2.fit(X_train, y_train)\n",
    "\n",
    "print(f\"Best params: {grid_LinSVC_tfidf2.best_params_}\")\n",
    "print(f\"Train accuracy: {grid_LinSVC_tfidf2.score(X_train, y_train)}\")\n",
    "print(f\"Test accuracy: {grid_LinSVC_tfidf2.score(X_test, y_test)}\")"
   ]
  },
  {
   "cell_type": "code",
   "execution_count": 196,
   "metadata": {
    "scrolled": true
   },
   "outputs": [
    {
     "name": "stdout",
     "output_type": "stream",
     "text": [
      "------OvR_LinSVC_tfidf_comparison Model Metrics-----\n",
      "Accuracy: 0.8172\n",
      "Hamming Loss: 0.0033\n",
      "Precision:\n",
      "  - Macro: 0.6724\n",
      "  - Micro: 0.9396\n",
      "Recall:\n",
      "  - Macro: 0.4353\n",
      "  - Micro: 0.8149\n",
      "F1-measure:\n",
      "  - Macro: 0.5048\n",
      "  - Micro: 0.8728\n"
     ]
    }
   ],
   "source": [
    "y_pred = grid_LinSVC_tfidf2.best_estimator_.predict(X_test)\n",
    "metricsReport('OvR_LinSVC_tfidf_comparison', y_test, y_pred)"
   ]
  },
  {
   "cell_type": "markdown",
   "metadata": {},
   "source": [
    "Tuning TfIdf vectorizing has slightly increased the quality of the results!"
   ]
  },
  {
   "cell_type": "markdown",
   "metadata": {},
   "source": [
    "<br><br><br>\n",
    "# Conclusions & possible steps to enhance models"
   ]
  },
  {
   "attachments": {},
   "cell_type": "markdown",
   "metadata": {},
   "source": [
    "### Conclusions:\n",
    "1. Classes with high number of labels are predicted much better than low occurence classes (models tend to predict 0's for low occurence classes) -> reparing this aspect should have highest impact on model marco metrics\n",
    "2. Simple LinearSVC with TfIdf gives best results\n",
    "3. Doc2Vec seems to have to small corpus to train\n",
    "4. CNN would require more tests to be performed (pretrained vectors does not provide benefits compered to learning weights during model train)\n",
    "    \n",
    "### Next steps to enhance models:\n",
    "1. Work on class imbalance:\n",
    "    * oversampling / augmentation\n",
    "    * class weights\n",
    "    * for CNN: different probability thresholds depending on class occurences\n",
    "    * group infrequent classes to one label\n",
    "2. Work more on text preparation:\n",
    "    * delete very short articles (there are articles with few words)\n",
    "3. Try another models e.g. SGDclassifier with huber loss, RNN,...\n",
    "4. Try other confifurations for CNN models (more filters, more convolutions, dense leyers)\n"
   ]
  },
  {
   "cell_type": "code",
   "execution_count": null,
   "metadata": {},
   "outputs": [],
   "source": []
  }
 ],
 "metadata": {
  "kernelspec": {
   "display_name": "Python 3",
   "language": "python",
   "name": "python3"
  },
  "language_info": {
   "codemirror_mode": {
    "name": "ipython",
    "version": 3
   },
   "file_extension": ".py",
   "mimetype": "text/x-python",
   "name": "python",
   "nbconvert_exporter": "python",
   "pygments_lexer": "ipython3",
   "version": "3.7.7"
  }
 },
 "nbformat": 4,
 "nbformat_minor": 2
}
