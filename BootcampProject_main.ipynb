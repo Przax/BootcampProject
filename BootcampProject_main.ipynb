{
 "cells": [
  {
   "cell_type": "markdown",
   "metadata": {},
   "source": [
    "# Multilabel classification problem solution for Reuters-21578"
   ]
  },
  {
   "cell_type": "code",
   "execution_count": 2,
   "metadata": {},
   "outputs": [],
   "source": [
    "import numpy as np\n",
    "import pandas as pd\n",
    "import re\n",
    "import itertools\n",
    "\n",
    "import seaborn as sns\n",
    "import matplotlib.pyplot as plt\n",
    "\n",
    "import nltk # text cleaning and datasets \n",
    "import re # patterns searching in strings\n",
    "\n",
    "from sklearn.pipeline import Pipeline\n",
    "from sklearn.model_selection import GridSearchCV\n",
    "from sklearn.metrics import accuracy_score, precision_score, recall_score, f1_score, roc_auc_score, multilabel_confusion_matrix, hamming_loss"
   ]
  },
  {
   "cell_type": "markdown",
   "metadata": {},
   "source": [
    "#### Import data from nltk.corpus and establish train/test inputs and targets"
   ]
  },
  {
   "cell_type": "code",
   "execution_count": 955,
   "metadata": {},
   "outputs": [],
   "source": [
    "from nltk.corpus import reuters"
   ]
  },
  {
   "cell_type": "code",
   "execution_count": 1087,
   "metadata": {},
   "outputs": [],
   "source": [
    "all_docs = reuters.fileids()\n",
    "train_doc_names = [doc for doc in all_docs if doc.startswith(\"train\")]\n",
    "test_doc_names = [doc for doc in all_docs if doc.startswith(\"test\")]"
   ]
  },
  {
   "cell_type": "code",
   "execution_count": 1088,
   "metadata": {},
   "outputs": [],
   "source": [
    "X_train_raw, y_train_raw = zip(*[(reuters.raw(doc), reuters.categories(doc)) for doc in train_doc_names])\n",
    "X_test_raw, y_test_raw= zip(*[(reuters.raw(doc), reuters.categories(doc)) for doc in test_doc_names])"
   ]
  },
  {
   "cell_type": "markdown",
   "metadata": {},
   "source": [
    "### Review the data:"
   ]
  },
  {
   "cell_type": "code",
   "execution_count": 1089,
   "metadata": {},
   "outputs": [
    {
     "name": "stdout",
     "output_type": "stream",
     "text": [
      "Number of train articles: 7769\n",
      "Number of test articles: 3019\n"
     ]
    }
   ],
   "source": [
    "# Number of articles:\n",
    "print(f\"Number of train articles: {len(X_train_raw)}\")\n",
    "print(f\"Number of test articles: {len(X_test_raw)}\")"
   ]
  },
  {
   "cell_type": "markdown",
   "metadata": {},
   "source": [
    "#### Review labels"
   ]
  },
  {
   "cell_type": "code",
   "execution_count": 1090,
   "metadata": {},
   "outputs": [],
   "source": [
    "y_train_raw_flat = pd.Series(itertools.chain(*y_train_raw))\n",
    "y_test_raw_flat = pd.Series(itertools.chain(*y_train_raw))"
   ]
  },
  {
   "cell_type": "code",
   "execution_count": 960,
   "metadata": {
    "scrolled": true
   },
   "outputs": [
    {
     "name": "stdout",
     "output_type": "stream",
     "text": [
      "Avg number of labels per article in train set: 1.23\n"
     ]
    }
   ],
   "source": [
    "print(f\"Avg number of labels per article in train set: {(len(y_train_raw_flat) / len(y_train_raw) ):.2f}\")\n",
    "# print(f\"Avg number of labels per article in test set: {(len(y_test_raw_flat) / len(y_test_raw) ):.2f}\")"
   ]
  },
  {
   "cell_type": "code",
   "execution_count": 961,
   "metadata": {},
   "outputs": [
    {
     "name": "stdout",
     "output_type": "stream",
     "text": [
      "Number of labels assigned to article: Total number of such occurances\n"
     ]
    },
    {
     "data": {
      "text/plain": [
       "{1: 6577,\n",
       " 2: 865,\n",
       " 3: 192,\n",
       " 4: 59,\n",
       " 5: 37,\n",
       " 6: 22,\n",
       " 7: 5,\n",
       " 8: 5,\n",
       " 9: 3,\n",
       " 10: 2,\n",
       " 11: 1,\n",
       " 15: 1}"
      ]
     },
     "execution_count": 961,
     "metadata": {},
     "output_type": "execute_result"
    }
   ],
   "source": [
    "# Count number of labels for each article\n",
    "labels_len = [len(labels) for labels in y_train_raw]\n",
    "# Group \n",
    "labels_freq = {n: labels_len.count(n) for n in labels_len}\n",
    "labels_freq = dict(sorted(labels_freq.items()))\n",
    "print(f\"Number of labels assigned to article: Total number of such occurances\")\n",
    "labels_freq"
   ]
  },
  {
   "cell_type": "markdown",
   "metadata": {},
   "source": [
    "Conclusion: For most of the cases in the train set - there is only 1 label associated with article."
   ]
  },
  {
   "cell_type": "markdown",
   "metadata": {},
   "source": [
    "#### Review classes"
   ]
  },
  {
   "cell_type": "code",
   "execution_count": 962,
   "metadata": {},
   "outputs": [
    {
     "name": "stdout",
     "output_type": "stream",
     "text": [
      "Total number of classes: 90\n"
     ]
    }
   ],
   "source": [
    "print(f\"Total number of classes: {len(reuters.categories())}\")"
   ]
  },
  {
   "cell_type": "code",
   "execution_count": 963,
   "metadata": {
    "scrolled": true
   },
   "outputs": [
    {
     "data": {
      "text/plain": [
       "earn        2877\n",
       "acq         1650\n",
       "money-fx     538\n",
       "grain        433\n",
       "crude        389\n",
       "dtype: int64"
      ]
     },
     "execution_count": 963,
     "metadata": {},
     "output_type": "execute_result"
    }
   ],
   "source": [
    "cat_distr = y_train_raw_flat.value_counts()\n",
    "cat_distr.head(5)"
   ]
  },
  {
   "cell_type": "code",
   "execution_count": 964,
   "metadata": {},
   "outputs": [
    {
     "data": {
      "text/plain": [
       "sun-meal         1\n",
       "castor-oil       1\n",
       "groundnut-oil    1\n",
       "nkr              1\n",
       "lin-oil          1\n",
       "dtype: int64"
      ]
     },
     "execution_count": 964,
     "metadata": {},
     "output_type": "execute_result"
    }
   ],
   "source": [
    "cat_distr.tail(5)"
   ]
  },
  {
   "cell_type": "code",
   "execution_count": 965,
   "metadata": {},
   "outputs": [
    {
     "data": {
      "image/png": "[encoded data removed]",
      "text/plain": [
       "<Figure size 1080x360 with 2 Axes>"
      ]
     },
     "metadata": {
      "needs_background": "light"
     },
     "output_type": "display_data"
    }
   ],
   "source": [
    "n=20 # split between left and right graph (number of top classes)\n",
    "plt.figure(figsize=(15,5))\n",
    "plt.suptitle('Distribution of classes in the train set - abs values', fontsize = 16)\n",
    "\n",
    "plt.subplot(1,2,1)\n",
    "cat_distr[:n].plot.bar()\n",
    "plt.ylabel(f'Number of occurences');\n",
    "plt.title(f'Top {n} classes');\n",
    "\n",
    "plt.subplot(1,2,2)\n",
    "cat_distr[n:].plot.bar()\n",
    "plt.title(f'All except Top {n} classes');"
   ]
  },
  {
   "cell_type": "code",
   "execution_count": 966,
   "metadata": {},
   "outputs": [
    {
     "data": {
      "image/png": "[encoded data removed]",
      "text/plain": [
       "<Figure size 1080x360 with 2 Axes>"
      ]
     },
     "metadata": {
      "needs_background": "light"
     },
     "output_type": "display_data"
    }
   ],
   "source": [
    "n=20 # split between left and right graph (number of top classes)\n",
    "plt.figure(figsize=(15,5))\n",
    "plt.suptitle('Distribution of classes in the train set - ratio', fontsize = 16)\n",
    "\n",
    "plt.subplot(1,2,1)\n",
    "(cat_distr[:n]/cat_distr.sum()).plot.bar()\n",
    "plt.ylabel(f'Ratio');\n",
    "plt.title(f'Top {n} classes');\n",
    "\n",
    "plt.subplot(1,2,2)\n",
    "(cat_distr[n:]/cat_distr.sum()).plot.bar()\n",
    "plt.title(f'All except Top {n} classes');"
   ]
  },
  {
   "cell_type": "markdown",
   "metadata": {},
   "source": [
    "Conclusion: Top 2 classes are far more frequent than other classes (more than 45% of all targets)"
   ]
  },
  {
   "cell_type": "markdown",
   "metadata": {},
   "source": [
    "#### Review the raw articles"
   ]
  },
  {
   "cell_type": "code",
   "execution_count": 967,
   "metadata": {},
   "outputs": [
    {
     "data": {
      "text/plain": [
       "str"
      ]
     },
     "execution_count": 967,
     "metadata": {},
     "output_type": "execute_result"
    }
   ],
   "source": [
    "type(X_train_raw[0])"
   ]
  },
  {
   "cell_type": "code",
   "execution_count": 968,
   "metadata": {},
   "outputs": [],
   "source": [
    "art_len = [len(art) for art in X_train_raw]"
   ]
  },
  {
   "cell_type": "code",
   "execution_count": 969,
   "metadata": {},
   "outputs": [
    {
     "name": "stdout",
     "output_type": "stream",
     "text": [
      "Character count for the shortest article: 27\n",
      "Character count for the longest article: 8898\n"
     ]
    }
   ],
   "source": [
    "print(f\"Character count for the shortest article: {min(art_len)}\")\n",
    "print(f\"Character count for the longest article: {max(art_len)}\")"
   ]
  },
  {
   "cell_type": "code",
   "execution_count": 970,
   "metadata": {},
   "outputs": [],
   "source": [
    "# fig, (ax1, ax2) = plt.subplots(1,2, figsize=(15,5))\n",
    "# ax1.hist(art_len, bins=50, rwidth = 0.9);"
   ]
  },
  {
   "cell_type": "code",
   "execution_count": 971,
   "metadata": {},
   "outputs": [
    {
     "data": {
      "text/plain": [
       "(0.0, 200.0)"
      ]
     },
     "execution_count": 971,
     "metadata": {},
     "output_type": "execute_result"
    },
    {
     "data": {
      "image/png": "[encoded data removed]",
      "text/plain": [
       "<Figure size 1080x360 with 2 Axes>"
      ]
     },
     "metadata": {
      "needs_background": "light"
     },
     "output_type": "display_data"
    }
   ],
   "source": [
    "n=2000 # split between left and right graph (number of characters)\n",
    "plt.figure(figsize=(15,5))\n",
    "plt.suptitle('Distribution of character count in articles in the train set', fontsize = 16)\n",
    "\n",
    "plt.subplot(1,2,1)\n",
    "plt.hist(art_len, bins=50, rwidth = 0.9);\n",
    "plt.ylabel(f'Number of articles');\n",
    "plt.xlabel(f'Characters count');\n",
    "plt.title(f'Shortest articles');\n",
    "plt.xlim(0,n)\n",
    "\n",
    "plt.subplot(1,2,2)\n",
    "plt.hist(art_len, bins=50, rwidth = 0.9);\n",
    "plt.ylabel(f'Number of articles');\n",
    "plt.xlabel(f'Characters count');\n",
    "plt.title(f'Longest articles');\n",
    "plt.xlim(n,)\n",
    "plt.ylim(0,200)\n",
    "\n",
    "# plt.tight_layout()\n",
    "# ax.set(ylabel = 'aaa')"
   ]
  },
  {
   "cell_type": "code",
   "execution_count": 972,
   "metadata": {},
   "outputs": [
    {
     "data": {
      "text/plain": [
       "'BAHIA COCOA REVIEW\\n  Showers continued throughout the week in\\n  the Bahia cocoa zone, alleviating the drought since early\\n  January and improving prospects for the coming temporao,\\n  although normal humidity levels have not been restored,\\n  Comissaria Smith said in its weekly review.\\n      The dry p'"
      ]
     },
     "execution_count": 972,
     "metadata": {},
     "output_type": "execute_result"
    }
   ],
   "source": [
    "X_train_raw[0][:300]"
   ]
  },
  {
   "cell_type": "markdown",
   "metadata": {},
   "source": [
    "<br><br><br>\n",
    "### Side analysis START"
   ]
  },
  {
   "cell_type": "code",
   "execution_count": 973,
   "metadata": {
    "scrolled": true
   },
   "outputs": [
    {
     "data": {
      "text/plain": [
       "'26-FEB-1987\\n  26-FEB-1987\\n\\n'"
      ]
     },
     "execution_count": 973,
     "metadata": {},
     "output_type": "execute_result"
    }
   ],
   "source": [
    "min(X_train_raw, key=len)"
   ]
  },
  {
   "cell_type": "code",
   "execution_count": 974,
   "metadata": {
    "scrolled": false
   },
   "outputs": [
    {
     "data": {
      "text/plain": [
       "' 1-APR-1987 17:39:30.41\\n   1-APR-1987 17:39:30.41\\n\\n'"
      ]
     },
     "execution_count": 974,
     "metadata": {},
     "output_type": "execute_result"
    }
   ],
   "source": [
    "min(X_train_raw)"
   ]
  },
  {
   "cell_type": "code",
   "execution_count": 975,
   "metadata": {},
   "outputs": [
    {
     "data": {
      "text/plain": [
       "66"
      ]
     },
     "execution_count": 975,
     "metadata": {},
     "output_type": "execute_result"
    }
   ],
   "source": [
    "X_train_raw.index(min(X_train_raw, key=len))"
   ]
  },
  {
   "cell_type": "code",
   "execution_count": 976,
   "metadata": {
    "scrolled": true
   },
   "outputs": [
    {
     "data": {
      "text/plain": [
       "1533"
      ]
     },
     "execution_count": 976,
     "metadata": {},
     "output_type": "execute_result"
    }
   ],
   "source": [
    "X_train_raw.index(min(X_train_raw))"
   ]
  },
  {
   "cell_type": "code",
   "execution_count": 977,
   "metadata": {},
   "outputs": [
    {
     "data": {
      "text/plain": [
       "['grain', 'ship']"
      ]
     },
     "execution_count": 977,
     "metadata": {},
     "output_type": "execute_result"
    }
   ],
   "source": [
    "y_train_raw[1533]"
   ]
  },
  {
   "cell_type": "code",
   "execution_count": 978,
   "metadata": {},
   "outputs": [
    {
     "data": {
      "text/plain": [
       "['money-supply']"
      ]
     },
     "execution_count": 978,
     "metadata": {},
     "output_type": "execute_result"
    }
   ],
   "source": [
    "y_train_raw[66]"
   ]
  },
  {
   "cell_type": "markdown",
   "metadata": {},
   "source": [
    "### Side analysis END"
   ]
  },
  {
   "cell_type": "markdown",
   "metadata": {},
   "source": [
    "<br><br><br>\n",
    "### Clean text"
   ]
  },
  {
   "cell_type": "markdown",
   "metadata": {},
   "source": [
    "#### Functions definition"
   ]
  },
  {
   "cell_type": "code",
   "execution_count": 1111,
   "metadata": {},
   "outputs": [],
   "source": [
    "def remove_html(text_list):\n",
    "    text_clean = [re.sub(\"<.+?>\", \" \", el) for el in text]\n",
    "    return text_clean"
   ]
  },
  {
   "cell_type": "code",
   "execution_count": 1112,
   "metadata": {},
   "outputs": [],
   "source": [
    "def convert_to_lower(text):\n",
    "    text_clean = [el.lower() for el in text]\n",
    "    return text_clean"
   ]
  },
  {
   "cell_type": "code",
   "execution_count": 1113,
   "metadata": {},
   "outputs": [],
   "source": [
    "def remove_control_chars(text): # (e.g. \\n \\t...)\n",
    "    text_clean = [re.sub(\"\\s+\", \" \", el) for el in text]\n",
    "    return text_clean"
   ]
  },
  {
   "cell_type": "code",
   "execution_count": 1114,
   "metadata": {},
   "outputs": [],
   "source": [
    "def tokenization(text):\n",
    "    text_clean = [nltk.word_tokenize(el) for el in text]\n",
    "    return text_clean"
   ]
  },
  {
   "cell_type": "code",
   "execution_count": 1115,
   "metadata": {},
   "outputs": [],
   "source": [
    "def remove_stopwords(text):\n",
    "    stopwords =nltk.corpus.stopwords.words(\"english\")\n",
    "    text_clean = [[w for w in el if w not in stopwords] for el in text]\n",
    "    return text_clean"
   ]
  },
  {
   "cell_type": "code",
   "execution_count": 1116,
   "metadata": {},
   "outputs": [],
   "source": [
    "def remove_punctuations(text):\n",
    "    import string\n",
    "    punctuations = [char for char in string.punctuation]\n",
    "    \n",
    "    text_clean = [[w for w in el if w not in punctuations] for el in text]\n",
    "    return text_clean"
   ]
  },
  {
   "cell_type": "code",
   "execution_count": 1117,
   "metadata": {},
   "outputs": [],
   "source": [
    "def token_normalization(text):\n",
    "    # Token normalization - stemming with PorterStemmer \n",
    "    # It is not important to keep \"real\" language words, so stemming (as being faster) is a better choice than lemmatization\n",
    "    stemmer = nltk.PorterStemmer()\n",
    "    \n",
    "    text_clean = [[stemmer.stem(w) for w in el] for el in text]\n",
    "    return text_clean"
   ]
  },
  {
   "cell_type": "code",
   "execution_count": 1118,
   "metadata": {},
   "outputs": [],
   "source": [
    "def remove_numbers(text):\n",
    "    \n",
    "    text_clean = [[re.sub('[^A-Za-z]+', '', w) for w in el] for el in text]\n",
    "    # Remove empty strings after number removal\n",
    "    text_clean = [list(filter(None, el)) for el in text_clean]\n",
    "    \n",
    "    return text_clean"
   ]
  },
  {
   "cell_type": "code",
   "execution_count": 1119,
   "metadata": {},
   "outputs": [],
   "source": [
    "def remove_short_words(text, k):\n",
    "    text_clean = [[w for w in el if len(w) > k] for el in text]\n",
    "    return text_clean"
   ]
  },
  {
   "cell_type": "code",
   "execution_count": 1120,
   "metadata": {},
   "outputs": [],
   "source": [
    "def merge_back(text):\n",
    "    text_merge = [\" \".join(el) for el in text]\n",
    "    return text_merge"
   ]
  },
  {
   "cell_type": "code",
   "execution_count": 1121,
   "metadata": {},
   "outputs": [],
   "source": [
    "# Combine all functions above\n",
    "def text_preprocess(text):\n",
    "#     text = remove_html(text)\n",
    "    text = convert_to_lower(text)\n",
    "    text = remove_control_chars(text)\n",
    "    tokens = tokenization(text)\n",
    "    tokens = remove_stopwords(text)\n",
    "    tokens = remove_punctuations(text)\n",
    "    tokens = token_normalization(text)\n",
    "    tokens = remove_numbers(text)\n",
    "    text = remove_short_words(text, 2)\n",
    "    text_final = merge_back(text)\n",
    "    \n",
    "    return tokens, text_final"
   ]
  },
  {
   "cell_type": "markdown",
   "metadata": {},
   "source": [
    "#### Let's apply cleaning functions on train set:"
   ]
  },
  {
   "cell_type": "code",
   "execution_count": 1122,
   "metadata": {},
   "outputs": [
    {
     "data": {
      "text/plain": [
       "'bahia cocoa review\\n  showers continued throughout the week in\\n  the bahia cocoa zone, alleviating the drought since early\\n  january and improving prospects for the coming temporao,\\n  although normal humidity levels have not been restored,\\n  comissaria smith said in its weekly review.\\n      the dry p'"
      ]
     },
     "execution_count": 1122,
     "metadata": {},
     "output_type": "execute_result"
    }
   ],
   "source": [
    "# Convert to lower case\n",
    "X_train =  convert_to_lower(X_train_raw)\n",
    "X_train[0][:300]"
   ]
  },
  {
   "cell_type": "code",
   "execution_count": 1123,
   "metadata": {},
   "outputs": [
    {
     "data": {
      "text/plain": [
       "'bahia cocoa review showers continued throughout the week in the bahia cocoa zone, alleviating the drought since early january and improving prospects for the coming temporao, although normal humidity levels have not been restored, comissaria smith said in its weekly review. the dry period means the '"
      ]
     },
     "execution_count": 1123,
     "metadata": {},
     "output_type": "execute_result"
    }
   ],
   "source": [
    "# Remove control characters\n",
    "X_train =  remove_control_chars(X_train)\n",
    "X_train[0][:300]"
   ]
  },
  {
   "cell_type": "code",
   "execution_count": 1124,
   "metadata": {
    "scrolled": true
   },
   "outputs": [
    {
     "name": "stdout",
     "output_type": "stream",
     "text": [
      "['bahia', 'cocoa', 'review', 'showers', 'continued', 'throughout', 'the', 'week', 'in', 'the', 'bahia', 'cocoa', 'zone', ',', 'alleviating', 'the', 'drought', 'since', 'early', 'january']\n"
     ]
    }
   ],
   "source": [
    "# Tokenization\n",
    "X_train = tokenization(X_train)\n",
    "print(X_train[0][:20])"
   ]
  },
  {
   "cell_type": "code",
   "execution_count": 1125,
   "metadata": {},
   "outputs": [
    {
     "name": "stdout",
     "output_type": "stream",
     "text": [
      "['bahia', 'cocoa', 'review', 'showers', 'continued', 'throughout', 'week', 'bahia', 'cocoa', 'zone', ',', 'alleviating', 'drought', 'since', 'early', 'january', 'improving', 'prospects', 'coming', 'temporao']\n"
     ]
    }
   ],
   "source": [
    "# Remove stopwords\n",
    "X_train = remove_stopwords(X_train)\n",
    "print(X_train[0][:20])"
   ]
  },
  {
   "cell_type": "code",
   "execution_count": 1126,
   "metadata": {},
   "outputs": [
    {
     "name": "stdout",
     "output_type": "stream",
     "text": [
      "['bahia', 'cocoa', 'review', 'showers', 'continued', 'throughout', 'week', 'bahia', 'cocoa', 'zone', 'alleviating', 'drought', 'since', 'early', 'january', 'improving', 'prospects', 'coming', 'temporao', 'although']\n"
     ]
    }
   ],
   "source": [
    "# Remove punctuations\n",
    "X_train = remove_punctuations(X_train)\n",
    "print(X_train[0][:20])"
   ]
  },
  {
   "cell_type": "code",
   "execution_count": 1127,
   "metadata": {},
   "outputs": [
    {
     "name": "stdout",
     "output_type": "stream",
     "text": [
      "['bahia', 'cocoa', 'review', 'shower', 'continu', 'throughout', 'week', 'bahia', 'cocoa', 'zone', 'allevi', 'drought', 'sinc', 'earli', 'januari', 'improv', 'prospect', 'come', 'temporao', 'although', 'normal', 'humid', 'level', 'restor', 'comissaria', 'smith', 'said', 'weekli', 'review', 'dri', 'period', 'mean', 'temporao', 'late', 'year', 'arriv', 'week', 'end', 'februari', '22', '155,221', 'bag', '60', 'kilo', 'make', 'cumul', 'total', 'season', '5.93', 'mln']\n"
     ]
    }
   ],
   "source": [
    "# Token normalization\n",
    "X_train = token_normalization(X_train)\n",
    "print(X_train[0][:50])"
   ]
  },
  {
   "cell_type": "code",
   "execution_count": 1128,
   "metadata": {},
   "outputs": [
    {
     "name": "stdout",
     "output_type": "stream",
     "text": [
      "['bahia', 'cocoa', 'review', 'shower', 'continu', 'throughout', 'week', 'bahia', 'cocoa', 'zone', 'allevi', 'drought', 'sinc', 'earli', 'januari', 'improv', 'prospect', 'come', 'temporao', 'although', 'normal', 'humid', 'level', 'restor', 'comissaria', 'smith', 'said', 'weekli', 'review', 'dri', 'period', 'mean', 'temporao', 'late', 'year', 'arriv', 'week', 'end', 'februari', 'bag', 'kilo', 'make', 'cumul', 'total', 'season', 'mln', 'stage', 'last', 'year', 'seem']\n"
     ]
    }
   ],
   "source": [
    "# Remove numbers \n",
    "# Consider converting all numbers to \"number\" string instead of removing them ???\n",
    "X_train = remove_numbers(X_train) \n",
    "print(X_train[0][:50])"
   ]
  },
  {
   "cell_type": "code",
   "execution_count": 1129,
   "metadata": {},
   "outputs": [
    {
     "name": "stdout",
     "output_type": "stream",
     "text": [
      "['bahia', 'cocoa', 'review', 'shower', 'continu', 'throughout', 'week', 'bahia', 'cocoa', 'zone', 'allevi', 'drought', 'sinc', 'earli', 'januari', 'improv', 'prospect', 'come', 'temporao', 'although', 'normal', 'humid', 'level', 'restor', 'comissaria', 'smith', 'said', 'weekli', 'review', 'dri', 'period', 'mean', 'temporao', 'late', 'year', 'arriv', 'week', 'end', 'februari', 'bag', 'kilo', 'make', 'cumul', 'total', 'season', 'mln', 'stage', 'last', 'year', 'seem', 'cocoa', 'deliv', 'earlier', 'consign', 'includ', 'arriv', 'figur', 'comissaria', 'smith', 'said']\n"
     ]
    }
   ],
   "source": [
    "# Remove words shorter than 2\n",
    "X_train = remove_short_words(X_train, 2)\n",
    "print(X_train[0][:60])"
   ]
  },
  {
   "cell_type": "code",
   "execution_count": 1130,
   "metadata": {},
   "outputs": [],
   "source": [
    "tokens_train = X_train"
   ]
  },
  {
   "cell_type": "code",
   "execution_count": 1131,
   "metadata": {},
   "outputs": [
    {
     "data": {
      "text/plain": [
       "'bahia cocoa review shower continu throughout week bahia cocoa zone allevi drought sinc earli januari improv prospect come temporao although normal humid level restor comissaria smith said weekli review dri period mean temporao late year arriv week end februari bag kilo make cumul total season mln stage last year seem cocoa deliv earlier consign includ arriv figur comissaria smith said still doubt much old crop cocoa still avail harvest practic come end total bahia crop estim around mln bag sale '"
      ]
     },
     "execution_count": 1131,
     "metadata": {},
     "output_type": "execute_result"
    }
   ],
   "source": [
    "X_train = merge_back(X_train)\n",
    "X_train[0][:500]"
   ]
  },
  {
   "cell_type": "markdown",
   "metadata": {},
   "source": [
    "#### Let's do the same cleaning transofrmations with test set (using combined function)"
   ]
  },
  {
   "cell_type": "code",
   "execution_count": 1132,
   "metadata": {},
   "outputs": [],
   "source": [
    "tokens_test, X_test = text_preprocess(X_test_raw)"
   ]
  },
  {
   "cell_type": "code",
   "execution_count": 1134,
   "metadata": {},
   "outputs": [
    {
     "name": "stdout",
     "output_type": "stream",
     "text": [
      "There are 596080 words in the data corpus\n"
     ]
    }
   ],
   "source": [
    "indexes = [word for doc in tokens_train for word in doc]  \n",
    "print(f\"There are {len(indexes)} words in the data corpus\")"
   ]
  },
  {
   "cell_type": "code",
   "execution_count": 1135,
   "metadata": {},
   "outputs": [],
   "source": [
    "from collections import Counter"
   ]
  },
  {
   "cell_type": "code",
   "execution_count": 1136,
   "metadata": {
    "scrolled": true
   },
   "outputs": [
    {
     "data": {
      "text/plain": [
       "[('said', 18844),\n",
       " ('mln', 13102),\n",
       " ('dlr', 9750),\n",
       " ('pct', 7406),\n",
       " ('year', 6010),\n",
       " ('net', 4566),\n",
       " ('loss', 4312),\n",
       " ('share', 4184),\n",
       " ('billion', 4110),\n",
       " ('compani', 4037),\n",
       " ('bank', 3871),\n",
       " ('would', 3411),\n",
       " ('shr', 3277),\n",
       " ('price', 3033),\n",
       " ('trade', 3012),\n",
       " ('inc', 2959),\n",
       " ('market', 2857),\n",
       " ('profit', 2753),\n",
       " ('oper', 2498),\n",
       " ('last', 2409),\n",
       " ('sale', 2406),\n",
       " ('corp', 2406),\n",
       " ('oil', 2396),\n",
       " ('rate', 2292),\n",
       " ('stock', 2252)]"
      ]
     },
     "execution_count": 1136,
     "metadata": {},
     "output_type": "execute_result"
    }
   ],
   "source": [
    "corpus_freq = Counter(indexes).most_common()\n",
    "corpus_freq[:25]"
   ]
  },
  {
   "cell_type": "code",
   "execution_count": 1137,
   "metadata": {},
   "outputs": [],
   "source": [
    "uniques = [word for word,freq in Counter(indexes).items() if freq == 1]"
   ]
  },
  {
   "cell_type": "code",
   "execution_count": 1140,
   "metadata": {},
   "outputs": [
    {
     "data": {
      "text/plain": [
       "7983"
      ]
     },
     "execution_count": 1140,
     "metadata": {},
     "output_type": "execute_result"
    }
   ],
   "source": [
    "len(uniques)"
   ]
  },
  {
   "cell_type": "markdown",
   "metadata": {},
   "source": [
    "<br><br><br>\n",
    "## Text vectorization\n",
    "Plan to review TFIDF, FastText, doc2vec\n",
    "\n",
    "What about Skip-Thought Vectors??"
   ]
  },
  {
   "cell_type": "markdown",
   "metadata": {},
   "source": [
    "### TFIDF"
   ]
  },
  {
   "cell_type": "code",
   "execution_count": 3,
   "metadata": {},
   "outputs": [],
   "source": [
    "from sklearn.feature_extraction.text import TfidfVectorizer\n",
    "# TfidfVectorizer?"
   ]
  },
  {
   "cell_type": "code",
   "execution_count": 1001,
   "metadata": {},
   "outputs": [],
   "source": [
    "min_df = 3\n",
    "max_df = 0.6"
   ]
  },
  {
   "cell_type": "code",
   "execution_count": 1002,
   "metadata": {},
   "outputs": [],
   "source": [
    "tfidf_vectorizer = TfidfVectorizer(min_df=min_df, max_df=max_df)\n",
    "\n",
    "tfidf = tfidf_vectorizer.fit(X_train)\n",
    "X_train_tfidf = tfidf.transform(X_train)\n",
    "\n",
    "X_test_tfidf = tfidf.transform(X_test)"
   ]
  },
  {
   "cell_type": "code",
   "execution_count": 1041,
   "metadata": {},
   "outputs": [
    {
     "name": "stdout",
     "output_type": "stream",
     "text": [
      "Number of remaining tokens: 7367\n"
     ]
    }
   ],
   "source": [
    "print(f\"Number of remaining tokens: {X_train_tfidf.shape[1]}\")"
   ]
  },
  {
   "cell_type": "code",
   "execution_count": 1004,
   "metadata": {},
   "outputs": [],
   "source": [
    "# Take a dense tfidf with feature names\n",
    "df_tfidf = pd.DataFrame(X_train_tfidf.todense().T, index=tfidf.get_feature_names())"
   ]
  },
  {
   "cell_type": "code",
   "execution_count": 1045,
   "metadata": {},
   "outputs": [
    {
     "data": {
      "text/html": [
       "<div>\n",
       "<style scoped>\n",
       "    .dataframe tbody tr th:only-of-type {\n",
       "        vertical-align: middle;\n",
       "    }\n",
       "\n",
       "    .dataframe tbody tr th {\n",
       "        vertical-align: top;\n",
       "    }\n",
       "\n",
       "    .dataframe thead th {\n",
       "        text-align: right;\n",
       "    }\n",
       "</style>\n",
       "<table border=\"1\" class=\"dataframe\">\n",
       "  <thead>\n",
       "    <tr style=\"text-align: right;\">\n",
       "      <th></th>\n",
       "      <th>0</th>\n",
       "      <th>1</th>\n",
       "      <th>2</th>\n",
       "      <th>3</th>\n",
       "      <th>4</th>\n",
       "      <th>5</th>\n",
       "      <th>6</th>\n",
       "      <th>7</th>\n",
       "      <th>8</th>\n",
       "      <th>9</th>\n",
       "      <th>...</th>\n",
       "      <th>7759</th>\n",
       "      <th>7760</th>\n",
       "      <th>7761</th>\n",
       "      <th>7762</th>\n",
       "      <th>7763</th>\n",
       "      <th>7764</th>\n",
       "      <th>7765</th>\n",
       "      <th>7766</th>\n",
       "      <th>7767</th>\n",
       "      <th>7768</th>\n",
       "    </tr>\n",
       "  </thead>\n",
       "  <tbody>\n",
       "    <tr>\n",
       "      <th>aa</th>\n",
       "      <td>0.000000</td>\n",
       "      <td>0.0</td>\n",
       "      <td>0.0</td>\n",
       "      <td>0.0</td>\n",
       "      <td>0.0</td>\n",
       "      <td>0.0</td>\n",
       "      <td>0.0</td>\n",
       "      <td>0.0</td>\n",
       "      <td>0.0</td>\n",
       "      <td>0.0</td>\n",
       "      <td>...</td>\n",
       "      <td>0.0</td>\n",
       "      <td>0.0</td>\n",
       "      <td>0.0</td>\n",
       "      <td>0.0</td>\n",
       "      <td>0.0</td>\n",
       "      <td>0.0</td>\n",
       "      <td>0.0</td>\n",
       "      <td>0.0</td>\n",
       "      <td>0.0</td>\n",
       "      <td>0.0</td>\n",
       "    </tr>\n",
       "    <tr>\n",
       "      <th>aaa</th>\n",
       "      <td>0.000000</td>\n",
       "      <td>0.0</td>\n",
       "      <td>0.0</td>\n",
       "      <td>0.0</td>\n",
       "      <td>0.0</td>\n",
       "      <td>0.0</td>\n",
       "      <td>0.0</td>\n",
       "      <td>0.0</td>\n",
       "      <td>0.0</td>\n",
       "      <td>0.0</td>\n",
       "      <td>...</td>\n",
       "      <td>0.0</td>\n",
       "      <td>0.0</td>\n",
       "      <td>0.0</td>\n",
       "      <td>0.0</td>\n",
       "      <td>0.0</td>\n",
       "      <td>0.0</td>\n",
       "      <td>0.0</td>\n",
       "      <td>0.0</td>\n",
       "      <td>0.0</td>\n",
       "      <td>0.0</td>\n",
       "    </tr>\n",
       "    <tr>\n",
       "      <th>aac</th>\n",
       "      <td>0.000000</td>\n",
       "      <td>0.0</td>\n",
       "      <td>0.0</td>\n",
       "      <td>0.0</td>\n",
       "      <td>0.0</td>\n",
       "      <td>0.0</td>\n",
       "      <td>0.0</td>\n",
       "      <td>0.0</td>\n",
       "      <td>0.0</td>\n",
       "      <td>0.0</td>\n",
       "      <td>...</td>\n",
       "      <td>0.0</td>\n",
       "      <td>0.0</td>\n",
       "      <td>0.0</td>\n",
       "      <td>0.0</td>\n",
       "      <td>0.0</td>\n",
       "      <td>0.0</td>\n",
       "      <td>0.0</td>\n",
       "      <td>0.0</td>\n",
       "      <td>0.0</td>\n",
       "      <td>0.0</td>\n",
       "    </tr>\n",
       "    <tr>\n",
       "      <th>aar</th>\n",
       "      <td>0.000000</td>\n",
       "      <td>0.0</td>\n",
       "      <td>0.0</td>\n",
       "      <td>0.0</td>\n",
       "      <td>0.0</td>\n",
       "      <td>0.0</td>\n",
       "      <td>0.0</td>\n",
       "      <td>0.0</td>\n",
       "      <td>0.0</td>\n",
       "      <td>0.0</td>\n",
       "      <td>...</td>\n",
       "      <td>0.0</td>\n",
       "      <td>0.0</td>\n",
       "      <td>0.0</td>\n",
       "      <td>0.0</td>\n",
       "      <td>0.0</td>\n",
       "      <td>0.0</td>\n",
       "      <td>0.0</td>\n",
       "      <td>0.0</td>\n",
       "      <td>0.0</td>\n",
       "      <td>0.0</td>\n",
       "    </tr>\n",
       "    <tr>\n",
       "      <th>ab</th>\n",
       "      <td>0.000000</td>\n",
       "      <td>0.0</td>\n",
       "      <td>0.0</td>\n",
       "      <td>0.0</td>\n",
       "      <td>0.0</td>\n",
       "      <td>0.0</td>\n",
       "      <td>0.0</td>\n",
       "      <td>0.0</td>\n",
       "      <td>0.0</td>\n",
       "      <td>0.0</td>\n",
       "      <td>...</td>\n",
       "      <td>0.0</td>\n",
       "      <td>0.0</td>\n",
       "      <td>0.0</td>\n",
       "      <td>0.0</td>\n",
       "      <td>0.0</td>\n",
       "      <td>0.0</td>\n",
       "      <td>0.0</td>\n",
       "      <td>0.0</td>\n",
       "      <td>0.0</td>\n",
       "      <td>0.0</td>\n",
       "    </tr>\n",
       "    <tr>\n",
       "      <th>...</th>\n",
       "      <td>...</td>\n",
       "      <td>...</td>\n",
       "      <td>...</td>\n",
       "      <td>...</td>\n",
       "      <td>...</td>\n",
       "      <td>...</td>\n",
       "      <td>...</td>\n",
       "      <td>...</td>\n",
       "      <td>...</td>\n",
       "      <td>...</td>\n",
       "      <td>...</td>\n",
       "      <td>...</td>\n",
       "      <td>...</td>\n",
       "      <td>...</td>\n",
       "      <td>...</td>\n",
       "      <td>...</td>\n",
       "      <td>...</td>\n",
       "      <td>...</td>\n",
       "      <td>...</td>\n",
       "      <td>...</td>\n",
       "      <td>...</td>\n",
       "    </tr>\n",
       "    <tr>\n",
       "      <th>zoet</th>\n",
       "      <td>0.000000</td>\n",
       "      <td>0.0</td>\n",
       "      <td>0.0</td>\n",
       "      <td>0.0</td>\n",
       "      <td>0.0</td>\n",
       "      <td>0.0</td>\n",
       "      <td>0.0</td>\n",
       "      <td>0.0</td>\n",
       "      <td>0.0</td>\n",
       "      <td>0.0</td>\n",
       "      <td>...</td>\n",
       "      <td>0.0</td>\n",
       "      <td>0.0</td>\n",
       "      <td>0.0</td>\n",
       "      <td>0.0</td>\n",
       "      <td>0.0</td>\n",
       "      <td>0.0</td>\n",
       "      <td>0.0</td>\n",
       "      <td>0.0</td>\n",
       "      <td>0.0</td>\n",
       "      <td>0.0</td>\n",
       "    </tr>\n",
       "    <tr>\n",
       "      <th>zone</th>\n",
       "      <td>0.044532</td>\n",
       "      <td>0.0</td>\n",
       "      <td>0.0</td>\n",
       "      <td>0.0</td>\n",
       "      <td>0.0</td>\n",
       "      <td>0.0</td>\n",
       "      <td>0.0</td>\n",
       "      <td>0.0</td>\n",
       "      <td>0.0</td>\n",
       "      <td>0.0</td>\n",
       "      <td>...</td>\n",
       "      <td>0.0</td>\n",
       "      <td>0.0</td>\n",
       "      <td>0.0</td>\n",
       "      <td>0.0</td>\n",
       "      <td>0.0</td>\n",
       "      <td>0.0</td>\n",
       "      <td>0.0</td>\n",
       "      <td>0.0</td>\n",
       "      <td>0.0</td>\n",
       "      <td>0.0</td>\n",
       "    </tr>\n",
       "    <tr>\n",
       "      <th>zorinski</th>\n",
       "      <td>0.000000</td>\n",
       "      <td>0.0</td>\n",
       "      <td>0.0</td>\n",
       "      <td>0.0</td>\n",
       "      <td>0.0</td>\n",
       "      <td>0.0</td>\n",
       "      <td>0.0</td>\n",
       "      <td>0.0</td>\n",
       "      <td>0.0</td>\n",
       "      <td>0.0</td>\n",
       "      <td>...</td>\n",
       "      <td>0.0</td>\n",
       "      <td>0.0</td>\n",
       "      <td>0.0</td>\n",
       "      <td>0.0</td>\n",
       "      <td>0.0</td>\n",
       "      <td>0.0</td>\n",
       "      <td>0.0</td>\n",
       "      <td>0.0</td>\n",
       "      <td>0.0</td>\n",
       "      <td>0.0</td>\n",
       "    </tr>\n",
       "    <tr>\n",
       "      <th>zuccherifici</th>\n",
       "      <td>0.000000</td>\n",
       "      <td>0.0</td>\n",
       "      <td>0.0</td>\n",
       "      <td>0.0</td>\n",
       "      <td>0.0</td>\n",
       "      <td>0.0</td>\n",
       "      <td>0.0</td>\n",
       "      <td>0.0</td>\n",
       "      <td>0.0</td>\n",
       "      <td>0.0</td>\n",
       "      <td>...</td>\n",
       "      <td>0.0</td>\n",
       "      <td>0.0</td>\n",
       "      <td>0.0</td>\n",
       "      <td>0.0</td>\n",
       "      <td>0.0</td>\n",
       "      <td>0.0</td>\n",
       "      <td>0.0</td>\n",
       "      <td>0.0</td>\n",
       "      <td>0.0</td>\n",
       "      <td>0.0</td>\n",
       "    </tr>\n",
       "    <tr>\n",
       "      <th>zurich</th>\n",
       "      <td>0.000000</td>\n",
       "      <td>0.0</td>\n",
       "      <td>0.0</td>\n",
       "      <td>0.0</td>\n",
       "      <td>0.0</td>\n",
       "      <td>0.0</td>\n",
       "      <td>0.0</td>\n",
       "      <td>0.0</td>\n",
       "      <td>0.0</td>\n",
       "      <td>0.0</td>\n",
       "      <td>...</td>\n",
       "      <td>0.0</td>\n",
       "      <td>0.0</td>\n",
       "      <td>0.0</td>\n",
       "      <td>0.0</td>\n",
       "      <td>0.0</td>\n",
       "      <td>0.0</td>\n",
       "      <td>0.0</td>\n",
       "      <td>0.0</td>\n",
       "      <td>0.0</td>\n",
       "      <td>0.0</td>\n",
       "    </tr>\n",
       "  </tbody>\n",
       "</table>\n",
       "<p>7367 rows × 7769 columns</p>\n",
       "</div>"
      ],
      "text/plain": [
       "                  0     1     2     3     4     5     6     7     8     9     \\\n",
       "aa            0.000000   0.0   0.0   0.0   0.0   0.0   0.0   0.0   0.0   0.0   \n",
       "aaa           0.000000   0.0   0.0   0.0   0.0   0.0   0.0   0.0   0.0   0.0   \n",
       "aac           0.000000   0.0   0.0   0.0   0.0   0.0   0.0   0.0   0.0   0.0   \n",
       "aar           0.000000   0.0   0.0   0.0   0.0   0.0   0.0   0.0   0.0   0.0   \n",
       "ab            0.000000   0.0   0.0   0.0   0.0   0.0   0.0   0.0   0.0   0.0   \n",
       "...                ...   ...   ...   ...   ...   ...   ...   ...   ...   ...   \n",
       "zoet          0.000000   0.0   0.0   0.0   0.0   0.0   0.0   0.0   0.0   0.0   \n",
       "zone          0.044532   0.0   0.0   0.0   0.0   0.0   0.0   0.0   0.0   0.0   \n",
       "zorinski      0.000000   0.0   0.0   0.0   0.0   0.0   0.0   0.0   0.0   0.0   \n",
       "zuccherifici  0.000000   0.0   0.0   0.0   0.0   0.0   0.0   0.0   0.0   0.0   \n",
       "zurich        0.000000   0.0   0.0   0.0   0.0   0.0   0.0   0.0   0.0   0.0   \n",
       "\n",
       "              ...  7759  7760  7761  7762  7763  7764  7765  7766  7767  7768  \n",
       "aa            ...   0.0   0.0   0.0   0.0   0.0   0.0   0.0   0.0   0.0   0.0  \n",
       "aaa           ...   0.0   0.0   0.0   0.0   0.0   0.0   0.0   0.0   0.0   0.0  \n",
       "aac           ...   0.0   0.0   0.0   0.0   0.0   0.0   0.0   0.0   0.0   0.0  \n",
       "aar           ...   0.0   0.0   0.0   0.0   0.0   0.0   0.0   0.0   0.0   0.0  \n",
       "ab            ...   0.0   0.0   0.0   0.0   0.0   0.0   0.0   0.0   0.0   0.0  \n",
       "...           ...   ...   ...   ...   ...   ...   ...   ...   ...   ...   ...  \n",
       "zoet          ...   0.0   0.0   0.0   0.0   0.0   0.0   0.0   0.0   0.0   0.0  \n",
       "zone          ...   0.0   0.0   0.0   0.0   0.0   0.0   0.0   0.0   0.0   0.0  \n",
       "zorinski      ...   0.0   0.0   0.0   0.0   0.0   0.0   0.0   0.0   0.0   0.0  \n",
       "zuccherifici  ...   0.0   0.0   0.0   0.0   0.0   0.0   0.0   0.0   0.0   0.0  \n",
       "zurich        ...   0.0   0.0   0.0   0.0   0.0   0.0   0.0   0.0   0.0   0.0  \n",
       "\n",
       "[7367 rows x 7769 columns]"
      ]
     },
     "execution_count": 1045,
     "metadata": {},
     "output_type": "execute_result"
    }
   ],
   "source": [
    "df_tfidf"
   ]
  },
  {
   "cell_type": "code",
   "execution_count": 1077,
   "metadata": {},
   "outputs": [
    {
     "data": {
      "text/html": [
       "<div>\n",
       "<style scoped>\n",
       "    .dataframe tbody tr th:only-of-type {\n",
       "        vertical-align: middle;\n",
       "    }\n",
       "\n",
       "    .dataframe tbody tr th {\n",
       "        vertical-align: top;\n",
       "    }\n",
       "\n",
       "    .dataframe thead th {\n",
       "        text-align: right;\n",
       "    }\n",
       "</style>\n",
       "<table border=\"1\" class=\"dataframe\">\n",
       "  <thead>\n",
       "    <tr style=\"text-align: right;\">\n",
       "      <th></th>\n",
       "      <th>0</th>\n",
       "    </tr>\n",
       "  </thead>\n",
       "  <tbody>\n",
       "    <tr>\n",
       "      <th>allevi</th>\n",
       "      <td>0.056779</td>\n",
       "    </tr>\n",
       "    <tr>\n",
       "      <th>almost</th>\n",
       "      <td>0.038599</td>\n",
       "    </tr>\n",
       "    <tr>\n",
       "      <th>also</th>\n",
       "      <td>0.020208</td>\n",
       "    </tr>\n",
       "    <tr>\n",
       "      <th>although</th>\n",
       "      <td>0.033910</td>\n",
       "    </tr>\n",
       "    <tr>\n",
       "      <th>aprilmay</th>\n",
       "      <td>0.055311</td>\n",
       "    </tr>\n",
       "    <tr>\n",
       "      <th>...</th>\n",
       "      <td>...</td>\n",
       "    </tr>\n",
       "    <tr>\n",
       "      <th>went</th>\n",
       "      <td>0.043404</td>\n",
       "    </tr>\n",
       "    <tr>\n",
       "      <th>would</th>\n",
       "      <td>0.019077</td>\n",
       "    </tr>\n",
       "    <tr>\n",
       "      <th>year</th>\n",
       "      <td>0.029058</td>\n",
       "    </tr>\n",
       "    <tr>\n",
       "      <th>york</th>\n",
       "      <td>0.258739</td>\n",
       "    </tr>\n",
       "    <tr>\n",
       "      <th>zone</th>\n",
       "      <td>0.044532</td>\n",
       "    </tr>\n",
       "  </tbody>\n",
       "</table>\n",
       "<p>141 rows × 1 columns</p>\n",
       "</div>"
      ],
      "text/plain": [
       "                 0\n",
       "allevi    0.056779\n",
       "almost    0.038599\n",
       "also      0.020208\n",
       "although  0.033910\n",
       "aprilmay  0.055311\n",
       "...            ...\n",
       "went      0.043404\n",
       "would     0.019077\n",
       "year      0.029058\n",
       "york      0.258739\n",
       "zone      0.044532\n",
       "\n",
       "[141 rows x 1 columns]"
      ]
     },
     "execution_count": 1077,
     "metadata": {},
     "output_type": "execute_result"
    }
   ],
   "source": [
    "doc = 0\n",
    "df_tfidf.loc[df_tfidf[doc] > 0, [doc]]"
   ]
  },
  {
   "cell_type": "code",
   "execution_count": 1060,
   "metadata": {},
   "outputs": [
    {
     "data": {
      "text/plain": [
       "(7367, 7769)"
      ]
     },
     "execution_count": 1060,
     "metadata": {},
     "output_type": "execute_result"
    }
   ],
   "source": [
    "df_tfidf.shape"
   ]
  },
  {
   "cell_type": "code",
   "execution_count": 1008,
   "metadata": {
    "scrolled": false
   },
   "outputs": [
    {
     "data": {
      "image/png": "[encoded data removed]",
      "text/plain": [
       "<Figure size 720x432 with 1 Axes>"
      ]
     },
     "metadata": {
      "needs_background": "light"
     },
     "output_type": "display_data"
    }
   ],
   "source": [
    "import random\n",
    "n = 10 # Number of articles to be presented\n",
    "randomlist = random.sample(range(0, X_train_tfidf.shape[0]), n)\n",
    "\n",
    "plt.figure(figsize=(10,6))\n",
    "\n",
    "for i in randomlist:\n",
    "    rowssort = X_train_tfidf.getrow(i).todense().A1.argsort()[::-1]\n",
    "    valsort = df_tfidf[i].values[rowssort]\n",
    "    \n",
    "    plt.plot(valsort, 'o')\n",
    "\n",
    "ax = plt.gca()\n",
    "ax.set(xlim=(-10, 200), ylim=(0, 1),\n",
    "       ylabel='tf-idf value',\n",
    "       title=f'Values of tfidf in descending order for {n} random articles');\n"
   ]
  },
  {
   "cell_type": "markdown",
   "metadata": {},
   "source": [
    "### Doc2vec"
   ]
  },
  {
   "cell_type": "code",
   "execution_count": 1080,
   "metadata": {},
   "outputs": [],
   "source": [
    "from gensim.models import Doc2Vec\n",
    "from gensim.models.doc2vec import TaggedDocument"
   ]
  },
  {
   "cell_type": "code",
   "execution_count": 1141,
   "metadata": {},
   "outputs": [],
   "source": [
    "train_corpus = [TaggedDocument(doc, [i]) for i, doc in enumerate(tokens_train)]"
   ]
  },
  {
   "cell_type": "code",
   "execution_count": 1150,
   "metadata": {
    "collapsed": true
   },
   "outputs": [
    {
     "data": {
      "text/plain": [
       "TaggedDocument(words=['comput', 'termin', 'system', 'cpml', 'complet', 'sale', 'comput', 'termin', 'system', 'inc', 'said', 'complet', 'sale', 'share', 'common', 'stock', 'warrant', 'acquir', 'addit', 'one', 'mln', 'share', 'sedio', 'lugano', 'switzerland', 'dlr', 'compani', 'said', 'warrant', 'exercis', 'five', 'year', 'purchas', 'price', 'dlr', 'per', 'share', 'comput', 'termin', 'said', 'sedio', 'also', 'right', 'buy', 'addit', 'share', 'increas', 'total', 'hold', 'pct', 'comput', 'termin', 'outstand', 'common', 'stock', 'certain', 'circumst', 'involv', 'chang', 'control', 'compani', 'compani', 'said', 'condit', 'occur', 'warrant', 'would', 'exercis', 'price', 'equal', 'pct', 'common', 'stock', 'market', 'price', 'time', 'exceed', 'dlr', 'per', 'share', 'comput', 'termin', 'also', 'said', 'sold', 'technolgi', 'right', 'dot', 'matrix', 'impact', 'technolog', 'includ', 'futur', 'improv', 'woodco', 'inc', 'houston', 'tex', 'dlr', 'said', 'would', 'continu', 'exclus', 'worldwid', 'license', 'technolog', 'woodco', 'compani', 'said', 'move', 'part', 'reorgan', 'plan', 'would', 'help', 'pay', 'current', 'oper', 'cost', 'ensur', 'product', 'deliveri', 'comput', 'termin', 'make', 'comput', 'gener', 'label', 'form', 'tag', 'ticket', 'printer', 'termin'], tags=[1])"
      ]
     },
     "execution_count": 1150,
     "metadata": {},
     "output_type": "execute_result"
    }
   ],
   "source": [
    "train_corpus[1]"
   ]
  },
  {
   "cell_type": "code",
   "execution_count": 1162,
   "metadata": {},
   "outputs": [],
   "source": [
    "model_Doc2Vec =  Doc2Vec(train_corpus, vector_size = 200, window = 4, epochs = 40)"
   ]
  },
  {
   "cell_type": "code",
   "execution_count": 1163,
   "metadata": {
    "scrolled": true
   },
   "outputs": [],
   "source": [
    "model_Doc2Vec.train(train_corpus,\n",
    "                    total_examples = model_Doc2Vec.corpus_count,\n",
    "                    epochs = model_Doc2Vec.epochs)"
   ]
  },
  {
   "cell_type": "code",
   "execution_count": 1168,
   "metadata": {},
   "outputs": [],
   "source": [
    "X_train_D2V = np.zeros((len(tokens_train), 200)) # initialize"
   ]
  },
  {
   "cell_type": "code",
   "execution_count": 1172,
   "metadata": {},
   "outputs": [],
   "source": [
    "for i in range(0, len(tokens_train)):\n",
    "    X_train_D2V[i,]=model_Doc2Vec.infer_vector(tokens_train[i]).transpose()"
   ]
  },
  {
   "cell_type": "code",
   "execution_count": 1171,
   "metadata": {
    "scrolled": true
   },
   "outputs": [
    {
     "data": {
      "text/plain": [
       "array([ 0.64944041, -3.05950212, -0.05159197,  1.37462997,  0.2445541 ,\n",
       "       -0.51341093, -0.82482541, -0.10313563, -0.13353118, -0.73643523,\n",
       "        0.44308361,  0.75324178,  0.19520192, -0.04014595,  0.44910204,\n",
       "        1.10591006, -0.58933324, -0.10170684, -0.57281059,  0.15018143,\n",
       "       -0.27995938,  0.00743596,  1.54819238,  1.00095618,  0.83956063,\n",
       "       -0.2511512 ,  0.28979903, -1.65493655,  2.21918392, -0.41127074,\n",
       "        2.00433636, -0.18307702,  0.59306782,  1.39294338,  1.42270958,\n",
       "        0.52151591,  0.64040804, -1.73440123, -1.16223454,  0.85129106,\n",
       "       -1.34117246,  0.51358932,  1.45471251,  0.0520743 ,  1.06570899,\n",
       "       -2.51322269, -1.63542771,  0.53650433,  1.71398795,  0.20685394,\n",
       "        1.42863452, -0.40099242,  2.48088145,  1.70900559,  0.93253976,\n",
       "       -1.30775058,  1.07688832, -0.92264891,  1.27039182, -0.54804754,\n",
       "       -2.30383134, -0.01288883, -2.31032896,  1.16873026, -0.13410433,\n",
       "       -1.14028132, -1.714746  ,  0.7089622 ,  0.50814116, -0.37980554,\n",
       "       -2.19494081,  1.81466687,  0.15283275,  0.23250975, -0.25688985,\n",
       "       -0.91373628, -0.21114357,  1.34043825, -1.64797962, -0.57835382,\n",
       "       -0.15102983,  0.46976909,  0.93008047, -0.45504108, -0.46120644,\n",
       "       -2.14539504,  1.54237056,  0.51363373, -1.33101797, -0.09251906,\n",
       "        0.69779289,  0.88933879, -1.91408277,  0.84913427,  0.55826741,\n",
       "        0.51952565, -0.55833477,  0.59727877, -0.90326095, -0.12298266,\n",
       "        0.55198681, -0.28004545, -0.46281624,  0.81153417, -0.0099735 ,\n",
       "       -0.95156336,  0.32963777, -1.10470927, -1.5421778 , -0.84516788,\n",
       "        1.0836035 , -1.73700094,  2.50000024,  0.80832052,  2.35787654,\n",
       "       -1.10578585,  0.30386013, -1.23189211, -0.3349486 , -0.09929202,\n",
       "        2.64109921,  0.12697914,  0.18923849,  0.10429817,  1.6180501 ,\n",
       "        0.43342072, -0.86953044,  0.19331777, -1.35295641,  0.48610321,\n",
       "        1.32591748,  1.8662591 , -0.48838338,  0.82243401, -1.92851341,\n",
       "       -0.1900222 ,  0.61863238, -0.97010601,  0.71535736,  1.36655414,\n",
       "       -0.13223316, -1.04431236,  0.13865861,  0.01318812, -2.15835023,\n",
       "        0.99001563, -0.79333168, -0.98643804,  0.40524614,  0.564565  ,\n",
       "       -0.00958013,  1.04488885, -0.49696329,  1.2567631 , -2.09061956,\n",
       "        0.00792117, -0.85832036, -0.60234475, -1.09038377, -1.8994745 ,\n",
       "        1.98855996,  1.03952658, -0.95063514, -0.17245375,  0.63592738,\n",
       "        1.09655738,  0.21854399,  0.18161736,  1.07458436,  0.15383583,\n",
       "        0.30931121,  0.03418914,  1.30535865,  1.46722639,  0.33861095,\n",
       "        0.25382712,  0.57150567, -0.05648358, -0.38788784,  0.60915452,\n",
       "        1.0611614 ,  0.07483221, -0.27967316,  0.33563405, -1.23386693,\n",
       "       -1.12878621,  0.18478964,  0.73260432, -1.32300687,  2.40744734,\n",
       "       -2.11053777, -0.42642757, -0.91601187,  0.9214384 , -0.1344751 ,\n",
       "       -0.03637799, -0.12291714, -3.13892937, -0.79168719,  1.3561461 ])"
      ]
     },
     "execution_count": 1171,
     "metadata": {},
     "output_type": "execute_result"
    }
   ],
   "source": [
    "X_train_D2V[0]"
   ]
  },
  {
   "cell_type": "markdown",
   "metadata": {},
   "source": []
  },
  {
   "cell_type": "code",
   "execution_count": null,
   "metadata": {},
   "outputs": [],
   "source": []
  },
  {
   "cell_type": "code",
   "execution_count": 1173,
   "metadata": {},
   "outputs": [],
   "source": [
    "X_test_D2V = np.zeros((len(tokens_test), 200)) # initialize\n",
    "for i in range(0, len(tokens_test)):\n",
    "    X_test_D2V[i,]=model_Doc2Vec.infer_vector(tokens_train[i]).transpose()"
   ]
  },
  {
   "cell_type": "code",
   "execution_count": null,
   "metadata": {},
   "outputs": [],
   "source": []
  },
  {
   "cell_type": "markdown",
   "metadata": {},
   "source": [
    "## Target binarization"
   ]
  },
  {
   "cell_type": "code",
   "execution_count": 1013,
   "metadata": {},
   "outputs": [],
   "source": [
    "from sklearn.preprocessing import MultiLabelBinarizer\n",
    "\n",
    "mlb = MultiLabelBinarizer()\n",
    "y_train = mlb.fit_transform(y_train_raw)\n",
    "y_test = mlb.transform(y_test_raw)"
   ]
  },
  {
   "cell_type": "markdown",
   "metadata": {},
   "source": [
    "## Model"
   ]
  },
  {
   "cell_type": "code",
   "execution_count": 1009,
   "metadata": {},
   "outputs": [],
   "source": [
    "def metricsReport(modelName, test_labels, predictions):\n",
    "    accuracy = accuracy_score(test_labels, predictions)\n",
    "\n",
    "    macro_precision = precision_score(test_labels, predictions, average='macro')\n",
    "    macro_recall = recall_score(test_labels, predictions, average='macro')\n",
    "    macro_f1 = f1_score(test_labels, predictions, average='macro')\n",
    "\n",
    "    micro_precision = precision_score(test_labels, predictions, average='micro')\n",
    "    micro_recall = recall_score(test_labels, predictions, average='micro')\n",
    "    micro_f1 = f1_score(test_labels, predictions, average='micro')\n",
    "    hamLoss = hamming_loss(test_labels, predictions)\n",
    "    print(\"------\" + modelName + \" Model Metrics-----\")\n",
    "    print(\"Accuracy: {:.4f}\\nHamming Loss: {:.4f}\\nPrecision:\\n  - Macro: {:.4f}\\n  - Micro: {:.4f}\\nRecall:\\n  - Macro: {:.4f}\\n  - Micro: {:.4f}\\nF1-measure:\\n  - Macro: {:.4f}\\n  - Micro: {:.4f}\"\\\n",
    "          .format(accuracy, hamLoss, macro_precision, micro_precision, macro_recall, micro_recall, macro_f1, micro_f1))\n",
    "    ModelsPerformance[modelName] = micro_f1"
   ]
  },
  {
   "cell_type": "markdown",
   "metadata": {},
   "source": [
    "Consider using some clever split to represent the same number of classes in different splits"
   ]
  },
  {
   "cell_type": "markdown",
   "metadata": {},
   "source": [
    "### Random Forest"
   ]
  },
  {
   "cell_type": "code",
   "execution_count": 1010,
   "metadata": {},
   "outputs": [],
   "source": [
    "from sklearn.ensemble import RandomForestClassifier"
   ]
  },
  {
   "cell_type": "code",
   "execution_count": 1014,
   "metadata": {},
   "outputs": [
    {
     "name": "stdout",
     "output_type": "stream",
     "text": [
      "Best params: {'clf__n_estimators': 25}\n",
      "Train accuracy: 0.9876431973226928\n",
      "Test accuracy: 0.6796952633322292\n"
     ]
    }
   ],
   "source": [
    "pipe = Pipeline(steps=[\n",
    "    ('vectorizer',  TfidfVectorizer(min_df=min_df, max_df=max_df)),\n",
    "    ('clf', RandomForestClassifier(n_estimators = 100, random_state=42))\n",
    "])\n",
    "\n",
    "param_grid = {\n",
    "    'clf__n_estimators': [25, 50],\n",
    "#     'clf__criterion': ['gini', 'entropy']\n",
    "}\n",
    "\n",
    "grid_RF_tfidf = GridSearchCV(pipe, param_grid, cv=5, n_jobs=-1, return_train_score=True, verbose=1)\n",
    "grid_RF_tfidf.fit(X_train, y_train)\n",
    "\n",
    "print(f\"Best params: {grid_RF_tfidf.best_params_}\")\n",
    "print(f\"Train accuracy: {grid_RF_tfidf.score(X_train, y_train)}\")\n",
    "print(f\"Test accuracy: {grid_RF_tfidf.score(X_test, y_test)}\")"
   ]
  },
  {
   "cell_type": "code",
   "execution_count": 1015,
   "metadata": {},
   "outputs": [
    {
     "name": "stdout",
     "output_type": "stream",
     "text": [
      "------RF Model Metrics-----\n",
      "Accuracy: 0.6797\n",
      "Hamming Loss: 0.0056\n",
      "Precision:\n",
      "  - Macro: 0.4458\n",
      "  - Micro: 0.9593\n",
      "Recall:\n",
      "  - Macro: 0.1311\n",
      "  - Micro: 0.6234\n",
      "F1-measure:\n",
      "  - Macro: 0.1840\n",
      "  - Micro: 0.7557\n"
     ]
    },
    {
     "name": "stderr",
     "output_type": "stream",
     "text": [
      "C:\\Users\\prad8002\\.conda\\envs\\py37\\lib\\site-packages\\sklearn\\metrics\\classification.py:1437: UndefinedMetricWarning: Precision is ill-defined and being set to 0.0 in labels with no predicted samples.\n",
      "  'precision', 'predicted', average, warn_for)\n",
      "C:\\Users\\prad8002\\.conda\\envs\\py37\\lib\\site-packages\\sklearn\\metrics\\classification.py:1437: UndefinedMetricWarning: F-score is ill-defined and being set to 0.0 in labels with no predicted samples.\n",
      "  'precision', 'predicted', average, warn_for)\n"
     ]
    }
   ],
   "source": [
    "y_pred = grid_RF_tfidf.best_estimator_.predict(X_test)\n",
    "metricsReport('RF', y_test, y_pred) "
   ]
  },
  {
   "cell_type": "code",
   "execution_count": 1022,
   "metadata": {},
   "outputs": [
    {
     "data": {
      "text/plain": [
       "array([ 687,    1,    3,    3,    0,    0,    0,    0,    0,    8,    2,\n",
       "          0,   22,    2,    0,    4,    0,  108,    0,   20,    0, 1064,\n",
       "          2,    3,    4,    2,  101,    0,    0,    2,    2,    0,    1,\n",
       "          0,   72,    1,    0,    0,    3,    0,    0,    0,    0,    3,\n",
       "          0,    0,  118,   18,    0,    1,    0,    0,    0,    1,   12,\n",
       "          2,    0,    3,    0,    0,    0,    0,    0,    0,    0,    3,\n",
       "          5,    0,    1,    0,    0,   30,    0,    2,    0,    0,    6,\n",
       "          0,   12,    0,    0,    1,    0,    0,   56,    3,   38,    0,\n",
       "          1,    0])"
      ]
     },
     "execution_count": 1022,
     "metadata": {},
     "output_type": "execute_result"
    }
   ],
   "source": [
    "sum(y_pred)"
   ]
  },
  {
   "cell_type": "code",
   "execution_count": 1023,
   "metadata": {},
   "outputs": [
    {
     "data": {
      "text/plain": [
       "array([ 719,   23,   14,   30,   18,    1,   18,    2,    3,   28,   18,\n",
       "          1,   56,   20,    2,   28,    1,  189,    1,   44,    4, 1087,\n",
       "         10,   17,   35,   30,  149,    4,    1,    5,    6,    4,    7,\n",
       "          1,  131,   12,   14,    1,   21,    2,   14,    3,    1,   24,\n",
       "          6,   19,  179,   34,    4,   30,    1,    2,    2,    6,   47,\n",
       "         11,    1,   10,    1,   12,    7,    3,    3,    1,    3,    9,\n",
       "         18,    2,   24,   12,    1,   89,    8,   10,   13,   11,   33,\n",
       "         11,   36,    1,    2,    5,    4,   12,  117,   37,   71,   10,\n",
       "         14,   13])"
      ]
     },
     "execution_count": 1023,
     "metadata": {},
     "output_type": "execute_result"
    }
   ],
   "source": [
    "sum(y_test)"
   ]
  },
  {
   "cell_type": "code",
   "execution_count": 1024,
   "metadata": {},
   "outputs": [
    {
     "data": {
      "text/plain": [
       "array([[[2272,   28],\n",
       "        [  60,  659]],\n",
       "\n",
       "       [[2996,    0],\n",
       "        [  22,    1]],\n",
       "\n",
       "       [[3005,    0],\n",
       "        [  11,    3]],\n",
       "\n",
       "       [[2989,    0],\n",
       "        [  27,    3]],\n",
       "\n",
       "       [[3001,    0],\n",
       "        [  18,    0]],\n",
       "\n",
       "       [[3018,    0],\n",
       "        [   1,    0]],\n",
       "\n",
       "       [[3001,    0],\n",
       "        [  18,    0]],\n",
       "\n",
       "       [[3017,    0],\n",
       "        [   2,    0]],\n",
       "\n",
       "       [[3016,    0],\n",
       "        [   3,    0]],\n",
       "\n",
       "       [[2991,    0],\n",
       "        [  20,    8]],\n",
       "\n",
       "       [[3001,    0],\n",
       "        [  16,    2]],\n",
       "\n",
       "       [[3018,    0],\n",
       "        [   1,    0]],\n",
       "\n",
       "       [[2962,    1],\n",
       "        [  35,   21]],\n",
       "\n",
       "       [[2999,    0],\n",
       "        [  18,    2]],\n",
       "\n",
       "       [[3017,    0],\n",
       "        [   2,    0]],\n",
       "\n",
       "       [[2990,    1],\n",
       "        [  25,    3]],\n",
       "\n",
       "       [[3018,    0],\n",
       "        [   1,    0]],\n",
       "\n",
       "       [[2828,    2],\n",
       "        [  83,  106]],\n",
       "\n",
       "       [[3018,    0],\n",
       "        [   1,    0]],\n",
       "\n",
       "       [[2974,    1],\n",
       "        [  25,   19]],\n",
       "\n",
       "       [[3015,    0],\n",
       "        [   4,    0]],\n",
       "\n",
       "       [[1920,   12],\n",
       "        [  35, 1052]],\n",
       "\n",
       "       [[3008,    1],\n",
       "        [   9,    1]],\n",
       "\n",
       "       [[3002,    0],\n",
       "        [  14,    3]],\n",
       "\n",
       "       [[2984,    0],\n",
       "        [  31,    4]],\n",
       "\n",
       "       [[2989,    0],\n",
       "        [  28,    2]],\n",
       "\n",
       "       [[2863,    7],\n",
       "        [  55,   94]],\n",
       "\n",
       "       [[3015,    0],\n",
       "        [   4,    0]],\n",
       "\n",
       "       [[3018,    0],\n",
       "        [   1,    0]],\n",
       "\n",
       "       [[3014,    0],\n",
       "        [   3,    2]],\n",
       "\n",
       "       [[3013,    0],\n",
       "        [   4,    2]],\n",
       "\n",
       "       [[3015,    0],\n",
       "        [   4,    0]],\n",
       "\n",
       "       [[3012,    0],\n",
       "        [   6,    1]],\n",
       "\n",
       "       [[3018,    0],\n",
       "        [   1,    0]],\n",
       "\n",
       "       [[2878,   10],\n",
       "        [  69,   62]],\n",
       "\n",
       "       [[3007,    0],\n",
       "        [  11,    1]],\n",
       "\n",
       "       [[3005,    0],\n",
       "        [  14,    0]],\n",
       "\n",
       "       [[3018,    0],\n",
       "        [   1,    0]],\n",
       "\n",
       "       [[2998,    0],\n",
       "        [  18,    3]],\n",
       "\n",
       "       [[3017,    0],\n",
       "        [   2,    0]],\n",
       "\n",
       "       [[3005,    0],\n",
       "        [  14,    0]],\n",
       "\n",
       "       [[3016,    0],\n",
       "        [   3,    0]],\n",
       "\n",
       "       [[3018,    0],\n",
       "        [   1,    0]],\n",
       "\n",
       "       [[2995,    0],\n",
       "        [  21,    3]],\n",
       "\n",
       "       [[3013,    0],\n",
       "        [   6,    0]],\n",
       "\n",
       "       [[3000,    0],\n",
       "        [  19,    0]],\n",
       "\n",
       "       [[2818,   22],\n",
       "        [  83,   96]],\n",
       "\n",
       "       [[2983,    2],\n",
       "        [  18,   16]],\n",
       "\n",
       "       [[3015,    0],\n",
       "        [   4,    0]],\n",
       "\n",
       "       [[2989,    0],\n",
       "        [  29,    1]],\n",
       "\n",
       "       [[3018,    0],\n",
       "        [   1,    0]],\n",
       "\n",
       "       [[3017,    0],\n",
       "        [   2,    0]],\n",
       "\n",
       "       [[3017,    0],\n",
       "        [   2,    0]],\n",
       "\n",
       "       [[3013,    0],\n",
       "        [   5,    1]],\n",
       "\n",
       "       [[2971,    1],\n",
       "        [  36,   11]],\n",
       "\n",
       "       [[3008,    0],\n",
       "        [   9,    2]],\n",
       "\n",
       "       [[3018,    0],\n",
       "        [   1,    0]],\n",
       "\n",
       "       [[3009,    0],\n",
       "        [   7,    3]],\n",
       "\n",
       "       [[3018,    0],\n",
       "        [   1,    0]],\n",
       "\n",
       "       [[3007,    0],\n",
       "        [  12,    0]],\n",
       "\n",
       "       [[3012,    0],\n",
       "        [   7,    0]],\n",
       "\n",
       "       [[3016,    0],\n",
       "        [   3,    0]],\n",
       "\n",
       "       [[3016,    0],\n",
       "        [   3,    0]],\n",
       "\n",
       "       [[3018,    0],\n",
       "        [   1,    0]],\n",
       "\n",
       "       [[3016,    0],\n",
       "        [   3,    0]],\n",
       "\n",
       "       [[3010,    0],\n",
       "        [   6,    3]],\n",
       "\n",
       "       [[3001,    0],\n",
       "        [  13,    5]],\n",
       "\n",
       "       [[3017,    0],\n",
       "        [   2,    0]],\n",
       "\n",
       "       [[2995,    0],\n",
       "        [  23,    1]],\n",
       "\n",
       "       [[3007,    0],\n",
       "        [  12,    0]],\n",
       "\n",
       "       [[3018,    0],\n",
       "        [   1,    0]],\n",
       "\n",
       "       [[2928,    2],\n",
       "        [  61,   28]],\n",
       "\n",
       "       [[3011,    0],\n",
       "        [   8,    0]],\n",
       "\n",
       "       [[3009,    0],\n",
       "        [   8,    2]],\n",
       "\n",
       "       [[3006,    0],\n",
       "        [  13,    0]],\n",
       "\n",
       "       [[3008,    0],\n",
       "        [  11,    0]],\n",
       "\n",
       "       [[2985,    1],\n",
       "        [  28,    5]],\n",
       "\n",
       "       [[3008,    0],\n",
       "        [  11,    0]],\n",
       "\n",
       "       [[2983,    0],\n",
       "        [  24,   12]],\n",
       "\n",
       "       [[3018,    0],\n",
       "        [   1,    0]],\n",
       "\n",
       "       [[3017,    0],\n",
       "        [   2,    0]],\n",
       "\n",
       "       [[3014,    0],\n",
       "        [   4,    1]],\n",
       "\n",
       "       [[3015,    0],\n",
       "        [   4,    0]],\n",
       "\n",
       "       [[3007,    0],\n",
       "        [  12,    0]],\n",
       "\n",
       "       [[2897,    5],\n",
       "        [  66,   51]],\n",
       "\n",
       "       [[2982,    0],\n",
       "        [  34,    3]],\n",
       "\n",
       "       [[2946,    2],\n",
       "        [  35,   36]],\n",
       "\n",
       "       [[3009,    0],\n",
       "        [  10,    0]],\n",
       "\n",
       "       [[3004,    1],\n",
       "        [  14,    0]],\n",
       "\n",
       "       [[3006,    0],\n",
       "        [  13,    0]]], dtype=int64)"
      ]
     },
     "execution_count": 1024,
     "metadata": {},
     "output_type": "execute_result"
    }
   ],
   "source": [
    "multilabel_confusion_matrix(y_test, y_pred )"
   ]
  },
  {
   "cell_type": "code",
   "execution_count": 1025,
   "metadata": {},
   "outputs": [
    {
     "data": {
      "text/plain": [
       "2433"
      ]
     },
     "execution_count": 1025,
     "metadata": {},
     "output_type": "execute_result"
    }
   ],
   "source": [
    "sum(sum(y_pred))"
   ]
  },
  {
   "cell_type": "code",
   "execution_count": 1026,
   "metadata": {},
   "outputs": [
    {
     "data": {
      "text/plain": [
       "3744"
      ]
     },
     "execution_count": 1026,
     "metadata": {},
     "output_type": "execute_result"
    }
   ],
   "source": [
    "sum(sum(y_test))"
   ]
  },
  {
   "cell_type": "markdown",
   "metadata": {},
   "source": [
    "### KNN"
   ]
  },
  {
   "cell_type": "code",
   "execution_count": 1027,
   "metadata": {},
   "outputs": [],
   "source": [
    "from sklearn.neighbors import KNeighborsClassifier"
   ]
  },
  {
   "cell_type": "code",
   "execution_count": 1028,
   "metadata": {},
   "outputs": [
    {
     "name": "stdout",
     "output_type": "stream",
     "text": [
      "Best params: {'clf__n_neighbors': 5, 'clf__weights': 'distance'}\n",
      "Train accuracy: 0.9899600978246879\n",
      "Test accuracy: 0.7522358396820139\n"
     ]
    }
   ],
   "source": [
    "pipe = Pipeline(steps=[\n",
    "    ('vectorizer',  TfidfVectorizer(min_df=min_df, max_df=max_df)),\n",
    "    ('clf', KNeighborsClassifier())\n",
    "])\n",
    "\n",
    "param_grid = {\n",
    "    'clf__n_neighbors': [3,5,7,9,11],\n",
    "    'clf__weights': ['uniform', 'distance']\n",
    "}\n",
    "\n",
    "grid_kNN_tfidf = GridSearchCV(pipe, param_grid, cv=5, n_jobs=-1, return_train_score=True, verbose=1)\n",
    "grid_kNN_tfidf.fit(X_train, y_train)\n",
    "\n",
    "print(f\"Best params: {grid_kNN_tfidf.best_params_}\")\n",
    "print(f\"Train accuracy: {grid_kNN_tfidf.score(X_train, y_train)}\")\n",
    "print(f\"Test accuracy: {grid_kNN_tfidf.score(X_test, y_test)}\")"
   ]
  },
  {
   "cell_type": "code",
   "execution_count": 1029,
   "metadata": {},
   "outputs": [
    {
     "name": "stdout",
     "output_type": "stream",
     "text": [
      "------kNN Model Metrics-----\n",
      "Accuracy: 0.7522\n",
      "Hamming Loss: 0.0051\n",
      "Precision:\n",
      "  - Macro: 0.6198\n",
      "  - Micro: 0.8566\n",
      "Recall:\n",
      "  - Macro: 0.3938\n",
      "  - Micro: 0.7548\n",
      "F1-measure:\n",
      "  - Macro: 0.4498\n",
      "  - Micro: 0.8025\n"
     ]
    },
    {
     "name": "stderr",
     "output_type": "stream",
     "text": [
      "C:\\Users\\prad8002\\.conda\\envs\\py37\\lib\\site-packages\\sklearn\\metrics\\classification.py:1437: UndefinedMetricWarning: Precision is ill-defined and being set to 0.0 in labels with no predicted samples.\n",
      "  'precision', 'predicted', average, warn_for)\n",
      "C:\\Users\\prad8002\\.conda\\envs\\py37\\lib\\site-packages\\sklearn\\metrics\\classification.py:1437: UndefinedMetricWarning: F-score is ill-defined and being set to 0.0 in labels with no predicted samples.\n",
      "  'precision', 'predicted', average, warn_for)\n"
     ]
    }
   ],
   "source": [
    "y_pred = grid_kNN_tfidf.best_estimator_.predict(X_test)\n",
    "metricsReport('kNN', y_test, y_pred)"
   ]
  },
  {
   "cell_type": "markdown",
   "metadata": {},
   "source": [
    "### Linear SVC"
   ]
  },
  {
   "cell_type": "code",
   "execution_count": 1030,
   "metadata": {},
   "outputs": [],
   "source": [
    "from sklearn.multiclass import OneVsRestClassifier\n",
    "from sklearn.naive_bayes import MultinomialNB # Veeery bad predictions - highly sensitive to correlation between features\n",
    "from sklearn.svm import LinearSVC\n",
    "from sklearn.linear_model import LogisticRegression"
   ]
  },
  {
   "cell_type": "code",
   "execution_count": 1031,
   "metadata": {
    "collapsed": true
   },
   "outputs": [
    {
     "name": "stderr",
     "output_type": "stream",
     "text": [
      "C:\\Users\\prad8002\\.conda\\envs\\py37\\lib\\site-packages\\sklearn\\multiclass.py:76: UserWarning: Label not 5 is present in all training examples.\n",
      "  str(classes[c]))\n",
      "C:\\Users\\prad8002\\.conda\\envs\\py37\\lib\\site-packages\\sklearn\\multiclass.py:76: UserWarning: Label not 51 is present in all training examples.\n",
      "  str(classes[c]))\n",
      "C:\\Users\\prad8002\\.conda\\envs\\py37\\lib\\site-packages\\sklearn\\multiclass.py:76: UserWarning: Label not 79 is present in all training examples.\n",
      "  str(classes[c]))\n",
      "C:\\Users\\prad8002\\.conda\\envs\\py37\\lib\\site-packages\\sklearn\\multiclass.py:76: UserWarning: Label not 11 is present in all training examples.\n",
      "  str(classes[c]))\n",
      "C:\\Users\\prad8002\\.conda\\envs\\py37\\lib\\site-packages\\sklearn\\multiclass.py:76: UserWarning: Label not 28 is present in all training examples.\n",
      "  str(classes[c]))\n",
      "C:\\Users\\prad8002\\.conda\\envs\\py37\\lib\\site-packages\\sklearn\\multiclass.py:76: UserWarning: Label not 56 is present in all training examples.\n",
      "  str(classes[c]))\n",
      "C:\\Users\\prad8002\\.conda\\envs\\py37\\lib\\site-packages\\sklearn\\multiclass.py:76: UserWarning: Label not 14 is present in all training examples.\n",
      "  str(classes[c]))\n",
      "C:\\Users\\prad8002\\.conda\\envs\\py37\\lib\\site-packages\\sklearn\\multiclass.py:76: UserWarning: Label not 16 is present in all training examples.\n",
      "  str(classes[c]))\n",
      "C:\\Users\\prad8002\\.conda\\envs\\py37\\lib\\site-packages\\sklearn\\multiclass.py:76: UserWarning: Label not 42 is present in all training examples.\n",
      "  str(classes[c]))\n",
      "C:\\Users\\prad8002\\.conda\\envs\\py37\\lib\\site-packages\\sklearn\\multiclass.py:76: UserWarning: Label not 48 is present in all training examples.\n",
      "  str(classes[c]))\n",
      "C:\\Users\\prad8002\\.conda\\envs\\py37\\lib\\site-packages\\sklearn\\multiclass.py:76: UserWarning: Label not 70 is present in all training examples.\n",
      "  str(classes[c]))\n",
      "C:\\Users\\prad8002\\.conda\\envs\\py37\\lib\\site-packages\\sklearn\\multiclass.py:76: UserWarning: Label not 5 is present in all training examples.\n",
      "  str(classes[c]))\n",
      "C:\\Users\\prad8002\\.conda\\envs\\py37\\lib\\site-packages\\sklearn\\multiclass.py:76: UserWarning: Label not 51 is present in all training examples.\n",
      "  str(classes[c]))\n",
      "C:\\Users\\prad8002\\.conda\\envs\\py37\\lib\\site-packages\\sklearn\\multiclass.py:76: UserWarning: Label not 79 is present in all training examples.\n",
      "  str(classes[c]))\n",
      "C:\\Users\\prad8002\\.conda\\envs\\py37\\lib\\site-packages\\sklearn\\multiclass.py:76: UserWarning: Label not 11 is present in all training examples.\n",
      "  str(classes[c]))\n",
      "C:\\Users\\prad8002\\.conda\\envs\\py37\\lib\\site-packages\\sklearn\\multiclass.py:76: UserWarning: Label not 28 is present in all training examples.\n",
      "  str(classes[c]))\n",
      "C:\\Users\\prad8002\\.conda\\envs\\py37\\lib\\site-packages\\sklearn\\multiclass.py:76: UserWarning: Label not 56 is present in all training examples.\n",
      "  str(classes[c]))\n",
      "C:\\Users\\prad8002\\.conda\\envs\\py37\\lib\\site-packages\\sklearn\\multiclass.py:76: UserWarning: Label not 14 is present in all training examples.\n",
      "  str(classes[c]))\n",
      "C:\\Users\\prad8002\\.conda\\envs\\py37\\lib\\site-packages\\sklearn\\multiclass.py:76: UserWarning: Label not 16 is present in all training examples.\n",
      "  str(classes[c]))\n",
      "C:\\Users\\prad8002\\.conda\\envs\\py37\\lib\\site-packages\\sklearn\\multiclass.py:76: UserWarning: Label not 42 is present in all training examples.\n",
      "  str(classes[c]))\n",
      "C:\\Users\\prad8002\\.conda\\envs\\py37\\lib\\site-packages\\sklearn\\multiclass.py:76: UserWarning: Label not 48 is present in all training examples.\n",
      "  str(classes[c]))\n",
      "C:\\Users\\prad8002\\.conda\\envs\\py37\\lib\\site-packages\\sklearn\\multiclass.py:76: UserWarning: Label not 70 is present in all training examples.\n",
      "  str(classes[c]))\n",
      "C:\\Users\\prad8002\\.conda\\envs\\py37\\lib\\site-packages\\sklearn\\multiclass.py:76: UserWarning: Label not 5 is present in all training examples.\n",
      "  str(classes[c]))\n",
      "C:\\Users\\prad8002\\.conda\\envs\\py37\\lib\\site-packages\\sklearn\\multiclass.py:76: UserWarning: Label not 51 is present in all training examples.\n",
      "  str(classes[c]))\n",
      "C:\\Users\\prad8002\\.conda\\envs\\py37\\lib\\site-packages\\sklearn\\multiclass.py:76: UserWarning: Label not 79 is present in all training examples.\n",
      "  str(classes[c]))\n",
      "C:\\Users\\prad8002\\.conda\\envs\\py37\\lib\\site-packages\\sklearn\\multiclass.py:76: UserWarning: Label not 11 is present in all training examples.\n",
      "  str(classes[c]))\n",
      "C:\\Users\\prad8002\\.conda\\envs\\py37\\lib\\site-packages\\sklearn\\multiclass.py:76: UserWarning: Label not 28 is present in all training examples.\n",
      "  str(classes[c]))\n",
      "C:\\Users\\prad8002\\.conda\\envs\\py37\\lib\\site-packages\\sklearn\\multiclass.py:76: UserWarning: Label not 56 is present in all training examples.\n",
      "  str(classes[c]))\n",
      "C:\\Users\\prad8002\\.conda\\envs\\py37\\lib\\site-packages\\sklearn\\multiclass.py:76: UserWarning: Label not 14 is present in all training examples.\n",
      "  str(classes[c]))\n",
      "C:\\Users\\prad8002\\.conda\\envs\\py37\\lib\\site-packages\\sklearn\\multiclass.py:76: UserWarning: Label not 16 is present in all training examples.\n",
      "  str(classes[c]))\n",
      "C:\\Users\\prad8002\\.conda\\envs\\py37\\lib\\site-packages\\sklearn\\multiclass.py:76: UserWarning: Label not 42 is present in all training examples.\n",
      "  str(classes[c]))\n",
      "C:\\Users\\prad8002\\.conda\\envs\\py37\\lib\\site-packages\\sklearn\\multiclass.py:76: UserWarning: Label not 48 is present in all training examples.\n",
      "  str(classes[c]))\n",
      "C:\\Users\\prad8002\\.conda\\envs\\py37\\lib\\site-packages\\sklearn\\multiclass.py:76: UserWarning: Label not 70 is present in all training examples.\n",
      "  str(classes[c]))\n"
     ]
    },
    {
     "name": "stdout",
     "output_type": "stream",
     "text": [
      "Best params: {'clf__estimator__C': 1}\n",
      "Train accuracy: 0.9727120607542799\n",
      "Test accuracy: 0.8148393507784034\n"
     ]
    }
   ],
   "source": [
    "pipe = Pipeline(steps=[\n",
    "    ('vectorizer',  TfidfVectorizer(min_df=min_df, max_df=max_df)),\n",
    "    ('clf', OneVsRestClassifier(LinearSVC(max_iter = 10000)))\n",
    "])\n",
    "\n",
    "param_grid = {\n",
    "     'clf__estimator__C': [0.1, 1, 10]\n",
    "}\n",
    "\n",
    "grid_LinSVC_tfidf = GridSearchCV(pipe, param_grid, cv=5, n_jobs=-1, return_train_score=True, verbose=1)\n",
    "grid_LinSVC_tfidf.fit(X_train, y_train)\n",
    "\n",
    "print(f\"Best params: {grid_LinSVC_tfidf.best_params_}\")\n",
    "print(f\"Train accuracy: {grid_LinSVC_tfidf.score(X_train, y_train)}\")\n",
    "print(f\"Test accuracy: {grid_LinSVC_tfidf.score(X_test, y_test)}\")"
   ]
  },
  {
   "cell_type": "code",
   "execution_count": 1032,
   "metadata": {},
   "outputs": [
    {
     "name": "stdout",
     "output_type": "stream",
     "text": [
      "------LinSVC Model Metrics-----\n",
      "Accuracy: 0.8148\n",
      "Hamming Loss: 0.0033\n",
      "Precision:\n",
      "  - Macro: 0.6395\n",
      "  - Micro: 0.9468\n",
      "Recall:\n",
      "  - Macro: 0.3987\n",
      "  - Micro: 0.8040\n",
      "F1-measure:\n",
      "  - Macro: 0.4694\n",
      "  - Micro: 0.8696\n"
     ]
    },
    {
     "name": "stderr",
     "output_type": "stream",
     "text": [
      "C:\\Users\\prad8002\\.conda\\envs\\py37\\lib\\site-packages\\sklearn\\metrics\\classification.py:1437: UndefinedMetricWarning: Precision is ill-defined and being set to 0.0 in labels with no predicted samples.\n",
      "  'precision', 'predicted', average, warn_for)\n",
      "C:\\Users\\prad8002\\.conda\\envs\\py37\\lib\\site-packages\\sklearn\\metrics\\classification.py:1437: UndefinedMetricWarning: F-score is ill-defined and being set to 0.0 in labels with no predicted samples.\n",
      "  'precision', 'predicted', average, warn_for)\n"
     ]
    }
   ],
   "source": [
    "y_pred = grid_LinSVC_tfidf.best_estimator_.predict(X_test)\n",
    "metricsReport('LinSVC', y_test, y_pred)"
   ]
  },
  {
   "cell_type": "markdown",
   "metadata": {},
   "source": [
    "### Labels correlation"
   ]
  },
  {
   "cell_type": "code",
   "execution_count": 728,
   "metadata": {},
   "outputs": [
    {
     "data": {
      "text/plain": [
       "<matplotlib.axes._subplots.AxesSubplot at 0x1ed82212a08>"
      ]
     },
     "execution_count": 728,
     "metadata": {},
     "output_type": "execute_result"
    },
    {
     "data": {
      "image/png": "[encoded data removed]",
      "text/plain": [
       "<Figure size 1080x720 with 2 Axes>"
      ]
     },
     "metadata": {
      "needs_background": "light"
     },
     "output_type": "display_data"
    }
   ],
   "source": [
    "plt.figure(figsize = (15,10))\n",
    "sns.heatmap(pd.DataFrame(y_train).corr())"
   ]
  },
  {
   "cell_type": "code",
   "execution_count": 752,
   "metadata": {},
   "outputs": [
    {
     "name": "stdout",
     "output_type": "stream",
     "text": [
      "Collecting scikit-multilearn\n",
      "  Downloading scikit_multilearn-0.2.0-py3-none-any.whl (89 kB)\n",
      "Installing collected packages: scikit-multilearn\n",
      "Successfully installed scikit-multilearn-0.2.0\n"
     ]
    }
   ],
   "source": [
    "# !pip install scikit-multilearn"
   ]
  },
  {
   "cell_type": "markdown",
   "metadata": {},
   "source": [
    "### Label Powerset Linear SVM"
   ]
  },
  {
   "cell_type": "code",
   "execution_count": 1033,
   "metadata": {
    "scrolled": true
   },
   "outputs": [],
   "source": [
    "from skmultilearn.problem_transform import LabelPowerset"
   ]
  },
  {
   "cell_type": "code",
   "execution_count": 1034,
   "metadata": {},
   "outputs": [
    {
     "name": "stdout",
     "output_type": "stream",
     "text": [
      "Best params: {}\n",
      "Train accuracy: 0.9819796627622602\n",
      "Test accuracy: 0.8449817820470354\n"
     ]
    }
   ],
   "source": [
    "pipe = Pipeline(steps=[\n",
    "    ('vectorizer',  TfidfVectorizer(min_df=min_df, max_df=max_df)),\n",
    "    ('clf', LabelPowerset(LinearSVC(max_iter = 10000)))\n",
    "])\n",
    "\n",
    "param_grid = {\n",
    "#      'clf__classifier__C': [0.1, 1, 10]\n",
    "}\n",
    "\n",
    "grid_LP_LinSVC_tfidf = GridSearchCV(pipe, param_grid, cv=5, n_jobs=-1, return_train_score=True, verbose=1)\n",
    "grid_LP_LinSVC_tfidf.fit(X_train, y_train)\n",
    "\n",
    "print(f\"Best params: {grid_LP_LinSVC_tfidf.best_params_}\")\n",
    "print(f\"Train accuracy: {grid_LP_LinSVC_tfidf.score(X_train, y_train)}\")\n",
    "print(f\"Test accuracy: {grid_LP_LinSVC_tfidf.score(X_test, y_test)}\")"
   ]
  },
  {
   "cell_type": "code",
   "execution_count": 1035,
   "metadata": {},
   "outputs": [
    {
     "name": "stdout",
     "output_type": "stream",
     "text": [
      "------LabelPowerSet_LinSVC Model Metrics-----\n",
      "Accuracy: 0.8450\n",
      "Hamming Loss: 0.0036\n",
      "Precision:\n",
      "  - Macro: 0.6969\n",
      "  - Micro: 0.9064\n",
      "Recall:\n",
      "  - Macro: 0.4948\n",
      "  - Micro: 0.8272\n",
      "F1-measure:\n",
      "  - Macro: 0.5438\n",
      "  - Micro: 0.8650\n"
     ]
    },
    {
     "name": "stderr",
     "output_type": "stream",
     "text": [
      "C:\\Users\\prad8002\\.conda\\envs\\py37\\lib\\site-packages\\sklearn\\metrics\\classification.py:1437: UndefinedMetricWarning: Precision is ill-defined and being set to 0.0 in labels with no predicted samples.\n",
      "  'precision', 'predicted', average, warn_for)\n",
      "C:\\Users\\prad8002\\.conda\\envs\\py37\\lib\\site-packages\\sklearn\\metrics\\classification.py:1437: UndefinedMetricWarning: F-score is ill-defined and being set to 0.0 in labels with no predicted samples.\n",
      "  'precision', 'predicted', average, warn_for)\n"
     ]
    }
   ],
   "source": [
    "y_pred = grid_LP_LinSVC_tfidf.best_estimator_.predict(X_test)\n",
    "metricsReport('LabelPowerSet_LinSVC', y_test, y_pred)"
   ]
  },
  {
   "cell_type": "markdown",
   "metadata": {},
   "source": [
    "### Multi Label kNN"
   ]
  },
  {
   "cell_type": "code",
   "execution_count": 1036,
   "metadata": {},
   "outputs": [],
   "source": [
    "from skmultilearn.adapt import MLkNN"
   ]
  },
  {
   "cell_type": "code",
   "execution_count": 1037,
   "metadata": {},
   "outputs": [
    {
     "name": "stdout",
     "output_type": "stream",
     "text": [
      "Best params: {'clf__k': 7}\n",
      "Train accuracy: 0.8315098468271335\n",
      "Test accuracy: 0.7671414375621066\n"
     ]
    }
   ],
   "source": [
    "pipe = Pipeline(steps=[\n",
    "    ('vectorizer',  TfidfVectorizer(min_df=min_df, max_df=max_df)),\n",
    "    ('clf', MLkNN(k=10))\n",
    "])\n",
    "\n",
    "param_grid = {\n",
    "    'clf__k': [7,9,11]\n",
    "}\n",
    "\n",
    "grid_ML_kNN_tfidf = GridSearchCV(pipe, param_grid, cv=5, n_jobs=-1, return_train_score=True, verbose=1)\n",
    "grid_ML_kNN_tfidf.fit(X_train, y_train)\n",
    "\n",
    "print(f\"Best params: {grid_ML_kNN_tfidf.best_params_}\")\n",
    "print(f\"Train accuracy: {grid_ML_kNN_tfidf.score(X_train, y_train)}\")\n",
    "print(f\"Test accuracy: {grid_ML_kNN_tfidf.score(X_test, y_test)}\")"
   ]
  },
  {
   "cell_type": "code",
   "execution_count": 1038,
   "metadata": {},
   "outputs": [
    {
     "name": "stdout",
     "output_type": "stream",
     "text": [
      "------MLkNN Model Metrics-----\n",
      "Accuracy: 0.7671\n",
      "Hamming Loss: 0.0047\n",
      "Precision:\n",
      "  - Macro: 0.5576\n",
      "  - Micro: 0.8670\n",
      "Recall:\n",
      "  - Macro: 0.4065\n",
      "  - Micro: 0.7783\n",
      "F1-measure:\n",
      "  - Macro: 0.4500\n",
      "  - Micro: 0.8203\n"
     ]
    },
    {
     "name": "stderr",
     "output_type": "stream",
     "text": [
      "C:\\Users\\prad8002\\.conda\\envs\\py37\\lib\\site-packages\\sklearn\\metrics\\classification.py:1437: UndefinedMetricWarning: Precision is ill-defined and being set to 0.0 in labels with no predicted samples.\n",
      "  'precision', 'predicted', average, warn_for)\n",
      "C:\\Users\\prad8002\\.conda\\envs\\py37\\lib\\site-packages\\sklearn\\metrics\\classification.py:1437: UndefinedMetricWarning: F-score is ill-defined and being set to 0.0 in labels with no predicted samples.\n",
      "  'precision', 'predicted', average, warn_for)\n"
     ]
    }
   ],
   "source": [
    "y_pred = grid_ML_kNN_tfidf.best_estimator_.predict(X_test)\n",
    "metricsReport('MLkNN', y_test, y_pred)"
   ]
  },
  {
   "cell_type": "markdown",
   "metadata": {},
   "source": [
    "### Comparison"
   ]
  },
  {
   "cell_type": "code",
   "execution_count": 1039,
   "metadata": {},
   "outputs": [
    {
     "name": "stderr",
     "output_type": "stream",
     "text": [
      "C:\\Users\\prad8002\\.conda\\envs\\py37\\lib\\site-packages\\sklearn\\metrics\\classification.py:1437: UndefinedMetricWarning: Precision is ill-defined and being set to 0.0 in labels with no predicted samples.\n",
      "  'precision', 'predicted', average, warn_for)\n",
      "C:\\Users\\prad8002\\.conda\\envs\\py37\\lib\\site-packages\\sklearn\\metrics\\classification.py:1437: UndefinedMetricWarning: F-score is ill-defined and being set to 0.0 in labels with no predicted samples.\n",
      "  'precision', 'predicted', average, warn_for)\n",
      "C:\\Users\\prad8002\\.conda\\envs\\py37\\lib\\site-packages\\sklearn\\metrics\\classification.py:1437: UndefinedMetricWarning: Precision is ill-defined and being set to 0.0 in labels with no predicted samples.\n",
      "  'precision', 'predicted', average, warn_for)\n",
      "C:\\Users\\prad8002\\.conda\\envs\\py37\\lib\\site-packages\\sklearn\\metrics\\classification.py:1437: UndefinedMetricWarning: F-score is ill-defined and being set to 0.0 in labels with no predicted samples.\n",
      "  'precision', 'predicted', average, warn_for)\n"
     ]
    }
   ],
   "source": [
    "# Assign models:\n",
    "models = []\n",
    "models.append(('RF tfidf', grid_RF_tfidf.best_estimator_))\n",
    "models.append(('kNN tfidf', grid_kNN_tfidf.best_estimator_))\n",
    "models.append(('linSVC tfidf', grid_LinSVC_tfidf.best_estimator_))\n",
    "models.append(('LP linSVC tfidf`', grid_LP_LinSVC_tfidf.best_estimator_))\n",
    "models.append(('MLkNN tfidf`', grid_ML_kNN_tfidf.best_estimator_))\n",
    "\n",
    "# Initiate metrics:\n",
    "accuracy = []\n",
    "hamLoss = []\n",
    "macro_precision = []\n",
    "macro_recall = []\n",
    "macro_f1 = []\n",
    "micro_precision = []\n",
    "micro_recall = []\n",
    "micro_f1 = []\n",
    "auc = []\n",
    "\n",
    "# Iterate over models and calculate metrics\n",
    "for name, model in models:\n",
    "    y_pred = model.predict(X_test)\n",
    "    \n",
    "    accuracy.append(accuracy_score(y_test, y_pred))\n",
    "    hamLoss.append(hamming_loss(y_test, y_pred))\n",
    "    \n",
    "    macro_precision.append(precision_score(y_test, y_pred, average='macro'))\n",
    "    macro_recall.append(recall_score(y_test, y_pred, average='macro'))\n",
    "    macro_f1.append(f1_score(y_test, y_pred, average='macro'))\n",
    "\n",
    "    micro_precision.append(precision_score(y_test, y_pred, average='micro'))\n",
    "    micro_recall.append(recall_score(y_test, y_pred, average='micro'))\n",
    "    micro_f1.append(f1_score(y_test, y_pred, average='micro'))\n",
    " \n",
    "#     if (name in ['linSVC tfidf']):\n",
    "#         auc.append(roc_auc_score(y_test , model.decision_function(X_test)))\n",
    "#     else:\n",
    "#         auc.append(roc_auc_score(y_test , model.predict_proba(X_test)[:,1]))"
   ]
  },
  {
   "cell_type": "code",
   "execution_count": 1040,
   "metadata": {},
   "outputs": [
    {
     "data": {
      "text/html": [
       "<div>\n",
       "<style scoped>\n",
       "    .dataframe tbody tr th:only-of-type {\n",
       "        vertical-align: middle;\n",
       "    }\n",
       "\n",
       "    .dataframe tbody tr th {\n",
       "        vertical-align: top;\n",
       "    }\n",
       "\n",
       "    .dataframe thead th {\n",
       "        text-align: right;\n",
       "    }\n",
       "</style>\n",
       "<table border=\"1\" class=\"dataframe\">\n",
       "  <thead>\n",
       "    <tr style=\"text-align: right;\">\n",
       "      <th></th>\n",
       "      <th>Method</th>\n",
       "      <th>accuracy_score</th>\n",
       "      <th>hamLoss</th>\n",
       "      <th>macro_precision</th>\n",
       "      <th>micro_precision</th>\n",
       "      <th>macro_recall</th>\n",
       "      <th>micro_recall</th>\n",
       "      <th>macro_f1</th>\n",
       "      <th>micro_f1</th>\n",
       "    </tr>\n",
       "  </thead>\n",
       "  <tbody>\n",
       "    <tr>\n",
       "      <th>0</th>\n",
       "      <td>RF tfidf</td>\n",
       "      <td>0.679695</td>\n",
       "      <td>0.005554</td>\n",
       "      <td>0.445774</td>\n",
       "      <td>0.959309</td>\n",
       "      <td>0.131130</td>\n",
       "      <td>0.623397</td>\n",
       "      <td>0.184037</td>\n",
       "      <td>0.755707</td>\n",
       "    </tr>\n",
       "    <tr>\n",
       "      <th>1</th>\n",
       "      <td>kNN tfidf</td>\n",
       "      <td>0.752236</td>\n",
       "      <td>0.005119</td>\n",
       "      <td>0.619805</td>\n",
       "      <td>0.856623</td>\n",
       "      <td>0.393773</td>\n",
       "      <td>0.754808</td>\n",
       "      <td>0.449770</td>\n",
       "      <td>0.802499</td>\n",
       "    </tr>\n",
       "    <tr>\n",
       "      <th>2</th>\n",
       "      <td>linSVC tfidf</td>\n",
       "      <td>0.814839</td>\n",
       "      <td>0.003323</td>\n",
       "      <td>0.639500</td>\n",
       "      <td>0.946839</td>\n",
       "      <td>0.398712</td>\n",
       "      <td>0.803953</td>\n",
       "      <td>0.469395</td>\n",
       "      <td>0.869565</td>\n",
       "    </tr>\n",
       "    <tr>\n",
       "      <th>3</th>\n",
       "      <td>LP linSVC tfidf`</td>\n",
       "      <td>0.844982</td>\n",
       "      <td>0.003559</td>\n",
       "      <td>0.696936</td>\n",
       "      <td>0.906351</td>\n",
       "      <td>0.494810</td>\n",
       "      <td>0.827190</td>\n",
       "      <td>0.543839</td>\n",
       "      <td>0.864963</td>\n",
       "    </tr>\n",
       "    <tr>\n",
       "      <th>4</th>\n",
       "      <td>MLkNN tfidf`</td>\n",
       "      <td>0.767141</td>\n",
       "      <td>0.004700</td>\n",
       "      <td>0.557589</td>\n",
       "      <td>0.867004</td>\n",
       "      <td>0.406514</td>\n",
       "      <td>0.778312</td>\n",
       "      <td>0.449981</td>\n",
       "      <td>0.820267</td>\n",
       "    </tr>\n",
       "  </tbody>\n",
       "</table>\n",
       "</div>"
      ],
      "text/plain": [
       "             Method  accuracy_score   hamLoss  macro_precision  \\\n",
       "0          RF tfidf        0.679695  0.005554         0.445774   \n",
       "1         kNN tfidf        0.752236  0.005119         0.619805   \n",
       "2      linSVC tfidf        0.814839  0.003323         0.639500   \n",
       "3  LP linSVC tfidf`        0.844982  0.003559         0.696936   \n",
       "4      MLkNN tfidf`        0.767141  0.004700         0.557589   \n",
       "\n",
       "   micro_precision  macro_recall  micro_recall  macro_f1  micro_f1  \n",
       "0         0.959309      0.131130      0.623397  0.184037  0.755707  \n",
       "1         0.856623      0.393773      0.754808  0.449770  0.802499  \n",
       "2         0.946839      0.398712      0.803953  0.469395  0.869565  \n",
       "3         0.906351      0.494810      0.827190  0.543839  0.864963  \n",
       "4         0.867004      0.406514      0.778312  0.449981  0.820267  "
      ]
     },
     "execution_count": 1040,
     "metadata": {},
     "output_type": "execute_result"
    }
   ],
   "source": [
    "d = {'accuracy_score': accuracy, \n",
    "     'hamLoss': hamLoss, \n",
    "     'macro_precision': macro_precision,\n",
    "     'micro_precision': micro_precision,\n",
    "     'macro_recall' : macro_recall,\n",
    "     'micro_recall' : micro_recall,\n",
    "     'macro_f1' : macro_f1,\n",
    "     'micro_f1' : micro_f1\n",
    "#      'roc_auc_score' : roc_auc_score\n",
    "    }\n",
    "\n",
    "df = pd.DataFrame(data=d)\n",
    "name, _ = zip(*models)\n",
    "df.insert(loc=0, column='Method', value=name)\n",
    "df"
   ]
  },
  {
   "cell_type": "markdown",
   "metadata": {},
   "source": [
    "### Take the best classifier and search over tfidf params:"
   ]
  },
  {
   "cell_type": "code",
   "execution_count": 819,
   "metadata": {
    "scrolled": true
   },
   "outputs": [
    {
     "name": "stderr",
     "output_type": "stream",
     "text": [
      "C:\\Users\\prad8002\\.conda\\envs\\py37\\lib\\site-packages\\sklearn\\multiclass.py:76: UserWarning: Label not 5 is present in all training examples.\n",
      "  str(classes[c]))\n",
      "C:\\Users\\prad8002\\.conda\\envs\\py37\\lib\\site-packages\\sklearn\\multiclass.py:76: UserWarning: Label not 51 is present in all training examples.\n",
      "  str(classes[c]))\n",
      "C:\\Users\\prad8002\\.conda\\envs\\py37\\lib\\site-packages\\sklearn\\multiclass.py:76: UserWarning: Label not 79 is present in all training examples.\n",
      "  str(classes[c]))\n",
      "C:\\Users\\prad8002\\.conda\\envs\\py37\\lib\\site-packages\\sklearn\\multiclass.py:76: UserWarning: Label not 11 is present in all training examples.\n",
      "  str(classes[c]))\n",
      "C:\\Users\\prad8002\\.conda\\envs\\py37\\lib\\site-packages\\sklearn\\multiclass.py:76: UserWarning: Label not 28 is present in all training examples.\n",
      "  str(classes[c]))\n",
      "C:\\Users\\prad8002\\.conda\\envs\\py37\\lib\\site-packages\\sklearn\\multiclass.py:76: UserWarning: Label not 56 is present in all training examples.\n",
      "  str(classes[c]))\n",
      "C:\\Users\\prad8002\\.conda\\envs\\py37\\lib\\site-packages\\sklearn\\multiclass.py:76: UserWarning: Label not 14 is present in all training examples.\n",
      "  str(classes[c]))\n",
      "C:\\Users\\prad8002\\.conda\\envs\\py37\\lib\\site-packages\\sklearn\\multiclass.py:76: UserWarning: Label not 16 is present in all training examples.\n",
      "  str(classes[c]))\n",
      "C:\\Users\\prad8002\\.conda\\envs\\py37\\lib\\site-packages\\sklearn\\multiclass.py:76: UserWarning: Label not 42 is present in all training examples.\n",
      "  str(classes[c]))\n",
      "C:\\Users\\prad8002\\.conda\\envs\\py37\\lib\\site-packages\\sklearn\\multiclass.py:76: UserWarning: Label not 48 is present in all training examples.\n",
      "  str(classes[c]))\n",
      "C:\\Users\\prad8002\\.conda\\envs\\py37\\lib\\site-packages\\sklearn\\multiclass.py:76: UserWarning: Label not 70 is present in all training examples.\n",
      "  str(classes[c]))\n",
      "C:\\Users\\prad8002\\.conda\\envs\\py37\\lib\\site-packages\\sklearn\\multiclass.py:76: UserWarning: Label not 5 is present in all training examples.\n",
      "  str(classes[c]))\n",
      "C:\\Users\\prad8002\\.conda\\envs\\py37\\lib\\site-packages\\sklearn\\multiclass.py:76: UserWarning: Label not 51 is present in all training examples.\n",
      "  str(classes[c]))\n",
      "C:\\Users\\prad8002\\.conda\\envs\\py37\\lib\\site-packages\\sklearn\\multiclass.py:76: UserWarning: Label not 79 is present in all training examples.\n",
      "  str(classes[c]))\n",
      "C:\\Users\\prad8002\\.conda\\envs\\py37\\lib\\site-packages\\sklearn\\multiclass.py:76: UserWarning: Label not 11 is present in all training examples.\n",
      "  str(classes[c]))\n",
      "C:\\Users\\prad8002\\.conda\\envs\\py37\\lib\\site-packages\\sklearn\\multiclass.py:76: UserWarning: Label not 28 is present in all training examples.\n",
      "  str(classes[c]))\n",
      "C:\\Users\\prad8002\\.conda\\envs\\py37\\lib\\site-packages\\sklearn\\multiclass.py:76: UserWarning: Label not 56 is present in all training examples.\n",
      "  str(classes[c]))\n",
      "C:\\Users\\prad8002\\.conda\\envs\\py37\\lib\\site-packages\\sklearn\\multiclass.py:76: UserWarning: Label not 14 is present in all training examples.\n",
      "  str(classes[c]))\n",
      "C:\\Users\\prad8002\\.conda\\envs\\py37\\lib\\site-packages\\sklearn\\multiclass.py:76: UserWarning: Label not 16 is present in all training examples.\n",
      "  str(classes[c]))\n",
      "C:\\Users\\prad8002\\.conda\\envs\\py37\\lib\\site-packages\\sklearn\\multiclass.py:76: UserWarning: Label not 42 is present in all training examples.\n",
      "  str(classes[c]))\n",
      "C:\\Users\\prad8002\\.conda\\envs\\py37\\lib\\site-packages\\sklearn\\multiclass.py:76: UserWarning: Label not 48 is present in all training examples.\n",
      "  str(classes[c]))\n",
      "C:\\Users\\prad8002\\.conda\\envs\\py37\\lib\\site-packages\\sklearn\\multiclass.py:76: UserWarning: Label not 70 is present in all training examples.\n",
      "  str(classes[c]))\n",
      "C:\\Users\\prad8002\\.conda\\envs\\py37\\lib\\site-packages\\sklearn\\multiclass.py:76: UserWarning: Label not 5 is present in all training examples.\n",
      "  str(classes[c]))\n",
      "C:\\Users\\prad8002\\.conda\\envs\\py37\\lib\\site-packages\\sklearn\\multiclass.py:76: UserWarning: Label not 51 is present in all training examples.\n",
      "  str(classes[c]))\n",
      "C:\\Users\\prad8002\\.conda\\envs\\py37\\lib\\site-packages\\sklearn\\multiclass.py:76: UserWarning: Label not 79 is present in all training examples.\n",
      "  str(classes[c]))\n",
      "C:\\Users\\prad8002\\.conda\\envs\\py37\\lib\\site-packages\\sklearn\\multiclass.py:76: UserWarning: Label not 11 is present in all training examples.\n",
      "  str(classes[c]))\n",
      "C:\\Users\\prad8002\\.conda\\envs\\py37\\lib\\site-packages\\sklearn\\multiclass.py:76: UserWarning: Label not 28 is present in all training examples.\n",
      "  str(classes[c]))\n",
      "C:\\Users\\prad8002\\.conda\\envs\\py37\\lib\\site-packages\\sklearn\\multiclass.py:76: UserWarning: Label not 56 is present in all training examples.\n",
      "  str(classes[c]))\n",
      "C:\\Users\\prad8002\\.conda\\envs\\py37\\lib\\site-packages\\sklearn\\multiclass.py:76: UserWarning: Label not 14 is present in all training examples.\n",
      "  str(classes[c]))\n",
      "C:\\Users\\prad8002\\.conda\\envs\\py37\\lib\\site-packages\\sklearn\\multiclass.py:76: UserWarning: Label not 16 is present in all training examples.\n",
      "  str(classes[c]))\n",
      "C:\\Users\\prad8002\\.conda\\envs\\py37\\lib\\site-packages\\sklearn\\multiclass.py:76: UserWarning: Label not 42 is present in all training examples.\n",
      "  str(classes[c]))\n",
      "C:\\Users\\prad8002\\.conda\\envs\\py37\\lib\\site-packages\\sklearn\\multiclass.py:76: UserWarning: Label not 48 is present in all training examples.\n",
      "  str(classes[c]))\n",
      "C:\\Users\\prad8002\\.conda\\envs\\py37\\lib\\site-packages\\sklearn\\multiclass.py:76: UserWarning: Label not 70 is present in all training examples.\n",
      "  str(classes[c]))\n",
      "C:\\Users\\prad8002\\.conda\\envs\\py37\\lib\\site-packages\\sklearn\\multiclass.py:76: UserWarning: Label not 5 is present in all training examples.\n",
      "  str(classes[c]))\n",
      "C:\\Users\\prad8002\\.conda\\envs\\py37\\lib\\site-packages\\sklearn\\multiclass.py:76: UserWarning: Label not 51 is present in all training examples.\n",
      "  str(classes[c]))\n",
      "C:\\Users\\prad8002\\.conda\\envs\\py37\\lib\\site-packages\\sklearn\\multiclass.py:76: UserWarning: Label not 79 is present in all training examples.\n",
      "  str(classes[c]))\n",
      "C:\\Users\\prad8002\\.conda\\envs\\py37\\lib\\site-packages\\sklearn\\multiclass.py:76: UserWarning: Label not 11 is present in all training examples.\n",
      "  str(classes[c]))\n",
      "C:\\Users\\prad8002\\.conda\\envs\\py37\\lib\\site-packages\\sklearn\\multiclass.py:76: UserWarning: Label not 28 is present in all training examples.\n",
      "  str(classes[c]))\n",
      "C:\\Users\\prad8002\\.conda\\envs\\py37\\lib\\site-packages\\sklearn\\multiclass.py:76: UserWarning: Label not 56 is present in all training examples.\n",
      "  str(classes[c]))\n",
      "C:\\Users\\prad8002\\.conda\\envs\\py37\\lib\\site-packages\\sklearn\\multiclass.py:76: UserWarning: Label not 14 is present in all training examples.\n",
      "  str(classes[c]))\n",
      "C:\\Users\\prad8002\\.conda\\envs\\py37\\lib\\site-packages\\sklearn\\multiclass.py:76: UserWarning: Label not 16 is present in all training examples.\n",
      "  str(classes[c]))\n",
      "C:\\Users\\prad8002\\.conda\\envs\\py37\\lib\\site-packages\\sklearn\\multiclass.py:76: UserWarning: Label not 42 is present in all training examples.\n",
      "  str(classes[c]))\n",
      "C:\\Users\\prad8002\\.conda\\envs\\py37\\lib\\site-packages\\sklearn\\multiclass.py:76: UserWarning: Label not 48 is present in all training examples.\n",
      "  str(classes[c]))\n",
      "C:\\Users\\prad8002\\.conda\\envs\\py37\\lib\\site-packages\\sklearn\\multiclass.py:76: UserWarning: Label not 70 is present in all training examples.\n",
      "  str(classes[c]))\n",
      "C:\\Users\\prad8002\\.conda\\envs\\py37\\lib\\site-packages\\sklearn\\multiclass.py:76: UserWarning: Label not 5 is present in all training examples.\n",
      "  str(classes[c]))\n",
      "C:\\Users\\prad8002\\.conda\\envs\\py37\\lib\\site-packages\\sklearn\\multiclass.py:76: UserWarning: Label not 51 is present in all training examples.\n",
      "  str(classes[c]))\n",
      "C:\\Users\\prad8002\\.conda\\envs\\py37\\lib\\site-packages\\sklearn\\multiclass.py:76: UserWarning: Label not 79 is present in all training examples.\n",
      "  str(classes[c]))\n",
      "C:\\Users\\prad8002\\.conda\\envs\\py37\\lib\\site-packages\\sklearn\\multiclass.py:76: UserWarning: Label not 11 is present in all training examples.\n",
      "  str(classes[c]))\n",
      "C:\\Users\\prad8002\\.conda\\envs\\py37\\lib\\site-packages\\sklearn\\multiclass.py:76: UserWarning: Label not 28 is present in all training examples.\n",
      "  str(classes[c]))\n",
      "C:\\Users\\prad8002\\.conda\\envs\\py37\\lib\\site-packages\\sklearn\\multiclass.py:76: UserWarning: Label not 56 is present in all training examples.\n",
      "  str(classes[c]))\n",
      "C:\\Users\\prad8002\\.conda\\envs\\py37\\lib\\site-packages\\sklearn\\multiclass.py:76: UserWarning: Label not 14 is present in all training examples.\n",
      "  str(classes[c]))\n",
      "C:\\Users\\prad8002\\.conda\\envs\\py37\\lib\\site-packages\\sklearn\\multiclass.py:76: UserWarning: Label not 16 is present in all training examples.\n",
      "  str(classes[c]))\n"
     ]
    },
    {
     "name": "stderr",
     "output_type": "stream",
     "text": [
      "C:\\Users\\prad8002\\.conda\\envs\\py37\\lib\\site-packages\\sklearn\\multiclass.py:76: UserWarning: Label not 42 is present in all training examples.\n",
      "  str(classes[c]))\n",
      "C:\\Users\\prad8002\\.conda\\envs\\py37\\lib\\site-packages\\sklearn\\multiclass.py:76: UserWarning: Label not 48 is present in all training examples.\n",
      "  str(classes[c]))\n",
      "C:\\Users\\prad8002\\.conda\\envs\\py37\\lib\\site-packages\\sklearn\\multiclass.py:76: UserWarning: Label not 70 is present in all training examples.\n",
      "  str(classes[c]))\n",
      "C:\\Users\\prad8002\\.conda\\envs\\py37\\lib\\site-packages\\sklearn\\multiclass.py:76: UserWarning: Label not 5 is present in all training examples.\n",
      "  str(classes[c]))\n",
      "C:\\Users\\prad8002\\.conda\\envs\\py37\\lib\\site-packages\\sklearn\\multiclass.py:76: UserWarning: Label not 51 is present in all training examples.\n",
      "  str(classes[c]))\n",
      "C:\\Users\\prad8002\\.conda\\envs\\py37\\lib\\site-packages\\sklearn\\multiclass.py:76: UserWarning: Label not 79 is present in all training examples.\n",
      "  str(classes[c]))\n",
      "C:\\Users\\prad8002\\.conda\\envs\\py37\\lib\\site-packages\\sklearn\\multiclass.py:76: UserWarning: Label not 11 is present in all training examples.\n",
      "  str(classes[c]))\n",
      "C:\\Users\\prad8002\\.conda\\envs\\py37\\lib\\site-packages\\sklearn\\multiclass.py:76: UserWarning: Label not 28 is present in all training examples.\n",
      "  str(classes[c]))\n",
      "C:\\Users\\prad8002\\.conda\\envs\\py37\\lib\\site-packages\\sklearn\\multiclass.py:76: UserWarning: Label not 56 is present in all training examples.\n",
      "  str(classes[c]))\n",
      "C:\\Users\\prad8002\\.conda\\envs\\py37\\lib\\site-packages\\sklearn\\multiclass.py:76: UserWarning: Label not 14 is present in all training examples.\n",
      "  str(classes[c]))\n",
      "C:\\Users\\prad8002\\.conda\\envs\\py37\\lib\\site-packages\\sklearn\\multiclass.py:76: UserWarning: Label not 16 is present in all training examples.\n",
      "  str(classes[c]))\n",
      "C:\\Users\\prad8002\\.conda\\envs\\py37\\lib\\site-packages\\sklearn\\multiclass.py:76: UserWarning: Label not 42 is present in all training examples.\n",
      "  str(classes[c]))\n",
      "C:\\Users\\prad8002\\.conda\\envs\\py37\\lib\\site-packages\\sklearn\\multiclass.py:76: UserWarning: Label not 48 is present in all training examples.\n",
      "  str(classes[c]))\n",
      "C:\\Users\\prad8002\\.conda\\envs\\py37\\lib\\site-packages\\sklearn\\multiclass.py:76: UserWarning: Label not 70 is present in all training examples.\n",
      "  str(classes[c]))\n",
      "C:\\Users\\prad8002\\.conda\\envs\\py37\\lib\\site-packages\\sklearn\\multiclass.py:76: UserWarning: Label not 5 is present in all training examples.\n",
      "  str(classes[c]))\n",
      "C:\\Users\\prad8002\\.conda\\envs\\py37\\lib\\site-packages\\sklearn\\multiclass.py:76: UserWarning: Label not 51 is present in all training examples.\n",
      "  str(classes[c]))\n",
      "C:\\Users\\prad8002\\.conda\\envs\\py37\\lib\\site-packages\\sklearn\\multiclass.py:76: UserWarning: Label not 79 is present in all training examples.\n",
      "  str(classes[c]))\n",
      "C:\\Users\\prad8002\\.conda\\envs\\py37\\lib\\site-packages\\sklearn\\multiclass.py:76: UserWarning: Label not 11 is present in all training examples.\n",
      "  str(classes[c]))\n",
      "C:\\Users\\prad8002\\.conda\\envs\\py37\\lib\\site-packages\\sklearn\\multiclass.py:76: UserWarning: Label not 28 is present in all training examples.\n",
      "  str(classes[c]))\n",
      "C:\\Users\\prad8002\\.conda\\envs\\py37\\lib\\site-packages\\sklearn\\multiclass.py:76: UserWarning: Label not 56 is present in all training examples.\n",
      "  str(classes[c]))\n",
      "C:\\Users\\prad8002\\.conda\\envs\\py37\\lib\\site-packages\\sklearn\\multiclass.py:76: UserWarning: Label not 14 is present in all training examples.\n",
      "  str(classes[c]))\n",
      "C:\\Users\\prad8002\\.conda\\envs\\py37\\lib\\site-packages\\sklearn\\multiclass.py:76: UserWarning: Label not 16 is present in all training examples.\n",
      "  str(classes[c]))\n",
      "C:\\Users\\prad8002\\.conda\\envs\\py37\\lib\\site-packages\\sklearn\\multiclass.py:76: UserWarning: Label not 42 is present in all training examples.\n",
      "  str(classes[c]))\n",
      "C:\\Users\\prad8002\\.conda\\envs\\py37\\lib\\site-packages\\sklearn\\multiclass.py:76: UserWarning: Label not 48 is present in all training examples.\n",
      "  str(classes[c]))\n",
      "C:\\Users\\prad8002\\.conda\\envs\\py37\\lib\\site-packages\\sklearn\\multiclass.py:76: UserWarning: Label not 70 is present in all training examples.\n",
      "  str(classes[c]))\n",
      "C:\\Users\\prad8002\\.conda\\envs\\py37\\lib\\site-packages\\sklearn\\multiclass.py:76: UserWarning: Label not 5 is present in all training examples.\n",
      "  str(classes[c]))\n",
      "C:\\Users\\prad8002\\.conda\\envs\\py37\\lib\\site-packages\\sklearn\\multiclass.py:76: UserWarning: Label not 51 is present in all training examples.\n",
      "  str(classes[c]))\n",
      "C:\\Users\\prad8002\\.conda\\envs\\py37\\lib\\site-packages\\sklearn\\multiclass.py:76: UserWarning: Label not 79 is present in all training examples.\n",
      "  str(classes[c]))\n",
      "C:\\Users\\prad8002\\.conda\\envs\\py37\\lib\\site-packages\\sklearn\\multiclass.py:76: UserWarning: Label not 11 is present in all training examples.\n",
      "  str(classes[c]))\n",
      "C:\\Users\\prad8002\\.conda\\envs\\py37\\lib\\site-packages\\sklearn\\multiclass.py:76: UserWarning: Label not 28 is present in all training examples.\n",
      "  str(classes[c]))\n",
      "C:\\Users\\prad8002\\.conda\\envs\\py37\\lib\\site-packages\\sklearn\\multiclass.py:76: UserWarning: Label not 56 is present in all training examples.\n",
      "  str(classes[c]))\n",
      "C:\\Users\\prad8002\\.conda\\envs\\py37\\lib\\site-packages\\sklearn\\multiclass.py:76: UserWarning: Label not 14 is present in all training examples.\n",
      "  str(classes[c]))\n",
      "C:\\Users\\prad8002\\.conda\\envs\\py37\\lib\\site-packages\\sklearn\\multiclass.py:76: UserWarning: Label not 16 is present in all training examples.\n",
      "  str(classes[c]))\n",
      "C:\\Users\\prad8002\\.conda\\envs\\py37\\lib\\site-packages\\sklearn\\multiclass.py:76: UserWarning: Label not 42 is present in all training examples.\n",
      "  str(classes[c]))\n",
      "C:\\Users\\prad8002\\.conda\\envs\\py37\\lib\\site-packages\\sklearn\\multiclass.py:76: UserWarning: Label not 48 is present in all training examples.\n",
      "  str(classes[c]))\n",
      "C:\\Users\\prad8002\\.conda\\envs\\py37\\lib\\site-packages\\sklearn\\multiclass.py:76: UserWarning: Label not 70 is present in all training examples.\n",
      "  str(classes[c]))\n",
      "C:\\Users\\prad8002\\.conda\\envs\\py37\\lib\\site-packages\\sklearn\\multiclass.py:76: UserWarning: Label not 5 is present in all training examples.\n",
      "  str(classes[c]))\n",
      "C:\\Users\\prad8002\\.conda\\envs\\py37\\lib\\site-packages\\sklearn\\multiclass.py:76: UserWarning: Label not 51 is present in all training examples.\n",
      "  str(classes[c]))\n",
      "C:\\Users\\prad8002\\.conda\\envs\\py37\\lib\\site-packages\\sklearn\\multiclass.py:76: UserWarning: Label not 79 is present in all training examples.\n",
      "  str(classes[c]))\n",
      "C:\\Users\\prad8002\\.conda\\envs\\py37\\lib\\site-packages\\sklearn\\multiclass.py:76: UserWarning: Label not 11 is present in all training examples.\n",
      "  str(classes[c]))\n",
      "C:\\Users\\prad8002\\.conda\\envs\\py37\\lib\\site-packages\\sklearn\\multiclass.py:76: UserWarning: Label not 28 is present in all training examples.\n",
      "  str(classes[c]))\n",
      "C:\\Users\\prad8002\\.conda\\envs\\py37\\lib\\site-packages\\sklearn\\multiclass.py:76: UserWarning: Label not 56 is present in all training examples.\n",
      "  str(classes[c]))\n",
      "C:\\Users\\prad8002\\.conda\\envs\\py37\\lib\\site-packages\\sklearn\\multiclass.py:76: UserWarning: Label not 14 is present in all training examples.\n",
      "  str(classes[c]))\n",
      "C:\\Users\\prad8002\\.conda\\envs\\py37\\lib\\site-packages\\sklearn\\multiclass.py:76: UserWarning: Label not 16 is present in all training examples.\n",
      "  str(classes[c]))\n",
      "C:\\Users\\prad8002\\.conda\\envs\\py37\\lib\\site-packages\\sklearn\\multiclass.py:76: UserWarning: Label not 42 is present in all training examples.\n",
      "  str(classes[c]))\n",
      "C:\\Users\\prad8002\\.conda\\envs\\py37\\lib\\site-packages\\sklearn\\multiclass.py:76: UserWarning: Label not 48 is present in all training examples.\n",
      "  str(classes[c]))\n",
      "C:\\Users\\prad8002\\.conda\\envs\\py37\\lib\\site-packages\\sklearn\\multiclass.py:76: UserWarning: Label not 70 is present in all training examples.\n",
      "  str(classes[c]))\n",
      "C:\\Users\\prad8002\\.conda\\envs\\py37\\lib\\site-packages\\sklearn\\multiclass.py:76: UserWarning: Label not 5 is present in all training examples.\n",
      "  str(classes[c]))\n",
      "C:\\Users\\prad8002\\.conda\\envs\\py37\\lib\\site-packages\\sklearn\\multiclass.py:76: UserWarning: Label not 51 is present in all training examples.\n",
      "  str(classes[c]))\n",
      "C:\\Users\\prad8002\\.conda\\envs\\py37\\lib\\site-packages\\sklearn\\multiclass.py:76: UserWarning: Label not 79 is present in all training examples.\n",
      "  str(classes[c]))\n",
      "C:\\Users\\prad8002\\.conda\\envs\\py37\\lib\\site-packages\\sklearn\\multiclass.py:76: UserWarning: Label not 11 is present in all training examples.\n",
      "  str(classes[c]))\n"
     ]
    },
    {
     "name": "stderr",
     "output_type": "stream",
     "text": [
      "C:\\Users\\prad8002\\.conda\\envs\\py37\\lib\\site-packages\\sklearn\\multiclass.py:76: UserWarning: Label not 28 is present in all training examples.\n",
      "  str(classes[c]))\n",
      "C:\\Users\\prad8002\\.conda\\envs\\py37\\lib\\site-packages\\sklearn\\multiclass.py:76: UserWarning: Label not 56 is present in all training examples.\n",
      "  str(classes[c]))\n",
      "C:\\Users\\prad8002\\.conda\\envs\\py37\\lib\\site-packages\\sklearn\\multiclass.py:76: UserWarning: Label not 14 is present in all training examples.\n",
      "  str(classes[c]))\n",
      "C:\\Users\\prad8002\\.conda\\envs\\py37\\lib\\site-packages\\sklearn\\multiclass.py:76: UserWarning: Label not 16 is present in all training examples.\n",
      "  str(classes[c]))\n",
      "C:\\Users\\prad8002\\.conda\\envs\\py37\\lib\\site-packages\\sklearn\\multiclass.py:76: UserWarning: Label not 42 is present in all training examples.\n",
      "  str(classes[c]))\n",
      "C:\\Users\\prad8002\\.conda\\envs\\py37\\lib\\site-packages\\sklearn\\multiclass.py:76: UserWarning: Label not 48 is present in all training examples.\n",
      "  str(classes[c]))\n",
      "C:\\Users\\prad8002\\.conda\\envs\\py37\\lib\\site-packages\\sklearn\\multiclass.py:76: UserWarning: Label not 70 is present in all training examples.\n",
      "  str(classes[c]))\n"
     ]
    },
    {
     "name": "stdout",
     "output_type": "stream",
     "text": [
      "Best params: {'vectorizer__max_df': 0.6, 'vectorizer__min_df': 1, 'vectorizer__ngram_range': (1, 1)}\n",
      "Train accuracy: 0.9764448448963831\n",
      "Test accuracy: 0.8148393507784034\n"
     ]
    }
   ],
   "source": [
    "pipe = Pipeline(steps=[\n",
    "    ('vectorizer',  TfidfVectorizer()),\n",
    "    ('clf', OneVsRestClassifier(LinearSVC(max_iter = 10000)))\n",
    "])\n",
    "\n",
    "param_grid = {\n",
    "    'vectorizer__min_df' : [1],\n",
    "    'vectorizer__max_df' : [0.5, 0.6, 0.7, 5, 10],\n",
    "    'vectorizer__ngram_range' : [(1,1), (1,2)]\n",
    "#     'clf__estimator__C': [1]\n",
    "}\n",
    "\n",
    "grid_LinSVC_tfidf_minmax = GridSearchCV(pipe, param_grid, cv=5, n_jobs=-1, return_train_score=True, verbose=1)\n",
    "grid_LinSVC_tfidf_minmax.fit(X_train, y_train)\n",
    "\n",
    "print(f\"Best params: {grid_LinSVC_tfidf_minmax.best_params_}\")\n",
    "print(f\"Train accuracy: {grid_LinSVC_tfidf_minmax.score(X_train, y_train)}\")\n",
    "print(f\"Test accuracy: {grid_LinSVC_tfidf_minmax.score(X_test, y_test)}\")"
   ]
  },
  {
   "cell_type": "code",
   "execution_count": 820,
   "metadata": {},
   "outputs": [
    {
     "name": "stdout",
     "output_type": "stream",
     "text": [
      "------LP_LinSVC_tfidf Model Metrics-----\n",
      "Accuracy: 0.8148\n",
      "Hamming Loss: 0.0034\n",
      "Precision:\n",
      "  - Macro: 0.6281\n",
      "  - Micro: 0.9458\n",
      "Recall:\n",
      "  - Macro: 0.3927\n",
      "  - Micro: 0.8018\n",
      "F1-measure:\n",
      "  - Macro: 0.4624\n",
      "  - Micro: 0.8679\n"
     ]
    },
    {
     "name": "stderr",
     "output_type": "stream",
     "text": [
      "C:\\Users\\prad8002\\.conda\\envs\\py37\\lib\\site-packages\\sklearn\\metrics\\classification.py:1437: UndefinedMetricWarning: Precision is ill-defined and being set to 0.0 in labels with no predicted samples.\n",
      "  'precision', 'predicted', average, warn_for)\n",
      "C:\\Users\\prad8002\\.conda\\envs\\py37\\lib\\site-packages\\sklearn\\metrics\\classification.py:1437: UndefinedMetricWarning: F-score is ill-defined and being set to 0.0 in labels with no predicted samples.\n",
      "  'precision', 'predicted', average, warn_for)\n"
     ]
    }
   ],
   "source": [
    "y_pred = grid_LinSVC_tfidf_minmax.best_estimator_.predict(X_test)\n",
    "metricsReport('LP_LinSVC_tfidf', y_test, y_pred)"
   ]
  },
  {
   "cell_type": "markdown",
   "metadata": {},
   "source": [
    "#### Changing tfidf min/max params has minor influence on results"
   ]
  },
  {
   "cell_type": "code",
   "execution_count": 831,
   "metadata": {},
   "outputs": [],
   "source": [
    "from sklearn.neural_network import MLPClassifier"
   ]
  },
  {
   "cell_type": "code",
   "execution_count": 840,
   "metadata": {},
   "outputs": [
    {
     "name": "stdout",
     "output_type": "stream",
     "text": [
      "Fitting 5 folds for each of 1 candidates, totalling 5 fits\n"
     ]
    },
    {
     "name": "stderr",
     "output_type": "stream",
     "text": [
      "[Parallel(n_jobs=-1)]: Using backend LokyBackend with 4 concurrent workers.\n",
      "[Parallel(n_jobs=-1)]: Done   5 out of   5 | elapsed:  1.1min finished\n",
      "C:\\Users\\prad8002\\.conda\\envs\\py37\\lib\\site-packages\\sklearn\\neural_network\\multilayer_perceptron.py:566: ConvergenceWarning: Stochastic Optimizer: Maximum iterations (200) reached and the optimization hasn't converged yet.\n",
      "  % self.max_iter, ConvergenceWarning)\n"
     ]
    },
    {
     "name": "stdout",
     "output_type": "stream",
     "text": [
      "Best params: {}\n",
      "Train accuracy: 0.6416527223580899\n",
      "Test accuracy: 0.5531632991056641\n"
     ]
    }
   ],
   "source": [
    "pipe = Pipeline(steps=[\n",
    "    ('vectorizer',  TfidfVectorizer()),\n",
    "    ('clf', MLPClassifier(hidden_layer_sizes=3, max_iter=1000))\n",
    "])\n",
    "\n",
    "param_grid = {\n",
    "#     'vectorizer__min_df' : [1],\n",
    "#     'vectorizer__max_df' : [0.5, 0.6, 0.7, 5, 10],\n",
    "#     'vectorizer__ngram_range' : [(1,1), (1,2)]\n",
    "# #     'clf__estimator__C': [1]\n",
    "}\n",
    "\n",
    "grid_MLP_tfidf = GridSearchCV(pipe, param_grid, cv=5, n_jobs=-1, return_train_score=True, verbose=1)\n",
    "grid_MLP_tfidf.fit(X_train, y_train)\n",
    "\n",
    "print(f\"Best params: {grid_MLP_tfidf.best_params_}\")\n",
    "print(f\"Train accuracy: {grid_MLP_tfidf.score(X_train, y_train)}\")\n",
    "print(f\"Test accuracy: {grid_MLP_tfidf.score(X_test, y_test)}\")"
   ]
  },
  {
   "cell_type": "code",
   "execution_count": 842,
   "metadata": {},
   "outputs": [
    {
     "name": "stdout",
     "output_type": "stream",
     "text": [
      "------MLP_tfidf Model Metrics-----\n",
      "Accuracy: 0.5532\n",
      "Hamming Loss: 0.0075\n",
      "Precision:\n",
      "  - Macro: 0.0884\n",
      "  - Micro: 0.9128\n",
      "Recall:\n",
      "  - Macro: 0.0447\n",
      "  - Micro: 0.5061\n",
      "F1-measure:\n",
      "  - Macro: 0.0516\n",
      "  - Micro: 0.6512\n"
     ]
    }
   ],
   "source": [
    "y_pred = grid_MLP_tfidf.best_estimator_.predict(X_test)\n",
    "metricsReport('MLP_tfidf', y_test, y_pred)"
   ]
  },
  {
   "cell_type": "markdown",
   "metadata": {},
   "source": [
    "### CNN in Keras"
   ]
  },
  {
   "cell_type": "code",
   "execution_count": 5,
   "metadata": {},
   "outputs": [
    {
     "name": "stderr",
     "output_type": "stream",
     "text": [
      "Using TensorFlow backend.\n"
     ]
    }
   ],
   "source": [
    "import keras\n",
    "from keras.models import Sequential\n",
    "from keras.layers import Dense\n",
    "from keras.callbacks import EarlyStopping\n",
    "from keras.layers import Dropout\n",
    "from keras.layers import Conv1D, MaxPooling1D"
   ]
  },
  {
   "cell_type": "markdown",
   "metadata": {},
   "source": [
    "#### 0-layer neural network"
   ]
  },
  {
   "cell_type": "code",
   "execution_count": 943,
   "metadata": {},
   "outputs": [
    {
     "data": {
      "text/plain": [
       "<1x20197 sparse matrix of type '<class 'numpy.float64'>'\n",
       "\twith 147 stored elements in Compressed Sparse Row format>"
      ]
     },
     "execution_count": 943,
     "metadata": {},
     "output_type": "execute_result"
    }
   ],
   "source": [
    "X_train_tfidf[0]"
   ]
  },
  {
   "cell_type": "code",
   "execution_count": 911,
   "metadata": {},
   "outputs": [
    {
     "name": "stdout",
     "output_type": "stream",
     "text": [
      "Model: \"sequential_14\"\n",
      "_________________________________________________________________\n",
      "Layer (type)                 Output Shape              Param #   \n",
      "=================================================================\n",
      "dense_13 (Dense)             (None, 90)                1817820   \n",
      "=================================================================\n",
      "Total params: 1,817,820\n",
      "Trainable params: 1,817,820\n",
      "Non-trainable params: 0\n",
      "_________________________________________________________________\n"
     ]
    }
   ],
   "source": [
    "model = Sequential()\n",
    "model.build()\n",
    "model.add(Dense(units=y_test.shape[1], input_shape = (X_train_tfidf.shape[1],), activation=\"sigmoid\"))\n",
    "\n",
    "model.compile(loss='categorical_crossentropy',\n",
    "             optimizer='adam',\n",
    "             metrics=['categorical_accuracy'])\n",
    "model.summary()"
   ]
  },
  {
   "cell_type": "code",
   "execution_count": 912,
   "metadata": {
    "collapsed": true
   },
   "outputs": [
    {
     "name": "stdout",
     "output_type": "stream",
     "text": [
      "Train on 6215 samples, validate on 1554 samples\n",
      "Epoch 1/10\n",
      "4784/6215 [======================>.......] - ETA: 2s - loss: 5.2214 - categorical_accuracy: 0.5840"
     ]
    },
    {
     "ename": "KeyboardInterrupt",
     "evalue": "",
     "output_type": "error",
     "traceback": [
      "\u001b[1;31m---------------------------------------------------------------------------\u001b[0m",
      "\u001b[1;31mKeyboardInterrupt\u001b[0m                         Traceback (most recent call last)",
      "\u001b[1;32m<ipython-input-912-1285a15f9b88>\u001b[0m in \u001b[0;36m<module>\u001b[1;34m\u001b[0m\n\u001b[0;32m      7\u001b[0m          \u001b[0mepochs\u001b[0m\u001b[1;33m=\u001b[0m\u001b[1;36m10\u001b[0m\u001b[1;33m,\u001b[0m\u001b[1;33m\u001b[0m\u001b[1;33m\u001b[0m\u001b[0m\n\u001b[0;32m      8\u001b[0m          \u001b[0mcallbacks\u001b[0m\u001b[1;33m=\u001b[0m\u001b[1;33m[\u001b[0m\u001b[0mes\u001b[0m\u001b[1;33m]\u001b[0m\u001b[1;33m,\u001b[0m\u001b[1;33m\u001b[0m\u001b[1;33m\u001b[0m\u001b[0m\n\u001b[1;32m----> 9\u001b[1;33m          validation_split = 0.2)\n\u001b[0m",
      "\u001b[1;32m~\\.conda\\envs\\py37\\lib\\site-packages\\keras\\engine\\training.py\u001b[0m in \u001b[0;36mfit\u001b[1;34m(self, x, y, batch_size, epochs, verbose, callbacks, validation_split, validation_data, shuffle, class_weight, sample_weight, initial_epoch, steps_per_epoch, validation_steps, validation_freq, max_queue_size, workers, use_multiprocessing, **kwargs)\u001b[0m\n\u001b[0;32m   1237\u001b[0m                                         \u001b[0msteps_per_epoch\u001b[0m\u001b[1;33m=\u001b[0m\u001b[0msteps_per_epoch\u001b[0m\u001b[1;33m,\u001b[0m\u001b[1;33m\u001b[0m\u001b[1;33m\u001b[0m\u001b[0m\n\u001b[0;32m   1238\u001b[0m                                         \u001b[0mvalidation_steps\u001b[0m\u001b[1;33m=\u001b[0m\u001b[0mvalidation_steps\u001b[0m\u001b[1;33m,\u001b[0m\u001b[1;33m\u001b[0m\u001b[1;33m\u001b[0m\u001b[0m\n\u001b[1;32m-> 1239\u001b[1;33m                                         validation_freq=validation_freq)\n\u001b[0m\u001b[0;32m   1240\u001b[0m \u001b[1;33m\u001b[0m\u001b[0m\n\u001b[0;32m   1241\u001b[0m     def evaluate(self,\n",
      "\u001b[1;32m~\\.conda\\envs\\py37\\lib\\site-packages\\keras\\engine\\training_arrays.py\u001b[0m in \u001b[0;36mfit_loop\u001b[1;34m(model, fit_function, fit_inputs, out_labels, batch_size, epochs, verbose, callbacks, val_function, val_inputs, shuffle, initial_epoch, steps_per_epoch, validation_steps, validation_freq)\u001b[0m\n\u001b[0;32m    194\u001b[0m                     \u001b[0mins_batch\u001b[0m\u001b[1;33m[\u001b[0m\u001b[0mi\u001b[0m\u001b[1;33m]\u001b[0m \u001b[1;33m=\u001b[0m \u001b[0mins_batch\u001b[0m\u001b[1;33m[\u001b[0m\u001b[0mi\u001b[0m\u001b[1;33m]\u001b[0m\u001b[1;33m.\u001b[0m\u001b[0mtoarray\u001b[0m\u001b[1;33m(\u001b[0m\u001b[1;33m)\u001b[0m\u001b[1;33m\u001b[0m\u001b[1;33m\u001b[0m\u001b[0m\n\u001b[0;32m    195\u001b[0m \u001b[1;33m\u001b[0m\u001b[0m\n\u001b[1;32m--> 196\u001b[1;33m                 \u001b[0mouts\u001b[0m \u001b[1;33m=\u001b[0m \u001b[0mfit_function\u001b[0m\u001b[1;33m(\u001b[0m\u001b[0mins_batch\u001b[0m\u001b[1;33m)\u001b[0m\u001b[1;33m\u001b[0m\u001b[1;33m\u001b[0m\u001b[0m\n\u001b[0m\u001b[0;32m    197\u001b[0m                 \u001b[0mouts\u001b[0m \u001b[1;33m=\u001b[0m \u001b[0mto_list\u001b[0m\u001b[1;33m(\u001b[0m\u001b[0mouts\u001b[0m\u001b[1;33m)\u001b[0m\u001b[1;33m\u001b[0m\u001b[1;33m\u001b[0m\u001b[0m\n\u001b[0;32m    198\u001b[0m                 \u001b[1;32mfor\u001b[0m \u001b[0ml\u001b[0m\u001b[1;33m,\u001b[0m \u001b[0mo\u001b[0m \u001b[1;32min\u001b[0m \u001b[0mzip\u001b[0m\u001b[1;33m(\u001b[0m\u001b[0mout_labels\u001b[0m\u001b[1;33m,\u001b[0m \u001b[0mouts\u001b[0m\u001b[1;33m)\u001b[0m\u001b[1;33m:\u001b[0m\u001b[1;33m\u001b[0m\u001b[1;33m\u001b[0m\u001b[0m\n",
      "\u001b[1;32m~\\.conda\\envs\\py37\\lib\\site-packages\\tensorflow_core\\python\\keras\\backend.py\u001b[0m in \u001b[0;36m__call__\u001b[1;34m(self, inputs)\u001b[0m\n\u001b[0;32m   3719\u001b[0m               'You must feed a value for placeholder %s' % (tensor,))\n\u001b[0;32m   3720\u001b[0m       \u001b[1;32mif\u001b[0m \u001b[1;32mnot\u001b[0m \u001b[0misinstance\u001b[0m\u001b[1;33m(\u001b[0m\u001b[0mvalue\u001b[0m\u001b[1;33m,\u001b[0m \u001b[0mops\u001b[0m\u001b[1;33m.\u001b[0m\u001b[0mTensor\u001b[0m\u001b[1;33m)\u001b[0m\u001b[1;33m:\u001b[0m\u001b[1;33m\u001b[0m\u001b[1;33m\u001b[0m\u001b[0m\n\u001b[1;32m-> 3721\u001b[1;33m         \u001b[0mvalue\u001b[0m \u001b[1;33m=\u001b[0m \u001b[0mops\u001b[0m\u001b[1;33m.\u001b[0m\u001b[0mconvert_to_tensor\u001b[0m\u001b[1;33m(\u001b[0m\u001b[0mvalue\u001b[0m\u001b[1;33m,\u001b[0m \u001b[0mdtype\u001b[0m\u001b[1;33m=\u001b[0m\u001b[0mtensor\u001b[0m\u001b[1;33m.\u001b[0m\u001b[0mdtype\u001b[0m\u001b[1;33m)\u001b[0m\u001b[1;33m\u001b[0m\u001b[1;33m\u001b[0m\u001b[0m\n\u001b[0m\u001b[0;32m   3722\u001b[0m       \u001b[1;32mif\u001b[0m \u001b[0mvalue\u001b[0m\u001b[1;33m.\u001b[0m\u001b[0mdtype\u001b[0m \u001b[1;33m!=\u001b[0m \u001b[0mtensor\u001b[0m\u001b[1;33m.\u001b[0m\u001b[0mdtype\u001b[0m\u001b[1;33m:\u001b[0m\u001b[1;33m\u001b[0m\u001b[1;33m\u001b[0m\u001b[0m\n\u001b[0;32m   3723\u001b[0m         \u001b[1;31m# Temporary workaround due to `convert_to_tensor` not casting floats.\u001b[0m\u001b[1;33m\u001b[0m\u001b[1;33m\u001b[0m\u001b[1;33m\u001b[0m\u001b[0m\n",
      "\u001b[1;32m~\\.conda\\envs\\py37\\lib\\site-packages\\tensorflow_core\\python\\framework\\ops.py\u001b[0m in \u001b[0;36mconvert_to_tensor\u001b[1;34m(value, dtype, name, as_ref, preferred_dtype, dtype_hint, ctx, accepted_result_types)\u001b[0m\n\u001b[0;32m   1312\u001b[0m \u001b[1;33m\u001b[0m\u001b[0m\n\u001b[0;32m   1313\u001b[0m     \u001b[1;32mif\u001b[0m \u001b[0mret\u001b[0m \u001b[1;32mis\u001b[0m \u001b[1;32mNone\u001b[0m\u001b[1;33m:\u001b[0m\u001b[1;33m\u001b[0m\u001b[1;33m\u001b[0m\u001b[0m\n\u001b[1;32m-> 1314\u001b[1;33m       \u001b[0mret\u001b[0m \u001b[1;33m=\u001b[0m \u001b[0mconversion_func\u001b[0m\u001b[1;33m(\u001b[0m\u001b[0mvalue\u001b[0m\u001b[1;33m,\u001b[0m \u001b[0mdtype\u001b[0m\u001b[1;33m=\u001b[0m\u001b[0mdtype\u001b[0m\u001b[1;33m,\u001b[0m \u001b[0mname\u001b[0m\u001b[1;33m=\u001b[0m\u001b[0mname\u001b[0m\u001b[1;33m,\u001b[0m \u001b[0mas_ref\u001b[0m\u001b[1;33m=\u001b[0m\u001b[0mas_ref\u001b[0m\u001b[1;33m)\u001b[0m\u001b[1;33m\u001b[0m\u001b[1;33m\u001b[0m\u001b[0m\n\u001b[0m\u001b[0;32m   1315\u001b[0m \u001b[1;33m\u001b[0m\u001b[0m\n\u001b[0;32m   1316\u001b[0m     \u001b[1;32mif\u001b[0m \u001b[0mret\u001b[0m \u001b[1;32mis\u001b[0m \u001b[0mNotImplemented\u001b[0m\u001b[1;33m:\u001b[0m\u001b[1;33m\u001b[0m\u001b[1;33m\u001b[0m\u001b[0m\n",
      "\u001b[1;32m~\\.conda\\envs\\py37\\lib\\site-packages\\tensorflow_core\\python\\framework\\tensor_conversion_registry.py\u001b[0m in \u001b[0;36m_default_conversion_function\u001b[1;34m(***failed resolving arguments***)\u001b[0m\n\u001b[0;32m     50\u001b[0m \u001b[1;32mdef\u001b[0m \u001b[0m_default_conversion_function\u001b[0m\u001b[1;33m(\u001b[0m\u001b[0mvalue\u001b[0m\u001b[1;33m,\u001b[0m \u001b[0mdtype\u001b[0m\u001b[1;33m,\u001b[0m \u001b[0mname\u001b[0m\u001b[1;33m,\u001b[0m \u001b[0mas_ref\u001b[0m\u001b[1;33m)\u001b[0m\u001b[1;33m:\u001b[0m\u001b[1;33m\u001b[0m\u001b[1;33m\u001b[0m\u001b[0m\n\u001b[0;32m     51\u001b[0m   \u001b[1;32mdel\u001b[0m \u001b[0mas_ref\u001b[0m  \u001b[1;31m# Unused.\u001b[0m\u001b[1;33m\u001b[0m\u001b[1;33m\u001b[0m\u001b[0m\n\u001b[1;32m---> 52\u001b[1;33m   \u001b[1;32mreturn\u001b[0m \u001b[0mconstant_op\u001b[0m\u001b[1;33m.\u001b[0m\u001b[0mconstant\u001b[0m\u001b[1;33m(\u001b[0m\u001b[0mvalue\u001b[0m\u001b[1;33m,\u001b[0m \u001b[0mdtype\u001b[0m\u001b[1;33m,\u001b[0m \u001b[0mname\u001b[0m\u001b[1;33m=\u001b[0m\u001b[0mname\u001b[0m\u001b[1;33m)\u001b[0m\u001b[1;33m\u001b[0m\u001b[1;33m\u001b[0m\u001b[0m\n\u001b[0m\u001b[0;32m     53\u001b[0m \u001b[1;33m\u001b[0m\u001b[0m\n\u001b[0;32m     54\u001b[0m \u001b[1;33m\u001b[0m\u001b[0m\n",
      "\u001b[1;32m~\\.conda\\envs\\py37\\lib\\site-packages\\tensorflow_core\\python\\framework\\constant_op.py\u001b[0m in \u001b[0;36mconstant\u001b[1;34m(value, dtype, shape, name)\u001b[0m\n\u001b[0;32m    256\u001b[0m   \"\"\"\n\u001b[0;32m    257\u001b[0m   return _constant_impl(value, dtype, shape, name, verify_shape=False,\n\u001b[1;32m--> 258\u001b[1;33m                         allow_broadcast=True)\n\u001b[0m\u001b[0;32m    259\u001b[0m \u001b[1;33m\u001b[0m\u001b[0m\n\u001b[0;32m    260\u001b[0m \u001b[1;33m\u001b[0m\u001b[0m\n",
      "\u001b[1;32m~\\.conda\\envs\\py37\\lib\\site-packages\\tensorflow_core\\python\\framework\\constant_op.py\u001b[0m in \u001b[0;36m_constant_impl\u001b[1;34m(value, dtype, shape, name, verify_shape, allow_broadcast)\u001b[0m\n\u001b[0;32m    264\u001b[0m   \u001b[0mctx\u001b[0m \u001b[1;33m=\u001b[0m \u001b[0mcontext\u001b[0m\u001b[1;33m.\u001b[0m\u001b[0mcontext\u001b[0m\u001b[1;33m(\u001b[0m\u001b[1;33m)\u001b[0m\u001b[1;33m\u001b[0m\u001b[1;33m\u001b[0m\u001b[0m\n\u001b[0;32m    265\u001b[0m   \u001b[1;32mif\u001b[0m \u001b[0mctx\u001b[0m\u001b[1;33m.\u001b[0m\u001b[0mexecuting_eagerly\u001b[0m\u001b[1;33m(\u001b[0m\u001b[1;33m)\u001b[0m\u001b[1;33m:\u001b[0m\u001b[1;33m\u001b[0m\u001b[1;33m\u001b[0m\u001b[0m\n\u001b[1;32m--> 266\u001b[1;33m     \u001b[0mt\u001b[0m \u001b[1;33m=\u001b[0m \u001b[0mconvert_to_eager_tensor\u001b[0m\u001b[1;33m(\u001b[0m\u001b[0mvalue\u001b[0m\u001b[1;33m,\u001b[0m \u001b[0mctx\u001b[0m\u001b[1;33m,\u001b[0m \u001b[0mdtype\u001b[0m\u001b[1;33m)\u001b[0m\u001b[1;33m\u001b[0m\u001b[1;33m\u001b[0m\u001b[0m\n\u001b[0m\u001b[0;32m    267\u001b[0m     \u001b[1;32mif\u001b[0m \u001b[0mshape\u001b[0m \u001b[1;32mis\u001b[0m \u001b[1;32mNone\u001b[0m\u001b[1;33m:\u001b[0m\u001b[1;33m\u001b[0m\u001b[1;33m\u001b[0m\u001b[0m\n\u001b[0;32m    268\u001b[0m       \u001b[1;32mreturn\u001b[0m \u001b[0mt\u001b[0m\u001b[1;33m\u001b[0m\u001b[1;33m\u001b[0m\u001b[0m\n",
      "\u001b[1;32m~\\.conda\\envs\\py37\\lib\\site-packages\\tensorflow_core\\python\\framework\\constant_op.py\u001b[0m in \u001b[0;36mconvert_to_eager_tensor\u001b[1;34m(value, ctx, dtype)\u001b[0m\n\u001b[0;32m     94\u001b[0m       \u001b[0mdtype\u001b[0m \u001b[1;33m=\u001b[0m \u001b[0mdtypes\u001b[0m\u001b[1;33m.\u001b[0m\u001b[0mas_dtype\u001b[0m\u001b[1;33m(\u001b[0m\u001b[0mdtype\u001b[0m\u001b[1;33m)\u001b[0m\u001b[1;33m.\u001b[0m\u001b[0mas_datatype_enum\u001b[0m\u001b[1;33m\u001b[0m\u001b[1;33m\u001b[0m\u001b[0m\n\u001b[0;32m     95\u001b[0m   \u001b[0mctx\u001b[0m\u001b[1;33m.\u001b[0m\u001b[0mensure_initialized\u001b[0m\u001b[1;33m(\u001b[0m\u001b[1;33m)\u001b[0m\u001b[1;33m\u001b[0m\u001b[1;33m\u001b[0m\u001b[0m\n\u001b[1;32m---> 96\u001b[1;33m   \u001b[1;32mreturn\u001b[0m \u001b[0mops\u001b[0m\u001b[1;33m.\u001b[0m\u001b[0mEagerTensor\u001b[0m\u001b[1;33m(\u001b[0m\u001b[0mvalue\u001b[0m\u001b[1;33m,\u001b[0m \u001b[0mctx\u001b[0m\u001b[1;33m.\u001b[0m\u001b[0mdevice_name\u001b[0m\u001b[1;33m,\u001b[0m \u001b[0mdtype\u001b[0m\u001b[1;33m)\u001b[0m\u001b[1;33m\u001b[0m\u001b[1;33m\u001b[0m\u001b[0m\n\u001b[0m\u001b[0;32m     97\u001b[0m \u001b[1;33m\u001b[0m\u001b[0m\n\u001b[0;32m     98\u001b[0m \u001b[1;33m\u001b[0m\u001b[0m\n",
      "\u001b[1;31mKeyboardInterrupt\u001b[0m: "
     ]
    }
   ],
   "source": [
    "es = EarlyStopping(patience = 4,\n",
    "                  monitor = 'val_loss',\n",
    "                  restore_best_weights=True)\n",
    "\n",
    "model.fit(X_train_tfidf, y_train, \n",
    "         batch_size=16,\n",
    "         epochs=10,\n",
    "         callbacks=[es],\n",
    "         validation_split = 0.2)"
   ]
  },
  {
   "cell_type": "code",
   "execution_count": null,
   "metadata": {},
   "outputs": [],
   "source": [
    "y_pred = model.predict(X_test_tfidf)\n",
    "y_pred[y_pred>=0.5] = 1\n",
    "y_pred[y_pred<0.5] = 0\n",
    "metricsReport('CNN_tfidf', y_test, y_pred)"
   ]
  },
  {
   "cell_type": "markdown",
   "metadata": {},
   "source": [
    "#### Smallest convolutional network"
   ]
  },
  {
   "cell_type": "code",
   "execution_count": 6,
   "metadata": {},
   "outputs": [
    {
     "ename": "NameError",
     "evalue": "name 'X_train_tfidf' is not defined",
     "output_type": "error",
     "traceback": [
      "\u001b[1;31m---------------------------------------------------------------------------\u001b[0m",
      "\u001b[1;31mNameError\u001b[0m                                 Traceback (most recent call last)",
      "\u001b[1;32m<ipython-input-6-b466529e1e67>\u001b[0m in \u001b[0;36m<module>\u001b[1;34m\u001b[0m\n\u001b[0;32m      1\u001b[0m \u001b[0mmodel\u001b[0m \u001b[1;33m=\u001b[0m \u001b[0mSequential\u001b[0m\u001b[1;33m(\u001b[0m\u001b[1;33m)\u001b[0m\u001b[1;33m\u001b[0m\u001b[1;33m\u001b[0m\u001b[0m\n\u001b[1;32m----> 2\u001b[1;33m \u001b[0mmodel\u001b[0m\u001b[1;33m.\u001b[0m\u001b[0madd\u001b[0m\u001b[1;33m(\u001b[0m\u001b[0mConv1D\u001b[0m\u001b[1;33m(\u001b[0m\u001b[0mfilters\u001b[0m\u001b[1;33m=\u001b[0m\u001b[1;36m64\u001b[0m\u001b[1;33m,\u001b[0m \u001b[0mkernel_size\u001b[0m\u001b[1;33m=\u001b[0m\u001b[1;36m32\u001b[0m\u001b[1;33m,\u001b[0m \u001b[0mactivation\u001b[0m\u001b[1;33m=\u001b[0m\u001b[1;34m'relu'\u001b[0m\u001b[1;33m,\u001b[0m \u001b[0minput_shape\u001b[0m\u001b[1;33m=\u001b[0m\u001b[1;33m(\u001b[0m\u001b[0mX_train_tfidf\u001b[0m\u001b[1;33m.\u001b[0m\u001b[0mshape\u001b[0m\u001b[1;33m[\u001b[0m\u001b[1;36m1\u001b[0m\u001b[1;33m]\u001b[0m\u001b[1;33m,\u001b[0m \u001b[1;36m1\u001b[0m\u001b[1;33m)\u001b[0m\u001b[1;33m,\u001b[0m \u001b[1;33m)\u001b[0m\u001b[1;33m)\u001b[0m\u001b[1;33m\u001b[0m\u001b[1;33m\u001b[0m\u001b[0m\n\u001b[0m\u001b[0;32m      3\u001b[0m \u001b[0mmodel\u001b[0m\u001b[1;33m.\u001b[0m\u001b[0madd\u001b[0m\u001b[1;33m(\u001b[0m\u001b[0mDense\u001b[0m\u001b[1;33m(\u001b[0m\u001b[0munits\u001b[0m\u001b[1;33m=\u001b[0m\u001b[0my_train\u001b[0m\u001b[1;33m.\u001b[0m\u001b[0mshape\u001b[0m\u001b[1;33m[\u001b[0m\u001b[1;36m1\u001b[0m\u001b[1;33m]\u001b[0m\u001b[1;33m,\u001b[0m \u001b[0mactivation\u001b[0m\u001b[1;33m=\u001b[0m\u001b[1;34m\"sigmoid\"\u001b[0m \u001b[1;33m)\u001b[0m\u001b[1;33m)\u001b[0m\u001b[1;33m\u001b[0m\u001b[1;33m\u001b[0m\u001b[0m\n\u001b[0;32m      4\u001b[0m \u001b[1;33m\u001b[0m\u001b[0m\n\u001b[0;32m      5\u001b[0m model.compile(loss='categorical_crossentropy',\n",
      "\u001b[1;31mNameError\u001b[0m: name 'X_train_tfidf' is not defined"
     ]
    }
   ],
   "source": [
    "model = Sequential()\n",
    "model.add(Conv1D(filters=64, kernel_size=32, activation='relu', input_shape=(X_train_tfidf.shape[1], 1), ))\n",
    "model.add(Dense(units=y_train.shape[1], activation=\"sigmoid\" ))\n",
    "\n",
    "model.compile(loss='categorical_crossentropy',\n",
    "             optimizer='adam',\n",
    "             metrics=['categorical_accuracy'])\n",
    "model.summary()"
   ]
  },
  {
   "cell_type": "code",
   "execution_count": 939,
   "metadata": {},
   "outputs": [
    {
     "data": {
      "text/plain": [
       "(7769, 20197)"
      ]
     },
     "execution_count": 939,
     "metadata": {},
     "output_type": "execute_result"
    }
   ],
   "source": [
    "X_train_tfidf.shape"
   ]
  },
  {
   "cell_type": "code",
   "execution_count": 938,
   "metadata": {},
   "outputs": [
    {
     "ename": "ValueError",
     "evalue": "Error when checking input: expected conv1d_13_input to have 3 dimensions, but got array with shape (1, 1)",
     "output_type": "error",
     "traceback": [
      "\u001b[1;31m---------------------------------------------------------------------------\u001b[0m",
      "\u001b[1;31mValueError\u001b[0m                                Traceback (most recent call last)",
      "\u001b[1;32m<ipython-input-938-f0a3553c3844>\u001b[0m in \u001b[0;36m<module>\u001b[1;34m\u001b[0m\n\u001b[0;32m      7\u001b[0m          \u001b[0mepochs\u001b[0m\u001b[1;33m=\u001b[0m\u001b[1;36m10\u001b[0m\u001b[1;33m,\u001b[0m\u001b[1;33m\u001b[0m\u001b[1;33m\u001b[0m\u001b[0m\n\u001b[0;32m      8\u001b[0m          \u001b[0mcallbacks\u001b[0m\u001b[1;33m=\u001b[0m\u001b[1;33m[\u001b[0m\u001b[0mes\u001b[0m\u001b[1;33m]\u001b[0m\u001b[1;33m,\u001b[0m\u001b[1;33m\u001b[0m\u001b[1;33m\u001b[0m\u001b[0m\n\u001b[1;32m----> 9\u001b[1;33m          validation_split = 0.2)\n\u001b[0m",
      "\u001b[1;32m~\\.conda\\envs\\py37\\lib\\site-packages\\keras\\engine\\training.py\u001b[0m in \u001b[0;36mfit\u001b[1;34m(self, x, y, batch_size, epochs, verbose, callbacks, validation_split, validation_data, shuffle, class_weight, sample_weight, initial_epoch, steps_per_epoch, validation_steps, validation_freq, max_queue_size, workers, use_multiprocessing, **kwargs)\u001b[0m\n\u001b[0;32m   1152\u001b[0m             \u001b[0msample_weight\u001b[0m\u001b[1;33m=\u001b[0m\u001b[0msample_weight\u001b[0m\u001b[1;33m,\u001b[0m\u001b[1;33m\u001b[0m\u001b[1;33m\u001b[0m\u001b[0m\n\u001b[0;32m   1153\u001b[0m             \u001b[0mclass_weight\u001b[0m\u001b[1;33m=\u001b[0m\u001b[0mclass_weight\u001b[0m\u001b[1;33m,\u001b[0m\u001b[1;33m\u001b[0m\u001b[1;33m\u001b[0m\u001b[0m\n\u001b[1;32m-> 1154\u001b[1;33m             batch_size=batch_size)\n\u001b[0m\u001b[0;32m   1155\u001b[0m \u001b[1;33m\u001b[0m\u001b[0m\n\u001b[0;32m   1156\u001b[0m         \u001b[1;31m# Prepare validation data.\u001b[0m\u001b[1;33m\u001b[0m\u001b[1;33m\u001b[0m\u001b[1;33m\u001b[0m\u001b[0m\n",
      "\u001b[1;32m~\\.conda\\envs\\py37\\lib\\site-packages\\keras\\engine\\training.py\u001b[0m in \u001b[0;36m_standardize_user_data\u001b[1;34m(self, x, y, sample_weight, class_weight, check_array_lengths, batch_size)\u001b[0m\n\u001b[0;32m    577\u001b[0m             \u001b[0mfeed_input_shapes\u001b[0m\u001b[1;33m,\u001b[0m\u001b[1;33m\u001b[0m\u001b[1;33m\u001b[0m\u001b[0m\n\u001b[0;32m    578\u001b[0m             \u001b[0mcheck_batch_axis\u001b[0m\u001b[1;33m=\u001b[0m\u001b[1;32mFalse\u001b[0m\u001b[1;33m,\u001b[0m  \u001b[1;31m# Don't enforce the batch size.\u001b[0m\u001b[1;33m\u001b[0m\u001b[1;33m\u001b[0m\u001b[0m\n\u001b[1;32m--> 579\u001b[1;33m             exception_prefix='input')\n\u001b[0m\u001b[0;32m    580\u001b[0m \u001b[1;33m\u001b[0m\u001b[0m\n\u001b[0;32m    581\u001b[0m         \u001b[1;32mif\u001b[0m \u001b[0my\u001b[0m \u001b[1;32mis\u001b[0m \u001b[1;32mnot\u001b[0m \u001b[1;32mNone\u001b[0m\u001b[1;33m:\u001b[0m\u001b[1;33m\u001b[0m\u001b[1;33m\u001b[0m\u001b[0m\n",
      "\u001b[1;32m~\\.conda\\envs\\py37\\lib\\site-packages\\keras\\engine\\training_utils.py\u001b[0m in \u001b[0;36mstandardize_input_data\u001b[1;34m(data, names, shapes, check_batch_axis, exception_prefix)\u001b[0m\n\u001b[0;32m    133\u001b[0m                         \u001b[1;34m': expected '\u001b[0m \u001b[1;33m+\u001b[0m \u001b[0mnames\u001b[0m\u001b[1;33m[\u001b[0m\u001b[0mi\u001b[0m\u001b[1;33m]\u001b[0m \u001b[1;33m+\u001b[0m \u001b[1;34m' to have '\u001b[0m \u001b[1;33m+\u001b[0m\u001b[1;33m\u001b[0m\u001b[1;33m\u001b[0m\u001b[0m\n\u001b[0;32m    134\u001b[0m                         \u001b[0mstr\u001b[0m\u001b[1;33m(\u001b[0m\u001b[0mlen\u001b[0m\u001b[1;33m(\u001b[0m\u001b[0mshape\u001b[0m\u001b[1;33m)\u001b[0m\u001b[1;33m)\u001b[0m \u001b[1;33m+\u001b[0m \u001b[1;34m' dimensions, but got array '\u001b[0m\u001b[1;33m\u001b[0m\u001b[1;33m\u001b[0m\u001b[0m\n\u001b[1;32m--> 135\u001b[1;33m                         'with shape ' + str(data_shape))\n\u001b[0m\u001b[0;32m    136\u001b[0m                 \u001b[1;32mif\u001b[0m \u001b[1;32mnot\u001b[0m \u001b[0mcheck_batch_axis\u001b[0m\u001b[1;33m:\u001b[0m\u001b[1;33m\u001b[0m\u001b[1;33m\u001b[0m\u001b[0m\n\u001b[0;32m    137\u001b[0m                     \u001b[0mdata_shape\u001b[0m \u001b[1;33m=\u001b[0m \u001b[0mdata_shape\u001b[0m\u001b[1;33m[\u001b[0m\u001b[1;36m1\u001b[0m\u001b[1;33m:\u001b[0m\u001b[1;33m]\u001b[0m\u001b[1;33m\u001b[0m\u001b[1;33m\u001b[0m\u001b[0m\n",
      "\u001b[1;31mValueError\u001b[0m: Error when checking input: expected conv1d_13_input to have 3 dimensions, but got array with shape (1, 1)"
     ]
    }
   ],
   "source": [
    "es = EarlyStopping(patience = 4,\n",
    "                  monitor = 'val_loss',\n",
    "                  restore_best_weights=True)\n",
    "\n",
    "model.fit(temp_train, y_train, \n",
    "         batch_size=16,\n",
    "         epochs=10,\n",
    "         callbacks=[es],\n",
    "         validation_split = 0.2)"
   ]
  },
  {
   "cell_type": "code",
   "execution_count": null,
   "metadata": {},
   "outputs": [],
   "source": []
  },
  {
   "cell_type": "markdown",
   "metadata": {},
   "source": [
    "#### Explanation of micro and macro average for multiclass:\n",
    "https://datascience.stackexchange.com/questions/15989/micro-average-vs-macro-average-performance-in-a-multiclass-classification-settin"
   ]
  },
  {
   "cell_type": "code",
   "execution_count": null,
   "metadata": {},
   "outputs": [],
   "source": []
  }
 ],
 "metadata": {
  "kernelspec": {
   "display_name": "Python 3",
   "language": "python",
   "name": "python3"
  },
  "language_info": {
   "codemirror_mode": {
    "name": "ipython",
    "version": 3
   },
   "file_extension": ".py",
   "mimetype": "text/x-python",
   "name": "python",
   "nbconvert_exporter": "python",
   "pygments_lexer": "ipython3",
   "version": "3.7.7"
  }
 },
 "nbformat": 4,
 "nbformat_minor": 2
}
